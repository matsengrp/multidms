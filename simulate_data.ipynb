{
 "cells": [
  {
   "cell_type": "markdown",
   "id": "8799e8a1",
   "metadata": {},
   "source": [
    "# Simulate data for multidms\n",
    "\n",
    "Jesse developed a pipeline to simulate DMS data to test `dms_variants`. This involved simulating data for a single homolog. Below, to test `multidms`, we simulate data for two homologs, introducing shifts in mutational effects at a subset of sites."
   ]
  },
  {
   "cell_type": "markdown",
   "id": "57667722",
   "metadata": {},
   "source": [
    "## Import `Python` modules"
   ]
  },
  {
   "cell_type": "code",
   "execution_count": 1,
   "id": "945088a4",
   "metadata": {},
   "outputs": [],
   "source": [
    "import pandas as pd\n",
    "import numpy as np\n",
    "import matplotlib\n",
    "import matplotlib.pyplot as plt\n",
    "import seaborn as sns\n",
    "sns.set_theme(style='ticks', font_scale=1.5, palette='colorblind')\n",
    "\n",
    "import Bio.Seq\n",
    "import collections\n",
    "import itertools\n",
    "import random\n",
    "import dms_variants.codonvarianttable\n",
    "import dms_variants.globalepistasis\n",
    "import dms_variants.plotnine_themes\n",
    "import dms_variants.simulate\n",
    "from dms_variants.constants import CBPALETTE, CODONS_NOSTOP, AAS_NOSTOP, AA_TO_CODONS, AAS_WITHSTOP"
   ]
  },
  {
   "cell_type": "markdown",
   "id": "cbc66da4",
   "metadata": {},
   "source": [
    "## Simulate sequences and mutational effects for two homologs, introducing shifts at a subset of sites"
   ]
  },
  {
   "cell_type": "markdown",
   "id": "fb8aae64",
   "metadata": {},
   "source": [
    "First, simulate the sequence of the first homolog."
   ]
  },
  {
   "cell_type": "code",
   "execution_count": 2,
   "id": "9e58bfbf",
   "metadata": {},
   "outputs": [
    {
     "name": "stdout",
     "output_type": "stream",
     "text": [
      "Wildtype gene of 50 codons:\n",
      "AGATCCGTGATTCTGCGTGCTTACACCAACTCACGGGTGAAACGTGTAATCTTATGCAACAACGACTTACCTATCCGCAACATCCGGCTGATGATGATCCTACACAACTCCGACGCTAGTTTTTCGACTCCAGTAGGTTTACGCTCAGGA\n",
      "Wildtype protein:\n",
      "RSVILRAYTNSRVKRVILCNNDLPIRNIRLMMILHNSDASFSTPVGLRSG\n"
     ]
    }
   ],
   "source": [
    "genelength = 50  # gene length in codons\n",
    "random.seed(1)\n",
    "geneseq_h1 = \"\".join(random.choices(CODONS_NOSTOP, k=genelength))\n",
    "aaseq_h1 = str(Bio.Seq.Seq(geneseq_h1).translate())\n",
    "print(f\"Wildtype gene of {genelength} codons:\\n{geneseq_h1}\")\n",
    "print(f\"Wildtype protein:\\n{aaseq_h1}\")"
   ]
  },
  {
   "cell_type": "markdown",
   "id": "6ef06f20",
   "metadata": {},
   "source": [
    "Simulate latent mutational effects for the first homolog, storing data in a `SigmoidPhenotypeSimulator` object. Also create an identical object for the second homolog. Below, we will update this object to include shifted mutational effects."
   ]
  },
  {
   "cell_type": "code",
   "execution_count": 3,
   "id": "79557b66",
   "metadata": {},
   "outputs": [],
   "source": [
    "seed = 2\n",
    "p_sim_h1 = dms_variants.simulate.SigmoidPhenotypeSimulator(geneseq_h1, seed=seed)\n",
    "p_sim_h2 = dms_variants.simulate.SigmoidPhenotypeSimulator(geneseq_h1, seed=seed)"
   ]
  },
  {
   "cell_type": "markdown",
   "id": "f5f2e6aa",
   "metadata": {},
   "source": [
    "Plot the distribution of mutation effects for the first homolog."
   ]
  },
  {
   "cell_type": "code",
   "execution_count": 4,
   "id": "78575e0b",
   "metadata": {},
   "outputs": [
    {
     "data": {
      "image/png": "[encoded data removed]",
      "text/plain": [
       "<Figure size 432x288 with 1 Axes>"
      ]
     },
     "metadata": {},
     "output_type": "display_data"
    }
   ],
   "source": [
    "sns.histplot(p_sim_h1.muteffects)\n",
    "plt.xlabel('mutation effect')\n",
    "plt.ylabel('number of mutations')\n",
    "sns.despine()\n",
    "plt.show()"
   ]
  },
  {
   "cell_type": "markdown",
   "id": "6251707b",
   "metadata": {},
   "source": [
    "Next, simulate the DNA/protein sequence of second homolog by making a defined number of random amino-acid mutations to the first homolog. Avoid mutations that decrease the latent phenotype by more than two units."
   ]
  },
  {
   "cell_type": "code",
   "execution_count": 5,
   "id": "14df6b6f",
   "metadata": {},
   "outputs": [
    {
     "name": "stdout",
     "output_type": "stream",
     "text": [
      "Sequence alignment of homologs h1 and h2:\n",
      "h1 RSVILRAYTNSRVKRVILCNNDLPIRNIRLMMILHNSDASFSTPVGLRSG\n",
      "h2 RVVILRAYTNSRVKRIKLCNNDRPIRNIRTMMIEHNSDAKFHTPYGLDSG\n",
      "Number of aa differences: 10\n"
     ]
    }
   ],
   "source": [
    "# Input params\n",
    "nmuts = 10 # number of amino-acid mutations separating homologs\n",
    "min_muteffect = -2 # minimum effect per mutation\n",
    "random.seed(5)\n",
    "non_identical_sites = sorted(random.sample(range(1, len(aaseq_h1)+1), nmuts))\n",
    "aaseq_h2 = ''\n",
    "geneseq_h2 = ''\n",
    "\n",
    "# Iterate over each amino acid in the first homolog, and make\n",
    "# a mutation if indicated.\n",
    "for (aa_n, aa) in enumerate(aaseq_h1, 1):\n",
    "    codon = geneseq_h1[(aa_n-1)*3:3*aa_n]\n",
    "    if aa_n in non_identical_sites:\n",
    "        mut_aas = [\n",
    "            mut_aa for mut_aa in AAS_NOSTOP\n",
    "            if (mut_aa != aa) and (p_sim_h1.muteffects[f'{aa}{aa_n}{mut_aa}'] > min_muteffect)\n",
    "        ]\n",
    "        assert len(mut_aas) > 0, aa_n\n",
    "        mut_aa = random.choice(mut_aas)\n",
    "        aaseq_h2 += mut_aa\n",
    "        mut_codon = random.choice(AA_TO_CODONS[mut_aa])\n",
    "        geneseq_h2 += mut_codon\n",
    "    else:\n",
    "        aaseq_h2 += aa\n",
    "        geneseq_h2 += codon\n",
    "\n",
    "# Store and summarize results\n",
    "homolog_seqs = {\n",
    "    1 : aaseq_h1,\n",
    "    2 : aaseq_h2\n",
    "}\n",
    "n_diffs = sum([aa1 != aa2 for (aa1, aa2) in zip(aaseq_h1, aaseq_h2)])\n",
    "print('Sequence alignment of homologs h1 and h2:')\n",
    "print('h1', aaseq_h1)\n",
    "print('h2', aaseq_h2)\n",
    "print('Number of aa differences:', n_diffs)\n",
    "assert len(aaseq_h1) == len(aaseq_h2)\n",
    "assert aaseq_h2 == str(Bio.Seq.Seq(geneseq_h2).translate())\n",
    "assert n_diffs == len(non_identical_sites)"
   ]
  },
  {
   "cell_type": "markdown",
   "id": "e77b42ce",
   "metadata": {},
   "source": [
    "Next, randomly choose a subset of sites that will have shifted mutational effects. Do this independently for sites that are identical and non-identical between homologs, so that we are sure to have shifted sites in each category."
   ]
  },
  {
   "cell_type": "code",
   "execution_count": 6,
   "id": "0acc8bcb",
   "metadata": {},
   "outputs": [
    {
     "name": "stdout",
     "output_type": "stream",
     "text": [
      "Sites with shifts that are...\n",
      "identical (n=10): 3, 8, 9, 15, 29, 35, 37, 38, 47, 49\n",
      "non-identical (n=3): 16, 17, 30\n"
     ]
    }
   ],
   "source": [
    "# Non-identical sites\n",
    "random.seed(1)\n",
    "n_shifted_non_identical_sites = 3\n",
    "shifted_non_identical_sites = sorted(random.sample(\n",
    "    non_identical_sites,\n",
    "    n_shifted_non_identical_sites\n",
    "))\n",
    "\n",
    "# Identical sites\n",
    "n_shifted_identical_sites = 10\n",
    "identical_sites = [\n",
    "    i for i in range(1, len(aaseq_h1)+1)\n",
    "    if i not in non_identical_sites\n",
    "]\n",
    "shifted_identical_sites = sorted(random.sample(\n",
    "    identical_sites,\n",
    "    n_shifted_identical_sites\n",
    "))\n",
    "\n",
    "# Make a list of all shifted sites\n",
    "shifted_sites = sorted(shifted_identical_sites + shifted_non_identical_sites)\n",
    "assert len(shifted_sites) == len(set(shifted_sites))\n",
    "print('Sites with shifts that are...')\n",
    "print(f'identical (n={len(shifted_identical_sites)}):', ', '.join(map(str, shifted_identical_sites)))\n",
    "print(f'non-identical (n={len(shifted_non_identical_sites)}):', ', '.join(map(str, shifted_non_identical_sites)))"
   ]
  },
  {
   "cell_type": "markdown",
   "id": "8b993fde",
   "metadata": {},
   "source": [
    "At each of the above sites, randomly simulate a shift in the effect of each mutation by drawing shifts from a Gaussian distribution."
   ]
  },
  {
   "cell_type": "code",
   "execution_count": 7,
   "id": "294fd875",
   "metadata": {},
   "outputs": [],
   "source": [
    "def sim_mut_shift(shifted_site, mutation):\n",
    "    if (not shifted_site) or ('*' in mutation):\n",
    "        return 0\n",
    "    else:\n",
    "        return np.random.normal(loc=0, scale=1.5, size=1)[0]"
   ]
  },
  {
   "cell_type": "code",
   "execution_count": 29,
   "id": "8358bdbb",
   "metadata": {},
   "outputs": [
    {
     "data": {
      "text/html": [
       "<div>\n",
       "<style scoped>\n",
       "    .dataframe tbody tr th:only-of-type {\n",
       "        vertical-align: middle;\n",
       "    }\n",
       "\n",
       "    .dataframe tbody tr th {\n",
       "        vertical-align: top;\n",
       "    }\n",
       "\n",
       "    .dataframe thead th {\n",
       "        text-align: right;\n",
       "    }\n",
       "</style>\n",
       "<table border=\"1\" class=\"dataframe\">\n",
       "  <thead>\n",
       "    <tr style=\"text-align: right;\">\n",
       "      <th></th>\n",
       "      <th>site</th>\n",
       "      <th>aaseq_h1</th>\n",
       "      <th>aaseq_h2</th>\n",
       "      <th>mutation</th>\n",
       "      <th>beta_h1</th>\n",
       "      <th>shift</th>\n",
       "      <th>beta_h2</th>\n",
       "      <th>shifted_site</th>\n",
       "    </tr>\n",
       "  </thead>\n",
       "  <tbody>\n",
       "    <tr>\n",
       "      <th>40</th>\n",
       "      <td>3</td>\n",
       "      <td>V</td>\n",
       "      <td>V</td>\n",
       "      <td>V3A</td>\n",
       "      <td>-0.229415</td>\n",
       "      <td>0.661841</td>\n",
       "      <td>0.432426</td>\n",
       "      <td>True</td>\n",
       "    </tr>\n",
       "    <tr>\n",
       "      <th>41</th>\n",
       "      <td>3</td>\n",
       "      <td>V</td>\n",
       "      <td>V</td>\n",
       "      <td>V3C</td>\n",
       "      <td>-2.954488</td>\n",
       "      <td>-0.496305</td>\n",
       "      <td>-3.450793</td>\n",
       "      <td>True</td>\n",
       "    </tr>\n",
       "    <tr>\n",
       "      <th>42</th>\n",
       "      <td>3</td>\n",
       "      <td>V</td>\n",
       "      <td>V</td>\n",
       "      <td>V3D</td>\n",
       "      <td>-1.227970</td>\n",
       "      <td>3.646157</td>\n",
       "      <td>2.418187</td>\n",
       "      <td>True</td>\n",
       "    </tr>\n",
       "    <tr>\n",
       "      <th>43</th>\n",
       "      <td>3</td>\n",
       "      <td>V</td>\n",
       "      <td>V</td>\n",
       "      <td>V3E</td>\n",
       "      <td>-4.041836</td>\n",
       "      <td>-0.378138</td>\n",
       "      <td>-4.419974</td>\n",
       "      <td>True</td>\n",
       "    </tr>\n",
       "    <tr>\n",
       "      <th>44</th>\n",
       "      <td>3</td>\n",
       "      <td>V</td>\n",
       "      <td>V</td>\n",
       "      <td>V3F</td>\n",
       "      <td>-4.918138</td>\n",
       "      <td>0.164415</td>\n",
       "      <td>-4.753723</td>\n",
       "      <td>True</td>\n",
       "    </tr>\n",
       "  </tbody>\n",
       "</table>\n",
       "</div>"
      ],
      "text/plain": [
       "    site aaseq_h1 aaseq_h2 mutation   beta_h1     shift   beta_h2  \\\n",
       "40     3        V        V      V3A -0.229415  0.661841  0.432426   \n",
       "41     3        V        V      V3C -2.954488 -0.496305 -3.450793   \n",
       "42     3        V        V      V3D -1.227970  3.646157  2.418187   \n",
       "43     3        V        V      V3E -4.041836 -0.378138 -4.419974   \n",
       "44     3        V        V      V3F -4.918138  0.164415 -4.753723   \n",
       "\n",
       "    shifted_site  \n",
       "40          True  \n",
       "41          True  \n",
       "42          True  \n",
       "43          True  \n",
       "44          True  "
      ]
     },
     "execution_count": 29,
     "metadata": {},
     "output_type": "execute_result"
    }
   ],
   "source": [
    "# Make a dataframe of mutation effects in the first homolog\n",
    "mut_effects_df = pd.DataFrame.from_dict(\n",
    "    p_sim_h1.muteffects,\n",
    "    orient='index',\n",
    "    columns=['beta_h1']\n",
    ")\n",
    "mut_effects_df.reset_index(inplace=True)\n",
    "mut_effects_df.rename(columns={'index':'mutation'}, inplace=True)\n",
    "mut_effects_df['wt_aa'] = mut_effects_df['mutation'].str.extract(r'([\\w*])\\d+[\\w*]')\n",
    "mut_effects_df['site'] = mut_effects_df['mutation'].str.extract(r'[\\w*](\\d+)[\\w*]')\n",
    "mut_effects_df['site'] = mut_effects_df['site'].astype(int)\n",
    "mut_effects_df['mut_aa'] = mut_effects_df['mutation'].str.extract(r'[\\w*]\\d+([\\w*])')\n",
    "\n",
    "# Simulate shifts for all mutations in the pre-defined\n",
    "# list of shifted sites, ignorning mutations to stop codons\n",
    "mut_effects_df['shifted_site'] = mut_effects_df['site'].apply(\n",
    "    lambda x: x in shifted_sites\n",
    ")\n",
    "np.random.seed(5)\n",
    "mut_effects_df['shift'] = mut_effects_df.apply(\n",
    "    lambda row: sim_mut_shift(\n",
    "        row['shifted_site'],\n",
    "        row['mutation']\n",
    "    ),\n",
    "    axis=1\n",
    ")\n",
    "\n",
    "# Add column that gives mutation effects in the second homolog\n",
    "mut_effects_df['beta_h2'] = mut_effects_df['beta_h1'] + mut_effects_df['shift']\n",
    "\n",
    "# Add columns that give the wildtype amino acids of\n",
    "# each homolog at each site\n",
    "for (homolog, seq) in homolog_seqs.items():\n",
    "    seq_dict = {\n",
    "        key : []\n",
    "        for key in ['site', f'aaseq_h{homolog}']\n",
    "    }\n",
    "    for (i, aa) in enumerate(seq, 1):\n",
    "        seq_dict['site'].append(i)\n",
    "        seq_dict[f'aaseq_h{homolog}'].append(aa)\n",
    "    seq_df = pd.DataFrame.from_dict(seq_dict)\n",
    "    mut_effects_df = mut_effects_df.merge(seq_df, on='site')\n",
    "\n",
    "# Show data for a subset of sites with shifts\n",
    "mut_effects_df[mut_effects_df['shifted_site'] == True][[\n",
    "    'site', 'aaseq_h1', 'aaseq_h2', 'mutation',\n",
    "    'beta_h1', 'shift', 'beta_h2',\n",
    "    'shifted_site'\n",
    "]].head()"
   ]
  },
  {
   "cell_type": "markdown",
   "id": "417ea658",
   "metadata": {},
   "source": [
    "Plot the distribution of all simulated shifts, excluding mutations to stop codons and sites that have no shifted effects."
   ]
  },
  {
   "cell_type": "code",
   "execution_count": 9,
   "id": "a5f6ac40",
   "metadata": {},
   "outputs": [
    {
     "name": "stdout",
     "output_type": "stream",
     "text": [
      "Number of mutations with shifts: 247\n"
     ]
    },
    {
     "data": {
      "image/png": "[encoded data removed]",
      "text/plain": [
       "<Figure size 432x288 with 1 Axes>"
      ]
     },
     "metadata": {},
     "output_type": "display_data"
    }
   ],
   "source": [
    "data = mut_effects_df[\n",
    "    (mut_effects_df['site'].isin(shifted_sites)) &\n",
    "    ~(mut_effects_df['mutation'].str.contains('\\*'))\n",
    "]\n",
    "print('Number of mutations with shifts:', len(data))\n",
    "sns.histplot(data['shift'])\n",
    "plt.xlabel('shift')\n",
    "plt.ylabel('number of mutations')\n",
    "sns.despine()\n",
    "plt.show()"
   ]
  },
  {
   "cell_type": "markdown",
   "id": "4cd2316d",
   "metadata": {},
   "source": [
    "Above, we created a `SigmoidPhenotypeSimulator` object for the second homolog by making a copy of the one for the first homolog. This object stores the homolog's wildtype latent phenotype and the latent effects of individual mutations. Below, we update both of these traits based on the simulated shifts from above. To update the wildtype latent phenotype, we will add the effects of all mutations that separate the homologs. In computing this sum, we will use $\\beta$ parameters for the second homolog, which already include shifted effects."
   ]
  },
  {
   "cell_type": "code",
   "execution_count": 10,
   "id": "69e499bf",
   "metadata": {},
   "outputs": [
    {
     "name": "stdout",
     "output_type": "stream",
     "text": [
      "Characteristics of mutations separating homologs:\n",
      "Sum of beta_h1: 3.41\n",
      "Sum of shift: -2.8\n",
      "Sum of beta_h2: 0.61\n",
      "Final WT latent phenotype of h2: 5.61\n",
      "Table of mutations that separate homologs:\n"
     ]
    },
    {
     "data": {
      "text/html": [
       "<div>\n",
       "<style scoped>\n",
       "    .dataframe tbody tr th:only-of-type {\n",
       "        vertical-align: middle;\n",
       "    }\n",
       "\n",
       "    .dataframe tbody tr th {\n",
       "        vertical-align: top;\n",
       "    }\n",
       "\n",
       "    .dataframe thead th {\n",
       "        text-align: right;\n",
       "    }\n",
       "</style>\n",
       "<table border=\"1\" class=\"dataframe\">\n",
       "  <thead>\n",
       "    <tr style=\"text-align: right;\">\n",
       "      <th></th>\n",
       "      <th>site</th>\n",
       "      <th>aaseq_h1</th>\n",
       "      <th>aaseq_h2</th>\n",
       "      <th>mutation</th>\n",
       "      <th>beta_h1</th>\n",
       "      <th>shift</th>\n",
       "      <th>beta_h2</th>\n",
       "      <th>shifted_site</th>\n",
       "    </tr>\n",
       "  </thead>\n",
       "  <tbody>\n",
       "    <tr>\n",
       "      <th>36</th>\n",
       "      <td>2</td>\n",
       "      <td>S</td>\n",
       "      <td>V</td>\n",
       "      <td>S2V</td>\n",
       "      <td>1.183358</td>\n",
       "      <td>0.000000</td>\n",
       "      <td>1.183358</td>\n",
       "      <td>False</td>\n",
       "    </tr>\n",
       "    <tr>\n",
       "      <th>307</th>\n",
       "      <td>16</td>\n",
       "      <td>V</td>\n",
       "      <td>I</td>\n",
       "      <td>V16I</td>\n",
       "      <td>-0.023267</td>\n",
       "      <td>1.165361</td>\n",
       "      <td>1.142094</td>\n",
       "      <td>True</td>\n",
       "    </tr>\n",
       "    <tr>\n",
       "      <th>327</th>\n",
       "      <td>17</td>\n",
       "      <td>I</td>\n",
       "      <td>K</td>\n",
       "      <td>I17K</td>\n",
       "      <td>2.563328</td>\n",
       "      <td>-2.630611</td>\n",
       "      <td>-0.067283</td>\n",
       "      <td>True</td>\n",
       "    </tr>\n",
       "    <tr>\n",
       "      <th>453</th>\n",
       "      <td>23</td>\n",
       "      <td>L</td>\n",
       "      <td>R</td>\n",
       "      <td>L23R</td>\n",
       "      <td>1.338062</td>\n",
       "      <td>0.000000</td>\n",
       "      <td>1.338062</td>\n",
       "      <td>False</td>\n",
       "    </tr>\n",
       "    <tr>\n",
       "      <th>595</th>\n",
       "      <td>30</td>\n",
       "      <td>L</td>\n",
       "      <td>T</td>\n",
       "      <td>L30T</td>\n",
       "      <td>-0.159066</td>\n",
       "      <td>-1.334131</td>\n",
       "      <td>-1.493197</td>\n",
       "      <td>True</td>\n",
       "    </tr>\n",
       "    <tr>\n",
       "      <th>663</th>\n",
       "      <td>34</td>\n",
       "      <td>L</td>\n",
       "      <td>E</td>\n",
       "      <td>L34E</td>\n",
       "      <td>1.691220</td>\n",
       "      <td>0.000000</td>\n",
       "      <td>1.691220</td>\n",
       "      <td>False</td>\n",
       "    </tr>\n",
       "    <tr>\n",
       "      <th>788</th>\n",
       "      <td>40</td>\n",
       "      <td>S</td>\n",
       "      <td>K</td>\n",
       "      <td>S40K</td>\n",
       "      <td>-0.419165</td>\n",
       "      <td>0.000000</td>\n",
       "      <td>-0.419165</td>\n",
       "      <td>False</td>\n",
       "    </tr>\n",
       "    <tr>\n",
       "      <th>826</th>\n",
       "      <td>42</td>\n",
       "      <td>S</td>\n",
       "      <td>H</td>\n",
       "      <td>S42H</td>\n",
       "      <td>-1.988213</td>\n",
       "      <td>0.000000</td>\n",
       "      <td>-1.988213</td>\n",
       "      <td>False</td>\n",
       "    </tr>\n",
       "    <tr>\n",
       "      <th>898</th>\n",
       "      <td>45</td>\n",
       "      <td>V</td>\n",
       "      <td>Y</td>\n",
       "      <td>V45Y</td>\n",
       "      <td>-0.651130</td>\n",
       "      <td>0.000000</td>\n",
       "      <td>-0.651130</td>\n",
       "      <td>False</td>\n",
       "    </tr>\n",
       "    <tr>\n",
       "      <th>942</th>\n",
       "      <td>48</td>\n",
       "      <td>R</td>\n",
       "      <td>D</td>\n",
       "      <td>R48D</td>\n",
       "      <td>-0.122808</td>\n",
       "      <td>0.000000</td>\n",
       "      <td>-0.122808</td>\n",
       "      <td>False</td>\n",
       "    </tr>\n",
       "  </tbody>\n",
       "</table>\n",
       "</div>"
      ],
      "text/plain": [
       "     site aaseq_h1 aaseq_h2 mutation   beta_h1     shift   beta_h2  \\\n",
       "36      2        S        V      S2V  1.183358  0.000000  1.183358   \n",
       "307    16        V        I     V16I -0.023267  1.165361  1.142094   \n",
       "327    17        I        K     I17K  2.563328 -2.630611 -0.067283   \n",
       "453    23        L        R     L23R  1.338062  0.000000  1.338062   \n",
       "595    30        L        T     L30T -0.159066 -1.334131 -1.493197   \n",
       "663    34        L        E     L34E  1.691220  0.000000  1.691220   \n",
       "788    40        S        K     S40K -0.419165  0.000000 -0.419165   \n",
       "826    42        S        H     S42H -1.988213  0.000000 -1.988213   \n",
       "898    45        V        Y     V45Y -0.651130  0.000000 -0.651130   \n",
       "942    48        R        D     R48D -0.122808  0.000000 -0.122808   \n",
       "\n",
       "     shifted_site  \n",
       "36          False  \n",
       "307          True  \n",
       "327          True  \n",
       "453         False  \n",
       "595          True  \n",
       "663         False  \n",
       "788         False  \n",
       "826         False  \n",
       "898         False  \n",
       "942         False  "
      ]
     },
     "execution_count": 10,
     "metadata": {},
     "output_type": "execute_result"
    }
   ],
   "source": [
    "# Update individual mutational effects\n",
    "assert sum(mut_effects_df['mutation'].duplicated()) == 0\n",
    "for mutation in p_sim_h2.muteffects.keys():\n",
    "    p_sim_h2.muteffects[mutation] = float(mut_effects_df[mut_effects_df['mutation']==mutation]['beta_h2'])\n",
    "\n",
    "# Update the wildtype latent phenotype\n",
    "data = mut_effects_df[\n",
    "    (mut_effects_df['site'].isin(non_identical_sites)) &\n",
    "    (mut_effects_df['mut_aa'] == mut_effects_df['aaseq_h2'])\n",
    "]\n",
    "wt_latent_phenotype_shift = sum(data['beta_h2'])\n",
    "p_sim_h2.wt_latent = p_sim_h1.wt_latent + wt_latent_phenotype_shift\n",
    "print('Characteristics of mutations separating homologs:')\n",
    "for metric in ['beta_h1', 'shift', 'beta_h2']:\n",
    "    print(f'Sum of {metric}:', round(sum(data[metric]), 2))\n",
    "print('Final WT latent phenotype of h2:', round(p_sim_h2.wt_latent, 2))\n",
    "print('Table of mutations that separate homologs:')\n",
    "data[[\n",
    "    'site', 'aaseq_h1', 'aaseq_h2', 'mutation',\n",
    "    'beta_h1', 'shift', 'beta_h2',\n",
    "    'shifted_site', \n",
    "]]"
   ]
  },
  {
   "cell_type": "markdown",
   "id": "1a626b8c",
   "metadata": {},
   "source": [
    "All mutations in the second homolog's `SigmoidPhenotypeSimulator` object are defined relative to the wildtype sequence of the first homolog, which we will call the \"reference\" homolog.\n",
    "But, to simulate data for the second homolog, we need entries to be relative to the wildtype sequence of the second homolog.\n",
    "These entries are missing for sites at which the homologs differ in sequence.\n",
    "For instance, if the wildtype amino acid at site 30 is an A in the first homolog, but is a Y in a second homolog, then the effect of a Y30G is absent from the second homolog's simulator object.\n",
    "\n",
    "To add these missing entries, we will use a strategy that assumes additivity between mutations at the same site.\n",
    "For instance, in the above example, a Y30G mutation is defined as the sum of the following two mutations relative to A: A30Y (negated) and A30G.\n",
    "This approach assumes that mutational effects can be negated, such that A30Y has the opposite effect as Y30A.\n",
    "It also assumes that mutational effects are additive, such that the effect of Y30G is the sum of the effects of Y30A and A30G.\n",
    "\n",
    "The below expression defines this approach more explicitly for an arbitrary site.\n",
    "It uses the notation $\\beta_{x,n,z}$ where $x$ and $z$ are amino acids.\n",
    "For a site $n$, if $aa_{\\text{wt}}$ is the site's wildtype amino acid in a non-reference homolog, $aa_{\\text{mut}}$ is a mutant amino acid in a variant of that homolog, and $aa_{\\text{ref}}$ is the site's wildtype amino acid in the reference homolog, then the mutation's effect is:\n",
    "\n",
    "$$\\beta_{aa_{\\text{wt}},n,aa_{\\text{mut}}} = \\begin{cases}\n",
    "      \\beta_{aa_{\\text{ref}},n,aa_{\\text{mut}}} & \\text{if } aa_{\\text{wt}} = aa_{\\text{ref}}\\\\\n",
    "      -\\beta_{aa_{\\text{ref}},n,aa_{\\text{wt}}} & \\text{if } aa_{\\text{mut}} = aa_{\\text{ref}}\\\\\n",
    "      - \\beta_{aa_{\\text{ref}},n,aa_{\\text{wt}}} +\\beta_{aa_{\\text{ref}},n,aa_{\\text{mut}}} & \\text{otherwise}\\\\\n",
    "\\end{cases}$$\n",
    "\n",
    "The above $\\beta$ parameters are effects in the background of the non-reference homolog, such that they account for shifts in mutational effects between homologs.\n",
    "\n",
    "The below cell adds mutational effects for missing entries using the above strategy."
   ]
  },
  {
   "cell_type": "code",
   "execution_count": 11,
   "id": "b309408d",
   "metadata": {},
   "outputs": [],
   "source": [
    "# Iterate over non-identical sites\n",
    "stop_effect = -15 # same as default for `SigmoidPhenotypeSimulator` object\n",
    "for site in non_identical_sites:\n",
    "    \n",
    "    aa_h1 = aaseq_h1[site-1]\n",
    "    aa_h2 = aaseq_h2[site-1]\n",
    "    assert (aa_h1 != aa_h2), site\n",
    "    \n",
    "    # Get the effect of the mutation that goes between homologs\n",
    "    mut_between_homologs = f'{aa_h1}{site}{aa_h2}'\n",
    "    mut_between_homologs_effect = float(mut_effects_df[\n",
    "        mut_effects_df['mutation'] == mut_between_homologs\n",
    "    ]['beta_h2'])\n",
    "    \n",
    "    # Iterate over mutant amino acids and add an entry for\n",
    "    # each one\n",
    "    for aa_mut in AAS_WITHSTOP:\n",
    "        if aa_h2 == aa_mut:\n",
    "            continue\n",
    "        elif aa_mut == '*':\n",
    "            p_sim_h2.muteffects[f'{aa_h2}{site}{aa_mut}'] = stop_effect\n",
    "        elif aa_mut == aa_h1:\n",
    "            p_sim_h2.muteffects[f'{aa_h2}{site}{aa_mut}'] = -mut_between_homologs_effect\n",
    "        else:            \n",
    "            # Get the effect of the mutation that goes from the\n",
    "            # reference amino acid to the original mutant amino acid\n",
    "            mut_from_ref = f'{aa_h1}{site}{aa_mut}'\n",
    "            mut_from_ref_effect = float(mut_effects_df[\n",
    "                mut_effects_df['mutation'] == mut_from_ref\n",
    "            ]['beta_h2'])\n",
    "            p_sim_h2.muteffects[f'{aa_h2}{site}{aa_mut}'] = -mut_between_homologs_effect + mut_from_ref_effect"
   ]
  },
  {
   "cell_type": "markdown",
   "id": "c12e0498",
   "metadata": {},
   "source": [
    "## Simulate variants from a DMS experiment"
   ]
  },
  {
   "cell_type": "markdown",
   "id": "6a27cb01",
   "metadata": {},
   "source": [
    "Independently simulate variants for both homologs, including two independent libraries per homolog."
   ]
  },
  {
   "cell_type": "code",
   "execution_count": 12,
   "id": "761b1f99",
   "metadata": {},
   "outputs": [],
   "source": [
    "libs = [\"lib_1\", \"lib_2\"]  # distinct libraries of gene\n",
    "variants_per_lib = 500 * genelength  # variants per library\n",
    "avgmuts = 2.0  # average codon mutations per variant\n",
    "bclen = 16  # length of nucleotide barcode for each variant\n",
    "seed = 1\n",
    "variants_h1 = dms_variants.simulate.simulate_CodonVariantTable(\n",
    "    geneseq=geneseq_h1,\n",
    "    bclen=bclen,\n",
    "    library_specs={\n",
    "        lib: {\"avgmuts\": avgmuts, \"nvariants\": variants_per_lib} for lib in libs\n",
    "    },\n",
    "    seed=seed,\n",
    ")\n",
    "variants_h2 = dms_variants.simulate.simulate_CodonVariantTable(\n",
    "    geneseq=geneseq_h2,\n",
    "    bclen=bclen,\n",
    "    library_specs={\n",
    "        lib: {\"avgmuts\": avgmuts, \"nvariants\": variants_per_lib} for lib in libs\n",
    "    },\n",
    "    seed=seed,\n",
    ")"
   ]
  },
  {
   "cell_type": "code",
   "execution_count": 13,
   "id": "b31c079b",
   "metadata": {},
   "outputs": [
    {
     "data": {
      "text/html": [
       "<div>\n",
       "<style scoped>\n",
       "    .dataframe tbody tr th:only-of-type {\n",
       "        vertical-align: middle;\n",
       "    }\n",
       "\n",
       "    .dataframe tbody tr th {\n",
       "        vertical-align: top;\n",
       "    }\n",
       "\n",
       "    .dataframe thead th {\n",
       "        text-align: right;\n",
       "    }\n",
       "</style>\n",
       "<table border=\"1\" class=\"dataframe\">\n",
       "  <thead>\n",
       "    <tr style=\"text-align: right;\">\n",
       "      <th></th>\n",
       "      <th>library</th>\n",
       "      <th>sample</th>\n",
       "      <th>count</th>\n",
       "    </tr>\n",
       "  </thead>\n",
       "  <tbody>\n",
       "    <tr>\n",
       "      <th>0</th>\n",
       "      <td>lib_1</td>\n",
       "      <td>barcoded variants</td>\n",
       "      <td>25000</td>\n",
       "    </tr>\n",
       "    <tr>\n",
       "      <th>1</th>\n",
       "      <td>lib_2</td>\n",
       "      <td>barcoded variants</td>\n",
       "      <td>25000</td>\n",
       "    </tr>\n",
       "    <tr>\n",
       "      <th>2</th>\n",
       "      <td>all libraries</td>\n",
       "      <td>barcoded variants</td>\n",
       "      <td>50000</td>\n",
       "    </tr>\n",
       "  </tbody>\n",
       "</table>\n",
       "</div>"
      ],
      "text/plain": [
       "         library             sample  count\n",
       "0          lib_1  barcoded variants  25000\n",
       "1          lib_2  barcoded variants  25000\n",
       "2  all libraries  barcoded variants  50000"
      ]
     },
     "execution_count": 13,
     "metadata": {},
     "output_type": "execute_result"
    }
   ],
   "source": [
    "variants_h1.n_variants_df(samples=None)"
   ]
  },
  {
   "cell_type": "code",
   "execution_count": 14,
   "id": "fd6df84d",
   "metadata": {},
   "outputs": [
    {
     "data": {
      "text/html": [
       "<div>\n",
       "<style scoped>\n",
       "    .dataframe tbody tr th:only-of-type {\n",
       "        vertical-align: middle;\n",
       "    }\n",
       "\n",
       "    .dataframe tbody tr th {\n",
       "        vertical-align: top;\n",
       "    }\n",
       "\n",
       "    .dataframe thead th {\n",
       "        text-align: right;\n",
       "    }\n",
       "</style>\n",
       "<table border=\"1\" class=\"dataframe\">\n",
       "  <thead>\n",
       "    <tr style=\"text-align: right;\">\n",
       "      <th></th>\n",
       "      <th>library</th>\n",
       "      <th>sample</th>\n",
       "      <th>count</th>\n",
       "    </tr>\n",
       "  </thead>\n",
       "  <tbody>\n",
       "    <tr>\n",
       "      <th>0</th>\n",
       "      <td>lib_1</td>\n",
       "      <td>barcoded variants</td>\n",
       "      <td>25000</td>\n",
       "    </tr>\n",
       "    <tr>\n",
       "      <th>1</th>\n",
       "      <td>lib_2</td>\n",
       "      <td>barcoded variants</td>\n",
       "      <td>25000</td>\n",
       "    </tr>\n",
       "    <tr>\n",
       "      <th>2</th>\n",
       "      <td>all libraries</td>\n",
       "      <td>barcoded variants</td>\n",
       "      <td>50000</td>\n",
       "    </tr>\n",
       "  </tbody>\n",
       "</table>\n",
       "</div>"
      ],
      "text/plain": [
       "         library             sample  count\n",
       "0          lib_1  barcoded variants  25000\n",
       "1          lib_2  barcoded variants  25000\n",
       "2  all libraries  barcoded variants  50000"
      ]
     },
     "execution_count": 14,
     "metadata": {},
     "output_type": "execute_result"
    }
   ],
   "source": [
    "variants_h2.n_variants_df(samples=None)"
   ]
  },
  {
   "cell_type": "markdown",
   "id": "096fa8a5",
   "metadata": {},
   "source": [
    "For each homolog, simulate latent and observed phenotypes for each variant given the underlying mutation effects from above."
   ]
  },
  {
   "cell_type": "code",
   "execution_count": 15,
   "id": "da8ab80b",
   "metadata": {},
   "outputs": [],
   "source": [
    "# First homolog\n",
    "phenotypes_h1 = [\n",
    "    (p_sim_h1.latentPhenotype, 'latent_phenotype'),\n",
    "    (p_sim_h1.observedPhenotype, 'observed_phenotype'),\n",
    "    (p_sim_h1.observedEnrichment, 'observed_enrichment'),\n",
    "]\n",
    "for (func, col_name) in phenotypes_h1:\n",
    "    variants_h1.barcode_variant_df[col_name] = \\\n",
    "        variants_h1.barcode_variant_df['aa_substitutions'].apply(lambda x: func(x))\n",
    "    \n",
    "# Second homolog\n",
    "phenotypes_h2 = [\n",
    "    (p_sim_h2.latentPhenotype, 'latent_phenotype'),\n",
    "    (p_sim_h2.observedPhenotype, 'observed_phenotype'),\n",
    "    (p_sim_h2.observedEnrichment, 'observed_enrichment'),\n",
    "]\n",
    "for (func, col_name) in phenotypes_h2:\n",
    "    variants_h2.barcode_variant_df[col_name] = \\\n",
    "        variants_h2.barcode_variant_df['aa_substitutions'].apply(lambda x: func(x))\n",
    "\n",
    "# Get dataframes listing variants\n",
    "v1_df = variants_h1.barcode_variant_df\n",
    "v2_df = variants_h2.barcode_variant_df"
   ]
  },
  {
   "cell_type": "markdown",
   "id": "c84ecf6a",
   "metadata": {},
   "source": [
    "As in Jesse's notebook, the above computation uses a sigmoid to convert a latent phenotype to an observed one. Below, we plot these sigmoids for the first homolog."
   ]
  },
  {
   "cell_type": "code",
   "execution_count": 30,
   "id": "931d1188",
   "metadata": {},
   "outputs": [
    {
     "data": {
      "image/png": "[encoded data removed]",
      "text/plain": [
       "<Figure size 350x250 with 1 Axes>"
      ]
     },
     "metadata": {},
     "output_type": "display_data"
    },
    {
     "data": {
      "image/png": "[encoded data removed]",
      "text/plain": [
       "<Figure size 350x250 with 1 Axes>"
      ]
     },
     "metadata": {},
     "output_type": "display_data"
    }
   ],
   "source": [
    "for value in [\"enrichment\", \"phenotype\"]:\n",
    "    p = p_sim_h1.plotLatentVsObserved(value)\n",
    "    _ = p.draw()"
   ]
  },
  {
   "cell_type": "markdown",
   "id": "2ed3e15b",
   "metadata": {},
   "source": [
    "... and the second homolog:"
   ]
  },
  {
   "cell_type": "code",
   "execution_count": 31,
   "id": "3a75509a",
   "metadata": {},
   "outputs": [
    {
     "data": {
      "image/png": "[encoded data removed]",
      "text/plain": [
       "<Figure size 350x250 with 1 Axes>"
      ]
     },
     "metadata": {},
     "output_type": "display_data"
    },
    {
     "data": {
      "image/png": "[encoded data removed]",
      "text/plain": [
       "<Figure size 350x250 with 1 Axes>"
      ]
     },
     "metadata": {},
     "output_type": "display_data"
    }
   ],
   "source": [
    "for value in [\"enrichment\", \"phenotype\"]:\n",
    "    p = p_sim_h2.plotLatentVsObserved(value)\n",
    "    _ = p.draw()"
   ]
  },
  {
   "cell_type": "markdown",
   "id": "0abbd0c3",
   "metadata": {},
   "source": [
    "Show example data for variants for the first homolog."
   ]
  },
  {
   "cell_type": "code",
   "execution_count": 16,
   "id": "021f7e26",
   "metadata": {},
   "outputs": [
    {
     "data": {
      "text/html": [
       "<div>\n",
       "<style scoped>\n",
       "    .dataframe tbody tr th:only-of-type {\n",
       "        vertical-align: middle;\n",
       "    }\n",
       "\n",
       "    .dataframe tbody tr th {\n",
       "        vertical-align: top;\n",
       "    }\n",
       "\n",
       "    .dataframe thead th {\n",
       "        text-align: right;\n",
       "    }\n",
       "</style>\n",
       "<table border=\"1\" class=\"dataframe\">\n",
       "  <thead>\n",
       "    <tr style=\"text-align: right;\">\n",
       "      <th></th>\n",
       "      <th>library</th>\n",
       "      <th>barcode</th>\n",
       "      <th>variant_call_support</th>\n",
       "      <th>codon_substitutions</th>\n",
       "      <th>aa_substitutions</th>\n",
       "      <th>n_codon_substitutions</th>\n",
       "      <th>n_aa_substitutions</th>\n",
       "      <th>latent_phenotype</th>\n",
       "      <th>observed_phenotype</th>\n",
       "      <th>observed_enrichment</th>\n",
       "    </tr>\n",
       "  </thead>\n",
       "  <tbody>\n",
       "    <tr>\n",
       "      <th>0</th>\n",
       "      <td>lib_1</td>\n",
       "      <td>AAAAAAATTTACGCGA</td>\n",
       "      <td>1</td>\n",
       "      <td>TTA18GTC TTA23TCA TTT41AAC</td>\n",
       "      <td>L18V L23S F41N</td>\n",
       "      <td>3</td>\n",
       "      <td>3</td>\n",
       "      <td>-15.608947</td>\n",
       "      <td>-9.965543</td>\n",
       "      <td>0.001000</td>\n",
       "    </tr>\n",
       "    <tr>\n",
       "      <th>1</th>\n",
       "      <td>lib_1</td>\n",
       "      <td>AAAAAACATAGGAGTA</td>\n",
       "      <td>3</td>\n",
       "      <td>TGC19AAG CGG29TCC</td>\n",
       "      <td>C19K R29S</td>\n",
       "      <td>2</td>\n",
       "      <td>2</td>\n",
       "      <td>2.516825</td>\n",
       "      <td>-0.102192</td>\n",
       "      <td>0.931616</td>\n",
       "    </tr>\n",
       "    <tr>\n",
       "      <th>2</th>\n",
       "      <td>lib_1</td>\n",
       "      <td>AAAAAAGAGGTTAAAC</td>\n",
       "      <td>1</td>\n",
       "      <td>ATG32TTC</td>\n",
       "      <td>M32F</td>\n",
       "      <td>1</td>\n",
       "      <td>1</td>\n",
       "      <td>3.980341</td>\n",
       "      <td>-0.016995</td>\n",
       "      <td>0.988289</td>\n",
       "    </tr>\n",
       "    <tr>\n",
       "      <th>3</th>\n",
       "      <td>lib_1</td>\n",
       "      <td>AAAAAAGGCTTATACT</td>\n",
       "      <td>1</td>\n",
       "      <td>TCA11TCG CGG12GGT GGT46AAA</td>\n",
       "      <td>R12G G46K</td>\n",
       "      <td>3</td>\n",
       "      <td>2</td>\n",
       "      <td>-21.146126</td>\n",
       "      <td>-9.965783</td>\n",
       "      <td>0.001000</td>\n",
       "    </tr>\n",
       "    <tr>\n",
       "      <th>4</th>\n",
       "      <td>lib_1</td>\n",
       "      <td>AAAAAATCACTAATAT</td>\n",
       "      <td>3</td>\n",
       "      <td>AGA1ACA CGT15CCG TCC37GCT AGT40TAA TCG42AGC</td>\n",
       "      <td>R1T R15P S37A S40*</td>\n",
       "      <td>5</td>\n",
       "      <td>4</td>\n",
       "      <td>-21.623836</td>\n",
       "      <td>-9.965784</td>\n",
       "      <td>0.001000</td>\n",
       "    </tr>\n",
       "  </tbody>\n",
       "</table>\n",
       "</div>"
      ],
      "text/plain": [
       "  library           barcode  variant_call_support  \\\n",
       "0   lib_1  AAAAAAATTTACGCGA                     1   \n",
       "1   lib_1  AAAAAACATAGGAGTA                     3   \n",
       "2   lib_1  AAAAAAGAGGTTAAAC                     1   \n",
       "3   lib_1  AAAAAAGGCTTATACT                     1   \n",
       "4   lib_1  AAAAAATCACTAATAT                     3   \n",
       "\n",
       "                           codon_substitutions    aa_substitutions  \\\n",
       "0                   TTA18GTC TTA23TCA TTT41AAC      L18V L23S F41N   \n",
       "1                            TGC19AAG CGG29TCC           C19K R29S   \n",
       "2                                     ATG32TTC                M32F   \n",
       "3                   TCA11TCG CGG12GGT GGT46AAA           R12G G46K   \n",
       "4  AGA1ACA CGT15CCG TCC37GCT AGT40TAA TCG42AGC  R1T R15P S37A S40*   \n",
       "\n",
       "   n_codon_substitutions  n_aa_substitutions  latent_phenotype  \\\n",
       "0                      3                   3        -15.608947   \n",
       "1                      2                   2          2.516825   \n",
       "2                      1                   1          3.980341   \n",
       "3                      3                   2        -21.146126   \n",
       "4                      5                   4        -21.623836   \n",
       "\n",
       "   observed_phenotype  observed_enrichment  \n",
       "0           -9.965543             0.001000  \n",
       "1           -0.102192             0.931616  \n",
       "2           -0.016995             0.988289  \n",
       "3           -9.965783             0.001000  \n",
       "4           -9.965784             0.001000  "
      ]
     },
     "execution_count": 16,
     "metadata": {},
     "output_type": "execute_result"
    }
   ],
   "source": [
    "v1_df.head()"
   ]
  },
  {
   "cell_type": "markdown",
   "id": "6519f477",
   "metadata": {},
   "source": [
    "## The below code is me doing reality checks. Could think about making this more interpretable."
   ]
  },
  {
   "cell_type": "markdown",
   "id": "68140245",
   "metadata": {},
   "source": [
    "Show data for a mutation with identical effects between homologs."
   ]
  },
  {
   "cell_type": "code",
   "execution_count": 18,
   "id": "a855b71f",
   "metadata": {},
   "outputs": [
    {
     "name": "stdout",
     "output_type": "stream",
     "text": [
      "simulated latent phenotype:\n",
      "h1 -2.46\n",
      "h2 -1.85\n",
      "\n",
      "data from single-mutant variants:\n"
     ]
    },
    {
     "data": {
      "text/html": [
       "<div>\n",
       "<style scoped>\n",
       "    .dataframe tbody tr th:only-of-type {\n",
       "        vertical-align: middle;\n",
       "    }\n",
       "\n",
       "    .dataframe tbody tr th {\n",
       "        vertical-align: top;\n",
       "    }\n",
       "\n",
       "    .dataframe thead th {\n",
       "        text-align: right;\n",
       "    }\n",
       "</style>\n",
       "<table border=\"1\" class=\"dataframe\">\n",
       "  <thead>\n",
       "    <tr style=\"text-align: right;\">\n",
       "      <th></th>\n",
       "      <th>library</th>\n",
       "      <th>barcode</th>\n",
       "      <th>variant_call_support</th>\n",
       "      <th>codon_substitutions</th>\n",
       "      <th>aa_substitutions</th>\n",
       "      <th>n_codon_substitutions</th>\n",
       "      <th>n_aa_substitutions</th>\n",
       "      <th>latent_phenotype</th>\n",
       "      <th>observed_phenotype</th>\n",
       "      <th>observed_enrichment</th>\n",
       "    </tr>\n",
       "  </thead>\n",
       "  <tbody>\n",
       "    <tr>\n",
       "      <th>4350</th>\n",
       "      <td>lib_1</td>\n",
       "      <td>AGTACAATTGCATGAC</td>\n",
       "      <td>3</td>\n",
       "      <td>AGA1GAT</td>\n",
       "      <td>R1D</td>\n",
       "      <td>1</td>\n",
       "      <td>1</td>\n",
       "      <td>-2.458668</td>\n",
       "      <td>-3.639199</td>\n",
       "      <td>0.080259</td>\n",
       "    </tr>\n",
       "  </tbody>\n",
       "</table>\n",
       "</div>"
      ],
      "text/plain": [
       "     library           barcode  variant_call_support codon_substitutions  \\\n",
       "4350   lib_1  AGTACAATTGCATGAC                     3             AGA1GAT   \n",
       "\n",
       "     aa_substitutions  n_codon_substitutions  n_aa_substitutions  \\\n",
       "4350              R1D                      1                   1   \n",
       "\n",
       "      latent_phenotype  observed_phenotype  observed_enrichment  \n",
       "4350         -2.458668           -3.639199             0.080259  "
      ]
     },
     "metadata": {},
     "output_type": "display_data"
    },
    {
     "data": {
      "text/html": [
       "<div>\n",
       "<style scoped>\n",
       "    .dataframe tbody tr th:only-of-type {\n",
       "        vertical-align: middle;\n",
       "    }\n",
       "\n",
       "    .dataframe tbody tr th {\n",
       "        vertical-align: top;\n",
       "    }\n",
       "\n",
       "    .dataframe thead th {\n",
       "        text-align: right;\n",
       "    }\n",
       "</style>\n",
       "<table border=\"1\" class=\"dataframe\">\n",
       "  <thead>\n",
       "    <tr style=\"text-align: right;\">\n",
       "      <th></th>\n",
       "      <th>library</th>\n",
       "      <th>barcode</th>\n",
       "      <th>variant_call_support</th>\n",
       "      <th>codon_substitutions</th>\n",
       "      <th>aa_substitutions</th>\n",
       "      <th>n_codon_substitutions</th>\n",
       "      <th>n_aa_substitutions</th>\n",
       "      <th>latent_phenotype</th>\n",
       "      <th>observed_phenotype</th>\n",
       "      <th>observed_enrichment</th>\n",
       "    </tr>\n",
       "  </thead>\n",
       "  <tbody>\n",
       "    <tr>\n",
       "      <th>4350</th>\n",
       "      <td>lib_1</td>\n",
       "      <td>AGTACAATTGCATGAC</td>\n",
       "      <td>3</td>\n",
       "      <td>AGA1GAT</td>\n",
       "      <td>R1D</td>\n",
       "      <td>1</td>\n",
       "      <td>1</td>\n",
       "      <td>-1.845728</td>\n",
       "      <td>-2.860021</td>\n",
       "      <td>0.137736</td>\n",
       "    </tr>\n",
       "  </tbody>\n",
       "</table>\n",
       "</div>"
      ],
      "text/plain": [
       "     library           barcode  variant_call_support codon_substitutions  \\\n",
       "4350   lib_1  AGTACAATTGCATGAC                     3             AGA1GAT   \n",
       "\n",
       "     aa_substitutions  n_codon_substitutions  n_aa_substitutions  \\\n",
       "4350              R1D                      1                   1   \n",
       "\n",
       "      latent_phenotype  observed_phenotype  observed_enrichment  \n",
       "4350         -1.845728           -2.860021             0.137736  "
      ]
     },
     "metadata": {},
     "output_type": "display_data"
    }
   ],
   "source": [
    "mutation = 'R1D'\n",
    "beta_h1 = float(mut_effects_df[mut_effects_df['mutation'] == mutation]['beta_h1'])\n",
    "beta_h2 = float(mut_effects_df[mut_effects_df['mutation'] == mutation]['beta_h2'])\n",
    "print('simulated latent phenotype:')\n",
    "print('h1', round(beta_h1 + p_sim_h1.wt_latent, 2))\n",
    "print('h2', round(beta_h2 + p_sim_h2.wt_latent, 2))\n",
    "print('\\ndata from single-mutant variants:')\n",
    "display(v1_df[\n",
    "    (v1_df['n_aa_substitutions'] == 1) &\n",
    "    (v1_df['aa_substitutions'].str.contains(mutation))\n",
    "].head(n=1))\n",
    "display(v2_df[\n",
    "    (v2_df['n_aa_substitutions'] == 1) &\n",
    "    (v2_df['aa_substitutions'].str.contains(mutation))\n",
    "].head(n=1))"
   ]
  },
  {
   "cell_type": "markdown",
   "id": "2217fa98",
   "metadata": {},
   "source": [
    "Show data for a mutation with a shifted effect at a site that is identical between homologs."
   ]
  },
  {
   "cell_type": "code",
   "execution_count": 19,
   "id": "1d6d13fe",
   "metadata": {},
   "outputs": [
    {
     "name": "stdout",
     "output_type": "stream",
     "text": [
      "simulated latent phenotype:\n",
      "h1 7.05\n",
      "h2 10.45\n",
      "\n",
      "data from single-mutant variants:\n"
     ]
    },
    {
     "data": {
      "text/html": [
       "<div>\n",
       "<style scoped>\n",
       "    .dataframe tbody tr th:only-of-type {\n",
       "        vertical-align: middle;\n",
       "    }\n",
       "\n",
       "    .dataframe tbody tr th {\n",
       "        vertical-align: top;\n",
       "    }\n",
       "\n",
       "    .dataframe thead th {\n",
       "        text-align: right;\n",
       "    }\n",
       "</style>\n",
       "<table border=\"1\" class=\"dataframe\">\n",
       "  <thead>\n",
       "    <tr style=\"text-align: right;\">\n",
       "      <th></th>\n",
       "      <th>library</th>\n",
       "      <th>barcode</th>\n",
       "      <th>variant_call_support</th>\n",
       "      <th>codon_substitutions</th>\n",
       "      <th>aa_substitutions</th>\n",
       "      <th>n_codon_substitutions</th>\n",
       "      <th>n_aa_substitutions</th>\n",
       "      <th>latent_phenotype</th>\n",
       "      <th>observed_phenotype</th>\n",
       "      <th>observed_enrichment</th>\n",
       "    </tr>\n",
       "  </thead>\n",
       "  <tbody>\n",
       "    <tr>\n",
       "      <th>4615</th>\n",
       "      <td>lib_1</td>\n",
       "      <td>AGTTACCCCGCTTTTT</td>\n",
       "      <td>2</td>\n",
       "      <td>GTG3TGG AGT40TCG</td>\n",
       "      <td>V3W</td>\n",
       "      <td>2</td>\n",
       "      <td>1</td>\n",
       "      <td>7.046597</td>\n",
       "      <td>0.008425</td>\n",
       "      <td>1.005857</td>\n",
       "    </tr>\n",
       "  </tbody>\n",
       "</table>\n",
       "</div>"
      ],
      "text/plain": [
       "     library           barcode  variant_call_support codon_substitutions  \\\n",
       "4615   lib_1  AGTTACCCCGCTTTTT                     2    GTG3TGG AGT40TCG   \n",
       "\n",
       "     aa_substitutions  n_codon_substitutions  n_aa_substitutions  \\\n",
       "4615              V3W                      2                   1   \n",
       "\n",
       "      latent_phenotype  observed_phenotype  observed_enrichment  \n",
       "4615          7.046597            0.008425             1.005857  "
      ]
     },
     "metadata": {},
     "output_type": "display_data"
    },
    {
     "data": {
      "text/html": [
       "<div>\n",
       "<style scoped>\n",
       "    .dataframe tbody tr th:only-of-type {\n",
       "        vertical-align: middle;\n",
       "    }\n",
       "\n",
       "    .dataframe tbody tr th {\n",
       "        vertical-align: top;\n",
       "    }\n",
       "\n",
       "    .dataframe thead th {\n",
       "        text-align: right;\n",
       "    }\n",
       "</style>\n",
       "<table border=\"1\" class=\"dataframe\">\n",
       "  <thead>\n",
       "    <tr style=\"text-align: right;\">\n",
       "      <th></th>\n",
       "      <th>library</th>\n",
       "      <th>barcode</th>\n",
       "      <th>variant_call_support</th>\n",
       "      <th>codon_substitutions</th>\n",
       "      <th>aa_substitutions</th>\n",
       "      <th>n_codon_substitutions</th>\n",
       "      <th>n_aa_substitutions</th>\n",
       "      <th>latent_phenotype</th>\n",
       "      <th>observed_phenotype</th>\n",
       "      <th>observed_enrichment</th>\n",
       "    </tr>\n",
       "  </thead>\n",
       "  <tbody>\n",
       "    <tr>\n",
       "      <th>16747</th>\n",
       "      <td>lib_1</td>\n",
       "      <td>GGGTCCCCACTACTCA</td>\n",
       "      <td>3</td>\n",
       "      <td>GTG3TGG</td>\n",
       "      <td>V3W</td>\n",
       "      <td>1</td>\n",
       "      <td>1</td>\n",
       "      <td>10.445533</td>\n",
       "      <td>0.00521</td>\n",
       "      <td>1.003618</td>\n",
       "    </tr>\n",
       "  </tbody>\n",
       "</table>\n",
       "</div>"
      ],
      "text/plain": [
       "      library           barcode  variant_call_support codon_substitutions  \\\n",
       "16747   lib_1  GGGTCCCCACTACTCA                     3             GTG3TGG   \n",
       "\n",
       "      aa_substitutions  n_codon_substitutions  n_aa_substitutions  \\\n",
       "16747              V3W                      1                   1   \n",
       "\n",
       "       latent_phenotype  observed_phenotype  observed_enrichment  \n",
       "16747         10.445533             0.00521             1.003618  "
      ]
     },
     "metadata": {},
     "output_type": "display_data"
    }
   ],
   "source": [
    "mutation = 'V3W'\n",
    "beta_h1 = float(mut_effects_df[mut_effects_df['mutation'] == mutation]['beta_h1'])\n",
    "beta_h2 = float(mut_effects_df[mut_effects_df['mutation'] == mutation]['beta_h2'])\n",
    "print('simulated latent phenotype:')\n",
    "print('h1', round(beta_h1 + p_sim_h1.wt_latent, 2))\n",
    "print('h2', round(beta_h2 + p_sim_h2.wt_latent, 2))\n",
    "print('\\ndata from single-mutant variants:')\n",
    "display(v1_df[\n",
    "    (v1_df['n_aa_substitutions'] == 1) &\n",
    "    (v1_df['aa_substitutions'].str.contains(mutation))\n",
    "].head(n=1))\n",
    "display(v2_df[\n",
    "    (v2_df['n_aa_substitutions'] == 1) &\n",
    "    (v2_df['aa_substitutions'].str.contains(mutation))\n",
    "].head(n=1))"
   ]
  },
  {
   "cell_type": "markdown",
   "id": "12e436a7",
   "metadata": {},
   "source": [
    "Show data for a mutation with a shifted effect at a site that is non-identical between homologs."
   ]
  },
  {
   "cell_type": "code",
   "execution_count": 20,
   "id": "1c619596",
   "metadata": {},
   "outputs": [
    {
     "data": {
      "text/html": [
       "<div>\n",
       "<style scoped>\n",
       "    .dataframe tbody tr th:only-of-type {\n",
       "        vertical-align: middle;\n",
       "    }\n",
       "\n",
       "    .dataframe tbody tr th {\n",
       "        vertical-align: top;\n",
       "    }\n",
       "\n",
       "    .dataframe thead th {\n",
       "        text-align: right;\n",
       "    }\n",
       "</style>\n",
       "<table border=\"1\" class=\"dataframe\">\n",
       "  <thead>\n",
       "    <tr style=\"text-align: right;\">\n",
       "      <th></th>\n",
       "      <th>library</th>\n",
       "      <th>barcode</th>\n",
       "      <th>variant_call_support</th>\n",
       "      <th>codon_substitutions</th>\n",
       "      <th>aa_substitutions</th>\n",
       "      <th>n_codon_substitutions</th>\n",
       "      <th>n_aa_substitutions</th>\n",
       "      <th>latent_phenotype</th>\n",
       "      <th>observed_phenotype</th>\n",
       "      <th>observed_enrichment</th>\n",
       "    </tr>\n",
       "  </thead>\n",
       "  <tbody>\n",
       "    <tr>\n",
       "      <th>2224</th>\n",
       "      <td>lib_1</td>\n",
       "      <td>ACCGGCATTTTCGCTT</td>\n",
       "      <td>3</td>\n",
       "      <td>AAG17GCC</td>\n",
       "      <td>K17A</td>\n",
       "      <td>1</td>\n",
       "      <td>1</td>\n",
       "      <td>7.209132</td>\n",
       "      <td>0.004186</td>\n",
       "      <td>1.002905</td>\n",
       "    </tr>\n",
       "  </tbody>\n",
       "</table>\n",
       "</div>"
      ],
      "text/plain": [
       "     library           barcode  variant_call_support codon_substitutions  \\\n",
       "2224   lib_1  ACCGGCATTTTCGCTT                     3            AAG17GCC   \n",
       "\n",
       "     aa_substitutions  n_codon_substitutions  n_aa_substitutions  \\\n",
       "2224             K17A                      1                   1   \n",
       "\n",
       "      latent_phenotype  observed_phenotype  observed_enrichment  \n",
       "2224          7.209132            0.004186             1.002905  "
      ]
     },
     "execution_count": 20,
     "metadata": {},
     "output_type": "execute_result"
    }
   ],
   "source": [
    "mutation = 'K17A'\n",
    "v2_df = variants_h2.barcode_variant_df\n",
    "v2_df[\n",
    "    (v2_df['n_aa_substitutions'] == 1) &\n",
    "    (v2_df['aa_substitutions'].str.contains(mutation))\n",
    "].head(n=1)"
   ]
  },
  {
   "cell_type": "code",
   "execution_count": 21,
   "id": "6bd4cb20",
   "metadata": {},
   "outputs": [
    {
     "data": {
      "text/html": [
       "<div>\n",
       "<style scoped>\n",
       "    .dataframe tbody tr th:only-of-type {\n",
       "        vertical-align: middle;\n",
       "    }\n",
       "\n",
       "    .dataframe tbody tr th {\n",
       "        vertical-align: top;\n",
       "    }\n",
       "\n",
       "    .dataframe thead th {\n",
       "        text-align: right;\n",
       "    }\n",
       "</style>\n",
       "<table border=\"1\" class=\"dataframe\">\n",
       "  <thead>\n",
       "    <tr style=\"text-align: right;\">\n",
       "      <th></th>\n",
       "      <th>mutation</th>\n",
       "      <th>beta_h1</th>\n",
       "      <th>wt_aa</th>\n",
       "      <th>site</th>\n",
       "      <th>mut_aa</th>\n",
       "      <th>shifted_site</th>\n",
       "      <th>shift</th>\n",
       "      <th>beta_h2</th>\n",
       "      <th>aaseq_h1</th>\n",
       "      <th>aaseq_h2</th>\n",
       "    </tr>\n",
       "  </thead>\n",
       "  <tbody>\n",
       "    <tr>\n",
       "      <th>320</th>\n",
       "      <td>I17A</td>\n",
       "      <td>0.346554</td>\n",
       "      <td>I</td>\n",
       "      <td>17</td>\n",
       "      <td>A</td>\n",
       "      <td>True</td>\n",
       "      <td>1.182357</td>\n",
       "      <td>1.528911</td>\n",
       "      <td>I</td>\n",
       "      <td>K</td>\n",
       "    </tr>\n",
       "    <tr>\n",
       "      <th>327</th>\n",
       "      <td>I17K</td>\n",
       "      <td>2.563328</td>\n",
       "      <td>I</td>\n",
       "      <td>17</td>\n",
       "      <td>K</td>\n",
       "      <td>True</td>\n",
       "      <td>-2.630611</td>\n",
       "      <td>-0.067283</td>\n",
       "      <td>I</td>\n",
       "      <td>K</td>\n",
       "    </tr>\n",
       "  </tbody>\n",
       "</table>\n",
       "</div>"
      ],
      "text/plain": [
       "    mutation   beta_h1 wt_aa  site mut_aa  shifted_site     shift   beta_h2  \\\n",
       "320     I17A  0.346554     I    17      A          True  1.182357  1.528911   \n",
       "327     I17K  2.563328     I    17      K          True -2.630611 -0.067283   \n",
       "\n",
       "    aaseq_h1 aaseq_h2  \n",
       "320        I        K  \n",
       "327        I        K  "
      ]
     },
     "execution_count": 21,
     "metadata": {},
     "output_type": "execute_result"
    }
   ],
   "source": [
    "mut_effects_df[\n",
    "    mut_effects_df['mutation'].isin(['I17K', 'I17A'])\n",
    "]"
   ]
  },
  {
   "cell_type": "code",
   "execution_count": 22,
   "id": "dc12f685",
   "metadata": {},
   "outputs": [
    {
     "data": {
      "text/plain": [
       "7.209133034778654"
      ]
     },
     "execution_count": 22,
     "metadata": {},
     "output_type": "execute_result"
    }
   ],
   "source": [
    "p_sim_h2.wt_latent - (-0.067283) + 1.528911"
   ]
  },
  {
   "cell_type": "code",
   "execution_count": 23,
   "id": "f0ec47f2",
   "metadata": {},
   "outputs": [
    {
     "name": "stdout",
     "output_type": "stream",
     "text": [
      "simulated latent phenotype:\n",
      "h1 5.35\n",
      "\n",
      "data from single-mutant variants:\n"
     ]
    },
    {
     "data": {
      "text/html": [
       "<div>\n",
       "<style scoped>\n",
       "    .dataframe tbody tr th:only-of-type {\n",
       "        vertical-align: middle;\n",
       "    }\n",
       "\n",
       "    .dataframe tbody tr th {\n",
       "        vertical-align: top;\n",
       "    }\n",
       "\n",
       "    .dataframe thead th {\n",
       "        text-align: right;\n",
       "    }\n",
       "</style>\n",
       "<table border=\"1\" class=\"dataframe\">\n",
       "  <thead>\n",
       "    <tr style=\"text-align: right;\">\n",
       "      <th></th>\n",
       "      <th>library</th>\n",
       "      <th>barcode</th>\n",
       "      <th>variant_call_support</th>\n",
       "      <th>codon_substitutions</th>\n",
       "      <th>aa_substitutions</th>\n",
       "      <th>n_codon_substitutions</th>\n",
       "      <th>n_aa_substitutions</th>\n",
       "      <th>latent_phenotype</th>\n",
       "      <th>observed_phenotype</th>\n",
       "      <th>observed_enrichment</th>\n",
       "    </tr>\n",
       "  </thead>\n",
       "  <tbody>\n",
       "    <tr>\n",
       "      <th>2224</th>\n",
       "      <td>lib_1</td>\n",
       "      <td>ACCGGCATTTTCGCTT</td>\n",
       "      <td>3</td>\n",
       "      <td>ATC17GCC</td>\n",
       "      <td>I17A</td>\n",
       "      <td>1</td>\n",
       "      <td>1</td>\n",
       "      <td>5.346554</td>\n",
       "      <td>0.002828</td>\n",
       "      <td>1.001962</td>\n",
       "    </tr>\n",
       "  </tbody>\n",
       "</table>\n",
       "</div>"
      ],
      "text/plain": [
       "     library           barcode  variant_call_support codon_substitutions  \\\n",
       "2224   lib_1  ACCGGCATTTTCGCTT                     3            ATC17GCC   \n",
       "\n",
       "     aa_substitutions  n_codon_substitutions  n_aa_substitutions  \\\n",
       "2224             I17A                      1                   1   \n",
       "\n",
       "      latent_phenotype  observed_phenotype  observed_enrichment  \n",
       "2224          5.346554            0.002828             1.001962  "
      ]
     },
     "metadata": {},
     "output_type": "display_data"
    },
    {
     "data": {
      "text/html": [
       "<div>\n",
       "<style scoped>\n",
       "    .dataframe tbody tr th:only-of-type {\n",
       "        vertical-align: middle;\n",
       "    }\n",
       "\n",
       "    .dataframe tbody tr th {\n",
       "        vertical-align: top;\n",
       "    }\n",
       "\n",
       "    .dataframe thead th {\n",
       "        text-align: right;\n",
       "    }\n",
       "</style>\n",
       "<table border=\"1\" class=\"dataframe\">\n",
       "  <thead>\n",
       "    <tr style=\"text-align: right;\">\n",
       "      <th></th>\n",
       "      <th>library</th>\n",
       "      <th>barcode</th>\n",
       "      <th>variant_call_support</th>\n",
       "      <th>codon_substitutions</th>\n",
       "      <th>aa_substitutions</th>\n",
       "      <th>n_codon_substitutions</th>\n",
       "      <th>n_aa_substitutions</th>\n",
       "      <th>latent_phenotype</th>\n",
       "      <th>observed_phenotype</th>\n",
       "      <th>observed_enrichment</th>\n",
       "    </tr>\n",
       "  </thead>\n",
       "  <tbody>\n",
       "  </tbody>\n",
       "</table>\n",
       "</div>"
      ],
      "text/plain": [
       "Empty DataFrame\n",
       "Columns: [library, barcode, variant_call_support, codon_substitutions, aa_substitutions, n_codon_substitutions, n_aa_substitutions, latent_phenotype, observed_phenotype, observed_enrichment]\n",
       "Index: []"
      ]
     },
     "metadata": {},
     "output_type": "display_data"
    }
   ],
   "source": [
    "mutation = 'I17A'\n",
    "beta_h1 = float(mut_effects_df[mut_effects_df['mutation'] == mutation]['beta_h1'])\n",
    "beta_h2 = float(mut_effects_df[mut_effects_df['mutation'] == mutation]['beta_h2'])\n",
    "print('simulated latent phenotype:')\n",
    "print('h1', round(beta_h1 + p_sim_h1.wt_latent, 2))\n",
    "#print('h2', round(beta_h2 + p_sim_h2.wt_latent, 2))\n",
    "print('\\ndata from single-mutant variants:')\n",
    "display(v1_df[\n",
    "    (v1_df['n_aa_substitutions'] == 1) &\n",
    "    (v1_df['aa_substitutions'].str.contains(mutation))\n",
    "].head(n=1))\n",
    "display(v2_df[\n",
    "    (v2_df['n_aa_substitutions'] == 1) &\n",
    "    (v2_df['aa_substitutions'].str.contains(mutation))\n",
    "].head(n=1))"
   ]
  },
  {
   "cell_type": "code",
   "execution_count": 24,
   "id": "c6d39712",
   "metadata": {},
   "outputs": [
    {
     "name": "stdout",
     "output_type": "stream",
     "text": [
      "simulated latent phenotype:\n",
      "h1 7.56\n",
      "\n",
      "data from single-mutant variants:\n"
     ]
    },
    {
     "data": {
      "text/html": [
       "<div>\n",
       "<style scoped>\n",
       "    .dataframe tbody tr th:only-of-type {\n",
       "        vertical-align: middle;\n",
       "    }\n",
       "\n",
       "    .dataframe tbody tr th {\n",
       "        vertical-align: top;\n",
       "    }\n",
       "\n",
       "    .dataframe thead th {\n",
       "        text-align: right;\n",
       "    }\n",
       "</style>\n",
       "<table border=\"1\" class=\"dataframe\">\n",
       "  <thead>\n",
       "    <tr style=\"text-align: right;\">\n",
       "      <th></th>\n",
       "      <th>library</th>\n",
       "      <th>barcode</th>\n",
       "      <th>variant_call_support</th>\n",
       "      <th>codon_substitutions</th>\n",
       "      <th>aa_substitutions</th>\n",
       "      <th>n_codon_substitutions</th>\n",
       "      <th>n_aa_substitutions</th>\n",
       "      <th>latent_phenotype</th>\n",
       "      <th>observed_phenotype</th>\n",
       "      <th>observed_enrichment</th>\n",
       "    </tr>\n",
       "  </thead>\n",
       "  <tbody>\n",
       "    <tr>\n",
       "      <th>1250</th>\n",
       "      <td>lib_1</td>\n",
       "      <td>AATAAGTGGGATATCG</td>\n",
       "      <td>2</td>\n",
       "      <td>ATC17AAG</td>\n",
       "      <td>I17K</td>\n",
       "      <td>1</td>\n",
       "      <td>1</td>\n",
       "      <td>7.563328</td>\n",
       "      <td>0.008931</td>\n",
       "      <td>1.006209</td>\n",
       "    </tr>\n",
       "  </tbody>\n",
       "</table>\n",
       "</div>"
      ],
      "text/plain": [
       "     library           barcode  variant_call_support codon_substitutions  \\\n",
       "1250   lib_1  AATAAGTGGGATATCG                     2            ATC17AAG   \n",
       "\n",
       "     aa_substitutions  n_codon_substitutions  n_aa_substitutions  \\\n",
       "1250             I17K                      1                   1   \n",
       "\n",
       "      latent_phenotype  observed_phenotype  observed_enrichment  \n",
       "1250          7.563328            0.008931             1.006209  "
      ]
     },
     "metadata": {},
     "output_type": "display_data"
    },
    {
     "data": {
      "text/html": [
       "<div>\n",
       "<style scoped>\n",
       "    .dataframe tbody tr th:only-of-type {\n",
       "        vertical-align: middle;\n",
       "    }\n",
       "\n",
       "    .dataframe tbody tr th {\n",
       "        vertical-align: top;\n",
       "    }\n",
       "\n",
       "    .dataframe thead th {\n",
       "        text-align: right;\n",
       "    }\n",
       "</style>\n",
       "<table border=\"1\" class=\"dataframe\">\n",
       "  <thead>\n",
       "    <tr style=\"text-align: right;\">\n",
       "      <th></th>\n",
       "      <th>library</th>\n",
       "      <th>barcode</th>\n",
       "      <th>variant_call_support</th>\n",
       "      <th>codon_substitutions</th>\n",
       "      <th>aa_substitutions</th>\n",
       "      <th>n_codon_substitutions</th>\n",
       "      <th>n_aa_substitutions</th>\n",
       "      <th>latent_phenotype</th>\n",
       "      <th>observed_phenotype</th>\n",
       "      <th>observed_enrichment</th>\n",
       "    </tr>\n",
       "  </thead>\n",
       "  <tbody>\n",
       "  </tbody>\n",
       "</table>\n",
       "</div>"
      ],
      "text/plain": [
       "Empty DataFrame\n",
       "Columns: [library, barcode, variant_call_support, codon_substitutions, aa_substitutions, n_codon_substitutions, n_aa_substitutions, latent_phenotype, observed_phenotype, observed_enrichment]\n",
       "Index: []"
      ]
     },
     "metadata": {},
     "output_type": "display_data"
    }
   ],
   "source": [
    "mutation = 'I17K'\n",
    "beta_h1 = float(mut_effects_df[mut_effects_df['mutation'] == mutation]['beta_h1'])\n",
    "beta_h2 = float(mut_effects_df[mut_effects_df['mutation'] == mutation]['beta_h2'])\n",
    "print('simulated latent phenotype:')\n",
    "print('h1', round(beta_h1 + p_sim_h1.wt_latent, 2))\n",
    "#print('h2', round(beta_h2 + p_sim_h2.wt_latent, 2))\n",
    "print('\\ndata from single-mutant variants:')\n",
    "display(v1_df[\n",
    "    (v1_df['n_aa_substitutions'] == 1) &\n",
    "    (v1_df['aa_substitutions'].str.contains(mutation))\n",
    "].head(n=1))\n",
    "display(v2_df[\n",
    "    (v2_df['n_aa_substitutions'] == 1) &\n",
    "    (v2_df['aa_substitutions'].str.contains(mutation))\n",
    "].head(n=1))"
   ]
  },
  {
   "cell_type": "markdown",
   "id": "6d150e03",
   "metadata": {},
   "source": [
    "Show data for a mutation to the same amino acid at a site that is has no shifted mutational effects and is non-identical between homologs."
   ]
  },
  {
   "cell_type": "code",
   "execution_count": 25,
   "id": "83f17f66",
   "metadata": {},
   "outputs": [
    {
     "data": {
      "text/html": [
       "<div>\n",
       "<style scoped>\n",
       "    .dataframe tbody tr th:only-of-type {\n",
       "        vertical-align: middle;\n",
       "    }\n",
       "\n",
       "    .dataframe tbody tr th {\n",
       "        vertical-align: top;\n",
       "    }\n",
       "\n",
       "    .dataframe thead th {\n",
       "        text-align: right;\n",
       "    }\n",
       "</style>\n",
       "<table border=\"1\" class=\"dataframe\">\n",
       "  <thead>\n",
       "    <tr style=\"text-align: right;\">\n",
       "      <th></th>\n",
       "      <th>library</th>\n",
       "      <th>barcode</th>\n",
       "      <th>variant_call_support</th>\n",
       "      <th>codon_substitutions</th>\n",
       "      <th>aa_substitutions</th>\n",
       "      <th>n_codon_substitutions</th>\n",
       "      <th>n_aa_substitutions</th>\n",
       "      <th>latent_phenotype</th>\n",
       "      <th>observed_phenotype</th>\n",
       "      <th>observed_enrichment</th>\n",
       "    </tr>\n",
       "  </thead>\n",
       "  <tbody>\n",
       "    <tr>\n",
       "      <th>366</th>\n",
       "      <td>lib_1</td>\n",
       "      <td>AAATAGGCGAGGAGGT</td>\n",
       "      <td>1</td>\n",
       "      <td>GTA2TTC</td>\n",
       "      <td>V2F</td>\n",
       "      <td>1</td>\n",
       "      <td>1</td>\n",
       "      <td>2.402038</td>\n",
       "      <td>-0.119652</td>\n",
       "      <td>0.92041</td>\n",
       "    </tr>\n",
       "  </tbody>\n",
       "</table>\n",
       "</div>"
      ],
      "text/plain": [
       "    library           barcode  variant_call_support codon_substitutions  \\\n",
       "366   lib_1  AAATAGGCGAGGAGGT                     1             GTA2TTC   \n",
       "\n",
       "    aa_substitutions  n_codon_substitutions  n_aa_substitutions  \\\n",
       "366              V2F                      1                   1   \n",
       "\n",
       "     latent_phenotype  observed_phenotype  observed_enrichment  \n",
       "366          2.402038           -0.119652              0.92041  "
      ]
     },
     "execution_count": 25,
     "metadata": {},
     "output_type": "execute_result"
    }
   ],
   "source": [
    "mutation = 'V2F'\n",
    "v2_df = variants_h2.barcode_variant_df\n",
    "v2_df[\n",
    "    (v2_df['n_aa_substitutions'] == 1) &\n",
    "    (v2_df['aa_substitutions'].str.contains(mutation))\n",
    "].head(n=1)"
   ]
  },
  {
   "cell_type": "code",
   "execution_count": 26,
   "id": "57347bfb",
   "metadata": {},
   "outputs": [
    {
     "data": {
      "text/html": [
       "<div>\n",
       "<style scoped>\n",
       "    .dataframe tbody tr th:only-of-type {\n",
       "        vertical-align: middle;\n",
       "    }\n",
       "\n",
       "    .dataframe tbody tr th {\n",
       "        vertical-align: top;\n",
       "    }\n",
       "\n",
       "    .dataframe thead th {\n",
       "        text-align: right;\n",
       "    }\n",
       "</style>\n",
       "<table border=\"1\" class=\"dataframe\">\n",
       "  <thead>\n",
       "    <tr style=\"text-align: right;\">\n",
       "      <th></th>\n",
       "      <th>mutation</th>\n",
       "      <th>beta_h1</th>\n",
       "      <th>wt_aa</th>\n",
       "      <th>site</th>\n",
       "      <th>mut_aa</th>\n",
       "      <th>shifted_site</th>\n",
       "      <th>shift</th>\n",
       "      <th>beta_h2</th>\n",
       "      <th>aaseq_h1</th>\n",
       "      <th>aaseq_h2</th>\n",
       "    </tr>\n",
       "  </thead>\n",
       "  <tbody>\n",
       "    <tr>\n",
       "      <th>24</th>\n",
       "      <td>S2F</td>\n",
       "      <td>-2.027543</td>\n",
       "      <td>S</td>\n",
       "      <td>2</td>\n",
       "      <td>F</td>\n",
       "      <td>False</td>\n",
       "      <td>0.0</td>\n",
       "      <td>-2.027543</td>\n",
       "      <td>S</td>\n",
       "      <td>V</td>\n",
       "    </tr>\n",
       "    <tr>\n",
       "      <th>36</th>\n",
       "      <td>S2V</td>\n",
       "      <td>1.183358</td>\n",
       "      <td>S</td>\n",
       "      <td>2</td>\n",
       "      <td>V</td>\n",
       "      <td>False</td>\n",
       "      <td>0.0</td>\n",
       "      <td>1.183358</td>\n",
       "      <td>S</td>\n",
       "      <td>V</td>\n",
       "    </tr>\n",
       "  </tbody>\n",
       "</table>\n",
       "</div>"
      ],
      "text/plain": [
       "   mutation   beta_h1 wt_aa  site mut_aa  shifted_site  shift   beta_h2  \\\n",
       "24      S2F -2.027543     S     2      F         False    0.0 -2.027543   \n",
       "36      S2V  1.183358     S     2      V         False    0.0  1.183358   \n",
       "\n",
       "   aaseq_h1 aaseq_h2  \n",
       "24        S        V  \n",
       "36        S        V  "
      ]
     },
     "execution_count": 26,
     "metadata": {},
     "output_type": "execute_result"
    }
   ],
   "source": [
    "mut_effects_df[\n",
    "    mut_effects_df['mutation'].isin(['S2V', 'S2F'])\n",
    "]"
   ]
  },
  {
   "cell_type": "code",
   "execution_count": 27,
   "id": "fb2f41be",
   "metadata": {},
   "outputs": [
    {
     "data": {
      "text/plain": [
       "2.4020378604533086"
      ]
     },
     "execution_count": 27,
     "metadata": {},
     "output_type": "execute_result"
    }
   ],
   "source": [
    "p_sim_h2.wt_latent + p_sim_h2.muteffects['V2F']"
   ]
  },
  {
   "cell_type": "code",
   "execution_count": 28,
   "id": "9452bb99",
   "metadata": {},
   "outputs": [
    {
     "name": "stdout",
     "output_type": "stream",
     "text": [
      "simulated latent phenotype:\n",
      "h1 2.97\n",
      "\n",
      "data from single-mutant variants:\n"
     ]
    },
    {
     "data": {
      "text/html": [
       "<div>\n",
       "<style scoped>\n",
       "    .dataframe tbody tr th:only-of-type {\n",
       "        vertical-align: middle;\n",
       "    }\n",
       "\n",
       "    .dataframe tbody tr th {\n",
       "        vertical-align: top;\n",
       "    }\n",
       "\n",
       "    .dataframe thead th {\n",
       "        text-align: right;\n",
       "    }\n",
       "</style>\n",
       "<table border=\"1\" class=\"dataframe\">\n",
       "  <thead>\n",
       "    <tr style=\"text-align: right;\">\n",
       "      <th></th>\n",
       "      <th>library</th>\n",
       "      <th>barcode</th>\n",
       "      <th>variant_call_support</th>\n",
       "      <th>codon_substitutions</th>\n",
       "      <th>aa_substitutions</th>\n",
       "      <th>n_codon_substitutions</th>\n",
       "      <th>n_aa_substitutions</th>\n",
       "      <th>latent_phenotype</th>\n",
       "      <th>observed_phenotype</th>\n",
       "      <th>observed_enrichment</th>\n",
       "    </tr>\n",
       "  </thead>\n",
       "  <tbody>\n",
       "    <tr>\n",
       "      <th>366</th>\n",
       "      <td>lib_1</td>\n",
       "      <td>AAATAGGCGAGGAGGT</td>\n",
       "      <td>1</td>\n",
       "      <td>TCC2TTC</td>\n",
       "      <td>S2F</td>\n",
       "      <td>1</td>\n",
       "      <td>1</td>\n",
       "      <td>2.972457</td>\n",
       "      <td>-0.062254</td>\n",
       "      <td>0.957766</td>\n",
       "    </tr>\n",
       "  </tbody>\n",
       "</table>\n",
       "</div>"
      ],
      "text/plain": [
       "    library           barcode  variant_call_support codon_substitutions  \\\n",
       "366   lib_1  AAATAGGCGAGGAGGT                     1             TCC2TTC   \n",
       "\n",
       "    aa_substitutions  n_codon_substitutions  n_aa_substitutions  \\\n",
       "366              S2F                      1                   1   \n",
       "\n",
       "     latent_phenotype  observed_phenotype  observed_enrichment  \n",
       "366          2.972457           -0.062254             0.957766  "
      ]
     },
     "metadata": {},
     "output_type": "display_data"
    },
    {
     "data": {
      "text/html": [
       "<div>\n",
       "<style scoped>\n",
       "    .dataframe tbody tr th:only-of-type {\n",
       "        vertical-align: middle;\n",
       "    }\n",
       "\n",
       "    .dataframe tbody tr th {\n",
       "        vertical-align: top;\n",
       "    }\n",
       "\n",
       "    .dataframe thead th {\n",
       "        text-align: right;\n",
       "    }\n",
       "</style>\n",
       "<table border=\"1\" class=\"dataframe\">\n",
       "  <thead>\n",
       "    <tr style=\"text-align: right;\">\n",
       "      <th></th>\n",
       "      <th>library</th>\n",
       "      <th>barcode</th>\n",
       "      <th>variant_call_support</th>\n",
       "      <th>codon_substitutions</th>\n",
       "      <th>aa_substitutions</th>\n",
       "      <th>n_codon_substitutions</th>\n",
       "      <th>n_aa_substitutions</th>\n",
       "      <th>latent_phenotype</th>\n",
       "      <th>observed_phenotype</th>\n",
       "      <th>observed_enrichment</th>\n",
       "    </tr>\n",
       "  </thead>\n",
       "  <tbody>\n",
       "  </tbody>\n",
       "</table>\n",
       "</div>"
      ],
      "text/plain": [
       "Empty DataFrame\n",
       "Columns: [library, barcode, variant_call_support, codon_substitutions, aa_substitutions, n_codon_substitutions, n_aa_substitutions, latent_phenotype, observed_phenotype, observed_enrichment]\n",
       "Index: []"
      ]
     },
     "metadata": {},
     "output_type": "display_data"
    }
   ],
   "source": [
    "mutation = 'S2F'\n",
    "beta_h1 = float(mut_effects_df[mut_effects_df['mutation'] == mutation]['beta_h1'])\n",
    "beta_h2 = float(mut_effects_df[mut_effects_df['mutation'] == mutation]['beta_h2'])\n",
    "print('simulated latent phenotype:')\n",
    "print('h1', round(beta_h1 + p_sim_h1.wt_latent, 2))\n",
    "#print('h2', round(beta_h2 + p_sim_h2.wt_latent, 2))\n",
    "print('\\ndata from single-mutant variants:')\n",
    "display(v1_df[\n",
    "    (v1_df['n_aa_substitutions'] == 1) &\n",
    "    (v1_df['aa_substitutions'].str.contains(mutation))\n",
    "].head(n=1))\n",
    "display(v2_df[\n",
    "    (v2_df['n_aa_substitutions'] == 1) &\n",
    "    (v2_df['aa_substitutions'].str.contains(mutation))\n",
    "].head(n=1))"
   ]
  },
  {
   "cell_type": "code",
   "execution_count": null,
   "id": "8c334f0f",
   "metadata": {},
   "outputs": [],
   "source": []
  },
  {
   "cell_type": "code",
   "execution_count": null,
   "id": "ed339962",
   "metadata": {},
   "outputs": [],
   "source": [
    "# Plot global-epistasis curves\n",
    "# Make easier?\n",
    "\n",
    "# Run through today\n",
    "# Push\n",
    "# Jared look over code\n",
    "\n",
    "# Small test case\n",
    "# Big test case"
   ]
  },
  {
   "cell_type": "code",
   "execution_count": null,
   "id": "f846e405",
   "metadata": {},
   "outputs": [],
   "source": []
  },
  {
   "cell_type": "markdown",
   "id": "560e4fe5",
   "metadata": {},
   "source": [
    "Question for Jesse:\n",
    "* Say have two homologs separated by five mutations. Say have h1 + mutations that go to h2. Or have h2 + mutations that go to h1. In one case we'd add shifts, and in the other case we wouldn't. Problem?"
   ]
  },
  {
   "cell_type": "code",
   "execution_count": null,
   "id": "48981e06",
   "metadata": {},
   "outputs": [],
   "source": []
  },
  {
   "cell_type": "code",
   "execution_count": null,
   "id": "76719df2",
   "metadata": {},
   "outputs": [],
   "source": []
  },
  {
   "cell_type": "code",
   "execution_count": null,
   "id": "6989e63d",
   "metadata": {},
   "outputs": [],
   "source": []
  },
  {
   "cell_type": "code",
   "execution_count": null,
   "id": "64a265d4",
   "metadata": {},
   "outputs": [],
   "source": []
  }
 ],
 "metadata": {
  "kernelspec": {
   "display_name": "Python 3 (ipykernel)",
   "language": "python",
   "name": "python3"
  },
  "language_info": {
   "codemirror_mode": {
    "name": "ipython",
    "version": 3
   },
   "file_extension": ".py",
   "mimetype": "text/x-python",
   "name": "python",
   "nbconvert_exporter": "python",
   "pygments_lexer": "ipython3",
   "version": "3.10.4"
  }
 },
 "nbformat": 4,
 "nbformat_minor": 5
}
