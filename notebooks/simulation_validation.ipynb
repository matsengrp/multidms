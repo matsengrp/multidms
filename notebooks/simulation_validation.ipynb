{
 "cells": [
  {
   "cell_type": "markdown",
   "id": "8799e8a1",
   "metadata": {},
   "source": [
    "# Simulation validation"
   ]
  },
  {
   "cell_type": "markdown",
   "id": "04132d8b",
   "metadata": {},
   "source": [
    "### Overview"
   ]
  },
  {
   "cell_type": "markdown",
   "id": "8e60a7c7",
   "metadata": {},
   "source": [
    "The bloom lab had developed a [pipeline to simulate DMS data](https://jbloomlab.github.io/dms_variants/codonvariant_sim_data.html) to test `dms_variants` global epistasis fitting. Taking inspriation from that, we build upon the pipeline by simulating data for _two_ homologs - introducing shifts in mutational effects at a subset of sites with the goal validating the `multidms` joint-fitting approach.\n",
    "\n",
    "This notebook has a few major steps involved:\n",
    "\n",
    "1. Simulate sequences, and respective mutational effects for two homologs -- introducing _shifts_ at a subset of sites for the non-reference homolog.\n",
    "2. Define replicate libraries of variants for each homolog.\n",
    "3. Simulating pre, and post-selection library variant _counts_ derived from a simulated bottleneck and used to introduce realistic noise in the fitting targets (functional scores).\n",
    "4. `multidms` model fitting.\n",
    "5. Model fit comparison and selection criteria\n",
    "6. Model evaluation."
   ]
  },
  {
   "cell_type": "markdown",
   "id": "57667722",
   "metadata": {},
   "source": [
    "### Import `Python` modules"
   ]
  },
  {
   "cell_type": "markdown",
   "id": "f45340e3",
   "metadata": {},
   "source": [
    "\n",
    "For this analysis, we'll be using the `dms_variants` package for simulation. All dependencies needed can be installed by cloning the `multidms` repo and executing the command:\n",
    "\n",
    "```\n",
    "$ pip install '.[dev]'\n",
    "```"
   ]
  },
  {
   "cell_type": "code",
   "execution_count": 120,
   "id": "945088a4",
   "metadata": {},
   "outputs": [],
   "source": [
    "import warnings\n",
    "import pprint\n",
    "import os\n",
    "\n",
    "import pandas as pd\n",
    "import numpy as np\n",
    "import matplotlib.pyplot as plt\n",
    "import seaborn as sns\n",
    "\n",
    "import Bio.Seq\n",
    "import itertools\n",
    "import random\n",
    "import dms_variants.codonvarianttable\n",
    "import dms_variants.globalepistasis\n",
    "import dms_variants.plotnine_themes\n",
    "import dms_variants.simulate\n",
    "from dms_variants.constants import CBPALETTE, CODONS_NOSTOP, AAS_NOSTOP, AA_TO_CODONS, AAS_WITHSTOP\n",
    "from plotnine import *\n",
    "import multidms\n",
    "from collections import defaultdict\n",
    "from multidms.utils import split_sub"
   ]
  },
  {
   "cell_type": "markdown",
   "id": "713489f3",
   "metadata": {},
   "source": [
    "### Define notebook parameters"
   ]
  },
  {
   "cell_type": "markdown",
   "id": "b8287fde",
   "metadata": {},
   "source": [
    "Set parameters that define this notebook's behavior. These can all be modifed (using `papermill`) to reasonable values and the notebook should execute as expected."
   ]
  },
  {
   "cell_type": "code",
   "execution_count": 121,
   "id": "b7f2abe0",
   "metadata": {
    "tags": [
     "parameters"
    ]
   },
   "outputs": [],
   "source": [
    "seed = 2  # random number seed\n",
    "\n",
    "# define the reference protein sequence we're going to simulate\n",
    "genelength = 50  # gene length in codons\n",
    "wt_latent = 5.0 # wildtype latent phenotype\n",
    "stop_effect = -10 # -15 is the default for `SigmoidPhenotypeSimulator` object\n",
    "norm_weights=((0.4, -.33, .8), (0.6, -2.666, 2)) # See `SigmoidPhenotypeSimulator` for more details\n",
    "\n",
    "# define the non reference sequence attributes.\n",
    "n_non_identical_sites = 10 # number of amino-acid mutations separating homologs\n",
    "min_muteffect_in_bundle = -1.0 # minimum effect per mutation\n",
    "max_muteffect_in_bundle = 1.0 # maximum effect per mutation\n",
    "n_shifted_non_identical_sites = 6 # number of non identical sites (in the bundle) for which mutations at that site are expected to have shifted effects\n",
    "n_shifted_identical_sites = 4 # number of amino-acid mutations separating shifted\n",
    "shift_gauss_variance = 0.666 # variance of the gaussian distribution from which the shifted effects are drawn\n",
    "\n",
    "# define the sigmoid phenotype parameters. See `multidms.biophysical.sigmoidal_global_epistasis` for more details.\n",
    "sigmoid_phenotype_scale = 6\n",
    "\n",
    "# define the libraries\n",
    "variants_per_lib_genelength_scalar = 500  # variants per library\n",
    "avgmuts = 2.0  # average codon mutations per variant\n",
    "bclen = 16  # length of nucleotide barcode for each variant\n",
    "variant_error_rate = 0.0 #0.005  # rate at which variant sequence mis-called\n",
    "avgdepth_per_variant = 200  # average per-variant sequencing depth\n",
    "lib_uniformity = 5  # uniformity of library pre-selection\n",
    "noise = 0.0 # 0.05 # random gaussian noise added to the post-selection counts of the phenotype\n",
    "\n",
    "# bottlenecks from pre- to post-selection\n",
    "bottleneck_variants_per_lib_scalar = {\n",
    "    \"tight_bottle\": 5,\n",
    "    \"loose_bottle\": 100,\n",
    "}\n",
    "\n",
    "# define the fitting parameters\n",
    "maxiter = 100000 # default 20000\n",
    "tol=1e-3\n",
    "coef_lasso_shift = [0.0, 5.00e-6, 1.00e-05, 2.00e-05, 4.00e-05, 8.00e-05, 1.60e-04, 3.20e-04, 6.40e-04] # the sweep of lasso coefficient params\n",
    "init_beta_naught = 5.0 # We've found that we need to start with a higher beta_naught to get the model to converge correctly,\n",
    "coef_ridge_beta = 1e-7 # the sweep of ridge coefficient params\n",
    "train_frac = 0.8 # fraction of data to use for cross validation training.\n",
    "lasso_choice = 8e-5 # the lasso coefficient to use for the final model\n",
    "csv_output_dir = 'scaled_down_parameter_output' # the directory to save the output csv files"
   ]
  },
  {
   "cell_type": "markdown",
   "id": "17c59457",
   "metadata": {},
   "source": [
    "Set some configurations and a few other more experimental parameters which could break things if not set correctly:"
   ]
  },
  {
   "cell_type": "code",
   "execution_count": 122,
   "id": "034af31c",
   "metadata": {
    "tags": []
   },
   "outputs": [],
   "source": [
    "%matplotlib inline\n",
    "\n",
    "random.seed(seed)\n",
    "np.random.seed(seed)\n",
    "warnings.simplefilter('ignore')\n",
    "\n",
    "if not os.path.exists(csv_output_dir):\n",
    "    os.makedirs(csv_output_dir)"
   ]
  },
  {
   "cell_type": "markdown",
   "id": "cbc66da4",
   "metadata": {},
   "source": [
    "### Simulate a reference sequence"
   ]
  },
  {
   "cell_type": "markdown",
   "id": "7ed89b9e",
   "metadata": {},
   "source": [
    "\n",
    "Start by simulating a sequence of nucleotides, then translate it to amino acids. We'll use this sequence as the reference sequence for the simulated datasets."
   ]
  },
  {
   "cell_type": "code",
   "execution_count": 123,
   "id": "9e58bfbf",
   "metadata": {},
   "outputs": [
    {
     "name": "stdout",
     "output_type": "stream",
     "text": [
      "Wildtype gene of 50 codons:\n",
      "TTCTTAAATACCTCAGTAGGACAGGCAGCCGATAGCCGGCGAGTATTTTTAGACCGTCAAAAGAACCTACATCCTTGCGAAGAGATGAACCATAGACTTTTTGGCAGTTGCTACGTATGGGTGTACCCCTTGTTCAGCGTCGGTCTAGAA\n",
      "Wildtype protein:\n",
      "FLNTSVGQAADSRRVFLDRQKNLHPCEEMNHRLFGSCYVWVYPLFSVGLE\n"
     ]
    }
   ],
   "source": [
    "geneseq_h1 = \"\".join(random.choices(CODONS_NOSTOP, k=genelength))\n",
    "aaseq_h1 = str(Bio.Seq.Seq(geneseq_h1).translate())\n",
    "print(f\"Wildtype gene of {genelength} codons:\\n{geneseq_h1}\")\n",
    "print(f\"Wildtype protein:\\n{aaseq_h1}\")"
   ]
  },
  {
   "cell_type": "markdown",
   "id": "e11375e7",
   "metadata": {},
   "source": [
    "### Mutational effects"
   ]
  },
  {
   "cell_type": "markdown",
   "id": "9e1589d2",
   "metadata": {},
   "source": [
    "Simulate latent mutational effects, $\\beta_m$, storing data in a `SigmoidPhenotypeSimulator` object. Also create an identical object for the second homolog. Later, we'll update this object to include shifted mutational effects."
   ]
  },
  {
   "cell_type": "code",
   "execution_count": 124,
   "id": "79557b66",
   "metadata": {},
   "outputs": [],
   "source": [
    "mut_pheno_args = {\n",
    "    \"geneseq\" : geneseq_h1,\n",
    "    \"wt_latent\" : wt_latent,\n",
    "    \"seed\" : seed,\n",
    "    \"stop_effect\" : stop_effect,\n",
    "    \"norm_weights\" : norm_weights\n",
    "}\n",
    "\n",
    "SigmoidPhenotype_h1 = dms_variants.simulate.SigmoidPhenotypeSimulator(**mut_pheno_args)\n",
    "SigmoidPhenotype_h2 = dms_variants.simulate.SigmoidPhenotypeSimulator(**mut_pheno_args)"
   ]
  },
  {
   "cell_type": "markdown",
   "id": "f5f2e6aa",
   "metadata": {},
   "source": [
    "Plot the distribution of mutation effects for the first homolog."
   ]
  },
  {
   "cell_type": "code",
   "execution_count": 125,
   "id": "5203a90f",
   "metadata": {},
   "outputs": [
    {
     "data": {
      "image/png": "[encoded data removed]",
      "text/plain": [
       "<Figure size 500x300 with 1 Axes>"
      ]
     },
     "metadata": {},
     "output_type": "display_data"
    }
   ],
   "source": [
    "p = (\n",
    "    ggplot(pd.DataFrame({'muteffects': SigmoidPhenotype_h1.muteffects}),\n",
    "           aes(x='muteffects'))\n",
    "    + geom_histogram(binwidth=0.1, color='black', fill='pink', alpha=0.7)\n",
    "    + xlab(\"mutation effect, $β$\")\n",
    "    + ylab('number of mutations')\n",
    "    + theme_classic()\n",
    "    + theme(figure_size=(5, 3))\n",
    ")\n",
    "_ = p.draw(show=True)"
   ]
  },
  {
   "cell_type": "markdown",
   "id": "9c980f6d",
   "metadata": {},
   "source": [
    "As expected, our mutational effects are weighted in the negative direction, as we expect the majority of mutations to be deleterious to a protein."
   ]
  },
  {
   "cell_type": "markdown",
   "id": "6251707b",
   "metadata": {},
   "source": [
    "### Non-reference homolog sequence"
   ]
  },
  {
   "cell_type": "markdown",
   "id": "607f79be",
   "metadata": {},
   "source": [
    "\n",
    "Next, we'll simulate the DNA/protein sequence of second homolog by making a defined number of random amino-acid mutations to the first homolog. When choosing the \"bundle\" of mutation which separate the two homologs, we avoid mutations that decrease or increase the latent phenotype by more than `min_muteffect_in_bundle` and `max_muteffect_in_bundle` respectively. This is to ensure that the latent phenotype of the second homolog is not too different from the first homolog, an important assumption for the `multidms` model."
   ]
  },
  {
   "cell_type": "code",
   "execution_count": 126,
   "id": "14df6b6f",
   "metadata": {},
   "outputs": [
    {
     "name": "stdout",
     "output_type": "stream",
     "text": [
      "Sequence alignment of homologs h1 and h2:\n",
      "h1 FLNTSVGQAADSRRVFLDRQKNLHPCEEMNHRLFGSCYVWVYPLFSVGLE\n",
      "h2 FLNTMVGWDADTRRVFLDFAKNLHPVEEMNCRLFGSCYVWVVPLFSYGLE\n",
      "Number of aa differences: 10\n"
     ]
    }
   ],
   "source": [
    "# Input params\n",
    "non_identical_sites = sorted(random.sample(range(1, len(aaseq_h1)+1), n_non_identical_sites))\n",
    "aaseq_h2 = ''\n",
    "geneseq_h2 = ''\n",
    "\n",
    "\n",
    "# Iterate over each amino acid in the first homolog, and make a mutation if indicated.\n",
    "for (aa_n, aa) in enumerate(aaseq_h1, 1):\n",
    "    codon = geneseq_h1[(aa_n-1)*3:3*aa_n]\n",
    "    if aa_n in non_identical_sites:\n",
    "        # define the valid mutations for this site\n",
    "        valid_bundle_mutations = [\n",
    "            mut_aa for mut_aa in AAS_NOSTOP\n",
    "            if (\n",
    "                (mut_aa != aa) \\\n",
    "                and (SigmoidPhenotype_h1.muteffects[f'{aa}{aa_n}{mut_aa}'] > min_muteffect_in_bundle) \\\n",
    "                and (SigmoidPhenotype_h1.muteffects[f'{aa}{aa_n}{mut_aa}'] < max_muteffect_in_bundle)\n",
    "            )\n",
    "        ]\n",
    "        assert len(valid_bundle_mutations) > 0, aa_n\n",
    "        mut_aa = random.choice(valid_bundle_mutations)\n",
    "        aaseq_h2 += mut_aa\n",
    "        mut_codon = random.choice(AA_TO_CODONS[mut_aa])\n",
    "        geneseq_h2 += mut_codon\n",
    "    else:\n",
    "        aaseq_h2 += aa\n",
    "        geneseq_h2 += codon\n",
    "\n",
    "# Store and summarize results\n",
    "homolog_seqs_df = pd.DataFrame(\n",
    "    {\"wt_aa_h1\" : list(aaseq_h1), \"wt_aa_h2\" : list(aaseq_h2)},\n",
    "    index = range(1, len(aaseq_h1)+1),\n",
    ")\n",
    "homolog_seqs_df.index.name = 'site'\n",
    "\n",
    "# n_diffs = sum([aa1 != aa2 for (aa1, aa2) in zip(*homolog_seqs.values())])\n",
    "n_diffs = len(homolog_seqs_df.query('wt_aa_h1 != wt_aa_h2'))\n",
    "print('Sequence alignment of homologs h1 and h2:')\n",
    "print('h1', aaseq_h1)\n",
    "print('h2', aaseq_h2)\n",
    "print('Number of aa differences:', n_diffs)\n",
    "assert len(aaseq_h1) == len(aaseq_h2)\n",
    "assert aaseq_h2 == str(Bio.Seq.Seq(geneseq_h2).translate())\n",
    "assert n_diffs == len(non_identical_sites)"
   ]
  },
  {
   "cell_type": "markdown",
   "id": "01a30920",
   "metadata": {},
   "source": [
    "### Shifted mutational effects"
   ]
  },
  {
   "cell_type": "markdown",
   "id": "e77b42ce",
   "metadata": {},
   "source": [
    "Next, randomly choose a subset of (identical and non-identical) sites that will have shifted mutational effects. Do this independently for sites that are identical and non-identical between homologs, so that we are sure to have shifted sites in each category."
   ]
  },
  {
   "cell_type": "code",
   "execution_count": 127,
   "id": "0acc8bcb",
   "metadata": {},
   "outputs": [
    {
     "name": "stdout",
     "output_type": "stream",
     "text": [
      "Sites with shifts that are...\n",
      "identical (n=4): 6, 14, 25, 39\n",
      "non-identical (n=6): 8, 9, 12, 19, 31, 47\n"
     ]
    }
   ],
   "source": [
    "# Non-identical sites\n",
    "shifted_non_identical_sites = sorted(random.sample(\n",
    "    non_identical_sites,\n",
    "    n_shifted_non_identical_sites\n",
    "))\n",
    "\n",
    "# choose a subset of the identical sites to have shifted effects\n",
    "shifted_identical_sites = sorted(random.sample(\n",
    "    list(set(range(1, len(aaseq_h1)+1)) - set(non_identical_sites)),\n",
    "    n_shifted_identical_sites\n",
    "))\n",
    "\n",
    "# Make a list of all shifted sites\n",
    "shifted_sites = sorted(shifted_identical_sites + shifted_non_identical_sites)\n",
    "assert len(shifted_sites) == len(set(shifted_sites))\n",
    "print('Sites with shifts that are...')\n",
    "print(f'identical (n={len(shifted_identical_sites)}):', ', '.join(map(str, shifted_identical_sites)))\n",
    "print(f'non-identical (n={len(shifted_non_identical_sites)}):', ', '.join(map(str, shifted_non_identical_sites)))"
   ]
  },
  {
   "cell_type": "markdown",
   "id": "8b993fde",
   "metadata": {},
   "source": [
    "Next, we'll create a dataframe for all mutational effects and shifts, simulating shifts at each of the above sites by randomly simulate a shift in the effect of each mutation by drawing shifts from a Gaussian distribution:"
   ]
  },
  {
   "cell_type": "code",
   "execution_count": 128,
   "id": "294fd875",
   "metadata": {},
   "outputs": [
    {
     "data": {
      "application/vnd.microsoft.datawrangler.viewer.v0+json": {
       "columns": [
        {
         "name": "index",
         "rawType": "int64",
         "type": "integer"
        },
        {
         "name": "site",
         "rawType": "int64",
         "type": "integer"
        },
        {
         "name": "wt_aa_h1",
         "rawType": "object",
         "type": "string"
        },
        {
         "name": "wt_aa_h2",
         "rawType": "object",
         "type": "string"
        },
        {
         "name": "mutation",
         "rawType": "object",
         "type": "string"
        },
        {
         "name": "beta_h1",
         "rawType": "float64",
         "type": "float"
        },
        {
         "name": "shift",
         "rawType": "float64",
         "type": "float"
        },
        {
         "name": "beta_h2",
         "rawType": "float64",
         "type": "float"
        },
        {
         "name": "shifted_site",
         "rawType": "bool",
         "type": "boolean"
        }
       ],
       "ref": "fb3190de-44cd-47a2-a0d2-a02c378185de",
       "rows": [
        [
         "100",
         "6",
         "V",
         "V",
         "V6A",
         "-0.40619588825525643",
         "-0.27756072637204343",
         "-0.6837566146272999",
         "True"
        ],
        [
         "101",
         "6",
         "V",
         "V",
         "V6C",
         "-3.9150890149678057",
         "-0.03747370693273543",
         "-3.952562721900541",
         "True"
        ],
        [
         "102",
         "6",
         "V",
         "V",
         "V6D",
         "-0.40934218769101",
         "-1.4227065997151904",
         "-1.8320487874062004",
         "True"
        ],
        [
         "103",
         "6",
         "V",
         "V",
         "V6E",
         "-4.280136288376914",
         "1.0924203583977226",
         "-3.1877159299791913",
         "True"
        ],
        [
         "104",
         "6",
         "V",
         "V",
         "V6F",
         "-0.8623491348969723",
         "-1.194428099739779",
         "-2.056777234636751",
         "True"
        ],
        [
         "105",
         "6",
         "V",
         "V",
         "V6G",
         "-4.076636923830677",
         "-0.5606037455270318",
         "-4.637240669357709",
         "True"
        ],
        [
         "106",
         "6",
         "V",
         "V",
         "V6H",
         "1.8919086089034294",
         "0.3349190238272565",
         "2.2268276327306857",
         "True"
        ],
        [
         "107",
         "6",
         "V",
         "V",
         "V6I",
         "-0.47607574580513967",
         "-0.8293618656804163",
         "-1.305437611485556",
         "True"
        ],
        [
         "108",
         "6",
         "V",
         "V",
         "V6K",
         "-0.6693771491952986",
         "-0.7045961777623178",
         "-1.3739733269576164",
         "True"
        ],
        [
         "109",
         "6",
         "V",
         "V",
         "V6L",
         "-2.8324672827459243",
         "-0.6053990715412817",
         "-3.437866354287206",
         "True"
        ],
        [
         "110",
         "6",
         "V",
         "V",
         "V6M",
         "-2.980745044069142",
         "0.36726839366791864",
         "-2.613476650401223",
         "True"
        ],
        [
         "111",
         "6",
         "V",
         "V",
         "V6N",
         "-4.027376208017001",
         "1.5266105365347618",
         "-2.5007656714822395",
         "True"
        ],
        [
         "112",
         "6",
         "V",
         "V",
         "V6P",
         "-2.5447557066036883",
         "0.027665235736936706",
         "-2.5170904708667514",
         "True"
        ],
        [
         "113",
         "6",
         "V",
         "V",
         "V6Q",
         "-0.49555712897182513",
         "-0.7445383464456022",
         "-1.2400954754174274",
         "True"
        ],
        [
         "114",
         "6",
         "V",
         "V",
         "V6R",
         "-0.7786967182187798",
         "0.3590128415068054",
         "-0.41968387671197444",
         "True"
        ],
        [
         "115",
         "6",
         "V",
         "V",
         "V6S",
         "-0.31362652401422736",
         "-0.39704236007110705",
         "-0.7106688840853344",
         "True"
        ],
        [
         "116",
         "6",
         "V",
         "V",
         "V6T",
         "-3.9726853904402093",
         "-0.012740910683086883",
         "-3.985426301123296",
         "True"
        ],
        [
         "117",
         "6",
         "V",
         "V",
         "V6W",
         "-1.6334127206888729",
         "0.7825508121871939",
         "-0.850861908501679",
         "True"
        ],
        [
         "118",
         "6",
         "V",
         "V",
         "V6Y",
         "-0.023345805148501375",
         "-0.4980820522297124",
         "-0.5214278573782138",
         "True"
        ],
        [
         "119",
         "6",
         "V",
         "V",
         "V6*",
         "-10.0",
         "0.0",
         "-10.0",
         "True"
        ],
        [
         "140",
         "8",
         "Q",
         "W",
         "Q8A",
         "-0.47584475614471966",
         "0.006010817148234533",
         "-0.4698339389964851",
         "True"
        ],
        [
         "141",
         "8",
         "Q",
         "W",
         "Q8C",
         "-1.50669242527148",
         "-0.5848198568980678",
         "-2.091512282169548",
         "True"
        ],
        [
         "142",
         "8",
         "Q",
         "W",
         "Q8D",
         "0.15467214881702568",
         "-0.10418515747615936",
         "0.050486991340866316",
         "True"
        ],
        [
         "143",
         "8",
         "Q",
         "W",
         "Q8E",
         "-3.5679291203246803",
         "0.1708759210328629",
         "-3.3970531992918174",
         "True"
        ],
        [
         "144",
         "8",
         "Q",
         "W",
         "Q8F",
         "-4.6175636672880715",
         "-0.6585268464805681",
         "-5.27609051376864",
         "True"
        ],
        [
         "145",
         "8",
         "Q",
         "W",
         "Q8G",
         "-2.223526853659309",
         "-0.22565542937544478",
         "-2.449182283034754",
         "True"
        ],
        [
         "146",
         "8",
         "Q",
         "W",
         "Q8H",
         "-3.909798620221072",
         "-0.15729856454783248",
         "-4.067097184768905",
         "True"
        ],
        [
         "147",
         "8",
         "Q",
         "W",
         "Q8I",
         "-1.59140884671546",
         "-0.42467823831454465",
         "-2.0160870850300046",
         "True"
        ],
        [
         "148",
         "8",
         "Q",
         "W",
         "Q8K",
         "-0.4612549296570415",
         "-0.7909497827325994",
         "-1.252204712389641",
         "True"
        ],
        [
         "149",
         "8",
         "Q",
         "W",
         "Q8L",
         "-5.690028112758392",
         "-0.9465306733845485",
         "-6.63655878614294",
         "True"
        ],
        [
         "150",
         "8",
         "Q",
         "W",
         "Q8M",
         "-1.9085903401927886",
         "-0.10222780032084813",
         "-2.0108181405136367",
         "True"
        ],
        [
         "151",
         "8",
         "Q",
         "W",
         "Q8N",
         "-2.1315020302634164",
         "-0.179191935503865",
         "-2.3106939657672814",
         "True"
        ],
        [
         "152",
         "8",
         "Q",
         "W",
         "Q8P",
         "-1.352180991549866",
         "1.4860902813984787",
         "0.13390928984861272",
         "True"
        ],
        [
         "153",
         "8",
         "Q",
         "W",
         "Q8R",
         "-0.02206812804672076",
         "-1.6215552059630154",
         "-1.6436233340097361",
         "True"
        ],
        [
         "154",
         "8",
         "Q",
         "W",
         "Q8S",
         "-2.172225176824182",
         "0.07507585220788819",
         "-2.0971493246162938",
         "True"
        ],
        [
         "155",
         "8",
         "Q",
         "W",
         "Q8T",
         "-1.2463256181780324",
         "0.24671606141771402",
         "-0.9996095567603185",
         "True"
        ],
        [
         "156",
         "8",
         "Q",
         "W",
         "Q8V",
         "-2.8126042939816083",
         "0.9055161525399491",
         "-1.9070881414416592",
         "True"
        ],
        [
         "157",
         "8",
         "Q",
         "W",
         "Q8W",
         "0.21650842271081183",
         "0.3342368997163546",
         "0.5507453224271665",
         "True"
        ],
        [
         "158",
         "8",
         "Q",
         "W",
         "Q8Y",
         "-3.8776256561537457",
         "-0.562246326750688",
         "-4.4398719829044335",
         "True"
        ],
        [
         "159",
         "8",
         "Q",
         "W",
         "Q8*",
         "-10.0",
         "0.0",
         "-10.0",
         "True"
        ],
        [
         "160",
         "9",
         "A",
         "D",
         "A9C",
         "-4.273485541382383",
         "6.501140082998257e-06",
         "-4.2734790402423",
         "True"
        ],
        [
         "161",
         "9",
         "A",
         "D",
         "A9D",
         "0.22660625000599266",
         "0.3612068130512534",
         "0.587813063057246",
         "True"
        ],
        [
         "162",
         "9",
         "A",
         "D",
         "A9E",
         "-1.8116771800715605",
         "-0.2087964591976103",
         "-2.020473639269171",
         "True"
        ],
        [
         "163",
         "9",
         "A",
         "D",
         "A9F",
         "-3.810228543368577",
         "0.5134938175542281",
         "-3.296734725814349",
         "True"
        ],
        [
         "164",
         "9",
         "A",
         "D",
         "A9G",
         "-5.407309963005309",
         "-1.2441483759394665",
         "-6.651458338944775",
         "True"
        ],
        [
         "165",
         "9",
         "A",
         "D",
         "A9H",
         "-7.435186416563438",
         "1.1529689875429918",
         "-6.282217429020446",
         "True"
        ],
        [
         "166",
         "9",
         "A",
         "D",
         "A9I",
         "-1.5603625873346694",
         "0.977473555041893",
         "-0.5828890322927763",
         "True"
        ],
        [
         "167",
         "9",
         "A",
         "D",
         "A9K",
         "-1.9692919681174597",
         "-0.22356110745688243",
         "-2.1928530755743423",
         "True"
        ],
        [
         "168",
         "9",
         "A",
         "D",
         "A9L",
         "-2.5160215886381163",
         "0.4071529591960958",
         "-2.1088686294420205",
         "True"
        ],
        [
         "169",
         "9",
         "A",
         "D",
         "A9M",
         "-3.006285181686429",
         "0.03194841418421346",
         "-2.9743367675022157",
         "True"
        ]
       ],
       "shape": {
        "columns": 8,
        "rows": 200
       }
      },
      "text/html": [
       "<div>\n",
       "<style scoped>\n",
       "    .dataframe tbody tr th:only-of-type {\n",
       "        vertical-align: middle;\n",
       "    }\n",
       "\n",
       "    .dataframe tbody tr th {\n",
       "        vertical-align: top;\n",
       "    }\n",
       "\n",
       "    .dataframe thead th {\n",
       "        text-align: right;\n",
       "    }\n",
       "</style>\n",
       "<table border=\"1\" class=\"dataframe\">\n",
       "  <thead>\n",
       "    <tr style=\"text-align: right;\">\n",
       "      <th></th>\n",
       "      <th>site</th>\n",
       "      <th>wt_aa_h1</th>\n",
       "      <th>wt_aa_h2</th>\n",
       "      <th>mutation</th>\n",
       "      <th>beta_h1</th>\n",
       "      <th>shift</th>\n",
       "      <th>beta_h2</th>\n",
       "      <th>shifted_site</th>\n",
       "    </tr>\n",
       "  </thead>\n",
       "  <tbody>\n",
       "    <tr>\n",
       "      <th>100</th>\n",
       "      <td>6</td>\n",
       "      <td>V</td>\n",
       "      <td>V</td>\n",
       "      <td>V6A</td>\n",
       "      <td>-0.406196</td>\n",
       "      <td>-0.277561</td>\n",
       "      <td>-0.683757</td>\n",
       "      <td>True</td>\n",
       "    </tr>\n",
       "    <tr>\n",
       "      <th>101</th>\n",
       "      <td>6</td>\n",
       "      <td>V</td>\n",
       "      <td>V</td>\n",
       "      <td>V6C</td>\n",
       "      <td>-3.915089</td>\n",
       "      <td>-0.037474</td>\n",
       "      <td>-3.952563</td>\n",
       "      <td>True</td>\n",
       "    </tr>\n",
       "    <tr>\n",
       "      <th>102</th>\n",
       "      <td>6</td>\n",
       "      <td>V</td>\n",
       "      <td>V</td>\n",
       "      <td>V6D</td>\n",
       "      <td>-0.409342</td>\n",
       "      <td>-1.422707</td>\n",
       "      <td>-1.832049</td>\n",
       "      <td>True</td>\n",
       "    </tr>\n",
       "    <tr>\n",
       "      <th>103</th>\n",
       "      <td>6</td>\n",
       "      <td>V</td>\n",
       "      <td>V</td>\n",
       "      <td>V6E</td>\n",
       "      <td>-4.280136</td>\n",
       "      <td>1.092420</td>\n",
       "      <td>-3.187716</td>\n",
       "      <td>True</td>\n",
       "    </tr>\n",
       "    <tr>\n",
       "      <th>104</th>\n",
       "      <td>6</td>\n",
       "      <td>V</td>\n",
       "      <td>V</td>\n",
       "      <td>V6F</td>\n",
       "      <td>-0.862349</td>\n",
       "      <td>-1.194428</td>\n",
       "      <td>-2.056777</td>\n",
       "      <td>True</td>\n",
       "    </tr>\n",
       "    <tr>\n",
       "      <th>...</th>\n",
       "      <td>...</td>\n",
       "      <td>...</td>\n",
       "      <td>...</td>\n",
       "      <td>...</td>\n",
       "      <td>...</td>\n",
       "      <td>...</td>\n",
       "      <td>...</td>\n",
       "      <td>...</td>\n",
       "    </tr>\n",
       "    <tr>\n",
       "      <th>935</th>\n",
       "      <td>47</td>\n",
       "      <td>V</td>\n",
       "      <td>Y</td>\n",
       "      <td>V47S</td>\n",
       "      <td>-0.027698</td>\n",
       "      <td>-0.967941</td>\n",
       "      <td>-0.995638</td>\n",
       "      <td>True</td>\n",
       "    </tr>\n",
       "    <tr>\n",
       "      <th>936</th>\n",
       "      <td>47</td>\n",
       "      <td>V</td>\n",
       "      <td>Y</td>\n",
       "      <td>V47T</td>\n",
       "      <td>-2.240557</td>\n",
       "      <td>-0.225120</td>\n",
       "      <td>-2.465677</td>\n",
       "      <td>True</td>\n",
       "    </tr>\n",
       "    <tr>\n",
       "      <th>937</th>\n",
       "      <td>47</td>\n",
       "      <td>V</td>\n",
       "      <td>Y</td>\n",
       "      <td>V47W</td>\n",
       "      <td>-0.178289</td>\n",
       "      <td>0.239183</td>\n",
       "      <td>0.060894</td>\n",
       "      <td>True</td>\n",
       "    </tr>\n",
       "    <tr>\n",
       "      <th>938</th>\n",
       "      <td>47</td>\n",
       "      <td>V</td>\n",
       "      <td>Y</td>\n",
       "      <td>V47Y</td>\n",
       "      <td>-0.491120</td>\n",
       "      <td>0.414399</td>\n",
       "      <td>-0.076721</td>\n",
       "      <td>True</td>\n",
       "    </tr>\n",
       "    <tr>\n",
       "      <th>939</th>\n",
       "      <td>47</td>\n",
       "      <td>V</td>\n",
       "      <td>Y</td>\n",
       "      <td>V47*</td>\n",
       "      <td>-10.000000</td>\n",
       "      <td>0.000000</td>\n",
       "      <td>-10.000000</td>\n",
       "      <td>True</td>\n",
       "    </tr>\n",
       "  </tbody>\n",
       "</table>\n",
       "<p>200 rows × 8 columns</p>\n",
       "</div>"
      ],
      "text/plain": [
       "     site wt_aa_h1 wt_aa_h2 mutation    beta_h1     shift    beta_h2  \\\n",
       "100     6        V        V      V6A  -0.406196 -0.277561  -0.683757   \n",
       "101     6        V        V      V6C  -3.915089 -0.037474  -3.952563   \n",
       "102     6        V        V      V6D  -0.409342 -1.422707  -1.832049   \n",
       "103     6        V        V      V6E  -4.280136  1.092420  -3.187716   \n",
       "104     6        V        V      V6F  -0.862349 -1.194428  -2.056777   \n",
       "..    ...      ...      ...      ...        ...       ...        ...   \n",
       "935    47        V        Y     V47S  -0.027698 -0.967941  -0.995638   \n",
       "936    47        V        Y     V47T  -2.240557 -0.225120  -2.465677   \n",
       "937    47        V        Y     V47W  -0.178289  0.239183   0.060894   \n",
       "938    47        V        Y     V47Y  -0.491120  0.414399  -0.076721   \n",
       "939    47        V        Y     V47* -10.000000  0.000000 -10.000000   \n",
       "\n",
       "     shifted_site  \n",
       "100          True  \n",
       "101          True  \n",
       "102          True  \n",
       "103          True  \n",
       "104          True  \n",
       "..            ...  \n",
       "935          True  \n",
       "936          True  \n",
       "937          True  \n",
       "938          True  \n",
       "939          True  \n",
       "\n",
       "[200 rows x 8 columns]"
      ]
     },
     "execution_count": 128,
     "metadata": {},
     "output_type": "execute_result"
    }
   ],
   "source": [
    "def sim_mut_shift(shifted_site, mutation):\n",
    "    if (not shifted_site) or ('*' in mutation):\n",
    "        return 0\n",
    "    else:\n",
    "        return np.random.normal(loc=0, scale=shift_gauss_variance, size=1)[0]\n",
    "\n",
    "# Make a dataframe of mutation effects in the first homolog\n",
    "mut_effects_df = (\n",
    "    pd.DataFrame.from_dict(\n",
    "        SigmoidPhenotype_h1.muteffects,\n",
    "        orient='index',\n",
    "        columns=['beta_h1']\n",
    "    )\n",
    "    .reset_index()\n",
    "    .rename(columns={'index':'mutation'})\n",
    "    .assign(\n",
    "        wt_aa=lambda x: x['mutation'].apply(lambda y: split_sub(y)[0]),\n",
    "        site=lambda x: x['mutation'].apply(lambda y: int(split_sub(y)[1])),\n",
    "        mut_aa=lambda x: x['mutation'].apply(lambda y: split_sub(y)[2]),\n",
    "        shifted_site=lambda x: x['site'].isin(shifted_sites),\n",
    "        shift=lambda x: x.apply(\n",
    "            lambda row: sim_mut_shift(\n",
    "                row['shifted_site'],\n",
    "                row['mutation']\n",
    "            ),\n",
    "            axis=1\n",
    "        ),\n",
    "        beta_h2=lambda x: x['beta_h1'] + x['shift']\n",
    "    )\n",
    "    .merge(homolog_seqs_df, left_on='site', right_index=True, how='left')\n",
    "    .assign(\n",
    "        bundle_mut = lambda x: x['mut_aa'] == x['wt_aa_h2']\n",
    "    )\n",
    ")\n",
    "\n",
    "# Show data for a subset of sites with shifts\n",
    "mut_effects_df[mut_effects_df['shifted_site'] == True][[\n",
    "    'site', 'wt_aa_h1', 'wt_aa_h2', 'mutation',\n",
    "    'beta_h1', 'shift', 'beta_h2',\n",
    "    'shifted_site'\n",
    "]]"
   ]
  },
  {
   "cell_type": "markdown",
   "id": "417ea658",
   "metadata": {},
   "source": [
    "Plot the distribution of all simulated shifts, excluding mutations to stop codons and sites that have no shifted effects."
   ]
  },
  {
   "cell_type": "code",
   "execution_count": 129,
   "id": "a5f6ac40",
   "metadata": {},
   "outputs": [
    {
     "data": {
      "image/png": "[encoded data removed]",
      "text/plain": [
       "<Figure size 500x300 with 1 Axes>"
      ]
     },
     "metadata": {},
     "output_type": "display_data"
    }
   ],
   "source": [
    "non_stop_shifted_muts = mut_effects_df[\n",
    "    (mut_effects_df['site'].isin(shifted_sites)) &\n",
    "    ~(mut_effects_df['mutation'].str.contains('\\*'))\n",
    "]\n",
    "\n",
    "p = (\n",
    "    ggplot(non_stop_shifted_muts, aes(x='shift'))\n",
    "    + geom_histogram(binwidth=0.1, color='black', fill='pink', alpha=0.7)\n",
    "    + xlab(\"shift\")\n",
    "    + ylab('number of mutations')\n",
    "    + theme_classic()\n",
    "    + theme(figure_size=(5, 3))\n",
    ")\n",
    "\n",
    "_ = p.draw(show=True)"
   ]
  },
  {
   "cell_type": "markdown",
   "id": "b9f1e450",
   "metadata": {},
   "source": [
    "We can also plot the shifts as a heatmap, and mark the wildtype amino acid at each site (`x` for reference, `o` for non-reference):"
   ]
  },
  {
   "cell_type": "code",
   "execution_count": 130,
   "id": "77d40b6b",
   "metadata": {},
   "outputs": [
    {
     "data": {
      "image/png": "[encoded data removed]",
      "text/plain": [
       "<Figure size 700x350 with 1 Axes>"
      ]
     },
     "metadata": {},
     "output_type": "display_data"
    }
   ],
   "source": [
    "max_abs_value = max(abs(mut_effects_df['shift'].min()), mut_effects_df['shift'].max())\n",
    "x_scale = [s for s in range(1, len(homolog_seqs_df)+1)]\n",
    "y_scale = sorted([\n",
    "    \"R\",\"K\",\"H\",\"D\",\"E\",\"Q\",\"N\",\"S\",\n",
    "    \"T\",\"Y\",\"W\",\"F\",\"A\",\"I\",\"L\",\"M\",\n",
    "    \"V\",\"G\",\"P\",\"C\",\"*\",\n",
    "])\n",
    "\n",
    "p = (\n",
    "    ggplot(mut_effects_df)\n",
    "    + geom_tile(\n",
    "        aes(x='factor(site)', y='mut_aa', fill='shift', width=.9, height=.9)\n",
    "    )\n",
    "    + geom_point(\n",
    "        homolog_seqs_df.reset_index(),\n",
    "        aes(\n",
    "            x='factor(site)', y='wt_aa_h1' #, label='aaseq_h1'\n",
    "        ),\n",
    "        color='black',\n",
    "        size=2,\n",
    "        shape='x'\n",
    "    )\n",
    "    + geom_point(\n",
    "        homolog_seqs_df.reset_index().query('wt_aa_h1 != wt_aa_h2'),\n",
    "        aes(\n",
    "            x='factor(site)', y='wt_aa_h2'\n",
    "        ),\n",
    "        color='black',\n",
    "        size=2,\n",
    "        shape='o'\n",
    "    )\n",
    "    + scale_x_discrete(\n",
    "        limits = x_scale,\n",
    "        labels = x_scale\n",
    "    )\n",
    "    + scale_y_discrete(\n",
    "        limits = y_scale,\n",
    "        labels = y_scale\n",
    "    )\n",
    "    + scale_fill_gradientn(\n",
    "        colors=['red', 'white', 'blue'], \n",
    "        limits=[-max_abs_value, max_abs_value],\n",
    "    )\n",
    "    + theme_classic()\n",
    "    + theme(\n",
    "        axis_text_x=element_text(angle=90),\n",
    "        figure_size=(7, 3.5)\n",
    "    )\n",
    "    + xlab('site')\n",
    "    + ylab('mutation')\n",
    ")\n",
    "_ = p.draw(show=True)"
   ]
  },
  {
   "cell_type": "markdown",
   "id": "4cd2316d",
   "metadata": {},
   "source": [
    "Recal that we have already created a `SigmoidPhenotypeSimulator` object for the second homolog by making a copy of the one for the first homolog. This object stores the homolog's wildtype latent phenotype and the latent effects of individual mutations. Below, we update both of these traits based on the simulated shifts from above. To update the wildtype latent phenotype of the second homolog, we add the effects of all mutations that separate the homologs. In computing this sum, we will use $\\beta$ parameters for the second homolog, which already include shifted effects."
   ]
  },
  {
   "cell_type": "code",
   "execution_count": 131,
   "id": "69e499bf",
   "metadata": {},
   "outputs": [
    {
     "name": "stdout",
     "output_type": "stream",
     "text": [
      "Characteristics of mutations separating homologs:\n",
      "\n",
      "  Sum of beta_h1: -0.76\n",
      "  Sum of shift: -0.83\n",
      "  Sum of beta_h2: -1.59\n",
      "  Final WT latent phenotype of h2: 3.41\n",
      "  Table of mutations that separate homologs:\n"
     ]
    },
    {
     "data": {
      "application/vnd.microsoft.datawrangler.viewer.v0+json": {
       "columns": [
        {
         "name": "index",
         "rawType": "int64",
         "type": "integer"
        },
        {
         "name": "mutation",
         "rawType": "object",
         "type": "string"
        },
        {
         "name": "beta_h1",
         "rawType": "float64",
         "type": "float"
        },
        {
         "name": "wt_aa",
         "rawType": "object",
         "type": "string"
        },
        {
         "name": "site",
         "rawType": "int64",
         "type": "integer"
        },
        {
         "name": "mut_aa",
         "rawType": "object",
         "type": "string"
        },
        {
         "name": "shifted_site",
         "rawType": "bool",
         "type": "boolean"
        },
        {
         "name": "shift",
         "rawType": "float64",
         "type": "float"
        },
        {
         "name": "beta_h2",
         "rawType": "float64",
         "type": "float"
        },
        {
         "name": "wt_aa_h1",
         "rawType": "object",
         "type": "string"
        },
        {
         "name": "wt_aa_h2",
         "rawType": "object",
         "type": "string"
        },
        {
         "name": "bundle_mut",
         "rawType": "bool",
         "type": "boolean"
        }
       ],
       "ref": "40b33a08-3f75-4917-96e2-6f26738476b2",
       "rows": [
        [
         "90",
         "S5M",
         "-0.2092497925258816",
         "S",
         "5",
         "M",
         "False",
         "0.0",
         "-0.2092497925258816",
         "S",
         "M",
         "True"
        ],
        [
         "157",
         "Q8W",
         "0.21650842271081183",
         "Q",
         "8",
         "W",
         "True",
         "0.3342368997163546",
         "0.5507453224271665",
         "Q",
         "W",
         "True"
        ],
        [
         "161",
         "A9D",
         "0.22660625000599266",
         "A",
         "9",
         "D",
         "True",
         "0.3612068130512534",
         "0.587813063057246",
         "A",
         "D",
         "True"
        ],
        [
         "235",
         "S12T",
         "0.586064700069592",
         "S",
         "12",
         "T",
         "True",
         "-0.2540899768555474",
         "0.3319747232140446",
         "S",
         "T",
         "True"
        ],
        [
         "364",
         "R19F",
         "-0.5507228426786406",
         "R",
         "19",
         "F",
         "True",
         "-1.5608397252059747",
         "-2.111562567884615",
         "R",
         "F",
         "True"
        ],
        [
         "380",
         "Q20A",
         "-0.18852487224677303",
         "Q",
         "20",
         "A",
         "False",
         "0.0",
         "-0.18852487224677303",
         "Q",
         "A",
         "True"
        ],
        [
         "516",
         "C26V",
         "-0.11586672724236305",
         "C",
         "26",
         "V",
         "False",
         "0.0",
         "-0.11586672724236305",
         "C",
         "V",
         "True"
        ],
        [
         "601",
         "H31C",
         "-0.628807409344667",
         "H",
         "31",
         "C",
         "True",
         "-0.12204887813720118",
         "-0.7508562874818682",
         "H",
         "C",
         "True"
        ],
        [
         "837",
         "Y42V",
         "0.39349741503476016",
         "Y",
         "42",
         "V",
         "False",
         "0.0",
         "0.39349741503476016",
         "Y",
         "V",
         "True"
        ],
        [
         "938",
         "V47Y",
         "-0.4911196714992589",
         "V",
         "47",
         "Y",
         "True",
         "0.4143987960356434",
         "-0.0767208754636155",
         "V",
         "Y",
         "True"
        ]
       ],
       "shape": {
        "columns": 11,
        "rows": 10
       }
      },
      "text/html": [
       "<div>\n",
       "<style scoped>\n",
       "    .dataframe tbody tr th:only-of-type {\n",
       "        vertical-align: middle;\n",
       "    }\n",
       "\n",
       "    .dataframe tbody tr th {\n",
       "        vertical-align: top;\n",
       "    }\n",
       "\n",
       "    .dataframe thead th {\n",
       "        text-align: right;\n",
       "    }\n",
       "</style>\n",
       "<table border=\"1\" class=\"dataframe\">\n",
       "  <thead>\n",
       "    <tr style=\"text-align: right;\">\n",
       "      <th></th>\n",
       "      <th>mutation</th>\n",
       "      <th>beta_h1</th>\n",
       "      <th>wt_aa</th>\n",
       "      <th>site</th>\n",
       "      <th>mut_aa</th>\n",
       "      <th>shifted_site</th>\n",
       "      <th>shift</th>\n",
       "      <th>beta_h2</th>\n",
       "      <th>wt_aa_h1</th>\n",
       "      <th>wt_aa_h2</th>\n",
       "      <th>bundle_mut</th>\n",
       "    </tr>\n",
       "  </thead>\n",
       "  <tbody>\n",
       "    <tr>\n",
       "      <th>90</th>\n",
       "      <td>S5M</td>\n",
       "      <td>-0.209250</td>\n",
       "      <td>S</td>\n",
       "      <td>5</td>\n",
       "      <td>M</td>\n",
       "      <td>False</td>\n",
       "      <td>0.000000</td>\n",
       "      <td>-0.209250</td>\n",
       "      <td>S</td>\n",
       "      <td>M</td>\n",
       "      <td>True</td>\n",
       "    </tr>\n",
       "    <tr>\n",
       "      <th>157</th>\n",
       "      <td>Q8W</td>\n",
       "      <td>0.216508</td>\n",
       "      <td>Q</td>\n",
       "      <td>8</td>\n",
       "      <td>W</td>\n",
       "      <td>True</td>\n",
       "      <td>0.334237</td>\n",
       "      <td>0.550745</td>\n",
       "      <td>Q</td>\n",
       "      <td>W</td>\n",
       "      <td>True</td>\n",
       "    </tr>\n",
       "    <tr>\n",
       "      <th>161</th>\n",
       "      <td>A9D</td>\n",
       "      <td>0.226606</td>\n",
       "      <td>A</td>\n",
       "      <td>9</td>\n",
       "      <td>D</td>\n",
       "      <td>True</td>\n",
       "      <td>0.361207</td>\n",
       "      <td>0.587813</td>\n",
       "      <td>A</td>\n",
       "      <td>D</td>\n",
       "      <td>True</td>\n",
       "    </tr>\n",
       "    <tr>\n",
       "      <th>235</th>\n",
       "      <td>S12T</td>\n",
       "      <td>0.586065</td>\n",
       "      <td>S</td>\n",
       "      <td>12</td>\n",
       "      <td>T</td>\n",
       "      <td>True</td>\n",
       "      <td>-0.254090</td>\n",
       "      <td>0.331975</td>\n",
       "      <td>S</td>\n",
       "      <td>T</td>\n",
       "      <td>True</td>\n",
       "    </tr>\n",
       "    <tr>\n",
       "      <th>364</th>\n",
       "      <td>R19F</td>\n",
       "      <td>-0.550723</td>\n",
       "      <td>R</td>\n",
       "      <td>19</td>\n",
       "      <td>F</td>\n",
       "      <td>True</td>\n",
       "      <td>-1.560840</td>\n",
       "      <td>-2.111563</td>\n",
       "      <td>R</td>\n",
       "      <td>F</td>\n",
       "      <td>True</td>\n",
       "    </tr>\n",
       "    <tr>\n",
       "      <th>380</th>\n",
       "      <td>Q20A</td>\n",
       "      <td>-0.188525</td>\n",
       "      <td>Q</td>\n",
       "      <td>20</td>\n",
       "      <td>A</td>\n",
       "      <td>False</td>\n",
       "      <td>0.000000</td>\n",
       "      <td>-0.188525</td>\n",
       "      <td>Q</td>\n",
       "      <td>A</td>\n",
       "      <td>True</td>\n",
       "    </tr>\n",
       "    <tr>\n",
       "      <th>516</th>\n",
       "      <td>C26V</td>\n",
       "      <td>-0.115867</td>\n",
       "      <td>C</td>\n",
       "      <td>26</td>\n",
       "      <td>V</td>\n",
       "      <td>False</td>\n",
       "      <td>0.000000</td>\n",
       "      <td>-0.115867</td>\n",
       "      <td>C</td>\n",
       "      <td>V</td>\n",
       "      <td>True</td>\n",
       "    </tr>\n",
       "    <tr>\n",
       "      <th>601</th>\n",
       "      <td>H31C</td>\n",
       "      <td>-0.628807</td>\n",
       "      <td>H</td>\n",
       "      <td>31</td>\n",
       "      <td>C</td>\n",
       "      <td>True</td>\n",
       "      <td>-0.122049</td>\n",
       "      <td>-0.750856</td>\n",
       "      <td>H</td>\n",
       "      <td>C</td>\n",
       "      <td>True</td>\n",
       "    </tr>\n",
       "    <tr>\n",
       "      <th>837</th>\n",
       "      <td>Y42V</td>\n",
       "      <td>0.393497</td>\n",
       "      <td>Y</td>\n",
       "      <td>42</td>\n",
       "      <td>V</td>\n",
       "      <td>False</td>\n",
       "      <td>0.000000</td>\n",
       "      <td>0.393497</td>\n",
       "      <td>Y</td>\n",
       "      <td>V</td>\n",
       "      <td>True</td>\n",
       "    </tr>\n",
       "    <tr>\n",
       "      <th>938</th>\n",
       "      <td>V47Y</td>\n",
       "      <td>-0.491120</td>\n",
       "      <td>V</td>\n",
       "      <td>47</td>\n",
       "      <td>Y</td>\n",
       "      <td>True</td>\n",
       "      <td>0.414399</td>\n",
       "      <td>-0.076721</td>\n",
       "      <td>V</td>\n",
       "      <td>Y</td>\n",
       "      <td>True</td>\n",
       "    </tr>\n",
       "  </tbody>\n",
       "</table>\n",
       "</div>"
      ],
      "text/plain": [
       "    mutation   beta_h1 wt_aa  site mut_aa  shifted_site     shift   beta_h2  \\\n",
       "90       S5M -0.209250     S     5      M         False  0.000000 -0.209250   \n",
       "157      Q8W  0.216508     Q     8      W          True  0.334237  0.550745   \n",
       "161      A9D  0.226606     A     9      D          True  0.361207  0.587813   \n",
       "235     S12T  0.586065     S    12      T          True -0.254090  0.331975   \n",
       "364     R19F -0.550723     R    19      F          True -1.560840 -2.111563   \n",
       "380     Q20A -0.188525     Q    20      A         False  0.000000 -0.188525   \n",
       "516     C26V -0.115867     C    26      V         False  0.000000 -0.115867   \n",
       "601     H31C -0.628807     H    31      C          True -0.122049 -0.750856   \n",
       "837     Y42V  0.393497     Y    42      V         False  0.000000  0.393497   \n",
       "938     V47Y -0.491120     V    47      Y          True  0.414399 -0.076721   \n",
       "\n",
       "    wt_aa_h1 wt_aa_h2  bundle_mut  \n",
       "90         S        M        True  \n",
       "157        Q        W        True  \n",
       "161        A        D        True  \n",
       "235        S        T        True  \n",
       "364        R        F        True  \n",
       "380        Q        A        True  \n",
       "516        C        V        True  \n",
       "601        H        C        True  \n",
       "837        Y        V        True  \n",
       "938        V        Y        True  "
      ]
     },
     "execution_count": 131,
     "metadata": {},
     "output_type": "execute_result"
    }
   ],
   "source": [
    "# Update individual mutational effects\n",
    "assert sum(mut_effects_df['mutation'].duplicated()) == 0\n",
    "for mutation in SigmoidPhenotype_h2.muteffects.keys():\n",
    "    SigmoidPhenotype_h2.muteffects[mutation] = mut_effects_df.loc[\n",
    "        mut_effects_df['mutation']==mutation, 'beta_h2'\n",
    "    ].values[0]\n",
    "\n",
    "wt_latent_phenotype_shift = mut_effects_df.query(\"bundle_mut\")[\"beta_h2\"].sum()\n",
    "SigmoidPhenotype_h2.wt_latent = SigmoidPhenotype_h1.wt_latent + wt_latent_phenotype_shift\n",
    "\n",
    "print('Characteristics of mutations separating homologs:\\n')\n",
    "for metric in ['beta_h1', 'shift', 'beta_h2']:\n",
    "    print(f'  Sum of {metric}:', round(sum(mut_effects_df.query(\"bundle_mut\")[metric]), 2))\n",
    "print('  Final WT latent phenotype of h2:', round(SigmoidPhenotype_h2.wt_latent, 2))\n",
    "print('  Table of mutations that separate homologs:')\n",
    "mut_effects_df.query(\"mut_aa == wt_aa_h2\")"
   ]
  },
  {
   "cell_type": "markdown",
   "id": "1a626b8c",
   "metadata": {},
   "source": [
    "At this point, all mutations in the second homolog's `SigmoidPhenotypeSimulator` object are defined relative to the wildtype sequence of the first homolog, which we will call the \"reference\" homolog. However, to compute phenotypes for the second homolog, we still need to assign the effects of mutations at non-identical sites in the \"non-reference\" homolog. For instance, if the wildtype amino acid at site 30 is an A in the reference homolog, but is a Y in a non-reference homolog, then the effect of a Y30G is absent from the second homolog's simulator object. \n",
    "\n",
    "To add these missing entries, we will use a strategy that assumes additivity between mutations at the same site.\n",
    "For instance, in the above example, the effect of a Y30G mutation is defined as the sum of the A30Y (negated) and A30G effects in the reference homolog.\n",
    "This approach assumes that mutational effects can be negated, such that A30Y has the opposite effect as Y30A.\n",
    "It also assumes that mutational effects are additive, such that the effect of Y30G is the sum of the effects of Y30A and A30G.\n",
    "\n",
    "The below expression defines this approach more explicitly for an arbitrary site.\n",
    "It uses the notation $\\beta_{x,n,z}$ where $x$ and $z$ are amino acids.\n",
    "For a site $n$, if $aa_{\\text{wt}}$ is the site's wildtype amino acid in a non-reference homolog, $aa_{\\text{mut}}$ is a mutant amino acid in a variant of that homolog, and $aa_{\\text{ref}}$ is the site's wildtype amino acid in the reference homolog, then the mutation's effect is:\n",
    "\n",
    "$$\\beta_{aa_{\\text{wt}},n,aa_{\\text{mut}}} = \\begin{cases}\n",
    "      \\beta_{aa_{\\text{ref}},n,aa_{\\text{mut}}} & \\text{if } aa_{\\text{wt}} = aa_{\\text{ref}}\\\\\n",
    "      -\\beta_{aa_{\\text{ref}},n,aa_{\\text{wt}}} & \\text{if } aa_{\\text{mut}} = aa_{\\text{ref}}\\\\\n",
    "      - \\beta_{aa_{\\text{ref}},n,aa_{\\text{wt}}} +\\beta_{aa_{\\text{ref}},n,aa_{\\text{mut}}} & \\text{otherwise}\\\\\n",
    "\\end{cases}$$\n",
    "\n",
    "The above $\\beta$ parameters are effects in the background of the non-reference homolog, such that they account for shifts in mutational effects between homologs. \n"
   ]
  },
  {
   "cell_type": "markdown",
   "id": "c9aa946c",
   "metadata": {},
   "source": [
    "The below cell adds mutational effects for missing entries using the above strategy:"
   ]
  },
  {
   "cell_type": "code",
   "execution_count": 132,
   "id": "b309408d",
   "metadata": {},
   "outputs": [],
   "source": [
    "# iterate over \"bundle\" of mutations which disguish the homologs\n",
    "for idx, row in mut_effects_df.query(\"mut_aa == wt_aa_h2\").iterrows():\n",
    "\n",
    "    # compute the effect of each possible mutation at a bundle site\n",
    "    for aa_mut in AAS_WITHSTOP:\n",
    "\n",
    "        # skip the non-ref wt-to-wt\n",
    "        if aa_mut == row.wt_aa_h2:\n",
    "            continue\n",
    "\n",
    "        non_ref_mutation = f'{row.wt_aa_h2}{row.site}{aa_mut}'\n",
    "\n",
    "        # stop effect is the same for all homologs\n",
    "        if aa_mut == '*':\n",
    "            SigmoidPhenotype_h2.muteffects[non_ref_mutation] = stop_effect\n",
    "\n",
    "        # back-mutation to reference        \n",
    "        elif aa_mut == row.wt_aa_h1:\n",
    "            SigmoidPhenotype_h2.muteffects[non_ref_mutation] = -row.beta_h2\n",
    "\n",
    "        # all other mutations\n",
    "        else:            \n",
    "            ref_mut = f'{row.wt_aa_h1}{row.site}{aa_mut}'\n",
    "            ref_mut_effect = mut_effects_df.loc[\n",
    "                mut_effects_df['mutation'] == ref_mut, 'beta_h2'\n",
    "            ].values[0]\n",
    "            SigmoidPhenotype_h2.muteffects[non_ref_mutation] = -row.beta_h2 + ref_mut_effect"
   ]
  },
  {
   "cell_type": "code",
   "execution_count": 133,
   "id": "e395986e",
   "metadata": {},
   "outputs": [
    {
     "data": {
      "application/vnd.microsoft.datawrangler.viewer.v0+json": {
       "columns": [
        {
         "name": "index",
         "rawType": "int64",
         "type": "integer"
        },
        {
         "name": "mutation",
         "rawType": "object",
         "type": "string"
        },
        {
         "name": "beta_h1",
         "rawType": "float64",
         "type": "float"
        },
        {
         "name": "wt_aa",
         "rawType": "object",
         "type": "string"
        },
        {
         "name": "site",
         "rawType": "int64",
         "type": "integer"
        },
        {
         "name": "mut_aa",
         "rawType": "object",
         "type": "string"
        },
        {
         "name": "shifted_site",
         "rawType": "bool",
         "type": "boolean"
        },
        {
         "name": "shift",
         "rawType": "float64",
         "type": "float"
        },
        {
         "name": "beta_h2",
         "rawType": "float64",
         "type": "float"
        },
        {
         "name": "wt_aa_h1",
         "rawType": "object",
         "type": "string"
        },
        {
         "name": "wt_aa_h2",
         "rawType": "object",
         "type": "string"
        },
        {
         "name": "bundle_mut",
         "rawType": "bool",
         "type": "boolean"
        }
       ],
       "ref": "d0186788-14a6-4110-9e57-870cf8770a1a",
       "rows": [
        [
         "0",
         "F1A",
         "-2.019912143759543",
         "F",
         "1",
         "A",
         "False",
         "0.0",
         "-2.019912143759543",
         "F",
         "F",
         "False"
        ],
        [
         "1",
         "F1C",
         "-0.41788843626015926",
         "F",
         "1",
         "C",
         "False",
         "0.0",
         "-0.41788843626015926",
         "F",
         "F",
         "False"
        ],
        [
         "2",
         "F1D",
         "-2.9280957259087486",
         "F",
         "1",
         "D",
         "False",
         "0.0",
         "-2.9280957259087486",
         "F",
         "F",
         "False"
        ],
        [
         "3",
         "F1E",
         "-1.516192144452033",
         "F",
         "1",
         "E",
         "False",
         "0.0",
         "-1.516192144452033",
         "F",
         "F",
         "False"
        ],
        [
         "4",
         "F1G",
         "-4.732574866493815",
         "F",
         "1",
         "G",
         "False",
         "0.0",
         "-4.732574866493815",
         "F",
         "F",
         "False"
        ]
       ],
       "shape": {
        "columns": 11,
        "rows": 5
       }
      },
      "text/html": [
       "<div>\n",
       "<style scoped>\n",
       "    .dataframe tbody tr th:only-of-type {\n",
       "        vertical-align: middle;\n",
       "    }\n",
       "\n",
       "    .dataframe tbody tr th {\n",
       "        vertical-align: top;\n",
       "    }\n",
       "\n",
       "    .dataframe thead th {\n",
       "        text-align: right;\n",
       "    }\n",
       "</style>\n",
       "<table border=\"1\" class=\"dataframe\">\n",
       "  <thead>\n",
       "    <tr style=\"text-align: right;\">\n",
       "      <th></th>\n",
       "      <th>mutation</th>\n",
       "      <th>beta_h1</th>\n",
       "      <th>wt_aa</th>\n",
       "      <th>site</th>\n",
       "      <th>mut_aa</th>\n",
       "      <th>shifted_site</th>\n",
       "      <th>shift</th>\n",
       "      <th>beta_h2</th>\n",
       "      <th>wt_aa_h1</th>\n",
       "      <th>wt_aa_h2</th>\n",
       "      <th>bundle_mut</th>\n",
       "    </tr>\n",
       "  </thead>\n",
       "  <tbody>\n",
       "    <tr>\n",
       "      <th>0</th>\n",
       "      <td>F1A</td>\n",
       "      <td>-2.019912</td>\n",
       "      <td>F</td>\n",
       "      <td>1</td>\n",
       "      <td>A</td>\n",
       "      <td>False</td>\n",
       "      <td>0.0</td>\n",
       "      <td>-2.019912</td>\n",
       "      <td>F</td>\n",
       "      <td>F</td>\n",
       "      <td>False</td>\n",
       "    </tr>\n",
       "    <tr>\n",
       "      <th>1</th>\n",
       "      <td>F1C</td>\n",
       "      <td>-0.417888</td>\n",
       "      <td>F</td>\n",
       "      <td>1</td>\n",
       "      <td>C</td>\n",
       "      <td>False</td>\n",
       "      <td>0.0</td>\n",
       "      <td>-0.417888</td>\n",
       "      <td>F</td>\n",
       "      <td>F</td>\n",
       "      <td>False</td>\n",
       "    </tr>\n",
       "    <tr>\n",
       "      <th>2</th>\n",
       "      <td>F1D</td>\n",
       "      <td>-2.928096</td>\n",
       "      <td>F</td>\n",
       "      <td>1</td>\n",
       "      <td>D</td>\n",
       "      <td>False</td>\n",
       "      <td>0.0</td>\n",
       "      <td>-2.928096</td>\n",
       "      <td>F</td>\n",
       "      <td>F</td>\n",
       "      <td>False</td>\n",
       "    </tr>\n",
       "    <tr>\n",
       "      <th>3</th>\n",
       "      <td>F1E</td>\n",
       "      <td>-1.516192</td>\n",
       "      <td>F</td>\n",
       "      <td>1</td>\n",
       "      <td>E</td>\n",
       "      <td>False</td>\n",
       "      <td>0.0</td>\n",
       "      <td>-1.516192</td>\n",
       "      <td>F</td>\n",
       "      <td>F</td>\n",
       "      <td>False</td>\n",
       "    </tr>\n",
       "    <tr>\n",
       "      <th>4</th>\n",
       "      <td>F1G</td>\n",
       "      <td>-4.732575</td>\n",
       "      <td>F</td>\n",
       "      <td>1</td>\n",
       "      <td>G</td>\n",
       "      <td>False</td>\n",
       "      <td>0.0</td>\n",
       "      <td>-4.732575</td>\n",
       "      <td>F</td>\n",
       "      <td>F</td>\n",
       "      <td>False</td>\n",
       "    </tr>\n",
       "  </tbody>\n",
       "</table>\n",
       "</div>"
      ],
      "text/plain": [
       "  mutation   beta_h1 wt_aa  site mut_aa  shifted_site  shift   beta_h2  \\\n",
       "0      F1A -2.019912     F     1      A         False    0.0 -2.019912   \n",
       "1      F1C -0.417888     F     1      C         False    0.0 -0.417888   \n",
       "2      F1D -2.928096     F     1      D         False    0.0 -2.928096   \n",
       "3      F1E -1.516192     F     1      E         False    0.0 -1.516192   \n",
       "4      F1G -4.732575     F     1      G         False    0.0 -4.732575   \n",
       "\n",
       "  wt_aa_h1 wt_aa_h2  bundle_mut  \n",
       "0        F        F       False  \n",
       "1        F        F       False  \n",
       "2        F        F       False  \n",
       "3        F        F       False  \n",
       "4        F        F       False  "
      ]
     },
     "execution_count": 133,
     "metadata": {},
     "output_type": "execute_result"
    }
   ],
   "source": [
    "mut_effects_df.to_csv(f\"{csv_output_dir}/simulated_muteffects.csv\", index=False)\n",
    "mut_effects_df.head()"
   ]
  },
  {
   "cell_type": "markdown",
   "id": "c12e0498",
   "metadata": {},
   "source": [
    "### Variant libraries"
   ]
  },
  {
   "cell_type": "markdown",
   "id": "bd558e2b",
   "metadata": {},
   "source": [
    "\n",
    "Simulate a set of variant libraries that one might use in an actual experiment for each homolog, each with two replicate libraries."
   ]
  },
  {
   "cell_type": "code",
   "execution_count": 134,
   "id": "761b1f99",
   "metadata": {},
   "outputs": [],
   "source": [
    "libs = [\"lib_1\", \"lib_2\"]  # distinct libraries of gene\n",
    "variants_per_lib = variants_per_lib_genelength_scalar * genelength\n",
    "\n",
    "CodonVariantTable_h1 = dms_variants.simulate.simulate_CodonVariantTable(\n",
    "    geneseq=geneseq_h1,\n",
    "    bclen=bclen,\n",
    "    library_specs={\n",
    "        lib: {\"avgmuts\": avgmuts, \"nvariants\": variants_per_lib} for lib in libs\n",
    "    },\n",
    "    seed=seed,\n",
    ")\n",
    "CodonVariantTable_h2 = dms_variants.simulate.simulate_CodonVariantTable(\n",
    "    geneseq=geneseq_h2,\n",
    "    bclen=bclen,\n",
    "    library_specs={\n",
    "        lib: {\"avgmuts\": avgmuts, \"nvariants\": variants_per_lib} for lib in libs\n",
    "    },\n",
    "    seed=seed,\n",
    ")"
   ]
  },
  {
   "cell_type": "code",
   "execution_count": 135,
   "id": "b31c079b",
   "metadata": {},
   "outputs": [
    {
     "data": {
      "application/vnd.microsoft.datawrangler.viewer.v0+json": {
       "columns": [
        {
         "name": "index",
         "rawType": "int64",
         "type": "integer"
        },
        {
         "name": "library",
         "rawType": "category",
         "type": "unknown"
        },
        {
         "name": "sample",
         "rawType": "category",
         "type": "unknown"
        },
        {
         "name": "count",
         "rawType": "int64",
         "type": "integer"
        }
       ],
       "ref": "7aca9e44-d1b3-4cb2-a4f5-014f6a531a55",
       "rows": [
        [
         "0",
         "lib_1",
         "barcoded variants",
         "25000"
        ],
        [
         "1",
         "lib_2",
         "barcoded variants",
         "25000"
        ],
        [
         "2",
         "all libraries",
         "barcoded variants",
         "50000"
        ]
       ],
       "shape": {
        "columns": 3,
        "rows": 3
       }
      },
      "text/html": [
       "<div>\n",
       "<style scoped>\n",
       "    .dataframe tbody tr th:only-of-type {\n",
       "        vertical-align: middle;\n",
       "    }\n",
       "\n",
       "    .dataframe tbody tr th {\n",
       "        vertical-align: top;\n",
       "    }\n",
       "\n",
       "    .dataframe thead th {\n",
       "        text-align: right;\n",
       "    }\n",
       "</style>\n",
       "<table border=\"1\" class=\"dataframe\">\n",
       "  <thead>\n",
       "    <tr style=\"text-align: right;\">\n",
       "      <th></th>\n",
       "      <th>library</th>\n",
       "      <th>sample</th>\n",
       "      <th>count</th>\n",
       "    </tr>\n",
       "  </thead>\n",
       "  <tbody>\n",
       "    <tr>\n",
       "      <th>0</th>\n",
       "      <td>lib_1</td>\n",
       "      <td>barcoded variants</td>\n",
       "      <td>25000</td>\n",
       "    </tr>\n",
       "    <tr>\n",
       "      <th>1</th>\n",
       "      <td>lib_2</td>\n",
       "      <td>barcoded variants</td>\n",
       "      <td>25000</td>\n",
       "    </tr>\n",
       "    <tr>\n",
       "      <th>2</th>\n",
       "      <td>all libraries</td>\n",
       "      <td>barcoded variants</td>\n",
       "      <td>50000</td>\n",
       "    </tr>\n",
       "  </tbody>\n",
       "</table>\n",
       "</div>"
      ],
      "text/plain": [
       "         library             sample  count\n",
       "0          lib_1  barcoded variants  25000\n",
       "1          lib_2  barcoded variants  25000\n",
       "2  all libraries  barcoded variants  50000"
      ]
     },
     "execution_count": 135,
     "metadata": {},
     "output_type": "execute_result"
    }
   ],
   "source": [
    "CodonVariantTable_h1.n_variants_df(samples=None)"
   ]
  },
  {
   "cell_type": "markdown",
   "id": "9b238384",
   "metadata": {},
   "source": [
    "plot the number of variant support sequences as a histogram"
   ]
  },
  {
   "cell_type": "code",
   "execution_count": 136,
   "id": "2b6906d2",
   "metadata": {},
   "outputs": [
    {
     "data": {
      "image/png": "[encoded data removed]",
      "text/plain": [
       "<Figure size 500x300 with 3 Axes>"
      ]
     },
     "metadata": {},
     "output_type": "display_data"
    }
   ],
   "source": [
    "p = CodonVariantTable_h1.plotVariantSupportHistogram(max_support=10)\n",
    "p += theme_classic() \n",
    "p += theme(\n",
    "    panel_grid_major_x=element_blank(),  # no vertical grid lines\n",
    "    figure_size=(5, 3)\n",
    ")\n",
    "_ = p.draw(show=True)"
   ]
  },
  {
   "cell_type": "code",
   "execution_count": 137,
   "id": "fd6df84d",
   "metadata": {},
   "outputs": [
    {
     "data": {
      "application/vnd.microsoft.datawrangler.viewer.v0+json": {
       "columns": [
        {
         "name": "index",
         "rawType": "int64",
         "type": "integer"
        },
        {
         "name": "library",
         "rawType": "category",
         "type": "unknown"
        },
        {
         "name": "sample",
         "rawType": "category",
         "type": "unknown"
        },
        {
         "name": "count",
         "rawType": "int64",
         "type": "integer"
        }
       ],
       "ref": "ccd23797-5ec6-45aa-b42e-9100bc8010f8",
       "rows": [
        [
         "0",
         "lib_1",
         "barcoded variants",
         "25000"
        ],
        [
         "1",
         "lib_2",
         "barcoded variants",
         "25000"
        ],
        [
         "2",
         "all libraries",
         "barcoded variants",
         "50000"
        ]
       ],
       "shape": {
        "columns": 3,
        "rows": 3
       }
      },
      "text/html": [
       "<div>\n",
       "<style scoped>\n",
       "    .dataframe tbody tr th:only-of-type {\n",
       "        vertical-align: middle;\n",
       "    }\n",
       "\n",
       "    .dataframe tbody tr th {\n",
       "        vertical-align: top;\n",
       "    }\n",
       "\n",
       "    .dataframe thead th {\n",
       "        text-align: right;\n",
       "    }\n",
       "</style>\n",
       "<table border=\"1\" class=\"dataframe\">\n",
       "  <thead>\n",
       "    <tr style=\"text-align: right;\">\n",
       "      <th></th>\n",
       "      <th>library</th>\n",
       "      <th>sample</th>\n",
       "      <th>count</th>\n",
       "    </tr>\n",
       "  </thead>\n",
       "  <tbody>\n",
       "    <tr>\n",
       "      <th>0</th>\n",
       "      <td>lib_1</td>\n",
       "      <td>barcoded variants</td>\n",
       "      <td>25000</td>\n",
       "    </tr>\n",
       "    <tr>\n",
       "      <th>1</th>\n",
       "      <td>lib_2</td>\n",
       "      <td>barcoded variants</td>\n",
       "      <td>25000</td>\n",
       "    </tr>\n",
       "    <tr>\n",
       "      <th>2</th>\n",
       "      <td>all libraries</td>\n",
       "      <td>barcoded variants</td>\n",
       "      <td>50000</td>\n",
       "    </tr>\n",
       "  </tbody>\n",
       "</table>\n",
       "</div>"
      ],
      "text/plain": [
       "         library             sample  count\n",
       "0          lib_1  barcoded variants  25000\n",
       "1          lib_2  barcoded variants  25000\n",
       "2  all libraries  barcoded variants  50000"
      ]
     },
     "execution_count": 137,
     "metadata": {},
     "output_type": "execute_result"
    }
   ],
   "source": [
    "CodonVariantTable_h2.n_variants_df(samples=None)"
   ]
  },
  {
   "cell_type": "code",
   "execution_count": 138,
   "id": "a277a3b6",
   "metadata": {},
   "outputs": [
    {
     "data": {
      "image/png": "[encoded data removed]",
      "text/plain": [
       "<Figure size 500x300 with 3 Axes>"
      ]
     },
     "metadata": {},
     "output_type": "display_data"
    }
   ],
   "source": [
    "p = CodonVariantTable_h2.plotVariantSupportHistogram(max_support=10)\n",
    "p += theme_classic() \n",
    "p += theme(\n",
    "    panel_grid_major_x=element_blank(),  # no vertical grid lines\n",
    "    figure_size=(5, 3)\n",
    ")\n",
    "_ = p.draw(show=True)\n"
   ]
  },
  {
   "cell_type": "markdown",
   "id": "b7e46507",
   "metadata": {},
   "source": [
    "### Variant phenotypes and enrichments"
   ]
  },
  {
   "cell_type": "markdown",
   "id": "314bacc6",
   "metadata": {},
   "source": [
    "Now that we have simulated libraries of variants $v_i \\in V$, we'll assign their respective ground truth phenotypes and enrichments. \n",
    "\n",
    "We'll start by computing latent phenotype, $\\phi(v_i)$. Recall that each of the two homologs has a `SigmoidPhenotypeSimulator` object that stores the latent effects of individual mutations. We will use these objects to compute the latent phenotypes of all variants in the libraries.\n"
   ]
  },
  {
   "cell_type": "code",
   "execution_count": 139,
   "id": "852d78df",
   "metadata": {},
   "outputs": [
    {
     "data": {
      "application/vnd.microsoft.datawrangler.viewer.v0+json": {
       "columns": [
        {
         "name": "index",
         "rawType": "int64",
         "type": "integer"
        },
        {
         "name": "library",
         "rawType": "category",
         "type": "unknown"
        },
        {
         "name": "aa_substitutions",
         "rawType": "object",
         "type": "string"
        },
        {
         "name": "latent_phenotype",
         "rawType": "float64",
         "type": "float"
        }
       ],
       "ref": "0da90457-a9bb-479a-b0e5-aff666fefdd6",
       "rows": [
        [
         "0",
         "lib_1",
         "L33P",
         "5.253865670617039"
        ],
        [
         "1",
         "lib_1",
         "N3V F16S",
         "4.413085201110892"
        ],
        [
         "2",
         "lib_1",
         "",
         "5.0"
        ],
        [
         "3",
         "lib_1",
         "L2Q H31*",
         "-5.282384180526307"
        ],
        [
         "4",
         "lib_1",
         "N3Y L17N D18I E27R",
         "-1.7078150841530055"
        ]
       ],
       "shape": {
        "columns": 3,
        "rows": 5
       }
      },
      "text/html": [
       "<div>\n",
       "<style scoped>\n",
       "    .dataframe tbody tr th:only-of-type {\n",
       "        vertical-align: middle;\n",
       "    }\n",
       "\n",
       "    .dataframe tbody tr th {\n",
       "        vertical-align: top;\n",
       "    }\n",
       "\n",
       "    .dataframe thead th {\n",
       "        text-align: right;\n",
       "    }\n",
       "</style>\n",
       "<table border=\"1\" class=\"dataframe\">\n",
       "  <thead>\n",
       "    <tr style=\"text-align: right;\">\n",
       "      <th></th>\n",
       "      <th>library</th>\n",
       "      <th>aa_substitutions</th>\n",
       "      <th>latent_phenotype</th>\n",
       "    </tr>\n",
       "  </thead>\n",
       "  <tbody>\n",
       "    <tr>\n",
       "      <th>0</th>\n",
       "      <td>lib_1</td>\n",
       "      <td>L33P</td>\n",
       "      <td>5.253866</td>\n",
       "    </tr>\n",
       "    <tr>\n",
       "      <th>1</th>\n",
       "      <td>lib_1</td>\n",
       "      <td>N3V F16S</td>\n",
       "      <td>4.413085</td>\n",
       "    </tr>\n",
       "    <tr>\n",
       "      <th>2</th>\n",
       "      <td>lib_1</td>\n",
       "      <td></td>\n",
       "      <td>5.000000</td>\n",
       "    </tr>\n",
       "    <tr>\n",
       "      <th>3</th>\n",
       "      <td>lib_1</td>\n",
       "      <td>L2Q H31*</td>\n",
       "      <td>-5.282384</td>\n",
       "    </tr>\n",
       "    <tr>\n",
       "      <th>4</th>\n",
       "      <td>lib_1</td>\n",
       "      <td>N3Y L17N D18I E27R</td>\n",
       "      <td>-1.707815</td>\n",
       "    </tr>\n",
       "  </tbody>\n",
       "</table>\n",
       "</div>"
      ],
      "text/plain": [
       "  library    aa_substitutions  latent_phenotype\n",
       "0   lib_1                L33P          5.253866\n",
       "1   lib_1            N3V F16S          4.413085\n",
       "2   lib_1                              5.000000\n",
       "3   lib_1            L2Q H31*         -5.282384\n",
       "4   lib_1  N3Y L17N D18I E27R         -1.707815"
      ]
     },
     "execution_count": 139,
     "metadata": {},
     "output_type": "execute_result"
    }
   ],
   "source": [
    "# we'll store a collection of functions for each homolog\n",
    "phenotype_fxn_dict_h1 = {\"latentPhenotype\" : SigmoidPhenotype_h1.latentPhenotype}\n",
    "phenotype_fxn_dict_h2 = {\"latentPhenotype\" : SigmoidPhenotype_h2.latentPhenotype}\n",
    "\n",
    "# add the latent phenotype to the barcode variant table\n",
    "CodonVariantTable_h1.barcode_variant_df['latent_phenotype'] = CodonVariantTable_h1.barcode_variant_df['aa_substitutions'].apply(\n",
    "    phenotype_fxn_dict_h1[\"latentPhenotype\"]\n",
    ")\n",
    "CodonVariantTable_h2.barcode_variant_df['latent_phenotype'] = CodonVariantTable_h2.barcode_variant_df['aa_substitutions'].apply(\n",
    "    phenotype_fxn_dict_h2[\"latentPhenotype\"]\n",
    ")\n",
    "\n",
    "# print a sample of the variant table\n",
    "CodonVariantTable_h1.barcode_variant_df[[\"library\", \"aa_substitutions\", \"latent_phenotype\"]].head()"
   ]
  },
  {
   "cell_type": "code",
   "execution_count": 140,
   "id": "aaab2720",
   "metadata": {},
   "outputs": [
    {
     "data": {
      "application/vnd.microsoft.datawrangler.viewer.v0+json": {
       "columns": [
        {
         "name": "index",
         "rawType": "int64",
         "type": "integer"
        },
        {
         "name": "library",
         "rawType": "category",
         "type": "unknown"
        },
        {
         "name": "aa_substitutions",
         "rawType": "object",
         "type": "string"
        },
        {
         "name": "latent_phenotype",
         "rawType": "float64",
         "type": "float"
        }
       ],
       "ref": "fb64bd44-1c30-4c63-a78b-75b555246280",
       "rows": [
        [
         "0",
         "lib_1",
         "L33P",
         "3.6651150715051393"
        ],
        [
         "1",
         "lib_1",
         "N3V F16S",
         "2.824334601998993"
        ],
        [
         "2",
         "lib_1",
         "",
         "3.4112494008881007"
        ],
        [
         "3",
         "lib_1",
         "L2Q C31V",
         "2.278041757630379"
        ],
        [
         "4",
         "lib_1",
         "N3Y L17N D18I E27R",
         "-3.296565683264905"
        ]
       ],
       "shape": {
        "columns": 3,
        "rows": 5
       }
      },
      "text/html": [
       "<div>\n",
       "<style scoped>\n",
       "    .dataframe tbody tr th:only-of-type {\n",
       "        vertical-align: middle;\n",
       "    }\n",
       "\n",
       "    .dataframe tbody tr th {\n",
       "        vertical-align: top;\n",
       "    }\n",
       "\n",
       "    .dataframe thead th {\n",
       "        text-align: right;\n",
       "    }\n",
       "</style>\n",
       "<table border=\"1\" class=\"dataframe\">\n",
       "  <thead>\n",
       "    <tr style=\"text-align: right;\">\n",
       "      <th></th>\n",
       "      <th>library</th>\n",
       "      <th>aa_substitutions</th>\n",
       "      <th>latent_phenotype</th>\n",
       "    </tr>\n",
       "  </thead>\n",
       "  <tbody>\n",
       "    <tr>\n",
       "      <th>0</th>\n",
       "      <td>lib_1</td>\n",
       "      <td>L33P</td>\n",
       "      <td>3.665115</td>\n",
       "    </tr>\n",
       "    <tr>\n",
       "      <th>1</th>\n",
       "      <td>lib_1</td>\n",
       "      <td>N3V F16S</td>\n",
       "      <td>2.824335</td>\n",
       "    </tr>\n",
       "    <tr>\n",
       "      <th>2</th>\n",
       "      <td>lib_1</td>\n",
       "      <td></td>\n",
       "      <td>3.411249</td>\n",
       "    </tr>\n",
       "    <tr>\n",
       "      <th>3</th>\n",
       "      <td>lib_1</td>\n",
       "      <td>L2Q C31V</td>\n",
       "      <td>2.278042</td>\n",
       "    </tr>\n",
       "    <tr>\n",
       "      <th>4</th>\n",
       "      <td>lib_1</td>\n",
       "      <td>N3Y L17N D18I E27R</td>\n",
       "      <td>-3.296566</td>\n",
       "    </tr>\n",
       "  </tbody>\n",
       "</table>\n",
       "</div>"
      ],
      "text/plain": [
       "  library    aa_substitutions  latent_phenotype\n",
       "0   lib_1                L33P          3.665115\n",
       "1   lib_1            N3V F16S          2.824335\n",
       "2   lib_1                              3.411249\n",
       "3   lib_1            L2Q C31V          2.278042\n",
       "4   lib_1  N3Y L17N D18I E27R         -3.296566"
      ]
     },
     "execution_count": 140,
     "metadata": {},
     "output_type": "execute_result"
    }
   ],
   "source": [
    "CodonVariantTable_h2.barcode_variant_df[[\"library\", \"aa_substitutions\", \"latent_phenotype\"]].head()"
   ]
  },
  {
   "cell_type": "markdown",
   "id": "cf40ef6d",
   "metadata": {},
   "source": [
    "Next, we can compute an _observed phenotype_, $p(v, d)$ = $g_{\\theta}(\\phi(v, d))$, where $g_{\\theta}$ is the global epistasis function implimented as a flexible sigmoid with two free parameters, $\\theta_{s}$ and $\\theta_{b}$, that serve as a scale and bias, respectively. Concretely, $g_{\\theta}(z) = \\theta_{b} + \\frac{\\theta_{s}}{1 + e^{-z}}$. For the purposes of this analysis, we compute a fixed value for the $\\theta_{b}$ parameter, based upon the specified parameters for $\\theta_{s}$ (`sigmoid_phenotype_scale`) and $\\phi(v_{WT})$ (`wt_latent`) such that the reference wildtype phenotype is exactly 0. \n",
    "\n",
    "Note that while the `SigmoidPhenotypeSimulator` object (as the name suggests) provides its own global epistasis object for computing phenotype and enrichments, we will only be using it to get mutational effects and the associated latent phenotypes. For computing the post-latent phenotypes and enrichments, we will use the `multidms` biophysical model such that we're simulating under the same model we'll be fitting as described above."
   ]
  },
  {
   "cell_type": "code",
   "execution_count": 141,
   "id": "63735ecc",
   "metadata": {},
   "outputs": [],
   "source": [
    "# define numpy wrapper for multidms native jax sigmoid fxn\n",
    "def g(z:float, ge_scale=sigmoid_phenotype_scale, wt_latent=wt_latent):\n",
    "\n",
    "    # ensure the reference phenotype is 0\n",
    "    ge_bias = -sigmoid_phenotype_scale / (1 + np.exp(-wt_latent))\n",
    "    return ge_bias + (ge_scale/(1+np.exp(-z)))"
   ]
  },
  {
   "cell_type": "code",
   "execution_count": 142,
   "id": "a5d09bfe",
   "metadata": {},
   "outputs": [
    {
     "data": {
      "text/plain": [
       "5.0"
      ]
     },
     "execution_count": 142,
     "metadata": {},
     "output_type": "execute_result"
    }
   ],
   "source": [
    "wt_latent"
   ]
  },
  {
   "cell_type": "code",
   "execution_count": 143,
   "id": "53059833",
   "metadata": {},
   "outputs": [
    {
     "data": {
      "text/plain": [
       "np.float64(-0.15151731588729156)"
      ]
     },
     "execution_count": 143,
     "metadata": {},
     "output_type": "execute_result"
    }
   ],
   "source": [
    "g(SigmoidPhenotype_h2.wt_latent)"
   ]
  },
  {
   "cell_type": "code",
   "execution_count": 144,
   "id": "d1b6ee09",
   "metadata": {},
   "outputs": [
    {
     "data": {
      "text/plain": [
       "np.float64(0.15151731588729156)"
      ]
     },
     "execution_count": 144,
     "metadata": {},
     "output_type": "execute_result"
    }
   ],
   "source": [
    "g(5, wt_latent=SigmoidPhenotype_h2.wt_latent)"
   ]
  },
  {
   "cell_type": "markdown",
   "id": "2da19ec8",
   "metadata": {},
   "source": [
    "Visualize the sigmoidal function that we'll be using to map latent phenotypes to observed phenotypes. Place vertical line at the reference (\"h1\") wildtype latent phenotype, as well as a dashed line for the non-reference (\"h2\") phenotype:"
   ]
  },
  {
   "cell_type": "code",
   "execution_count": 145,
   "id": "a0ff09be",
   "metadata": {},
   "outputs": [
    {
     "data": {
      "image/png": "[encoded data removed]",
      "text/plain": [
       "<Figure size 400x400 with 1 Axes>"
      ]
     },
     "metadata": {},
     "output_type": "display_data"
    }
   ],
   "source": [
    "resolution = (-10, 10, 100)\n",
    "p = (\n",
    "    ggplot(\n",
    "        pd.DataFrame(\n",
    "            {\n",
    "                \"x\":np.linspace(*resolution), \n",
    "                \"y\":np.array(list(map(g, np.linspace(*resolution))))\n",
    "            }\n",
    "        ), \n",
    "    )\n",
    "    + geom_line(aes(x=\"x\", y=\"y\"))\n",
    "    + geom_vline(xintercept=SigmoidPhenotype_h1.wt_latent)\n",
    "    + geom_vline(xintercept=SigmoidPhenotype_h2.wt_latent, linetype=\"dotted\")\n",
    "    + labs(x=\"latent phenotype\", y=\"observed phenotype\")\n",
    "    + theme_classic()\n",
    "    + theme(figure_size=(4, 4))\n",
    ")\n",
    "_ = p.draw(show=True)\n"
   ]
  },
  {
   "cell_type": "markdown",
   "id": "f0ad9343",
   "metadata": {},
   "source": [
    "Next, assign each barcoded variant an _observed phenotype_, $p(v, d)$, as well as an _observed enrichment_ , $2^{p(v, d)}$. "
   ]
  },
  {
   "cell_type": "code",
   "execution_count": 147,
   "id": "1f5eba40",
   "metadata": {},
   "outputs": [
    {
     "data": {
      "application/vnd.microsoft.datawrangler.viewer.v0+json": {
       "columns": [
        {
         "name": "index",
         "rawType": "int64",
         "type": "integer"
        },
        {
         "name": "aa_substitutions",
         "rawType": "object",
         "type": "string"
        },
        {
         "name": "latent_phenotype",
         "rawType": "float64",
         "type": "float"
        },
        {
         "name": "observed_phenotype",
         "rawType": "float64",
         "type": "float"
        },
        {
         "name": "observed_enrichment",
         "rawType": "float64",
         "type": "float"
        },
        {
         "name": "homolog",
         "rawType": "object",
         "type": "string"
        }
       ],
       "ref": "3a09bcdf-1916-44c9-8f3c-4166a015882f",
       "rows": [
        [
         "0",
         "L33P",
         "5.253865670617039",
         "0.008956564995963312",
         "1.0062275286998819",
         "h1"
        ],
        [
         "1",
         "N3V F16S",
         "4.413085201110892",
         "-0.03167881550375995",
         "0.9782812421273236",
         "h1"
        ],
        [
         "2",
         "",
         "5.0",
         "0.0",
         "1.0",
         "h1"
        ],
        [
         "3",
         "L2Q H31*",
         "-5.282384180526307",
         "-5.929515144759555",
         "0.01640733636781456",
         "h1"
        ],
        [
         "4",
         "N3Y L17N D18I E27R",
         "-1.7078150841530055",
         "-5.0391589493060405",
         "0.030413191976416724",
         "h1"
        ]
       ],
       "shape": {
        "columns": 5,
        "rows": 5
       }
      },
      "text/html": [
       "<div>\n",
       "<style scoped>\n",
       "    .dataframe tbody tr th:only-of-type {\n",
       "        vertical-align: middle;\n",
       "    }\n",
       "\n",
       "    .dataframe tbody tr th {\n",
       "        vertical-align: top;\n",
       "    }\n",
       "\n",
       "    .dataframe thead th {\n",
       "        text-align: right;\n",
       "    }\n",
       "</style>\n",
       "<table border=\"1\" class=\"dataframe\">\n",
       "  <thead>\n",
       "    <tr style=\"text-align: right;\">\n",
       "      <th></th>\n",
       "      <th>aa_substitutions</th>\n",
       "      <th>latent_phenotype</th>\n",
       "      <th>observed_phenotype</th>\n",
       "      <th>observed_enrichment</th>\n",
       "      <th>homolog</th>\n",
       "    </tr>\n",
       "  </thead>\n",
       "  <tbody>\n",
       "    <tr>\n",
       "      <th>0</th>\n",
       "      <td>L33P</td>\n",
       "      <td>5.253866</td>\n",
       "      <td>0.008957</td>\n",
       "      <td>1.006228</td>\n",
       "      <td>h1</td>\n",
       "    </tr>\n",
       "    <tr>\n",
       "      <th>1</th>\n",
       "      <td>N3V F16S</td>\n",
       "      <td>4.413085</td>\n",
       "      <td>-0.031679</td>\n",
       "      <td>0.978281</td>\n",
       "      <td>h1</td>\n",
       "    </tr>\n",
       "    <tr>\n",
       "      <th>2</th>\n",
       "      <td></td>\n",
       "      <td>5.000000</td>\n",
       "      <td>0.000000</td>\n",
       "      <td>1.000000</td>\n",
       "      <td>h1</td>\n",
       "    </tr>\n",
       "    <tr>\n",
       "      <th>3</th>\n",
       "      <td>L2Q H31*</td>\n",
       "      <td>-5.282384</td>\n",
       "      <td>-5.929515</td>\n",
       "      <td>0.016407</td>\n",
       "      <td>h1</td>\n",
       "    </tr>\n",
       "    <tr>\n",
       "      <th>4</th>\n",
       "      <td>N3Y L17N D18I E27R</td>\n",
       "      <td>-1.707815</td>\n",
       "      <td>-5.039159</td>\n",
       "      <td>0.030413</td>\n",
       "      <td>h1</td>\n",
       "    </tr>\n",
       "  </tbody>\n",
       "</table>\n",
       "</div>"
      ],
      "text/plain": [
       "     aa_substitutions  latent_phenotype  observed_phenotype  \\\n",
       "0                L33P          5.253866            0.008957   \n",
       "1            N3V F16S          4.413085           -0.031679   \n",
       "2                              5.000000            0.000000   \n",
       "3            L2Q H31*         -5.282384           -5.929515   \n",
       "4  N3Y L17N D18I E27R         -1.707815           -5.039159   \n",
       "\n",
       "   observed_enrichment homolog  \n",
       "0             1.006228      h1  \n",
       "1             0.978281      h1  \n",
       "2             1.000000      h1  \n",
       "3             0.016407      h1  \n",
       "4             0.030413      h1  "
      ]
     },
     "execution_count": 147,
     "metadata": {},
     "output_type": "execute_result"
    }
   ],
   "source": [
    "subs = CodonVariantTable_h1.barcode_variant_df['aa_substitutions']\n",
    "phenotype_fxn_dict_h1[\"observedPhenotype\"] = lambda x: g(float(phenotype_fxn_dict_h1[\"latentPhenotype\"](x)))# - g(float(wt_latent))\n",
    "CodonVariantTable_h1.barcode_variant_df['observed_phenotype'] = subs.apply(\n",
    "    phenotype_fxn_dict_h1[\"observedPhenotype\"]\n",
    ")\n",
    "phenotype_fxn_dict_h1[\"observedEnrichment\"] = lambda x: 2 ** (phenotype_fxn_dict_h1[\"observedPhenotype\"](x))\n",
    "CodonVariantTable_h1.barcode_variant_df['observed_enrichment'] = subs.apply(\n",
    "    phenotype_fxn_dict_h1[\"observedEnrichment\"]\n",
    ")\n",
    "\n",
    "subs = CodonVariantTable_h2.barcode_variant_df['aa_substitutions']\n",
    "phenotype_fxn_dict_h2[\"observedPhenotype\"] = lambda x: g(float(phenotype_fxn_dict_h2[\"latentPhenotype\"](x))) - g(float(SigmoidPhenotype_h2.wt_latent))\n",
    "CodonVariantTable_h2.barcode_variant_df['observed_phenotype'] = subs.apply(\n",
    "    phenotype_fxn_dict_h2[\"observedPhenotype\"]\n",
    ")\n",
    "# subtract the wt observed phenotype from all observed phenotypes\n",
    "# CodonVariantTable_h2.barcode_variant_df['observed_phenotype'] -= CodonVariantTable_h2.barcode_variant_df.query(\"aa_substitutions == ''\")['observed_phenotype'].iloc[0]\n",
    "\n",
    "phenotype_fxn_dict_h2[\"observedEnrichment\"] = lambda x: 2 ** (phenotype_fxn_dict_h2[\"observedPhenotype\"](x))\n",
    "CodonVariantTable_h2.barcode_variant_df['observed_enrichment'] = subs.apply(\n",
    "    phenotype_fxn_dict_h2[\"observedEnrichment\"]\n",
    ")\n",
    "variants_df = pd.concat(\n",
    "    [\n",
    "        CodonVariantTable_h1.barcode_variant_df.assign(homolog=\"h1\"), \n",
    "        CodonVariantTable_h2.barcode_variant_df.assign(homolog=\"h2\")\n",
    "    ]\n",
    ")\n",
    "\n",
    "variants_df[[\"aa_substitutions\", \"latent_phenotype\", \"observed_phenotype\", \"observed_enrichment\", \"homolog\"]].head()"
   ]
  },
  {
   "cell_type": "code",
   "execution_count": 148,
   "id": "a22d818b",
   "metadata": {},
   "outputs": [
    {
     "data": {
      "application/vnd.microsoft.datawrangler.viewer.v0+json": {
       "columns": [
        {
         "name": "index",
         "rawType": "int64",
         "type": "integer"
        },
        {
         "name": "library",
         "rawType": "category",
         "type": "unknown"
        },
        {
         "name": "barcode",
         "rawType": "object",
         "type": "string"
        },
        {
         "name": "variant_call_support",
         "rawType": "int64",
         "type": "integer"
        },
        {
         "name": "codon_substitutions",
         "rawType": "object",
         "type": "string"
        },
        {
         "name": "aa_substitutions",
         "rawType": "object",
         "type": "string"
        },
        {
         "name": "n_codon_substitutions",
         "rawType": "int64",
         "type": "integer"
        },
        {
         "name": "n_aa_substitutions",
         "rawType": "int64",
         "type": "integer"
        },
        {
         "name": "latent_phenotype",
         "rawType": "float64",
         "type": "float"
        },
        {
         "name": "observed_phenotype",
         "rawType": "float64",
         "type": "float"
        },
        {
         "name": "observed_enrichment",
         "rawType": "float64",
         "type": "float"
        },
        {
         "name": "homolog",
         "rawType": "object",
         "type": "string"
        }
       ],
       "ref": "ac83ceec-13ba-4dca-b5eb-075da7007063",
       "rows": [
        [
         "2",
         "lib_1",
         "AAAAAACGATCGAGCT",
         "3",
         "",
         "",
         "0",
         "0",
         "3.4112494008881007",
         "0.0",
         "1.0",
         "h2"
        ],
        [
         "14",
         "lib_1",
         "AAAAACTAATAGAACC",
         "4",
         "",
         "",
         "0",
         "0",
         "3.4112494008881007",
         "0.0",
         "1.0",
         "h2"
        ],
        [
         "20",
         "lib_1",
         "AAAAAGGTCAGAAAGC",
         "1",
         "",
         "",
         "0",
         "0",
         "3.4112494008881007",
         "0.0",
         "1.0",
         "h2"
        ],
        [
         "25",
         "lib_1",
         "AAAAATTCGTCTTTGG",
         "1",
         "",
         "",
         "0",
         "0",
         "3.4112494008881007",
         "0.0",
         "1.0",
         "h2"
        ],
        [
         "26",
         "lib_1",
         "AAAACAATTAATCTGC",
         "1",
         "",
         "",
         "0",
         "0",
         "3.4112494008881007",
         "0.0",
         "1.0",
         "h2"
        ],
        [
         "36",
         "lib_1",
         "AAAACCTATGGATTAT",
         "5",
         "",
         "",
         "0",
         "0",
         "3.4112494008881007",
         "0.0",
         "1.0",
         "h2"
        ],
        [
         "42",
         "lib_1",
         "AAAACGGCTCCGATTC",
         "1",
         "",
         "",
         "0",
         "0",
         "3.4112494008881007",
         "0.0",
         "1.0",
         "h2"
        ],
        [
         "46",
         "lib_1",
         "AAAACTCATCCGGTGT",
         "3",
         "",
         "",
         "0",
         "0",
         "3.4112494008881007",
         "0.0",
         "1.0",
         "h2"
        ],
        [
         "48",
         "lib_1",
         "AAAACTCTAGAATTGT",
         "2",
         "",
         "",
         "0",
         "0",
         "3.4112494008881007",
         "0.0",
         "1.0",
         "h2"
        ],
        [
         "62",
         "lib_1",
         "AAAAGCGCTCGAGCCT",
         "1",
         "",
         "",
         "0",
         "0",
         "3.4112494008881007",
         "0.0",
         "1.0",
         "h2"
        ],
        [
         "70",
         "lib_1",
         "AAAAGTACGACGCCCG",
         "1",
         "",
         "",
         "0",
         "0",
         "3.4112494008881007",
         "0.0",
         "1.0",
         "h2"
        ],
        [
         "77",
         "lib_1",
         "AAAAGTTTGACACCGT",
         "1",
         "",
         "",
         "0",
         "0",
         "3.4112494008881007",
         "0.0",
         "1.0",
         "h2"
        ],
        [
         "80",
         "lib_1",
         "AAAATAGCTATCCTAG",
         "1",
         "",
         "",
         "0",
         "0",
         "3.4112494008881007",
         "0.0",
         "1.0",
         "h2"
        ],
        [
         "87",
         "lib_1",
         "AAAATCCGATCGCCGT",
         "1",
         "",
         "",
         "0",
         "0",
         "3.4112494008881007",
         "0.0",
         "1.0",
         "h2"
        ],
        [
         "93",
         "lib_1",
         "AAAATTAAGAGTTCTT",
         "2",
         "",
         "",
         "0",
         "0",
         "3.4112494008881007",
         "0.0",
         "1.0",
         "h2"
        ],
        [
         "95",
         "lib_1",
         "AAAATTGCACTCGCGA",
         "2",
         "",
         "",
         "0",
         "0",
         "3.4112494008881007",
         "0.0",
         "1.0",
         "h2"
        ],
        [
         "96",
         "lib_1",
         "AAAATTGCCATATTTT",
         "1",
         "",
         "",
         "0",
         "0",
         "3.4112494008881007",
         "0.0",
         "1.0",
         "h2"
        ],
        [
         "97",
         "lib_1",
         "AAACAAAAGCAGTATA",
         "3",
         "TTA2CTT",
         "",
         "1",
         "0",
         "3.4112494008881007",
         "0.0",
         "1.0",
         "h2"
        ],
        [
         "118",
         "lib_1",
         "AAACATCGTGTTGAAA",
         "1",
         "",
         "",
         "0",
         "0",
         "3.4112494008881007",
         "0.0",
         "1.0",
         "h2"
        ],
        [
         "120",
         "lib_1",
         "AAACATGAAACGAATT",
         "1",
         "",
         "",
         "0",
         "0",
         "3.4112494008881007",
         "0.0",
         "1.0",
         "h2"
        ],
        [
         "130",
         "lib_1",
         "AAACCACGAGATATTA",
         "7",
         "AAG21AAA",
         "",
         "1",
         "0",
         "3.4112494008881007",
         "0.0",
         "1.0",
         "h2"
        ],
        [
         "132",
         "lib_1",
         "AAACCAGAACGGGTCT",
         "1",
         "",
         "",
         "0",
         "0",
         "3.4112494008881007",
         "0.0",
         "1.0",
         "h2"
        ],
        [
         "134",
         "lib_1",
         "AAACCATAGACATGGT",
         "4",
         "",
         "",
         "0",
         "0",
         "3.4112494008881007",
         "0.0",
         "1.0",
         "h2"
        ],
        [
         "149",
         "lib_1",
         "AAACCGTACAGAGGAG",
         "3",
         "",
         "",
         "0",
         "0",
         "3.4112494008881007",
         "0.0",
         "1.0",
         "h2"
        ],
        [
         "153",
         "lib_1",
         "AAACGACCTTCATTCG",
         "8",
         "",
         "",
         "0",
         "0",
         "3.4112494008881007",
         "0.0",
         "1.0",
         "h2"
        ],
        [
         "156",
         "lib_1",
         "AAACGCCAGGTTTCCG",
         "3",
         "",
         "",
         "0",
         "0",
         "3.4112494008881007",
         "0.0",
         "1.0",
         "h2"
        ],
        [
         "167",
         "lib_1",
         "AAACGTACCACCATCA",
         "2",
         "",
         "",
         "0",
         "0",
         "3.4112494008881007",
         "0.0",
         "1.0",
         "h2"
        ],
        [
         "179",
         "lib_1",
         "AAACTACCCGAACTCT",
         "1",
         "",
         "",
         "0",
         "0",
         "3.4112494008881007",
         "0.0",
         "1.0",
         "h2"
        ],
        [
         "180",
         "lib_1",
         "AAACTACCGTGTGGCA",
         "2",
         "",
         "",
         "0",
         "0",
         "3.4112494008881007",
         "0.0",
         "1.0",
         "h2"
        ],
        [
         "184",
         "lib_1",
         "AAACTCCTTCCTATTC",
         "1",
         "",
         "",
         "0",
         "0",
         "3.4112494008881007",
         "0.0",
         "1.0",
         "h2"
        ],
        [
         "196",
         "lib_1",
         "AAACTGGGAAGACAAA",
         "1",
         "",
         "",
         "0",
         "0",
         "3.4112494008881007",
         "0.0",
         "1.0",
         "h2"
        ],
        [
         "202",
         "lib_1",
         "AAACTTCTTGACCCCG",
         "2",
         "",
         "",
         "0",
         "0",
         "3.4112494008881007",
         "0.0",
         "1.0",
         "h2"
        ],
        [
         "204",
         "lib_1",
         "AAAGAAACATCTTTAC",
         "1",
         "",
         "",
         "0",
         "0",
         "3.4112494008881007",
         "0.0",
         "1.0",
         "h2"
        ],
        [
         "209",
         "lib_1",
         "AAAGACAAGCGGAAGT",
         "1",
         "",
         "",
         "0",
         "0",
         "3.4112494008881007",
         "0.0",
         "1.0",
         "h2"
        ],
        [
         "210",
         "lib_1",
         "AAAGACCAAGCACGTG",
         "5",
         "",
         "",
         "0",
         "0",
         "3.4112494008881007",
         "0.0",
         "1.0",
         "h2"
        ],
        [
         "220",
         "lib_1",
         "AAAGAGTGAAGACACA",
         "1",
         "",
         "",
         "0",
         "0",
         "3.4112494008881007",
         "0.0",
         "1.0",
         "h2"
        ],
        [
         "239",
         "lib_1",
         "AAAGCCTGATAATCGA",
         "1",
         "",
         "",
         "0",
         "0",
         "3.4112494008881007",
         "0.0",
         "1.0",
         "h2"
        ],
        [
         "242",
         "lib_1",
         "AAAGCGACCTAATGAG",
         "2",
         "CTT33CTG",
         "",
         "1",
         "0",
         "3.4112494008881007",
         "0.0",
         "1.0",
         "h2"
        ],
        [
         "246",
         "lib_1",
         "AAAGCGTGAATAATAA",
         "2",
         "GGT48GGC",
         "",
         "1",
         "0",
         "3.4112494008881007",
         "0.0",
         "1.0",
         "h2"
        ],
        [
         "248",
         "lib_1",
         "AAAGCTATAGCGCGTG",
         "12",
         "",
         "",
         "0",
         "0",
         "3.4112494008881007",
         "0.0",
         "1.0",
         "h2"
        ],
        [
         "249",
         "lib_1",
         "AAAGCTCCGAAAACAC",
         "1",
         "",
         "",
         "0",
         "0",
         "3.4112494008881007",
         "0.0",
         "1.0",
         "h2"
        ],
        [
         "256",
         "lib_1",
         "AAAGGACCGATAGCCA",
         "12",
         "",
         "",
         "0",
         "0",
         "3.4112494008881007",
         "0.0",
         "1.0",
         "h2"
        ],
        [
         "271",
         "lib_1",
         "AAAGGGCCTTTTTAAC",
         "3",
         "AGA32AGG",
         "",
         "1",
         "0",
         "3.4112494008881007",
         "0.0",
         "1.0",
         "h2"
        ],
        [
         "272",
         "lib_1",
         "AAAGGGCGGTCTGTCC",
         "1",
         "",
         "",
         "0",
         "0",
         "3.4112494008881007",
         "0.0",
         "1.0",
         "h2"
        ],
        [
         "275",
         "lib_1",
         "AAAGGGTCCAACACAC",
         "1",
         "",
         "",
         "0",
         "0",
         "3.4112494008881007",
         "0.0",
         "1.0",
         "h2"
        ],
        [
         "283",
         "lib_1",
         "AAAGTAAAGTTATGCT",
         "5",
         "",
         "",
         "0",
         "0",
         "3.4112494008881007",
         "0.0",
         "1.0",
         "h2"
        ],
        [
         "287",
         "lib_1",
         "AAAGTAGACTGTACAT",
         "2",
         "",
         "",
         "0",
         "0",
         "3.4112494008881007",
         "0.0",
         "1.0",
         "h2"
        ],
        [
         "288",
         "lib_1",
         "AAAGTAGCGCTAACAG",
         "11",
         "",
         "",
         "0",
         "0",
         "3.4112494008881007",
         "0.0",
         "1.0",
         "h2"
        ],
        [
         "300",
         "lib_1",
         "AAAGTGCCGTAGCCAA",
         "3",
         "",
         "",
         "0",
         "0",
         "3.4112494008881007",
         "0.0",
         "1.0",
         "h2"
        ],
        [
         "306",
         "lib_1",
         "AAAGTGGGCGCTTCAG",
         "1",
         "",
         "",
         "0",
         "0",
         "3.4112494008881007",
         "0.0",
         "1.0",
         "h2"
        ]
       ],
       "shape": {
        "columns": 11,
        "rows": 7264
       }
      },
      "text/html": [
       "<div>\n",
       "<style scoped>\n",
       "    .dataframe tbody tr th:only-of-type {\n",
       "        vertical-align: middle;\n",
       "    }\n",
       "\n",
       "    .dataframe tbody tr th {\n",
       "        vertical-align: top;\n",
       "    }\n",
       "\n",
       "    .dataframe thead th {\n",
       "        text-align: right;\n",
       "    }\n",
       "</style>\n",
       "<table border=\"1\" class=\"dataframe\">\n",
       "  <thead>\n",
       "    <tr style=\"text-align: right;\">\n",
       "      <th></th>\n",
       "      <th>library</th>\n",
       "      <th>barcode</th>\n",
       "      <th>variant_call_support</th>\n",
       "      <th>codon_substitutions</th>\n",
       "      <th>aa_substitutions</th>\n",
       "      <th>n_codon_substitutions</th>\n",
       "      <th>n_aa_substitutions</th>\n",
       "      <th>latent_phenotype</th>\n",
       "      <th>observed_phenotype</th>\n",
       "      <th>observed_enrichment</th>\n",
       "      <th>homolog</th>\n",
       "    </tr>\n",
       "  </thead>\n",
       "  <tbody>\n",
       "    <tr>\n",
       "      <th>2</th>\n",
       "      <td>lib_1</td>\n",
       "      <td>AAAAAACGATCGAGCT</td>\n",
       "      <td>3</td>\n",
       "      <td></td>\n",
       "      <td></td>\n",
       "      <td>0</td>\n",
       "      <td>0</td>\n",
       "      <td>3.411249</td>\n",
       "      <td>0.0</td>\n",
       "      <td>1.0</td>\n",
       "      <td>h2</td>\n",
       "    </tr>\n",
       "    <tr>\n",
       "      <th>14</th>\n",
       "      <td>lib_1</td>\n",
       "      <td>AAAAACTAATAGAACC</td>\n",
       "      <td>4</td>\n",
       "      <td></td>\n",
       "      <td></td>\n",
       "      <td>0</td>\n",
       "      <td>0</td>\n",
       "      <td>3.411249</td>\n",
       "      <td>0.0</td>\n",
       "      <td>1.0</td>\n",
       "      <td>h2</td>\n",
       "    </tr>\n",
       "    <tr>\n",
       "      <th>20</th>\n",
       "      <td>lib_1</td>\n",
       "      <td>AAAAAGGTCAGAAAGC</td>\n",
       "      <td>1</td>\n",
       "      <td></td>\n",
       "      <td></td>\n",
       "      <td>0</td>\n",
       "      <td>0</td>\n",
       "      <td>3.411249</td>\n",
       "      <td>0.0</td>\n",
       "      <td>1.0</td>\n",
       "      <td>h2</td>\n",
       "    </tr>\n",
       "    <tr>\n",
       "      <th>25</th>\n",
       "      <td>lib_1</td>\n",
       "      <td>AAAAATTCGTCTTTGG</td>\n",
       "      <td>1</td>\n",
       "      <td></td>\n",
       "      <td></td>\n",
       "      <td>0</td>\n",
       "      <td>0</td>\n",
       "      <td>3.411249</td>\n",
       "      <td>0.0</td>\n",
       "      <td>1.0</td>\n",
       "      <td>h2</td>\n",
       "    </tr>\n",
       "    <tr>\n",
       "      <th>26</th>\n",
       "      <td>lib_1</td>\n",
       "      <td>AAAACAATTAATCTGC</td>\n",
       "      <td>1</td>\n",
       "      <td></td>\n",
       "      <td></td>\n",
       "      <td>0</td>\n",
       "      <td>0</td>\n",
       "      <td>3.411249</td>\n",
       "      <td>0.0</td>\n",
       "      <td>1.0</td>\n",
       "      <td>h2</td>\n",
       "    </tr>\n",
       "    <tr>\n",
       "      <th>...</th>\n",
       "      <td>...</td>\n",
       "      <td>...</td>\n",
       "      <td>...</td>\n",
       "      <td>...</td>\n",
       "      <td>...</td>\n",
       "      <td>...</td>\n",
       "      <td>...</td>\n",
       "      <td>...</td>\n",
       "      <td>...</td>\n",
       "      <td>...</td>\n",
       "      <td>...</td>\n",
       "    </tr>\n",
       "    <tr>\n",
       "      <th>49971</th>\n",
       "      <td>lib_2</td>\n",
       "      <td>TTTTGGCCTGCGCCGC</td>\n",
       "      <td>1</td>\n",
       "      <td></td>\n",
       "      <td></td>\n",
       "      <td>0</td>\n",
       "      <td>0</td>\n",
       "      <td>3.411249</td>\n",
       "      <td>0.0</td>\n",
       "      <td>1.0</td>\n",
       "      <td>h2</td>\n",
       "    </tr>\n",
       "    <tr>\n",
       "      <th>49972</th>\n",
       "      <td>lib_2</td>\n",
       "      <td>TTTTGGCGCAGCGTCG</td>\n",
       "      <td>4</td>\n",
       "      <td></td>\n",
       "      <td></td>\n",
       "      <td>0</td>\n",
       "      <td>0</td>\n",
       "      <td>3.411249</td>\n",
       "      <td>0.0</td>\n",
       "      <td>1.0</td>\n",
       "      <td>h2</td>\n",
       "    </tr>\n",
       "    <tr>\n",
       "      <th>49980</th>\n",
       "      <td>lib_2</td>\n",
       "      <td>TTTTGTCATGAGTATG</td>\n",
       "      <td>1</td>\n",
       "      <td></td>\n",
       "      <td></td>\n",
       "      <td>0</td>\n",
       "      <td>0</td>\n",
       "      <td>3.411249</td>\n",
       "      <td>0.0</td>\n",
       "      <td>1.0</td>\n",
       "      <td>h2</td>\n",
       "    </tr>\n",
       "    <tr>\n",
       "      <th>49986</th>\n",
       "      <td>lib_2</td>\n",
       "      <td>TTTTTACTCACGGCTG</td>\n",
       "      <td>1</td>\n",
       "      <td></td>\n",
       "      <td></td>\n",
       "      <td>0</td>\n",
       "      <td>0</td>\n",
       "      <td>3.411249</td>\n",
       "      <td>0.0</td>\n",
       "      <td>1.0</td>\n",
       "      <td>h2</td>\n",
       "    </tr>\n",
       "    <tr>\n",
       "      <th>49988</th>\n",
       "      <td>lib_2</td>\n",
       "      <td>TTTTTCGTCCCTTATA</td>\n",
       "      <td>2</td>\n",
       "      <td></td>\n",
       "      <td></td>\n",
       "      <td>0</td>\n",
       "      <td>0</td>\n",
       "      <td>3.411249</td>\n",
       "      <td>0.0</td>\n",
       "      <td>1.0</td>\n",
       "      <td>h2</td>\n",
       "    </tr>\n",
       "  </tbody>\n",
       "</table>\n",
       "<p>7264 rows × 11 columns</p>\n",
       "</div>"
      ],
      "text/plain": [
       "      library           barcode  variant_call_support codon_substitutions  \\\n",
       "2       lib_1  AAAAAACGATCGAGCT                     3                       \n",
       "14      lib_1  AAAAACTAATAGAACC                     4                       \n",
       "20      lib_1  AAAAAGGTCAGAAAGC                     1                       \n",
       "25      lib_1  AAAAATTCGTCTTTGG                     1                       \n",
       "26      lib_1  AAAACAATTAATCTGC                     1                       \n",
       "...       ...               ...                   ...                 ...   \n",
       "49971   lib_2  TTTTGGCCTGCGCCGC                     1                       \n",
       "49972   lib_2  TTTTGGCGCAGCGTCG                     4                       \n",
       "49980   lib_2  TTTTGTCATGAGTATG                     1                       \n",
       "49986   lib_2  TTTTTACTCACGGCTG                     1                       \n",
       "49988   lib_2  TTTTTCGTCCCTTATA                     2                       \n",
       "\n",
       "      aa_substitutions  n_codon_substitutions  n_aa_substitutions  \\\n",
       "2                                           0                   0   \n",
       "14                                          0                   0   \n",
       "20                                          0                   0   \n",
       "25                                          0                   0   \n",
       "26                                          0                   0   \n",
       "...                ...                    ...                 ...   \n",
       "49971                                       0                   0   \n",
       "49972                                       0                   0   \n",
       "49980                                       0                   0   \n",
       "49986                                       0                   0   \n",
       "49988                                       0                   0   \n",
       "\n",
       "       latent_phenotype  observed_phenotype  observed_enrichment homolog  \n",
       "2              3.411249                 0.0                  1.0      h2  \n",
       "14             3.411249                 0.0                  1.0      h2  \n",
       "20             3.411249                 0.0                  1.0      h2  \n",
       "25             3.411249                 0.0                  1.0      h2  \n",
       "26             3.411249                 0.0                  1.0      h2  \n",
       "...                 ...                 ...                  ...     ...  \n",
       "49971          3.411249                 0.0                  1.0      h2  \n",
       "49972          3.411249                 0.0                  1.0      h2  \n",
       "49980          3.411249                 0.0                  1.0      h2  \n",
       "49986          3.411249                 0.0                  1.0      h2  \n",
       "49988          3.411249                 0.0                  1.0      h2  \n",
       "\n",
       "[7264 rows x 11 columns]"
      ]
     },
     "execution_count": 148,
     "metadata": {},
     "output_type": "execute_result"
    }
   ],
   "source": [
    "variants_df.query(\"aa_substitutions == '' & homolog == 'h2'\")"
   ]
  },
  {
   "cell_type": "code",
   "execution_count": null,
   "id": "4369524e",
   "metadata": {},
   "outputs": [],
   "source": []
  },
  {
   "cell_type": "markdown",
   "id": "f15c56b0",
   "metadata": {},
   "source": [
    "Note that The enrichment score transforms phenotypes to be between 0 and 1, and can thus be used to compute the number of counts for each variant in the post-selection library using a multinomial distribution where the probability of observing a variant is proportional to its enrichment. Below, we plot each variant's latent phenotype against its observed enrichment:"
   ]
  },
  {
   "cell_type": "code",
   "execution_count": 150,
   "id": "1515dc7e",
   "metadata": {},
   "outputs": [
    {
     "data": {
      "image/png": "[encoded data removed]",
      "text/plain": [
       "<Figure size 500x300 with 1 Axes>"
      ]
     },
     "metadata": {},
     "output_type": "display_data"
    }
   ],
   "source": [
    "\n",
    "p = (\n",
    "    ggplot(\n",
    "        variants_df, \n",
    "        aes(\n",
    "            x = \"latent_phenotype\",\n",
    "            y = \"observed_enrichment\",\n",
    "            color = \"homolog\"\n",
    "        )\n",
    "    )\n",
    "    + geom_point()\n",
    "    + geom_vline(xintercept=SigmoidPhenotype_h1.wt_latent)\n",
    "    + geom_vline(xintercept=SigmoidPhenotype_h2.wt_latent, linetype=\"dotted\")\n",
    "    + theme_classic()\n",
    "    + theme(\n",
    "        figure_size=(5, 3),\n",
    "        axis_text_x=element_text(angle=90),\n",
    "        panel_grid_major_x=element_blank(),  # no vertical grid lines\n",
    "    )\n",
    "    + labs(\n",
    "        x=\"$\\phi$\",\n",
    "        y=\"observed enrichment\"\n",
    "    )\n",
    "    # zoom in on the x axis limits\n",
    "    + scale_x_continuous(limits=(-10, 10))\n",
    ")\n",
    "_ = p.draw(show=True)"
   ]
  },
  {
   "cell_type": "markdown",
   "id": "277a1047",
   "metadata": {},
   "source": [
    "### Pre and post-selection variant read counts"
   ]
  },
  {
   "cell_type": "markdown",
   "id": "5d55dc2a",
   "metadata": {},
   "source": [
    "Next, we will simulate both pre and post-selection counts of each variant subjected to an experimental selection step. Post-selection counts will be simulated by applying the specified selection bottleneck(s) to the pre-selection counts. To do this, we will use the functionality provided by [dms_variants.simulate.simulateSampleCounts](https://jbloomlab.github.io/dms_variants/dms_variants.simulate.html#dms_variants.simulate.simulateSampleCounts) and feed it our custom phenotype function."
   ]
  },
  {
   "cell_type": "code",
   "execution_count": 151,
   "id": "0096b542",
   "metadata": {},
   "outputs": [],
   "source": [
    "bottlenecks = {\n",
    "    name : variants_per_lib * scalar\n",
    "    for name, scalar in bottleneck_variants_per_lib_scalar.items()\n",
    "}\n",
    "\n",
    "# do this independently for each of the homologs.\n",
    "counts_h1, counts_h2 = [\n",
    "    dms_variants.simulate.simulateSampleCounts(\n",
    "        variants=variants,\n",
    "        phenotype_func=pheno_fxn_dict[\"observedEnrichment\"],\n",
    "        variant_error_rate=variant_error_rate,\n",
    "        pre_sample={\n",
    "            \"total_count\": variants_per_lib * np.random.poisson(avgdepth_per_variant),\n",
    "            \"uniformity\": lib_uniformity,\n",
    "        },\n",
    "        pre_sample_name=\"pre-selection\",\n",
    "        post_samples={\n",
    "            name: {\n",
    "                \"noise\": noise,\n",
    "                \"total_count\": variants_per_lib * np.random.poisson(avgdepth_per_variant),\n",
    "                \"bottleneck\": bottleneck,\n",
    "            }\n",
    "            for name, bottleneck in bottlenecks.items()\n",
    "        },\n",
    "        seed=seed,\n",
    "    )\n",
    "    for variants, pheno_fxn_dict in zip(\n",
    "        [CodonVariantTable_h1, CodonVariantTable_h2], [phenotype_fxn_dict_h1, phenotype_fxn_dict_h2]\n",
    "    )\n",
    "]\n",
    "CodonVariantTable_h1.add_sample_counts_df(counts_h1)\n",
    "CodonVariantTable_h2.add_sample_counts_df(counts_h2)"
   ]
  },
  {
   "cell_type": "markdown",
   "id": "3666f515",
   "metadata": {},
   "source": [
    "Plot the number of counts for each variant in each sample. The horizontal dashed line shows the total number of variants. The plot shows that all variants are well-sampled in the pre-selection libraries, but that post- selection some variants are sampled more or less. This is expected since selection will decrease and increase the frequency of variants:"
   ]
  },
  {
   "cell_type": "code",
   "execution_count": 152,
   "id": "4d7a084e",
   "metadata": {},
   "outputs": [
    {
     "data": {
      "image/png": "[encoded data removed]",
      "text/plain": [
       "<Figure size 500x500 with 9 Axes>"
      ]
     },
     "metadata": {},
     "output_type": "display_data"
    },
    {
     "data": {
      "image/png": "[encoded data removed]",
      "text/plain": [
       "<Figure size 500x500 with 9 Axes>"
      ]
     },
     "metadata": {},
     "output_type": "display_data"
    }
   ],
   "source": [
    "for variants, title in zip([CodonVariantTable_h1, CodonVariantTable_h2], ['homolog 1', 'homolog 2']):\n",
    "    p = variants.plotCumulVariantCounts()\n",
    "    p += theme_classic() \n",
    "    p += theme(\n",
    "        panel_grid_major_x=element_blank(),  # no vertical grid lines\n",
    "        figure_size=(5, 5)\n",
    "    )\n",
    "    p += labs(title=title)\n",
    "    _ = p.draw(show=True)"
   ]
  },
  {
   "cell_type": "markdown",
   "id": "25b05ba7",
   "metadata": {},
   "source": [
    "Distribution of the number of amino-acid mutations per variant in each sample. As expected, mutations go down after selection:"
   ]
  },
  {
   "cell_type": "code",
   "execution_count": 153,
   "id": "313299ff",
   "metadata": {},
   "outputs": [
    {
     "data": {
      "image/png": "[encoded data removed]",
      "text/plain": [
       "<Figure size 500x500 with 9 Axes>"
      ]
     },
     "metadata": {},
     "output_type": "display_data"
    },
    {
     "data": {
      "image/png": "[encoded data removed]",
      "text/plain": [
       "<Figure size 500x500 with 9 Axes>"
      ]
     },
     "metadata": {},
     "output_type": "display_data"
    }
   ],
   "source": [
    "for variants, title in zip([CodonVariantTable_h1, CodonVariantTable_h2], ['homolog 1', 'homolog 2']):\n",
    "    p = variants.plotNumMutsHistogram(mut_type=\"aa\")\n",
    "    p += theme_classic() \n",
    "    p += theme(figure_size=(5, 5))\n",
    "    p += labs(title=title)\n",
    "    _ = p.draw(show=True)"
   ]
  },
  {
   "cell_type": "markdown",
   "id": "4892952d",
   "metadata": {},
   "source": [
    "Plot how thoroughly amino-acid mutations are sampled. The plots below show that the stop mutations are sampled very poorly post-selection because they are eliminated during selection:"
   ]
  },
  {
   "cell_type": "code",
   "execution_count": 154,
   "id": "ad6573dd",
   "metadata": {},
   "outputs": [
    {
     "data": {
      "image/png": "[encoded data removed]",
      "text/plain": [
       "<Figure size 600x500 with 9 Axes>"
      ]
     },
     "metadata": {},
     "output_type": "display_data"
    },
    {
     "data": {
      "image/png": "[encoded data removed]",
      "text/plain": [
       "<Figure size 600x500 with 9 Axes>"
      ]
     },
     "metadata": {},
     "output_type": "display_data"
    }
   ],
   "source": [
    "for variants, title in zip([CodonVariantTable_h1, CodonVariantTable_h2], ['homolog 1', 'homolog 2']):\n",
    "    p = variants.plotCumulMutCoverage(variant_type=\"all\", mut_type=\"aa\")\n",
    "    p += theme_classic() \n",
    "    p += theme(figure_size=(6, 5))\n",
    "    p += theme(axis_text_x=element_text(angle=90))\n",
    "    p += labs(title=title)\n",
    "    _ = p.draw(show=True)"
   ]
  },
  {
   "cell_type": "markdown",
   "id": "22a8c780",
   "metadata": {},
   "source": [
    "### Prep training data"
   ]
  },
  {
   "cell_type": "markdown",
   "id": "5128374f",
   "metadata": {},
   "source": [
    "Prepare the training dataframes for fitting our `multidms` models.  \n",
    "\n",
    "As this is a joint-fitting approach, we combine homolog variants from each of the corresponding library replicates into a single training dataset. Additionally, for each replicate dataset, we'll train models on each of the following targets representing different levels of noise in the data:\n",
    "\n",
    "1. Ground truth _observed phenotype_ - this target acts as a control and benchmarks the ability of the model to recover the true latent effects and shifts controlling for other sources of noise.\n",
    "2. _Loose bottleneck_ counts derived functional scores - these scores are derived from the observed enrichments, and used to asses model performance in the context of realistic experimental noise.\n",
    "3. _Tight bottleneck_ counts derived functional scores - the same as above, but with a tighter bottleneck for more extreme cases of noise.\n",
    "\n",
    "For further details on how to prepare data and fit models, see the `multidms` [quick-start tutorial](https://matsengrp.github.io/multidms/fit_delta_BA1_example.html)."
   ]
  },
  {
   "cell_type": "markdown",
   "id": "8b3b29a4",
   "metadata": {},
   "source": [
    "Start by creating training data with ground truth phenotype target. Because the barcode replicates share ground truth phenotypes we can can collapse the counts accross replicates by simple dropping duplicates."
   ]
  },
  {
   "cell_type": "code",
   "execution_count": 155,
   "id": "0ba9e3d8",
   "metadata": {},
   "outputs": [
    {
     "data": {
      "text/plain": [
       "np.True_"
      ]
     },
     "execution_count": 155,
     "metadata": {},
     "output_type": "execute_result"
    }
   ],
   "source": [
    "(variants.variant_count_df.barcode.value_counts().values == 3).all()"
   ]
  },
  {
   "cell_type": "code",
   "execution_count": null,
   "id": "8b29ffa6",
   "metadata": {},
   "outputs": [],
   "source": []
  },
  {
   "cell_type": "code",
   "execution_count": 156,
   "id": "032f8783",
   "metadata": {},
   "outputs": [
    {
     "data": {
      "application/vnd.microsoft.datawrangler.viewer.v0+json": {
       "columns": [
        {
         "name": "sample",
         "rawType": "category",
         "type": "unknown"
        },
        {
         "name": "count",
         "rawType": "int64",
         "type": "integer"
        }
       ],
       "ref": "0186aa1c-07d7-4935-a353-cd05f470b3e7",
       "rows": [
        [
         "pre-selection",
         "50000"
        ],
        [
         "loose_bottle",
         "50000"
        ],
        [
         "tight_bottle",
         "50000"
        ]
       ],
       "shape": {
        "columns": 1,
        "rows": 3
       }
      },
      "text/plain": [
       "sample\n",
       "pre-selection    50000\n",
       "loose_bottle     50000\n",
       "tight_bottle     50000\n",
       "Name: count, dtype: int64"
      ]
     },
     "execution_count": 156,
     "metadata": {},
     "output_type": "execute_result"
    }
   ],
   "source": [
    "variants.variant_count_df[\"sample\"].value_counts().sort_index()"
   ]
  },
  {
   "cell_type": "code",
   "execution_count": 157,
   "id": "be50a49b",
   "metadata": {},
   "outputs": [
    {
     "data": {
      "application/vnd.microsoft.datawrangler.viewer.v0+json": {
       "columns": [
        {
         "name": "library",
         "rawType": "category",
         "type": "unknown"
        },
        {
         "name": "count",
         "rawType": "int64",
         "type": "integer"
        }
       ],
       "ref": "e4448a66-fce5-49c2-ab3c-7ef56440743f",
       "rows": [
        [
         "lib_1",
         "25000"
        ],
        [
         "lib_2",
         "25000"
        ]
       ],
       "shape": {
        "columns": 1,
        "rows": 2
       }
      },
      "text/plain": [
       "library\n",
       "lib_1    25000\n",
       "lib_2    25000\n",
       "Name: count, dtype: int64"
      ]
     },
     "execution_count": 157,
     "metadata": {},
     "output_type": "execute_result"
    }
   ],
   "source": [
    "variants.barcode_variant_df.library.value_counts()"
   ]
  },
  {
   "cell_type": "code",
   "execution_count": 158,
   "id": "68ca3401",
   "metadata": {},
   "outputs": [
    {
     "data": {
      "application/vnd.microsoft.datawrangler.viewer.v0+json": {
       "columns": [
        {
         "name": "index",
         "rawType": "int64",
         "type": "integer"
        },
        {
         "name": "library",
         "rawType": "object",
         "type": "string"
        },
        {
         "name": "homolog",
         "rawType": "object",
         "type": "string"
        },
        {
         "name": "aa_substitutions",
         "rawType": "object",
         "type": "string"
        },
        {
         "name": "func_score_type",
         "rawType": "object",
         "type": "string"
        },
        {
         "name": "func_score",
         "rawType": "float64",
         "type": "float"
        }
       ],
       "ref": "058472b0-9e55-484c-b878-5a93819d3f89",
       "rows": [
        [
         "0",
         "lib_1",
         "h1",
         "L33P",
         "observed_phenotype",
         "0.01"
        ],
        [
         "1",
         "lib_1",
         "h1",
         "N3V F16S",
         "observed_phenotype",
         "-0.03"
        ],
        [
         "2",
         "lib_1",
         "h1",
         "",
         "observed_phenotype",
         "0.0"
        ],
        [
         "3",
         "lib_1",
         "h1",
         "L2Q H31*",
         "observed_phenotype",
         "-5.93"
        ],
        [
         "4",
         "lib_1",
         "h1",
         "N3Y L17N D18I E27R",
         "observed_phenotype",
         "-5.04"
        ]
       ],
       "shape": {
        "columns": 5,
        "rows": 5
       }
      },
      "text/html": [
       "<div>\n",
       "<style scoped>\n",
       "    .dataframe tbody tr th:only-of-type {\n",
       "        vertical-align: middle;\n",
       "    }\n",
       "\n",
       "    .dataframe tbody tr th {\n",
       "        vertical-align: top;\n",
       "    }\n",
       "\n",
       "    .dataframe thead th {\n",
       "        text-align: right;\n",
       "    }\n",
       "</style>\n",
       "<table border=\"1\" class=\"dataframe\">\n",
       "  <thead>\n",
       "    <tr style=\"text-align: right;\">\n",
       "      <th></th>\n",
       "      <th>library</th>\n",
       "      <th>homolog</th>\n",
       "      <th>aa_substitutions</th>\n",
       "      <th>func_score_type</th>\n",
       "      <th>func_score</th>\n",
       "    </tr>\n",
       "  </thead>\n",
       "  <tbody>\n",
       "    <tr>\n",
       "      <th>0</th>\n",
       "      <td>lib_1</td>\n",
       "      <td>h1</td>\n",
       "      <td>L33P</td>\n",
       "      <td>observed_phenotype</td>\n",
       "      <td>0.01</td>\n",
       "    </tr>\n",
       "    <tr>\n",
       "      <th>1</th>\n",
       "      <td>lib_1</td>\n",
       "      <td>h1</td>\n",
       "      <td>N3V F16S</td>\n",
       "      <td>observed_phenotype</td>\n",
       "      <td>-0.03</td>\n",
       "    </tr>\n",
       "    <tr>\n",
       "      <th>2</th>\n",
       "      <td>lib_1</td>\n",
       "      <td>h1</td>\n",
       "      <td></td>\n",
       "      <td>observed_phenotype</td>\n",
       "      <td>0.00</td>\n",
       "    </tr>\n",
       "    <tr>\n",
       "      <th>3</th>\n",
       "      <td>lib_1</td>\n",
       "      <td>h1</td>\n",
       "      <td>L2Q H31*</td>\n",
       "      <td>observed_phenotype</td>\n",
       "      <td>-5.93</td>\n",
       "    </tr>\n",
       "    <tr>\n",
       "      <th>4</th>\n",
       "      <td>lib_1</td>\n",
       "      <td>h1</td>\n",
       "      <td>N3Y L17N D18I E27R</td>\n",
       "      <td>observed_phenotype</td>\n",
       "      <td>-5.04</td>\n",
       "    </tr>\n",
       "  </tbody>\n",
       "</table>\n",
       "</div>"
      ],
      "text/plain": [
       "  library homolog    aa_substitutions     func_score_type  func_score\n",
       "0   lib_1      h1                L33P  observed_phenotype        0.01\n",
       "1   lib_1      h1            N3V F16S  observed_phenotype       -0.03\n",
       "2   lib_1      h1                      observed_phenotype        0.00\n",
       "3   lib_1      h1            L2Q H31*  observed_phenotype       -5.93\n",
       "4   lib_1      h1  N3Y L17N D18I E27R  observed_phenotype       -5.04"
      ]
     },
     "execution_count": 158,
     "metadata": {},
     "output_type": "execute_result"
    }
   ],
   "source": [
    "req_cols = [\"library\", \"homolog\", \"aa_substitutions\", \"func_score_type\", \"func_score\"]\n",
    "ground_truth_training_set = (\n",
    "    pd.concat(\n",
    "        [\n",
    "            variants.barcode_variant_df[[\"library\", \"aa_substitutions\", \"observed_phenotype\", \"latent_phenotype\"]]\n",
    "            .drop_duplicates()\n",
    "            .assign(homolog=homolog)\n",
    "            for variants, homolog in zip([CodonVariantTable_h1, CodonVariantTable_h2], ['h1', 'h2'])\n",
    "        ]\n",
    "    )\n",
    "    .melt(\n",
    "        id_vars=[\"library\", \"aa_substitutions\", \"homolog\", \"latent_phenotype\"],\n",
    "        value_vars=[\"observed_phenotype\"],\n",
    "        var_name=\"func_score_type\",\n",
    "        value_name=\"func_score\",\n",
    "    )\n",
    "    [req_cols]\n",
    "    .astype({c:str for c in req_cols[:-1]})\n",
    ")\n",
    "ground_truth_training_set.round(2).head()"
   ]
  },
  {
   "cell_type": "code",
   "execution_count": 159,
   "id": "26eb9414",
   "metadata": {},
   "outputs": [
    {
     "data": {
      "application/vnd.microsoft.datawrangler.viewer.v0+json": {
       "columns": [
        {
         "name": "aa_substitutions",
         "rawType": "object",
         "type": "string"
        },
        {
         "name": "count",
         "rawType": "int64",
         "type": "integer"
        }
       ],
       "ref": "80945c12-6122-4d68-96f5-e958709b2d48",
       "rows": [
        [
         "L33P",
         "4"
        ],
        [
         "V6C",
         "4"
        ],
        [
         "S36G",
         "4"
        ],
        [
         "F45P",
         "4"
        ],
        [
         "V39Q",
         "4"
        ],
        [
         "M29V",
         "4"
        ],
        [
         "G7S",
         "4"
        ],
        [
         "G35N",
         "4"
        ],
        [
         "W40C",
         "4"
        ],
        [
         "R32V",
         "4"
        ],
        [
         "R14F",
         "4"
        ],
        [
         "K21E",
         "4"
        ],
        [
         "N3V S36I",
         "4"
        ],
        [
         "F1H V15S",
         "4"
        ],
        [
         "L2T",
         "4"
        ],
        [
         "H24L",
         "4"
        ],
        [
         "D11E",
         "4"
        ],
        [
         "F1H",
         "4"
        ],
        [
         "F16L H24L",
         "4"
        ],
        [
         "V41E",
         "4"
        ],
        [
         "N30V",
         "4"
        ],
        [
         "R32D",
         "4"
        ],
        [
         "S46K",
         "4"
        ],
        [
         "P25C",
         "4"
        ],
        [
         "N30A",
         "4"
        ],
        [
         "G48W",
         "4"
        ],
        [
         "L23N",
         "4"
        ],
        [
         "F16M",
         "4"
        ],
        [
         "F1T S46R",
         "4"
        ],
        [
         "E28Y",
         "4"
        ],
        [
         "L17D",
         "4"
        ],
        [
         "V6T",
         "4"
        ],
        [
         "D18E",
         "4"
        ],
        [
         "N22A R32V",
         "4"
        ],
        [
         "W40I",
         "4"
        ],
        [
         "R32P",
         "4"
        ],
        [
         "D18*",
         "4"
        ],
        [
         "F16I",
         "4"
        ],
        [
         "V39C",
         "4"
        ],
        [
         "L33D",
         "4"
        ],
        [
         "E28I R32N",
         "4"
        ],
        [
         "L33I",
         "4"
        ],
        [
         "V41Y",
         "4"
        ],
        [
         "R13M",
         "4"
        ],
        [
         "M29A",
         "4"
        ],
        [
         "S36E",
         "4"
        ],
        [
         "N22W",
         "4"
        ],
        [
         "V39K",
         "4"
        ],
        [
         "H24T",
         "4"
        ],
        [
         "G35V",
         "4"
        ]
       ],
       "shape": {
        "columns": 1,
        "rows": 42868
       }
      },
      "text/plain": [
       "aa_substitutions\n",
       "L33P                  4\n",
       "V6C                   4\n",
       "S36G                  4\n",
       "F45P                  4\n",
       "V39Q                  4\n",
       "                     ..\n",
       "R19P P25T E27V        1\n",
       "F1C K21C M29L V47T    1\n",
       "G7S Y42S              1\n",
       "D11A R19A Y38*        1\n",
       "N3R H24S V26G         1\n",
       "Name: count, Length: 42868, dtype: int64"
      ]
     },
     "execution_count": 159,
     "metadata": {},
     "output_type": "execute_result"
    }
   ],
   "source": [
    "ground_truth_training_set.aa_substitutions.value_counts()"
   ]
  },
  {
   "cell_type": "markdown",
   "id": "a02331a7",
   "metadata": {},
   "source": [
    "Next, compute functional scores from pre-post counts in each bottleneck _after_ aggregating the barcode replicate counts for unique variants. The [dms_variants.CodonVariantTable.func_scores](https://jbloomlab.github.io/dms_variants/dms_variants.codonvarianttable.html#dms_variants.codonvarianttable.CodonVariantTable.func_scores) method provides the ability to compute functional scores from pre and post-selection counts. We'll use this to compute functional scores for each of the three targets:"
   ]
  },
  {
   "cell_type": "code",
   "execution_count": 166,
   "id": "0cbf0498",
   "metadata": {},
   "outputs": [
    {
     "data": {
      "application/vnd.microsoft.datawrangler.viewer.v0+json": {
       "columns": [
        {
         "name": "index",
         "rawType": "int64",
         "type": "integer"
        },
        {
         "name": "library",
         "rawType": "object",
         "type": "string"
        },
        {
         "name": "pre_sample",
         "rawType": "category",
         "type": "unknown"
        },
        {
         "name": "func_score_type",
         "rawType": "object",
         "type": "string"
        },
        {
         "name": "aa_substitutions",
         "rawType": "object",
         "type": "string"
        },
        {
         "name": "func_score",
         "rawType": "float64",
         "type": "float"
        },
        {
         "name": "func_score_var",
         "rawType": "float64",
         "type": "float"
        },
        {
         "name": "pre_count",
         "rawType": "int64",
         "type": "integer"
        },
        {
         "name": "post_count",
         "rawType": "int64",
         "type": "integer"
        },
        {
         "name": "pre_count_wt",
         "rawType": "int64",
         "type": "integer"
        },
        {
         "name": "post_count_wt",
         "rawType": "int64",
         "type": "integer"
        },
        {
         "name": "pseudocount",
         "rawType": "float64",
         "type": "float"
        },
        {
         "name": "n_aa_substitutions",
         "rawType": "int64",
         "type": "integer"
        },
        {
         "name": "homolog",
         "rawType": "object",
         "type": "string"
        }
       ],
       "ref": "6c8567cf-43fe-490f-9756-de7cba10bd7c",
       "rows": [
        [
         "0",
         "lib_1",
         "pre-selection",
         "loose_bottle",
         "N3S V39I S46G L49N",
         "-0.8776906350155407",
         "0.004955344941135426",
         "853",
         "828",
         "721310",
         "1286537",
         "0.5",
         "4",
         "h1"
        ],
        [
         "1",
         "lib_1",
         "pre-selection",
         "loose_bottle",
         "G48A",
         "-4.1731000637411615",
         "0.008852307689153772",
         "2614",
         "258",
         "721310",
         "1286537",
         "0.5",
         "1",
         "h1"
        ],
        [
         "2",
         "lib_1",
         "pre-selection",
         "loose_bottle",
         "",
         "0.0",
         "9.006689732525012e-06",
         "721310",
         "1286537",
         "721310",
         "1286537",
         "0.5",
         "0",
         "h1"
        ],
        [
         "3",
         "lib_1",
         "pre-selection",
         "loose_bottle",
         "R14W V15P E27P S46L",
         "0.062446520965575944",
         "0.004811230456742077",
         "665",
         "1239",
         "721310",
         "1286537",
         "0.5",
         "4",
         "h1"
        ],
        [
         "4",
         "lib_1",
         "pre-selection",
         "loose_bottle",
         "K21F",
         "-0.2521516882369954",
         "0.002570991131259597",
         "1352",
         "2025",
         "721310",
         "1286537",
         "0.5",
         "1",
         "h1"
        ]
       ],
       "shape": {
        "columns": 13,
        "rows": 5
       }
      },
      "text/html": [
       "<div>\n",
       "<style scoped>\n",
       "    .dataframe tbody tr th:only-of-type {\n",
       "        vertical-align: middle;\n",
       "    }\n",
       "\n",
       "    .dataframe tbody tr th {\n",
       "        vertical-align: top;\n",
       "    }\n",
       "\n",
       "    .dataframe thead th {\n",
       "        text-align: right;\n",
       "    }\n",
       "</style>\n",
       "<table border=\"1\" class=\"dataframe\">\n",
       "  <thead>\n",
       "    <tr style=\"text-align: right;\">\n",
       "      <th></th>\n",
       "      <th>library</th>\n",
       "      <th>pre_sample</th>\n",
       "      <th>func_score_type</th>\n",
       "      <th>aa_substitutions</th>\n",
       "      <th>func_score</th>\n",
       "      <th>func_score_var</th>\n",
       "      <th>pre_count</th>\n",
       "      <th>post_count</th>\n",
       "      <th>pre_count_wt</th>\n",
       "      <th>post_count_wt</th>\n",
       "      <th>pseudocount</th>\n",
       "      <th>n_aa_substitutions</th>\n",
       "      <th>homolog</th>\n",
       "    </tr>\n",
       "  </thead>\n",
       "  <tbody>\n",
       "    <tr>\n",
       "      <th>0</th>\n",
       "      <td>lib_1</td>\n",
       "      <td>pre-selection</td>\n",
       "      <td>loose_bottle</td>\n",
       "      <td>N3S V39I S46G L49N</td>\n",
       "      <td>-0.877691</td>\n",
       "      <td>0.004955</td>\n",
       "      <td>853</td>\n",
       "      <td>828</td>\n",
       "      <td>721310</td>\n",
       "      <td>1286537</td>\n",
       "      <td>0.5</td>\n",
       "      <td>4</td>\n",
       "      <td>h1</td>\n",
       "    </tr>\n",
       "    <tr>\n",
       "      <th>1</th>\n",
       "      <td>lib_1</td>\n",
       "      <td>pre-selection</td>\n",
       "      <td>loose_bottle</td>\n",
       "      <td>G48A</td>\n",
       "      <td>-4.173100</td>\n",
       "      <td>0.008852</td>\n",
       "      <td>2614</td>\n",
       "      <td>258</td>\n",
       "      <td>721310</td>\n",
       "      <td>1286537</td>\n",
       "      <td>0.5</td>\n",
       "      <td>1</td>\n",
       "      <td>h1</td>\n",
       "    </tr>\n",
       "    <tr>\n",
       "      <th>2</th>\n",
       "      <td>lib_1</td>\n",
       "      <td>pre-selection</td>\n",
       "      <td>loose_bottle</td>\n",
       "      <td></td>\n",
       "      <td>0.000000</td>\n",
       "      <td>0.000009</td>\n",
       "      <td>721310</td>\n",
       "      <td>1286537</td>\n",
       "      <td>721310</td>\n",
       "      <td>1286537</td>\n",
       "      <td>0.5</td>\n",
       "      <td>0</td>\n",
       "      <td>h1</td>\n",
       "    </tr>\n",
       "    <tr>\n",
       "      <th>3</th>\n",
       "      <td>lib_1</td>\n",
       "      <td>pre-selection</td>\n",
       "      <td>loose_bottle</td>\n",
       "      <td>R14W V15P E27P S46L</td>\n",
       "      <td>0.062447</td>\n",
       "      <td>0.004811</td>\n",
       "      <td>665</td>\n",
       "      <td>1239</td>\n",
       "      <td>721310</td>\n",
       "      <td>1286537</td>\n",
       "      <td>0.5</td>\n",
       "      <td>4</td>\n",
       "      <td>h1</td>\n",
       "    </tr>\n",
       "    <tr>\n",
       "      <th>4</th>\n",
       "      <td>lib_1</td>\n",
       "      <td>pre-selection</td>\n",
       "      <td>loose_bottle</td>\n",
       "      <td>K21F</td>\n",
       "      <td>-0.252152</td>\n",
       "      <td>0.002571</td>\n",
       "      <td>1352</td>\n",
       "      <td>2025</td>\n",
       "      <td>721310</td>\n",
       "      <td>1286537</td>\n",
       "      <td>0.5</td>\n",
       "      <td>1</td>\n",
       "      <td>h1</td>\n",
       "    </tr>\n",
       "  </tbody>\n",
       "</table>\n",
       "</div>"
      ],
      "text/plain": [
       "  library     pre_sample func_score_type     aa_substitutions  func_score  \\\n",
       "0   lib_1  pre-selection    loose_bottle   N3S V39I S46G L49N   -0.877691   \n",
       "1   lib_1  pre-selection    loose_bottle                 G48A   -4.173100   \n",
       "2   lib_1  pre-selection    loose_bottle                         0.000000   \n",
       "3   lib_1  pre-selection    loose_bottle  R14W V15P E27P S46L    0.062447   \n",
       "4   lib_1  pre-selection    loose_bottle                 K21F   -0.252152   \n",
       "\n",
       "   func_score_var  pre_count  post_count  pre_count_wt  post_count_wt  \\\n",
       "0        0.004955        853         828        721310        1286537   \n",
       "1        0.008852       2614         258        721310        1286537   \n",
       "2        0.000009     721310     1286537        721310        1286537   \n",
       "3        0.004811        665        1239        721310        1286537   \n",
       "4        0.002571       1352        2025        721310        1286537   \n",
       "\n",
       "   pseudocount  n_aa_substitutions homolog  \n",
       "0          0.5                   4      h1  \n",
       "1          0.5                   1      h1  \n",
       "2          0.5                   0      h1  \n",
       "3          0.5                   4      h1  \n",
       "4          0.5                   1      h1  "
      ]
     },
     "execution_count": 166,
     "metadata": {},
     "output_type": "execute_result"
    }
   ],
   "source": [
    "bottle_cbf = pd.concat(\n",
    "    [\n",
    "        (\n",
    "            variants\n",
    "            .func_scores(\"pre-selection\", by=\"aa_substitutions\", libraries=libs, syn_as_wt=True)\n",
    "            .assign(homolog=homolog)\n",
    "            .rename({\"post_sample\":\"func_score_type\"}, axis=1)\n",
    "            # [req_cols]\n",
    "            .astype({c:str for c in req_cols[:-1]})\n",
    "        )\n",
    "        for variants, homolog in zip([CodonVariantTable_h1, CodonVariantTable_h2], ['h1', 'h2'])\n",
    "    ]\n",
    ")\n",
    "bottle_cbf.head()"
   ]
  },
  {
   "cell_type": "code",
   "execution_count": 167,
   "id": "30b79da4",
   "metadata": {},
   "outputs": [],
   "source": [
    "bottle_cbf.to_csv(f\"{csv_output_dir}/simulated_bottleneck_cbf.csv\", index=False)"
   ]
  },
  {
   "cell_type": "markdown",
   "id": "da591a0c",
   "metadata": {},
   "source": [
    "Finally, combine the two dataframes computed above and classify the variants based on the number of amino acid substitutions."
   ]
  },
  {
   "cell_type": "code",
   "execution_count": 168,
   "id": "139d5de1",
   "metadata": {},
   "outputs": [
    {
     "data": {
      "application/vnd.microsoft.datawrangler.viewer.v0+json": {
       "columns": [
        {
         "name": "index",
         "rawType": "int64",
         "type": "integer"
        },
        {
         "name": "library",
         "rawType": "object",
         "type": "string"
        },
        {
         "name": "homolog",
         "rawType": "object",
         "type": "string"
        },
        {
         "name": "aa_substitutions",
         "rawType": "object",
         "type": "string"
        },
        {
         "name": "func_score_type",
         "rawType": "category",
         "type": "unknown"
        },
        {
         "name": "func_score",
         "rawType": "float64",
         "type": "float"
        },
        {
         "name": "pre_sample",
         "rawType": "category",
         "type": "unknown"
        },
        {
         "name": "func_score_var",
         "rawType": "float64",
         "type": "float"
        },
        {
         "name": "pre_count",
         "rawType": "float64",
         "type": "float"
        },
        {
         "name": "post_count",
         "rawType": "float64",
         "type": "float"
        },
        {
         "name": "pre_count_wt",
         "rawType": "float64",
         "type": "float"
        },
        {
         "name": "post_count_wt",
         "rawType": "float64",
         "type": "float"
        },
        {
         "name": "pseudocount",
         "rawType": "float64",
         "type": "float"
        },
        {
         "name": "n_aa_substitutions",
         "rawType": "float64",
         "type": "float"
        },
        {
         "name": "variant_class",
         "rawType": "object",
         "type": "string"
        },
        {
         "name": "latent_phenotype",
         "rawType": "float64",
         "type": "float"
        }
       ],
       "ref": "7e17a493-17b8-4e9a-bec0-cc34517c8dd5",
       "rows": [
        [
         "0",
         "lib_1",
         "h1",
         "L33P",
         "observed_phenotype",
         "0.008956564995963312",
         null,
         null,
         null,
         null,
         null,
         null,
         null,
         null,
         "1 nonsynonymous",
         "5.253865670617039"
        ],
        [
         "1",
         "lib_1",
         "h1",
         "N3V F16S",
         "observed_phenotype",
         "-0.03167881550375995",
         null,
         null,
         null,
         null,
         null,
         null,
         null,
         null,
         ">1 nonsynonymous",
         "4.413085201110892"
        ],
        [
         "2",
         "lib_1",
         "h1",
         "",
         "observed_phenotype",
         "0.0",
         null,
         null,
         null,
         null,
         null,
         null,
         null,
         null,
         "wildtype",
         "5.0"
        ],
        [
         "3",
         "lib_1",
         "h1",
         "L2Q H31*",
         "observed_phenotype",
         "-5.929515144759555",
         null,
         null,
         null,
         null,
         null,
         null,
         null,
         null,
         "stop",
         "-5.282384180526307"
        ],
        [
         "4",
         "lib_1",
         "h1",
         "N3Y L17N D18I E27R",
         "observed_phenotype",
         "-5.0391589493060405",
         null,
         null,
         null,
         null,
         null,
         null,
         null,
         null,
         ">1 nonsynonymous",
         "-1.7078150841530055"
        ],
        [
         "5",
         "lib_1",
         "h1",
         "N22L C26T",
         "observed_phenotype",
         "-3.193992861569047",
         null,
         null,
         null,
         null,
         null,
         null,
         null,
         null,
         ">1 nonsynonymous",
         "-0.15641811837351938"
        ],
        [
         "6",
         "lib_1",
         "h1",
         "A9F W40G V41L",
         "observed_phenotype",
         "-5.762548358044771",
         null,
         null,
         null,
         null,
         null,
         null,
         null,
         null,
         ">1 nonsynonymous",
         "-3.3813818261623982"
        ],
        [
         "7",
         "lib_1",
         "h1",
         "C26R",
         "observed_phenotype",
         "-0.03933461593649046",
         null,
         null,
         null,
         null,
         null,
         null,
         null,
         null,
         "1 nonsynonymous",
         "4.3105246981114504"
        ],
        [
         "8",
         "lib_1",
         "h1",
         "E28C M29S L49R",
         "observed_phenotype",
         "-0.24786906917797502",
         null,
         null,
         null,
         null,
         null,
         null,
         null,
         null,
         ">1 nonsynonymous",
         "2.987268561135875"
        ],
        [
         "9",
         "lib_1",
         "h1",
         "G35V Y42V",
         "observed_phenotype",
         "0.015572560807686209",
         null,
         null,
         null,
         null,
         null,
         null,
         null,
         null,
         ">1 nonsynonymous",
         "5.493290923827241"
        ],
        [
         "10",
         "lib_1",
         "h1",
         "A10V V15A R19T",
         "observed_phenotype",
         "-0.03947731090349649",
         null,
         null,
         null,
         null,
         null,
         null,
         null,
         null,
         ">1 nonsynonymous",
         "4.308707113090744"
        ],
        [
         "11",
         "lib_1",
         "h1",
         "R19S Q20I Y42L",
         "observed_phenotype",
         "0.006347776785022852",
         null,
         null,
         null,
         null,
         null,
         null,
         null,
         null,
         ">1 nonsynonymous",
         "5.173127160963368"
        ],
        [
         "12",
         "lib_1",
         "h1",
         "Q8W R19* L44G E50F",
         "observed_phenotype",
         "-5.958200733064904",
         null,
         null,
         null,
         null,
         null,
         null,
         null,
         null,
         "stop",
         "-8.203227722684607"
        ],
        [
         "13",
         "lib_1",
         "h1",
         "S12V R19Y L33F S36A Y38P",
         "observed_phenotype",
         "-0.13342130911506622",
         null,
         null,
         null,
         null,
         null,
         null,
         null,
         null,
         ">1 nonsynonymous",
         "3.5135288426602793"
        ],
        [
         "14",
         "lib_1",
         "h1",
         "R32A C37S",
         "observed_phenotype",
         "-1.2329648145289163",
         null,
         null,
         null,
         null,
         null,
         null,
         null,
         null,
         ">1 nonsynonymous",
         "1.3117928703948034"
        ],
        [
         "15",
         "lib_1",
         "h1",
         "R13N",
         "observed_phenotype",
         "-0.0015806338287482902",
         null,
         null,
         null,
         null,
         null,
         null,
         null,
         null,
         "1 nonsynonymous",
         "4.9611284100459265"
        ],
        [
         "16",
         "lib_1",
         "h1",
         "F16L L33R",
         "observed_phenotype",
         "-0.1485564938495605",
         null,
         null,
         null,
         null,
         null,
         null,
         null,
         null,
         ">1 nonsynonymous",
         "3.4273267181568436"
        ],
        [
         "17",
         "lib_1",
         "h1",
         "V6P E28L",
         "observed_phenotype",
         "-2.1105413067393948",
         null,
         null,
         null,
         null,
         null,
         null,
         null,
         null,
         ">1 nonsynonymous",
         "0.5820990937424977"
        ],
        [
         "18",
         "lib_1",
         "h1",
         "R19P C26V",
         "observed_phenotype",
         "0.006398894378808251",
         null,
         null,
         null,
         null,
         null,
         null,
         null,
         null,
         ">1 nonsynonymous",
         "5.1746488104883355"
        ],
        [
         "19",
         "lib_1",
         "h1",
         "N22S V39S",
         "observed_phenotype",
         "-0.7530807898457974",
         null,
         null,
         null,
         null,
         null,
         null,
         null,
         null,
         ">1 nonsynonymous",
         "1.8815902936738693"
        ],
        [
         "20",
         "lib_1",
         "h1",
         "S36P",
         "observed_phenotype",
         "-0.03968993597223225",
         null,
         null,
         null,
         null,
         null,
         null,
         null,
         null,
         "1 nonsynonymous",
         "4.306004741646464"
        ],
        [
         "21",
         "lib_1",
         "h1",
         "K21N N22R H24S C37R",
         "observed_phenotype",
         "-5.643418795384882",
         null,
         null,
         null,
         null,
         null,
         null,
         null,
         null,
         ">1 nonsynonymous",
         "-2.8882524741908"
        ],
        [
         "22",
         "lib_1",
         "h1",
         "Q8S",
         "observed_phenotype",
         "-0.29489249893519176",
         null,
         null,
         null,
         null,
         null,
         null,
         null,
         null,
         "1 nonsynonymous",
         "2.827774823175818"
        ],
        [
         "23",
         "lib_1",
         "h1",
         "R13F",
         "observed_phenotype",
         "-0.3563441805834415",
         null,
         null,
         null,
         null,
         null,
         null,
         null,
         null,
         "1 nonsynonymous",
         "2.6484671671946494"
        ],
        [
         "24",
         "lib_1",
         "h1",
         "F1T",
         "observed_phenotype",
         "-0.010000148188189506",
         null,
         null,
         null,
         null,
         null,
         null,
         null,
         null,
         "1 nonsynonymous",
         "4.775956924287249"
        ],
        [
         "25",
         "lib_1",
         "h1",
         "D11R V47P E50V",
         "observed_phenotype",
         "-0.5301654529235158",
         null,
         null,
         null,
         null,
         null,
         null,
         null,
         null,
         ">1 nonsynonymous",
         "2.2534329153072035"
        ],
        [
         "26",
         "lib_1",
         "h1",
         "R13K N22P",
         "observed_phenotype",
         "-2.3493924617273465",
         null,
         null,
         null,
         null,
         null,
         null,
         null,
         null,
         ">1 nonsynonymous",
         "0.41272765556435864"
        ],
        [
         "27",
         "lib_1",
         "h1",
         "R19M",
         "observed_phenotype",
         "-0.34049689292151086",
         null,
         null,
         null,
         null,
         null,
         null,
         null,
         null,
         "1 nonsynonymous",
         "2.692079744270914"
        ],
        [
         "28",
         "lib_1",
         "h1",
         "M29P G48A",
         "observed_phenotype",
         "-5.912686980994788",
         null,
         null,
         null,
         null,
         null,
         null,
         null,
         null,
         ">1 nonsynonymous",
         "-4.838164962840732"
        ],
        [
         "29",
         "lib_1",
         "h1",
         "D11I P25K R32L",
         "observed_phenotype",
         "-5.285924475044858",
         null,
         null,
         null,
         null,
         null,
         null,
         null,
         null,
         ">1 nonsynonymous",
         "-2.0672620195441915"
        ],
        [
         "30",
         "lib_1",
         "h1",
         "N30P",
         "observed_phenotype",
         "-0.06640860632650902",
         null,
         null,
         null,
         null,
         null,
         null,
         null,
         null,
         "1 nonsynonymous",
         "4.012832369955259"
        ],
        [
         "31",
         "lib_1",
         "h1",
         "F34L",
         "observed_phenotype",
         "-0.006358649885330081",
         null,
         null,
         null,
         null,
         null,
         null,
         null,
         null,
         "1 nonsynonymous",
         "4.8519408327943045"
        ],
        [
         "32",
         "lib_1",
         "h1",
         "Q8L A9G L33Q",
         "observed_phenotype",
         "-5.954495661207802",
         null,
         null,
         null,
         null,
         null,
         null,
         null,
         null,
         ">1 nonsynonymous",
         "-7.022043868358695"
        ],
        [
         "33",
         "lib_1",
         "h1",
         "S5A F16R D18A",
         "observed_phenotype",
         "-0.5725697187514474",
         null,
         null,
         null,
         null,
         null,
         null,
         null,
         null,
         ">1 nonsynonymous",
         "2.173875432319508"
        ],
        [
         "34",
         "lib_1",
         "h1",
         "Q8H A10V",
         "observed_phenotype",
         "-1.05449563732755",
         null,
         null,
         null,
         null,
         null,
         null,
         null,
         null,
         ">1 nonsynonymous",
         "1.4998887038952904"
        ],
        [
         "35",
         "lib_1",
         "h1",
         "Y38G",
         "observed_phenotype",
         "-4.738163968965797",
         null,
         null,
         null,
         null,
         null,
         null,
         null,
         null,
         "1 nonsynonymous",
         "-1.363863164035898"
        ],
        [
         "36",
         "lib_1",
         "h1",
         "A9P K21N N22T",
         "observed_phenotype",
         "-3.1636576406511003",
         null,
         null,
         null,
         null,
         null,
         null,
         null,
         null,
         ">1 nonsynonymous",
         "-0.13608612909370876"
        ],
        [
         "37",
         "lib_1",
         "h1",
         "F16D",
         "observed_phenotype",
         "-0.038300555030160055",
         null,
         null,
         null,
         null,
         null,
         null,
         null,
         null,
         "1 nonsynonymous",
         "4.323793100691722"
        ],
        [
         "38",
         "lib_1",
         "h1",
         "F16M G35R",
         "observed_phenotype",
         "-5.847754398022726",
         null,
         null,
         null,
         null,
         null,
         null,
         null,
         null,
         ">1 nonsynonymous",
         "-3.9613679243272344"
        ],
        [
         "39",
         "lib_1",
         "h1",
         "Y38R",
         "observed_phenotype",
         "-0.10855999580406817",
         null,
         null,
         null,
         null,
         null,
         null,
         null,
         null,
         "1 nonsynonymous",
         "3.6723703625298123"
        ],
        [
         "40",
         "lib_1",
         "h1",
         "Q20* L49P",
         "observed_phenotype",
         "-5.952245658281146",
         null,
         null,
         null,
         null,
         null,
         null,
         null,
         null,
         "stop",
         "-6.670463220141899"
        ],
        [
         "41",
         "lib_1",
         "h1",
         "F16R D18G",
         "observed_phenotype",
         "-0.011012971742810684",
         null,
         null,
         null,
         null,
         null,
         null,
         null,
         null,
         ">1 nonsynonymous",
         "4.755794894313805"
        ],
        [
         "42",
         "lib_1",
         "h1",
         "N3R",
         "observed_phenotype",
         "-0.17979784204682758",
         null,
         null,
         null,
         null,
         null,
         null,
         null,
         null,
         "1 nonsynonymous",
         "3.2687440144591755"
        ],
        [
         "43",
         "lib_1",
         "h1",
         "N3G A10* Y42L",
         "observed_phenotype",
         "-5.446593523484982",
         null,
         null,
         null,
         null,
         null,
         null,
         null,
         null,
         "stop",
         "-2.3693296581134966"
        ],
        [
         "44",
         "lib_1",
         "h1",
         "F16R",
         "observed_phenotype",
         "-0.11682870095648923",
         null,
         null,
         null,
         null,
         null,
         null,
         null,
         null,
         "1 nonsynonymous",
         "3.61684667488011"
        ],
        [
         "45",
         "lib_1",
         "h1",
         "R19L H24E P25G",
         "observed_phenotype",
         "-0.4935362193878907",
         null,
         null,
         null,
         null,
         null,
         null,
         null,
         null,
         ">1 nonsynonymous",
         "2.3265370947429833"
        ],
        [
         "46",
         "lib_1",
         "h1",
         "N3D S5D G7* Q20F F34E G48T",
         "observed_phenotype",
         "-5.942103295192986",
         null,
         null,
         null,
         null,
         null,
         null,
         null,
         null,
         "stop",
         "-5.820754381885807"
        ],
        [
         "47",
         "lib_1",
         "h1",
         "Y42P",
         "observed_phenotype",
         "-0.3267739078207166",
         null,
         null,
         null,
         null,
         null,
         null,
         null,
         null,
         "1 nonsynonymous",
         "2.7312358297856107"
        ],
        [
         "48",
         "lib_1",
         "h1",
         "A9T A10R Y38T",
         "observed_phenotype",
         "-5.8986265484055425",
         null,
         null,
         null,
         null,
         null,
         null,
         null,
         null,
         ">1 nonsynonymous",
         "-4.57484537317065"
        ],
        [
         "49",
         "lib_1",
         "h1",
         "P25S S46R",
         "observed_phenotype",
         "-1.2440925297981549",
         null,
         null,
         null,
         null,
         null,
         null,
         null,
         null,
         ">1 nonsynonymous",
         "1.3007334411505984"
        ]
       ],
       "shape": {
        "columns": 15,
        "rows": 182256
       }
      },
      "text/html": [
       "<div>\n",
       "<style scoped>\n",
       "    .dataframe tbody tr th:only-of-type {\n",
       "        vertical-align: middle;\n",
       "    }\n",
       "\n",
       "    .dataframe tbody tr th {\n",
       "        vertical-align: top;\n",
       "    }\n",
       "\n",
       "    .dataframe thead th {\n",
       "        text-align: right;\n",
       "    }\n",
       "</style>\n",
       "<table border=\"1\" class=\"dataframe\">\n",
       "  <thead>\n",
       "    <tr style=\"text-align: right;\">\n",
       "      <th></th>\n",
       "      <th>library</th>\n",
       "      <th>homolog</th>\n",
       "      <th>aa_substitutions</th>\n",
       "      <th>func_score_type</th>\n",
       "      <th>func_score</th>\n",
       "      <th>pre_sample</th>\n",
       "      <th>func_score_var</th>\n",
       "      <th>pre_count</th>\n",
       "      <th>post_count</th>\n",
       "      <th>pre_count_wt</th>\n",
       "      <th>post_count_wt</th>\n",
       "      <th>pseudocount</th>\n",
       "      <th>n_aa_substitutions</th>\n",
       "      <th>variant_class</th>\n",
       "      <th>latent_phenotype</th>\n",
       "    </tr>\n",
       "  </thead>\n",
       "  <tbody>\n",
       "    <tr>\n",
       "      <th>0</th>\n",
       "      <td>lib_1</td>\n",
       "      <td>h1</td>\n",
       "      <td>L33P</td>\n",
       "      <td>observed_phenotype</td>\n",
       "      <td>0.008957</td>\n",
       "      <td>NaN</td>\n",
       "      <td>NaN</td>\n",
       "      <td>NaN</td>\n",
       "      <td>NaN</td>\n",
       "      <td>NaN</td>\n",
       "      <td>NaN</td>\n",
       "      <td>NaN</td>\n",
       "      <td>NaN</td>\n",
       "      <td>1 nonsynonymous</td>\n",
       "      <td>5.253866</td>\n",
       "    </tr>\n",
       "    <tr>\n",
       "      <th>1</th>\n",
       "      <td>lib_1</td>\n",
       "      <td>h1</td>\n",
       "      <td>N3V F16S</td>\n",
       "      <td>observed_phenotype</td>\n",
       "      <td>-0.031679</td>\n",
       "      <td>NaN</td>\n",
       "      <td>NaN</td>\n",
       "      <td>NaN</td>\n",
       "      <td>NaN</td>\n",
       "      <td>NaN</td>\n",
       "      <td>NaN</td>\n",
       "      <td>NaN</td>\n",
       "      <td>NaN</td>\n",
       "      <td>&gt;1 nonsynonymous</td>\n",
       "      <td>4.413085</td>\n",
       "    </tr>\n",
       "    <tr>\n",
       "      <th>2</th>\n",
       "      <td>lib_1</td>\n",
       "      <td>h1</td>\n",
       "      <td></td>\n",
       "      <td>observed_phenotype</td>\n",
       "      <td>0.000000</td>\n",
       "      <td>NaN</td>\n",
       "      <td>NaN</td>\n",
       "      <td>NaN</td>\n",
       "      <td>NaN</td>\n",
       "      <td>NaN</td>\n",
       "      <td>NaN</td>\n",
       "      <td>NaN</td>\n",
       "      <td>NaN</td>\n",
       "      <td>wildtype</td>\n",
       "      <td>5.000000</td>\n",
       "    </tr>\n",
       "    <tr>\n",
       "      <th>3</th>\n",
       "      <td>lib_1</td>\n",
       "      <td>h1</td>\n",
       "      <td>L2Q H31*</td>\n",
       "      <td>observed_phenotype</td>\n",
       "      <td>-5.929515</td>\n",
       "      <td>NaN</td>\n",
       "      <td>NaN</td>\n",
       "      <td>NaN</td>\n",
       "      <td>NaN</td>\n",
       "      <td>NaN</td>\n",
       "      <td>NaN</td>\n",
       "      <td>NaN</td>\n",
       "      <td>NaN</td>\n",
       "      <td>stop</td>\n",
       "      <td>-5.282384</td>\n",
       "    </tr>\n",
       "    <tr>\n",
       "      <th>4</th>\n",
       "      <td>lib_1</td>\n",
       "      <td>h1</td>\n",
       "      <td>N3Y L17N D18I E27R</td>\n",
       "      <td>observed_phenotype</td>\n",
       "      <td>-5.039159</td>\n",
       "      <td>NaN</td>\n",
       "      <td>NaN</td>\n",
       "      <td>NaN</td>\n",
       "      <td>NaN</td>\n",
       "      <td>NaN</td>\n",
       "      <td>NaN</td>\n",
       "      <td>NaN</td>\n",
       "      <td>NaN</td>\n",
       "      <td>&gt;1 nonsynonymous</td>\n",
       "      <td>-1.707815</td>\n",
       "    </tr>\n",
       "    <tr>\n",
       "      <th>...</th>\n",
       "      <td>...</td>\n",
       "      <td>...</td>\n",
       "      <td>...</td>\n",
       "      <td>...</td>\n",
       "      <td>...</td>\n",
       "      <td>...</td>\n",
       "      <td>...</td>\n",
       "      <td>...</td>\n",
       "      <td>...</td>\n",
       "      <td>...</td>\n",
       "      <td>...</td>\n",
       "      <td>...</td>\n",
       "      <td>...</td>\n",
       "      <td>...</td>\n",
       "      <td>...</td>\n",
       "    </tr>\n",
       "    <tr>\n",
       "      <th>182251</th>\n",
       "      <td>lib_2</td>\n",
       "      <td>h2</td>\n",
       "      <td>N3* L23V M29V</td>\n",
       "      <td>tight_bottle</td>\n",
       "      <td>-6.406314</td>\n",
       "      <td>pre-selection</td>\n",
       "      <td>4.255248</td>\n",
       "      <td>22.0</td>\n",
       "      <td>0.0</td>\n",
       "      <td>690497.0</td>\n",
       "      <td>1301494.0</td>\n",
       "      <td>0.5</td>\n",
       "      <td>3.0</td>\n",
       "      <td>stop</td>\n",
       "      <td>-8.252959</td>\n",
       "    </tr>\n",
       "    <tr>\n",
       "      <th>182252</th>\n",
       "      <td>lib_2</td>\n",
       "      <td>h2</td>\n",
       "      <td>V39* F45V</td>\n",
       "      <td>tight_bottle</td>\n",
       "      <td>-6.406314</td>\n",
       "      <td>pre-selection</td>\n",
       "      <td>4.255248</td>\n",
       "      <td>22.0</td>\n",
       "      <td>0.0</td>\n",
       "      <td>690497.0</td>\n",
       "      <td>1301494.0</td>\n",
       "      <td>0.5</td>\n",
       "      <td>2.0</td>\n",
       "      <td>stop</td>\n",
       "      <td>-7.193444</td>\n",
       "    </tr>\n",
       "    <tr>\n",
       "      <th>182253</th>\n",
       "      <td>lib_2</td>\n",
       "      <td>h2</td>\n",
       "      <td>M29S Y38H L44A</td>\n",
       "      <td>tight_bottle</td>\n",
       "      <td>2.159740</td>\n",
       "      <td>pre-selection</td>\n",
       "      <td>0.103493</td>\n",
       "      <td>22.0</td>\n",
       "      <td>189.0</td>\n",
       "      <td>690497.0</td>\n",
       "      <td>1301494.0</td>\n",
       "      <td>0.5</td>\n",
       "      <td>3.0</td>\n",
       "      <td>&gt;1 nonsynonymous</td>\n",
       "      <td>3.096208</td>\n",
       "    </tr>\n",
       "    <tr>\n",
       "      <th>182254</th>\n",
       "      <td>lib_2</td>\n",
       "      <td>h2</td>\n",
       "      <td>V41N G48V</td>\n",
       "      <td>tight_bottle</td>\n",
       "      <td>-6.043744</td>\n",
       "      <td>pre-selection</td>\n",
       "      <td>4.281678</td>\n",
       "      <td>17.0</td>\n",
       "      <td>0.0</td>\n",
       "      <td>690497.0</td>\n",
       "      <td>1301494.0</td>\n",
       "      <td>0.5</td>\n",
       "      <td>2.0</td>\n",
       "      <td>&gt;1 nonsynonymous</td>\n",
       "      <td>1.074724</td>\n",
       "    </tr>\n",
       "    <tr>\n",
       "      <th>182255</th>\n",
       "      <td>lib_2</td>\n",
       "      <td>h2</td>\n",
       "      <td>R14F E50S</td>\n",
       "      <td>tight_bottle</td>\n",
       "      <td>-5.958855</td>\n",
       "      <td>pre-selection</td>\n",
       "      <td>4.288886</td>\n",
       "      <td>16.0</td>\n",
       "      <td>0.0</td>\n",
       "      <td>690497.0</td>\n",
       "      <td>1301494.0</td>\n",
       "      <td>0.5</td>\n",
       "      <td>2.0</td>\n",
       "      <td>&gt;1 nonsynonymous</td>\n",
       "      <td>-2.931671</td>\n",
       "    </tr>\n",
       "  </tbody>\n",
       "</table>\n",
       "<p>182256 rows × 15 columns</p>\n",
       "</div>"
      ],
      "text/plain": [
       "       library homolog    aa_substitutions     func_score_type  func_score  \\\n",
       "0        lib_1      h1                L33P  observed_phenotype    0.008957   \n",
       "1        lib_1      h1            N3V F16S  observed_phenotype   -0.031679   \n",
       "2        lib_1      h1                      observed_phenotype    0.000000   \n",
       "3        lib_1      h1            L2Q H31*  observed_phenotype   -5.929515   \n",
       "4        lib_1      h1  N3Y L17N D18I E27R  observed_phenotype   -5.039159   \n",
       "...        ...     ...                 ...                 ...         ...   \n",
       "182251   lib_2      h2       N3* L23V M29V        tight_bottle   -6.406314   \n",
       "182252   lib_2      h2           V39* F45V        tight_bottle   -6.406314   \n",
       "182253   lib_2      h2      M29S Y38H L44A        tight_bottle    2.159740   \n",
       "182254   lib_2      h2           V41N G48V        tight_bottle   -6.043744   \n",
       "182255   lib_2      h2           R14F E50S        tight_bottle   -5.958855   \n",
       "\n",
       "           pre_sample  func_score_var  pre_count  post_count  pre_count_wt  \\\n",
       "0                 NaN             NaN        NaN         NaN           NaN   \n",
       "1                 NaN             NaN        NaN         NaN           NaN   \n",
       "2                 NaN             NaN        NaN         NaN           NaN   \n",
       "3                 NaN             NaN        NaN         NaN           NaN   \n",
       "4                 NaN             NaN        NaN         NaN           NaN   \n",
       "...               ...             ...        ...         ...           ...   \n",
       "182251  pre-selection        4.255248       22.0         0.0      690497.0   \n",
       "182252  pre-selection        4.255248       22.0         0.0      690497.0   \n",
       "182253  pre-selection        0.103493       22.0       189.0      690497.0   \n",
       "182254  pre-selection        4.281678       17.0         0.0      690497.0   \n",
       "182255  pre-selection        4.288886       16.0         0.0      690497.0   \n",
       "\n",
       "        post_count_wt  pseudocount  n_aa_substitutions     variant_class  \\\n",
       "0                 NaN          NaN                 NaN   1 nonsynonymous   \n",
       "1                 NaN          NaN                 NaN  >1 nonsynonymous   \n",
       "2                 NaN          NaN                 NaN          wildtype   \n",
       "3                 NaN          NaN                 NaN              stop   \n",
       "4                 NaN          NaN                 NaN  >1 nonsynonymous   \n",
       "...               ...          ...                 ...               ...   \n",
       "182251      1301494.0          0.5                 3.0              stop   \n",
       "182252      1301494.0          0.5                 2.0              stop   \n",
       "182253      1301494.0          0.5                 3.0  >1 nonsynonymous   \n",
       "182254      1301494.0          0.5                 2.0  >1 nonsynonymous   \n",
       "182255      1301494.0          0.5                 2.0  >1 nonsynonymous   \n",
       "\n",
       "        latent_phenotype  \n",
       "0               5.253866  \n",
       "1               4.413085  \n",
       "2               5.000000  \n",
       "3              -5.282384  \n",
       "4              -1.707815  \n",
       "...                  ...  \n",
       "182251         -8.252959  \n",
       "182252         -7.193444  \n",
       "182253          3.096208  \n",
       "182254          1.074724  \n",
       "182255         -2.931671  \n",
       "\n",
       "[182256 rows x 15 columns]"
      ]
     },
     "execution_count": 168,
     "metadata": {},
     "output_type": "execute_result"
    }
   ],
   "source": [
    "def classify_variant(aa_subs):\n",
    "    if \"*\" in aa_subs:\n",
    "        return \"stop\"\n",
    "    elif aa_subs == \"\":\n",
    "        return \"wildtype\"\n",
    "    elif len(aa_subs.split()) == 1:\n",
    "        return \"1 nonsynonymous\"\n",
    "    elif len(aa_subs.split()) > 1:\n",
    "        return \">1 nonsynonymous\"\n",
    "    else:\n",
    "        raise ValueError(f\"unexpected aa_subs: {aa_subs}\")\n",
    "\n",
    "func_scores = (\n",
    "    pd.concat([ground_truth_training_set, bottle_cbf])\n",
    "    .assign(variant_class = lambda x: x['aa_substitutions'].apply(classify_variant))\n",
    "    .merge(\n",
    "        variants_df[[\"aa_substitutions\", \"homolog\", \"latent_phenotype\", \"library\"]].drop_duplicates(),\n",
    "        on=[\"aa_substitutions\", \"homolog\", \"library\"],\n",
    "        how=\"inner\"\n",
    "    )\n",
    ")\n",
    "\n",
    "# categorical for plotting\n",
    "func_scores[\"func_score_type\"] = pd.Categorical(\n",
    "    func_scores[\"func_score_type\"],\n",
    "    categories=[\"observed_phenotype\", \"loose_bottle\", \"tight_bottle\"],\n",
    "    ordered=True\n",
    ")\n",
    "\n",
    "func_scores"
   ]
  },
  {
   "cell_type": "code",
   "execution_count": 169,
   "id": "863feceb",
   "metadata": {},
   "outputs": [],
   "source": [
    "func_scores.to_csv(f\"{csv_output_dir}/simulated_functional_scores.csv\", index=False)"
   ]
  },
  {
   "cell_type": "markdown",
   "id": "afa1c65b",
   "metadata": {},
   "source": [
    "Let's plot the functional scores as a function of the latent phenotype."
   ]
  },
  {
   "cell_type": "code",
   "execution_count": 170,
   "id": "3decc114",
   "metadata": {},
   "outputs": [
    {
     "data": {
      "image/png": "[encoded data removed]",
      "text/plain": [
       "<Figure size 600x300 with 3 Axes>"
      ]
     },
     "metadata": {},
     "output_type": "display_data"
    }
   ],
   "source": [
    "p = (\n",
    "    ggplot(func_scores, aes(x=\"latent_phenotype\", y=\"func_score\"))\n",
    "    + geom_point(alpha=0.05)\n",
    "    + facet_wrap(\"~func_score_type\")\n",
    "    + theme_classic()\n",
    "    + theme(figure_size=(6, 3))\n",
    ")\n",
    "_ = p.draw(show=True)"
   ]
  },
  {
   "cell_type": "markdown",
   "id": "ec130fc0",
   "metadata": {},
   "source": [
    "Plot a pairplot to see how targets compare."
   ]
  },
  {
   "cell_type": "code",
   "execution_count": 171,
   "id": "fe7a3a85",
   "metadata": {},
   "outputs": [
    {
     "data": {
      "image/png": "[encoded data removed]",
      "text/plain": [
       "<Figure size 600x500 with 9 Axes>"
      ]
     },
     "metadata": {},
     "output_type": "display_data"
    }
   ],
   "source": [
    "fig = sns.pairplot(\n",
    "    (\n",
    "        func_scores\n",
    "        .pivot(\n",
    "            index=[\"library\", \"homolog\", \"aa_substitutions\", \"variant_class\"],\n",
    "            columns=\"func_score_type\",\n",
    "            values=\"func_score\"\n",
    "        )\n",
    "        .reset_index()\n",
    "        .sample(frac=0.1)\n",
    "    ),  \n",
    "    hue='homolog',\n",
    "    plot_kws = {\"alpha\":0.25},\n",
    "    corner=True\n",
    ")\n",
    "fig.fig.set_size_inches(6, 5)\n",
    "plt.tight_layout()\n",
    "plt.show()"
   ]
  },
  {
   "cell_type": "markdown",
   "id": "72ffeb89",
   "metadata": {},
   "source": [
    "We can see here that the tight bottleneck indeed introduces more noise in the data, as the functional scores are less correlated with the ground truth phenotype. "
   ]
  },
  {
   "cell_type": "markdown",
   "id": "1654b229",
   "metadata": {},
   "source": [
    "Plot the functional scores distributions of the bottleneck counts-computed functional scores. Recall that we collapsed barcode replicates so there is only a single wildtype phenotype in each of the datasets, thus we will not plot them below."
   ]
  },
  {
   "cell_type": "code",
   "execution_count": 172,
   "id": "a3ee3b92",
   "metadata": {},
   "outputs": [
    {
     "data": {
      "image/png": "[encoded data removed]",
      "text/plain": [
       "<Figure size 600x500 with 8 Axes>"
      ]
     },
     "metadata": {},
     "output_type": "display_data"
    }
   ],
   "source": [
    "p = (\n",
    "    ggplot(\n",
    "        func_scores.query(\"(func_score_type != 'observed_phenotype') & (variant_class != 'wildtype')\"), \n",
    "        aes(\"variant_class\", \"func_score\")\n",
    "    )\n",
    "    + geom_violin(fill=\"lightblue\")\n",
    "    + ylab(\"functional score\")\n",
    "    + xlab(\"\")\n",
    "    + facet_grid(\"func_score_type ~ library + homolog\")\n",
    "    + theme_classic()\n",
    "    + theme(\n",
    "        figure_size=(6, 5),\n",
    "        axis_text_x=element_text(angle=90),\n",
    "        panel_grid_major_x=element_blank(),  # no vertical grid lines\n",
    "    )\n",
    "    # + scale_fill_manual(values=CBPALETTE[1:])\n",
    ")\n",
    "_ = p.draw(show=True)"
   ]
  },
  {
   "cell_type": "code",
   "execution_count": 173,
   "id": "04b83d84",
   "metadata": {},
   "outputs": [
    {
     "data": {
      "application/vnd.microsoft.datawrangler.viewer.v0+json": {
       "columns": [
        {
         "name": "index",
         "rawType": "int64",
         "type": "integer"
        },
        {
         "name": "library",
         "rawType": "object",
         "type": "string"
        },
        {
         "name": "homolog",
         "rawType": "object",
         "type": "string"
        },
        {
         "name": "aa_substitutions",
         "rawType": "object",
         "type": "string"
        },
        {
         "name": "func_score_type",
         "rawType": "category",
         "type": "unknown"
        },
        {
         "name": "func_score",
         "rawType": "float64",
         "type": "float"
        },
        {
         "name": "pre_sample",
         "rawType": "category",
         "type": "unknown"
        },
        {
         "name": "func_score_var",
         "rawType": "float64",
         "type": "float"
        },
        {
         "name": "pre_count",
         "rawType": "float64",
         "type": "float"
        },
        {
         "name": "post_count",
         "rawType": "float64",
         "type": "float"
        },
        {
         "name": "pre_count_wt",
         "rawType": "float64",
         "type": "float"
        },
        {
         "name": "post_count_wt",
         "rawType": "float64",
         "type": "float"
        },
        {
         "name": "pseudocount",
         "rawType": "float64",
         "type": "float"
        },
        {
         "name": "n_aa_substitutions",
         "rawType": "float64",
         "type": "float"
        },
        {
         "name": "variant_class",
         "rawType": "object",
         "type": "string"
        },
        {
         "name": "latent_phenotype",
         "rawType": "float64",
         "type": "float"
        }
       ],
       "ref": "b32a7d6a-d8c2-405e-b157-cdc555dce218",
       "rows": [
        [
         "0",
         "lib_1",
         "h1",
         "L33P",
         "observed_phenotype",
         "0.01",
         null,
         null,
         null,
         null,
         null,
         null,
         null,
         null,
         "1 nonsynonymous",
         "5.25"
        ],
        [
         "1",
         "lib_1",
         "h1",
         "N3V F16S",
         "observed_phenotype",
         "-0.03",
         null,
         null,
         null,
         null,
         null,
         null,
         null,
         null,
         ">1 nonsynonymous",
         "4.41"
        ],
        [
         "2",
         "lib_1",
         "h1",
         "",
         "observed_phenotype",
         "0.0",
         null,
         null,
         null,
         null,
         null,
         null,
         null,
         null,
         "wildtype",
         "5.0"
        ],
        [
         "3",
         "lib_1",
         "h1",
         "L2Q H31*",
         "observed_phenotype",
         "-5.93",
         null,
         null,
         null,
         null,
         null,
         null,
         null,
         null,
         "stop",
         "-5.28"
        ],
        [
         "4",
         "lib_1",
         "h1",
         "N3Y L17N D18I E27R",
         "observed_phenotype",
         "-5.04",
         null,
         null,
         null,
         null,
         null,
         null,
         null,
         null,
         ">1 nonsynonymous",
         "-1.71"
        ]
       ],
       "shape": {
        "columns": 15,
        "rows": 5
       }
      },
      "text/html": [
       "<div>\n",
       "<style scoped>\n",
       "    .dataframe tbody tr th:only-of-type {\n",
       "        vertical-align: middle;\n",
       "    }\n",
       "\n",
       "    .dataframe tbody tr th {\n",
       "        vertical-align: top;\n",
       "    }\n",
       "\n",
       "    .dataframe thead th {\n",
       "        text-align: right;\n",
       "    }\n",
       "</style>\n",
       "<table border=\"1\" class=\"dataframe\">\n",
       "  <thead>\n",
       "    <tr style=\"text-align: right;\">\n",
       "      <th></th>\n",
       "      <th>library</th>\n",
       "      <th>homolog</th>\n",
       "      <th>aa_substitutions</th>\n",
       "      <th>func_score_type</th>\n",
       "      <th>func_score</th>\n",
       "      <th>pre_sample</th>\n",
       "      <th>func_score_var</th>\n",
       "      <th>pre_count</th>\n",
       "      <th>post_count</th>\n",
       "      <th>pre_count_wt</th>\n",
       "      <th>post_count_wt</th>\n",
       "      <th>pseudocount</th>\n",
       "      <th>n_aa_substitutions</th>\n",
       "      <th>variant_class</th>\n",
       "      <th>latent_phenotype</th>\n",
       "    </tr>\n",
       "  </thead>\n",
       "  <tbody>\n",
       "    <tr>\n",
       "      <th>0</th>\n",
       "      <td>lib_1</td>\n",
       "      <td>h1</td>\n",
       "      <td>L33P</td>\n",
       "      <td>observed_phenotype</td>\n",
       "      <td>0.01</td>\n",
       "      <td>NaN</td>\n",
       "      <td>NaN</td>\n",
       "      <td>NaN</td>\n",
       "      <td>NaN</td>\n",
       "      <td>NaN</td>\n",
       "      <td>NaN</td>\n",
       "      <td>NaN</td>\n",
       "      <td>NaN</td>\n",
       "      <td>1 nonsynonymous</td>\n",
       "      <td>5.25</td>\n",
       "    </tr>\n",
       "    <tr>\n",
       "      <th>1</th>\n",
       "      <td>lib_1</td>\n",
       "      <td>h1</td>\n",
       "      <td>N3V F16S</td>\n",
       "      <td>observed_phenotype</td>\n",
       "      <td>-0.03</td>\n",
       "      <td>NaN</td>\n",
       "      <td>NaN</td>\n",
       "      <td>NaN</td>\n",
       "      <td>NaN</td>\n",
       "      <td>NaN</td>\n",
       "      <td>NaN</td>\n",
       "      <td>NaN</td>\n",
       "      <td>NaN</td>\n",
       "      <td>&gt;1 nonsynonymous</td>\n",
       "      <td>4.41</td>\n",
       "    </tr>\n",
       "    <tr>\n",
       "      <th>2</th>\n",
       "      <td>lib_1</td>\n",
       "      <td>h1</td>\n",
       "      <td></td>\n",
       "      <td>observed_phenotype</td>\n",
       "      <td>0.00</td>\n",
       "      <td>NaN</td>\n",
       "      <td>NaN</td>\n",
       "      <td>NaN</td>\n",
       "      <td>NaN</td>\n",
       "      <td>NaN</td>\n",
       "      <td>NaN</td>\n",
       "      <td>NaN</td>\n",
       "      <td>NaN</td>\n",
       "      <td>wildtype</td>\n",
       "      <td>5.00</td>\n",
       "    </tr>\n",
       "    <tr>\n",
       "      <th>3</th>\n",
       "      <td>lib_1</td>\n",
       "      <td>h1</td>\n",
       "      <td>L2Q H31*</td>\n",
       "      <td>observed_phenotype</td>\n",
       "      <td>-5.93</td>\n",
       "      <td>NaN</td>\n",
       "      <td>NaN</td>\n",
       "      <td>NaN</td>\n",
       "      <td>NaN</td>\n",
       "      <td>NaN</td>\n",
       "      <td>NaN</td>\n",
       "      <td>NaN</td>\n",
       "      <td>NaN</td>\n",
       "      <td>stop</td>\n",
       "      <td>-5.28</td>\n",
       "    </tr>\n",
       "    <tr>\n",
       "      <th>4</th>\n",
       "      <td>lib_1</td>\n",
       "      <td>h1</td>\n",
       "      <td>N3Y L17N D18I E27R</td>\n",
       "      <td>observed_phenotype</td>\n",
       "      <td>-5.04</td>\n",
       "      <td>NaN</td>\n",
       "      <td>NaN</td>\n",
       "      <td>NaN</td>\n",
       "      <td>NaN</td>\n",
       "      <td>NaN</td>\n",
       "      <td>NaN</td>\n",
       "      <td>NaN</td>\n",
       "      <td>NaN</td>\n",
       "      <td>&gt;1 nonsynonymous</td>\n",
       "      <td>-1.71</td>\n",
       "    </tr>\n",
       "  </tbody>\n",
       "</table>\n",
       "</div>"
      ],
      "text/plain": [
       "  library homolog    aa_substitutions     func_score_type  func_score  \\\n",
       "0   lib_1      h1                L33P  observed_phenotype        0.01   \n",
       "1   lib_1      h1            N3V F16S  observed_phenotype       -0.03   \n",
       "2   lib_1      h1                      observed_phenotype        0.00   \n",
       "3   lib_1      h1            L2Q H31*  observed_phenotype       -5.93   \n",
       "4   lib_1      h1  N3Y L17N D18I E27R  observed_phenotype       -5.04   \n",
       "\n",
       "  pre_sample  func_score_var  pre_count  post_count  pre_count_wt  \\\n",
       "0        NaN             NaN        NaN         NaN           NaN   \n",
       "1        NaN             NaN        NaN         NaN           NaN   \n",
       "2        NaN             NaN        NaN         NaN           NaN   \n",
       "3        NaN             NaN        NaN         NaN           NaN   \n",
       "4        NaN             NaN        NaN         NaN           NaN   \n",
       "\n",
       "   post_count_wt  pseudocount  n_aa_substitutions     variant_class  \\\n",
       "0            NaN          NaN                 NaN   1 nonsynonymous   \n",
       "1            NaN          NaN                 NaN  >1 nonsynonymous   \n",
       "2            NaN          NaN                 NaN          wildtype   \n",
       "3            NaN          NaN                 NaN              stop   \n",
       "4            NaN          NaN                 NaN  >1 nonsynonymous   \n",
       "\n",
       "   latent_phenotype  \n",
       "0              5.25  \n",
       "1              4.41  \n",
       "2              5.00  \n",
       "3             -5.28  \n",
       "4             -1.71  "
      ]
     },
     "execution_count": 173,
     "metadata": {},
     "output_type": "execute_result"
    }
   ],
   "source": [
    "func_scores.to_csv(f\"{csv_output_dir}/simulated_func_scores.csv\", index=False)\n",
    "func_scores.round(2).head()"
   ]
  },
  {
   "cell_type": "markdown",
   "id": "deba1ea6",
   "metadata": {},
   "source": [
    "### Create `Data` objects for each library replicate, and bottleneck"
   ]
  },
  {
   "cell_type": "markdown",
   "id": "36343df0",
   "metadata": {},
   "source": [
    "`multidms` model fitting is generally a two-step process: (1) Create `Data` objects from functional score dataframes which, among other things, encode the variant data into one-hot encoded matrices, and (2) fit a collection of models across a grid of `Data` objects and hyperparameters. Here, we'll create `Data` objects for each library replicate / fitting target combination:"
   ]
  },
  {
   "cell_type": "code",
   "execution_count": null,
   "id": "1aa7536f",
   "metadata": {},
   "outputs": [],
   "source": [
    "data_objects = [\n",
    "    multidms.Data(\n",
    "        fs_df, \n",
    "        reference=\"h1\", \n",
    "        alphabet = multidms.AAS_WITHSTOP_WITHGAP, \n",
    "        verbose=False,\n",
    "        name = f\"{lib}_{target}_func_score\"\n",
    "    )\n",
    "    for (lib, target), fs_df in func_scores.rename(columns={\"homolog\":\"condition\"}).groupby(['library', 'func_score_type'])\n",
    "]\n",
    "\n",
    "data_objects"
   ]
  },
  {
   "cell_type": "markdown",
   "id": "9fe48f02",
   "metadata": {},
   "source": [
    "### Fit models to training data (lasso sweep)"
   ]
  },
  {
   "cell_type": "markdown",
   "id": "861fad04",
   "metadata": {},
   "source": [
    "Next, we'll fit a set of models to each of the datasets defined above using the `multidms.fit_models` [function](https://matsengrp.github.io/multidms/multidms.model_collection.html#multidms.model_collection.fit_models). For each dataset, we independently fit models with a number of different lasso penalty coefficients ($\\lambda_{L1}$) as defined at the top of this notebook. "
   ]
  },
  {
   "cell_type": "code",
   "execution_count": null,
   "id": "12c0c274",
   "metadata": {},
   "outputs": [],
   "source": [
    "fitting_params = {\n",
    "    # \"num_training_steps\": [num_training_steps], # default 100\n",
    "    \"maxiter\": [10000], # default 20000\n",
    "    \"tol\":[0.0001],\n",
    "    \"coef_lasso_shift\": coef_lasso_shift, # the sweep of lasso coefficient params\n",
    "    \"init_beta_naught\" : [init_beta_naught], # We've found that we need to start with a higher beta_naught to get the model to converge correctly,\n",
    "    \"coef_ridge_beta\" : [coef_ridge_beta], # the sweep of ridge coefficient params\n",
    "    \"acceleration\" : [True], # default True\n",
    "    \"maxls\" : [50]\n",
    "}\n",
    "\n",
    "fitting_params[\"dataset\"] = data_objects\n",
    "pprint.pprint(fitting_params)"
   ]
  },
  {
   "cell_type": "code",
   "execution_count": null,
   "id": "ee408af7",
   "metadata": {},
   "outputs": [],
   "source": [
    "pprint.pprint(multidms.model_collection._explode_params_dict(fitting_params)[0])"
   ]
  },
  {
   "cell_type": "code",
   "execution_count": null,
   "id": "f9f5b0bd",
   "metadata": {},
   "outputs": [],
   "source": [
    "multidms.model_collection.fit_one_model(**multidms.model_collection._explode_params_dict(fitting_params)[0])"
   ]
  },
  {
   "cell_type": "markdown",
   "id": "61f4b640",
   "metadata": {},
   "source": [
    "Fit the models:"
   ]
  },
  {
   "cell_type": "code",
   "execution_count": null,
   "id": "c013b7c0",
   "metadata": {},
   "outputs": [],
   "source": [
    "_, _, fit_collection_df = multidms.model_collection.fit_models(fitting_params)"
   ]
  },
  {
   "cell_type": "markdown",
   "id": "9eca7abf",
   "metadata": {},
   "source": [
    "\n",
    "Note that the return type of [multidms.fit_models](https://matsengrp.github.io/multidms/multidms.html#multidms.fit_models) is a `tuple(int, int, pd.DataFrame)` where the first two values are the number of fits that were successful and the number that failed, respectively, and the third value is a dataframe where each row contains a fit `Model` object and the hyperparameters used to fit it."
   ]
  },
  {
   "cell_type": "code",
   "execution_count": null,
   "id": "2592665c",
   "metadata": {},
   "outputs": [],
   "source": [
    "fit_collection_df[[\"model\", \"dataset_name\", \"coef_lasso_shift\", \"fit_time\"]].info()"
   ]
  },
  {
   "cell_type": "markdown",
   "id": "3a1338c2",
   "metadata": {},
   "source": [
    "Add a few helpful features to this dataframe for plotting by splitting the \"dataset_name\" (name of the Data Object that was used for fitting) into more understandable columns:"
   ]
  },
  {
   "cell_type": "code",
   "execution_count": null,
   "id": "e2dd2e22",
   "metadata": {},
   "outputs": [],
   "source": [
    "fit_collection_df = fit_collection_df.assign(\n",
    "    measurement_type = fit_collection_df[\"dataset_name\"].str.split(\"_\").str[2:4].str.join(\"_\"),\n",
    "    library = fit_collection_df[\"dataset_name\"].str.split(\"_\").str[0:2].str.join(\"_\")\n",
    ")\n",
    "\n",
    "# convert measurement type to categorical ordered by 'observed', 'loose', 'tight' for plotting\n",
    "fit_collection_df[\"measurement_type\"] = pd.Categorical(\n",
    "    fit_collection_df[\"measurement_type\"],\n",
    "    categories=[\"observed_phenotype\", \"loose_bottle\", \"tight_bottle\"],\n",
    "    ordered=True\n",
    ")\n",
    "\n",
    "fit_collection_df[[\"model\", \"measurement_type\", \"library\", \"coef_lasso_shift\"]].head()"
   ]
  },
  {
   "cell_type": "markdown",
   "id": "4d4ab907",
   "metadata": {},
   "source": [
    "### Model convergence"
   ]
  },
  {
   "cell_type": "code",
   "execution_count": null,
   "id": "14a88162",
   "metadata": {},
   "outputs": [],
   "source": [
    "# %load_ext autoreload\n",
    "# %autoreload 2\n",
    "\n",
    "# import multidms"
   ]
  },
  {
   "cell_type": "code",
   "execution_count": null,
   "id": "dcaaeaee",
   "metadata": {},
   "outputs": [],
   "source": [
    "# model_collection_100K_50_w_wo_acceleration = model_collection\n",
    "model_collection = model_collection_100K_50_w_wo_acceleration"
   ]
  },
  {
   "cell_type": "code",
   "execution_count": null,
   "id": "50d45e35",
   "metadata": {},
   "outputs": [],
   "source": [
    "model_collection = multidms.model_collection.ModelCollection(fit_collection_df)\n",
    "model_collection.fit_models.converged.value_counts()"
   ]
  },
  {
   "cell_type": "code",
   "execution_count": null,
   "id": "2088dea3",
   "metadata": {},
   "outputs": [],
   "source": [
    "data = model_collection.convergence_trajectory_df(\n",
    "    id_vars = (\"coef_lasso_shift\", \"measurement_type\", \"library\", \"acceleration\", \"maxls\")\n",
    ")\n",
    "data"
   ]
  },
  {
   "cell_type": "code",
   "execution_count": null,
   "id": "e3d33bbe",
   "metadata": {},
   "outputs": [],
   "source": [
    "data.index.name = \"step\"\n",
    "data.reset_index(inplace=True)\n",
    "data.head()"
   ]
  },
  {
   "cell_type": "code",
   "execution_count": null,
   "id": "d5c10bfb",
   "metadata": {},
   "outputs": [],
   "source": [
    "p = (\n",
    "    ggplot(\n",
    "        data.query(\"~acceleration & step > 90000 & library == 'lib_1' & coef_lasso_shift == 4e-05\"),\n",
    "        aes(\n",
    "            x=\"step\", \n",
    "            y=\"error\", \n",
    "            linetype=\"library\"\n",
    "        )\n",
    "    )\n",
    "    + geom_line()\n",
    "    + facet_wrap(\"~coef_lasso_shift+measurement_type\", scales=\"free_y\", ncol=3)\n",
    "    # copnstrain y axis to 0-1\n",
    "    # + scale_y_continuous(limits=(0, .1))\n",
    "    # make figure size taller\n",
    "    + theme(figure_size=(10, 4))\n",
    "    # add title\n",
    "    + labs(\n",
    "        # title=\"acceleration=False\"\n",
    "    )\n",
    ")\n",
    "_ = p.draw(show=True)"
   ]
  },
  {
   "cell_type": "code",
   "execution_count": null,
   "id": "9305f7fb",
   "metadata": {},
   "outputs": [],
   "source": [
    "p = (\n",
    "    ggplot(\n",
    "        data.query(\"acceleration & step > 3000 & library == 'lib_1'\"),\n",
    "        aes(\n",
    "            x=\"step\", \n",
    "            y=\"error\", \n",
    "            linetype=\"library\"\n",
    "        )\n",
    "    )\n",
    "    + geom_line()\n",
    "    + facet_wrap(\"~coef_lasso_shift+measurement_type\", scales=\"free_y\", ncol=3)\n",
    "    # copnstrain y axis to 0-1\n",
    "    # + scale_y_continuous(limits=(0, .1))\n",
    "    # make figure size taller\n",
    "    + theme(figure_size=(10, 10))\n",
    ")\n",
    "_ = p.draw(show=True)"
   ]
  },
  {
   "cell_type": "code",
   "execution_count": null,
   "id": "4f7a2f43",
   "metadata": {},
   "outputs": [],
   "source": [
    "p = (\n",
    "    ggplot(\n",
    "        data.query(\"acceleration & step > 3000 & library == 'lib_1'\"),\n",
    "        aes(\n",
    "            x=\"step\", \n",
    "            y=\"loss\", \n",
    "            linetype=\"library\"\n",
    "        )\n",
    "    )\n",
    "    + geom_line()\n",
    "    + facet_wrap(\"~coef_lasso_shift+measurement_type\", scales=\"free_y\", ncol=3)\n",
    "    # copnstrain y axis to 0-1\n",
    "    # + scale_y_continuous(limits=(0, .1))\n",
    "    # make figure size taller\n",
    "    + theme(figure_size=(10, 10))\n",
    ")\n",
    "_ = p.draw(show=True)"
   ]
  },
  {
   "cell_type": "markdown",
   "id": "0210ef48",
   "metadata": {},
   "source": [
    "### Model vs. truth mutational effects"
   ]
  },
  {
   "cell_type": "markdown",
   "id": "225dbcd5",
   "metadata": {},
   "source": [
    "The `multidms.ModelCollection` takes a a dataframe such as the one created above and provides a few helpful methods for model selection and aggregation. We'll use these methods to evaluate the fits and select the best model for each dataset."
   ]
  },
  {
   "cell_type": "code",
   "execution_count": null,
   "id": "230f40d8",
   "metadata": {},
   "outputs": [],
   "source": [
    "model_collection = multidms.model_collection.ModelCollection(fit_collection_df)"
   ]
  },
  {
   "cell_type": "code",
   "execution_count": null,
   "id": "0f4d827e",
   "metadata": {},
   "outputs": [],
   "source": [
    "model_collection.fit_models.converged.value_counts()"
   ]
  },
  {
   "cell_type": "code",
   "execution_count": null,
   "id": "856cbccf",
   "metadata": {},
   "outputs": [],
   "source": [
    "chart_no_bottle = model_collection.mut_param_dataset_correlation(query=\"measurement_type == 'observed_phenotype'\")\n",
    "chart_loose_bottle = model_collection.mut_param_dataset_correlation(query=\"measurement_type == 'loose_bottle'\")\n",
    "chart_tight_bottle = model_collection.mut_param_dataset_correlation(query=\"measurement_type == 'tight_bottle'\")\n",
    "chart_no_bottle | chart_loose_bottle | chart_tight_bottle"
   ]
  },
  {
   "cell_type": "code",
   "execution_count": null,
   "id": "0a53d810",
   "metadata": {},
   "outputs": [],
   "source": [
    "(\n",
    "    model_collection\n",
    "    .fit_models\n",
    "    .query(\n",
    "        f\"coef_lasso_shift == 8.0e-5 and measurement_type == 'loose_bottle' and library == 'lib_1'\"\n",
    "    )\n",
    "    .iloc[0]\n",
    "    .model\n",
    "    .plot_epistasis()\n",
    ")"
   ]
  },
  {
   "cell_type": "markdown",
   "id": "b7b072da",
   "metadata": {},
   "source": [
    "Get the mutational parameters for each of the models using `model_collection.split_apply_combine_muts()` [method](https://matsengrp.github.io/multidms/multidms.model_collection.html#multidms.model_collection.ModelCollection.split_apply_combine_muts), and merge them with the simulated ground truth parameters:"
   ]
  },
  {
   "cell_type": "code",
   "execution_count": null,
   "id": "7ab1830e",
   "metadata": {},
   "outputs": [],
   "source": [
    "# the columns that distinguish fits are what we'll groupby such that none of the model collection parameters are aggregated\n",
    "groupby=(\"library\", \"measurement_type\", \"coef_lasso_shift\")\n",
    "collection_muts_df = (\n",
    "    model_collection.split_apply_combine_muts(\n",
    "        groupby=groupby\n",
    "    )\n",
    "    .reset_index()\n",
    "    .rename(\n",
    "        {\n",
    "            'beta' : 'predicted_beta',\n",
    "            'shift_h2' : 'predicted_shift_h2',\n",
    "        }, \n",
    "        axis=1\n",
    "    )    \n",
    "    .merge(\n",
    "        mut_effects_df.rename(\n",
    "            {\n",
    "                'beta_h1' : 'true_beta',\n",
    "                'beta_h2' : 'true_beta_h2',\n",
    "                'shift' : 'true_shift',\n",
    "            },\n",
    "            axis=1\n",
    "        ),\n",
    "        on='mutation'\n",
    "    )\n",
    ")\n",
    "assert collection_muts_df.shape[0] == len(mut_effects_df) * len(fit_collection_df)\n",
    "collection_muts_df[[\"mutation\", \"library\", \"measurement_type\", \"coef_lasso_shift\", \"predicted_shift_h2\", \"true_shift\"]].head()"
   ]
  },
  {
   "cell_type": "markdown",
   "id": "366e5adc",
   "metadata": {},
   "source": [
    "To compare model fits parameter values to the simulated ground truth values, add mean squared error and pearsonr metrics to the `ModelCollection.fit_models` attribute:"
   ]
  },
  {
   "cell_type": "code",
   "execution_count": null,
   "id": "86d6e7d8",
   "metadata": {},
   "outputs": [],
   "source": [
    "def series_corr(y_true, y_pred):\n",
    "    return np.corrcoef(y_true, y_pred)[0, 1]\n",
    "\n",
    "def series_mae(y_true, y_pred):\n",
    "    return np.mean(y_true - y_pred)\n",
    "\n",
    "# compute the new metric columns\n",
    "new_fit_models_cols = defaultdict(list)\n",
    "for group, model_mutations_df in collection_muts_df.groupby(list(groupby)):\n",
    "    # add cols for merging\n",
    "    for i, attribute in enumerate(group):\n",
    "        new_fit_models_cols[groupby[i]].append(group[i])\n",
    "        \n",
    "    for parameter in [\"beta\", \"shift\"]:\n",
    "        for metric_fxn, name in zip([series_corr, series_mae], [\"corr\", \"mae\"]):\n",
    "\n",
    "            # add the new metric columns\n",
    "            postfix=\"_h2\" if parameter == \"shift\" else \"\"\n",
    "            y_pred = model_mutations_df[f\"predicted_{parameter}{postfix}\"]\n",
    "            y_true = model_mutations_df[f\"true_{parameter}\"]\n",
    "            new_fit_models_cols[f\"{parameter}_{name}\"].append(metric_fxn(y_true, y_pred))\n",
    "\n",
    "# merge the new columns into the model collection\n",
    "model_collection.fit_models = model_collection.fit_models.merge(\n",
    "    pd.DataFrame(new_fit_models_cols),\n",
    "    on=list(groupby)\n",
    ")\n",
    "\n",
    "# print the first few rows of the model collection\n",
    "model_collection.fit_models[list(groupby) + [c for c in new_fit_models_cols.keys() if c not in groupby]].head()\n"
   ]
  },
  {
   "cell_type": "markdown",
   "id": "617da09d",
   "metadata": {},
   "source": [
    "Next, we'll make some summary plots with the predicted vs. simulated ground MSE truth parameters across model fits"
   ]
  },
  {
   "cell_type": "code",
   "execution_count": null,
   "id": "abc9b066",
   "metadata": {},
   "outputs": [],
   "source": [
    "metric = \"corr\"\n",
    "\n",
    "data = (\n",
    "    model_collection.fit_models\n",
    "    .assign(\n",
    "        measurement_library = lambda x: x[\"measurement_type\"].astype(str) + \" \" + x[\"library\"]\n",
    "    )\n",
    "    .melt(\n",
    "        id_vars=list(groupby) + [\"measurement_library\"],\n",
    "        value_vars=[f\"beta_{metric}\", f\"shift_{metric}\"],\n",
    "        var_name=\"parameter\",\n",
    "        value_name=metric,\n",
    "    )\n",
    ")\n",
    "data[\"measurement_type\"] = pd.Categorical(\n",
    "    data[\"measurement_type\"],\n",
    "    categories=[\"observed_phenotype\", \"loose_bottle\", \"tight_bottle\"],\n",
    "    ordered=True\n",
    ")\n",
    "data[\"parameter\"] = data[\"parameter\"].str.replace(f\"_{metric}\", \"\")\n",
    "data[\"parameter\"] = pd.Categorical(\n",
    "    data[\"parameter\"],\n",
    "    categories=[\"shift\", \"beta\"],\n",
    "    ordered=True\n",
    ")\n",
    "for parameter, parameter_df in data.groupby(\"parameter\", observed=True):\n",
    "    p = (\n",
    "        ggplot(parameter_df)\n",
    "        + geom_line(\n",
    "            aes(\n",
    "                x=\"coef_lasso_shift\",\n",
    "                y=metric,\n",
    "                group=\"measurement_library\",\n",
    "            ),\n",
    "        )\n",
    "        + geom_point(\n",
    "            aes(\n",
    "                x=\"coef_lasso_shift\",\n",
    "                y=metric,\n",
    "                shape=\"library\"\n",
    "            ),\n",
    "            size=4\n",
    "        )\n",
    "        + facet_wrap(\"measurement_type\", scales=\"free_y\")\n",
    "        + theme_classic()\n",
    "        + theme(\n",
    "            figure_size=(6, 3.3),\n",
    "            axis_text_x=element_text(angle=90),\n",
    "            panel_grid_major_x=element_blank(),  # no vertical grid lines\n",
    "        )\n",
    "        + labs(\n",
    "            title=f\"Prediction vs. Simulated Ground Truth: {parameter}\",\n",
    "            x=\"lasso penalty coefficient (λ)\",\n",
    "            y=\"Mean Absolute Error\" if metric == \"mae\" else \"Correlation\"\n",
    "        )\n",
    "    )\n",
    "    _ = p.draw(show=True)"
   ]
  },
  {
   "cell_type": "code",
   "execution_count": null,
   "id": "3c620246",
   "metadata": {},
   "outputs": [],
   "source": [
    "data.to_csv(f\"{csv_output_dir}/model_vs_truth_beta_shift.csv\", index=False)\n",
    "data.round(2).head()"
   ]
  },
  {
   "cell_type": "markdown",
   "id": "38a147f0",
   "metadata": {},
   "source": [
    "### Shift sparsity"
   ]
  },
  {
   "cell_type": "markdown",
   "id": "0ffe5061",
   "metadata": {},
   "source": [
    "Another way we might evaluate the fits is by looking at the _sparsity_ of the models by computing the percentage of shift parameters that are equal to zero among the models. We look at this metric separately for mutations to stop codons and mutations to non-stop codons because we expect the stop codons to be equally deleterious in both homologs, and thus we expect all the shift parameters associated with stop codon mutations to be zero in a \"good\" fit."
   ]
  },
  {
   "cell_type": "code",
   "execution_count": null,
   "id": "5e61b979",
   "metadata": {},
   "outputs": [],
   "source": [
    "chart, data = model_collection.shift_sparsity(return_data=True)\n",
    "data.head()"
   ]
  },
  {
   "cell_type": "code",
   "execution_count": null,
   "id": "12cb640d",
   "metadata": {},
   "outputs": [],
   "source": [
    "data =data.assign(\n",
    "    library=data.dataset_name.str.split(\"_\").str[:2].str.join(\"_\"),\n",
    "    library_type = data.dataset_name.str.split(\"_\").str[:2].str.join(\"_\") + \"-\" + data.mut_type,\n",
    "    measurement_type = data.dataset_name.str.split(\"_\").str[2:4].str.join(\"_\")\n",
    ")\n",
    "# convert measurement type to categorical ordered by 'observed', 'loose', 'tight'\n",
    "data[\"measurement_type\"] = pd.Categorical(\n",
    "    data[\"measurement_type\"],\n",
    "    categories=[\"observed_phenotype\", \"loose_bottle\", \"tight_bottle\"],\n",
    "    ordered=True\n",
    ")\n",
    "data['True Sparsity'] = '' #dummy col for plotting legend\n",
    "# data.sort_values(\"coef_lasso_shift\", inplace=True)\n",
    "data[\"coef_lasso_shift\"] = data.coef_lasso_shift.astype(object)\n",
    "\n",
    "true_sparsity = 1 - mut_effects_df.shifted_site.mean()\n",
    "\n",
    "p = (\n",
    "    ggplot(\n",
    "        data,\n",
    "        aes(\"coef_lasso_shift\", \"sparsity\")\n",
    "    )\n",
    "    + geom_hline(aes(yintercept=true_sparsity, color=\"True Sparsity\"), linetype=\"dashed\")\n",
    "    + geom_line(\n",
    "        aes(\n",
    "            group=\"library_type\",\n",
    "        ),\n",
    "    )\n",
    "    + geom_point(\n",
    "        aes(\n",
    "            fill=\"mut_type\",\n",
    "            shape=\"library\"\n",
    "        ),\n",
    "        size=4\n",
    "    )\n",
    "    + scale_fill_manual(values=CBPALETTE)\n",
    "    + facet_wrap(\"measurement_type\")\n",
    "    + theme_classic()\n",
    "    + theme(\n",
    "        figure_size=(6, 3.3),\n",
    "        axis_text_x=element_text(angle=90),\n",
    "        panel_grid_major_x=element_blank(),  # no vertical grid lines\n",
    "    )\n",
    "    + labs(\n",
    "        title=f\"\",\n",
    "        x=\"lasso penalty coefficient (λ)\",\n",
    "        y=\"sparsity\"\n",
    "    )\n",
    ")\n",
    "_ = p.draw(show=True)"
   ]
  },
  {
   "cell_type": "code",
   "execution_count": null,
   "id": "ad2e1eb9",
   "metadata": {},
   "outputs": [],
   "source": [
    "data.to_csv(f\"{csv_output_dir}/fit_sparsity.csv\", index=False)\n",
    "data.round(2).head()"
   ]
  },
  {
   "cell_type": "markdown",
   "id": "8eef4165",
   "metadata": {},
   "source": [
    "### Replicate correlations"
   ]
  },
  {
   "cell_type": "markdown",
   "id": "0a72ff12",
   "metadata": {},
   "source": [
    "Another common metric to look at when evaluating models is to look at the correlation of the inferred mutational effects between the two libraries. We can do this by computing the pearson correlation coefficient between the inferred mutational effects for each mutation in the two libraries using the `multidms.ModelCollection.mut_param_dataset_correlation` [method](https://matsengrp.github.io/multidms/multidms.model_collection.html#multidms.model_collection.ModelCollection.mut_param_dataset_correlation)."
   ]
  },
  {
   "cell_type": "code",
   "execution_count": null,
   "id": "21b98a31",
   "metadata": {},
   "outputs": [],
   "source": [
    "chart, data = model_collection.mut_param_dataset_correlation(return_data=True)\n",
    "data.head()"
   ]
  },
  {
   "cell_type": "markdown",
   "id": "a0be631b",
   "metadata": {},
   "source": [
    "By default, the method returns a dataframe giving parameter between each unique pair of datasets, meaning it includes correlations between models fit on different measurement types. We'll only be comparing models trained the same fitting target combination."
   ]
  },
  {
   "cell_type": "code",
   "execution_count": null,
   "id": "5bdd3daf",
   "metadata": {},
   "outputs": [],
   "source": [
    "data = (\n",
    "    data\n",
    "    .assign(\n",
    "        lib1 = data.datasets.str.split(\",\").str[0],\n",
    "        lib2 = data.datasets.str.split(\",\").str[1],\n",
    "        measurement_type_1 = lambda x: x[\"lib1\"].str.split(\"_\").str[2:4].str.join(\"_\"),\n",
    "        measurement_type_2 = lambda x: x[\"lib2\"].str.split(\"_\").str[2:4].str.join(\"_\")\n",
    "    )\n",
    "    .query(\"(measurement_type_1 == measurement_type_2) & (~mut_param.str.contains('predicted_func_score'))\")\n",
    "    .rename(\n",
    "        {\n",
    "            \"measurement_type_1\" : \"measurement_type\",\n",
    "        },\n",
    "        axis=1\n",
    "    )\n",
    "    .replace({\"shift_h2\": \"shift\"})\n",
    "    .drop([\"lib1\", \"lib2\", \"datasets\", \"measurement_type_2\"], axis=1)\n",
    ")\n",
    "\n",
    "data.head(10)"
   ]
  },
  {
   "cell_type": "code",
   "execution_count": null,
   "id": "6647a07b",
   "metadata": {},
   "outputs": [],
   "source": [
    "\n",
    "\n",
    "data[\"measurement_type\"] = pd.Categorical(\n",
    "    data[\"measurement_type\"],\n",
    "    categories=[\"observed_phenotype\", \"loose_bottle\", \"tight_bottle\"],\n",
    "    ordered=True\n",
    ")\n",
    "data[\"mut_param\"] = pd.Categorical(\n",
    "    data[\"mut_param\"],\n",
    "    categories=[\"shift\", \"beta\"],\n",
    "    ordered=True\n",
    ")\n",
    "\n",
    "data[\"coef_lasso_shift\"] = data.coef_lasso_shift.astype(object)\n",
    "\n",
    "for parameter, parameter_df in data.groupby(\"mut_param\", observed=True):\n",
    "    p = (\n",
    "        ggplot(\n",
    "            parameter_df\n",
    "        )\n",
    "        + geom_line(\n",
    "            aes(\n",
    "                x=\"coef_lasso_shift\",\n",
    "                y=\"correlation\",\n",
    "                group=\"measurement_type\"\n",
    "            ),\n",
    "        )\n",
    "        + geom_point(\n",
    "            aes(\n",
    "                x=\"coef_lasso_shift\",\n",
    "                y=\"correlation\",\n",
    "            ),\n",
    "            size=4\n",
    "        )\n",
    "        + facet_wrap(\"measurement_type\", scales=\"free_y\")\n",
    "        + theme_classic()\n",
    "        + theme(\n",
    "            figure_size=(6, 3.3),\n",
    "            axis_text_x=element_text(angle=90),\n",
    "            panel_grid_major_x=element_blank(),  # no vertical grid lines\n",
    "        )\n",
    "        + labs(\n",
    "            title=f\"Library Replicate Correlations: {parameter}\",\n",
    "            x=\"lasso penalty coefficient (λ)\",\n",
    "            y=\"pearsonr\"\n",
    "        )\n",
    "    )\n",
    "    _ = p.draw(show=True)"
   ]
  },
  {
   "cell_type": "code",
   "execution_count": null,
   "id": "f7dea999",
   "metadata": {},
   "outputs": [],
   "source": [
    "data.to_csv(f\"{csv_output_dir}/library_replicate_correlation.csv\", index=False)\n",
    "data.round(2).head()"
   ]
  },
  {
   "cell_type": "markdown",
   "id": "e1e5084f",
   "metadata": {},
   "source": [
    "### Model vs. truth variant phenotypes"
   ]
  },
  {
   "cell_type": "markdown",
   "id": "51fa3b22",
   "metadata": {},
   "source": [
    "Let's take a look at how the lasso constraint affects the models' ability to predict the true latent and observed phenotypes. \n",
    "\n",
    "First, we grab the model predictions of latent and observed phenotypes for each of the datasets using `multidms.Model.get_variants_df`. "
   ]
  },
  {
   "cell_type": "code",
   "execution_count": null,
   "id": "4051d61d",
   "metadata": {},
   "outputs": [],
   "source": [
    "variants_df = pd.concat(\n",
    "    [\n",
    "        row.model.get_variants_df(phenotype_as_effect=False)\n",
    "        .assign(\n",
    "            library=row.library,\n",
    "            measurement_type=row.measurement_type,\n",
    "            coef_lasso_shift=row.coef_lasso_shift,\n",
    "        )\n",
    "        .rename(\n",
    "            {\n",
    "                \"predicted_func_score\": \"predicted_phenotype\",\n",
    "                \"predicted_latent\": \"predicted_latent_phenotype\",\n",
    "                \"func_score\" : \"measured_phenotype\",\n",
    "            },\n",
    "            axis=1,\n",
    "        )\n",
    "        # add enrichments\n",
    "        .assign(\n",
    "            predicted_enrichment = lambda x: 2**x['predicted_phenotype'],\n",
    "            measured_enrichment = lambda x: 2**x['measured_phenotype'],\n",
    "            fit_idx = idx\n",
    "        )\n",
    "        for idx, row in fit_collection_df.iterrows()\n",
    "    ]\n",
    ")\n",
    "variants_df.head()"
   ]
  },
  {
   "cell_type": "markdown",
   "id": "21d85524",
   "metadata": {},
   "source": [
    "Next, add the simulated ground truth phenotypes:"
   ]
  },
  {
   "cell_type": "code",
   "execution_count": null,
   "id": "93dc0b7e",
   "metadata": {},
   "outputs": [],
   "source": [
    "variants_df  = pd.concat(\n",
    "    [\n",
    "        variants_df.query(\"condition == @homolog\")\n",
    "        .assign(\n",
    "            true_latent_phenotype = lambda x: x['aa_substitutions'].apply(phenotype_fxn_dict[\"latentPhenotype\"]),\n",
    "            true_observed_phenotype = lambda x: x['aa_substitutions'].apply(phenotype_fxn_dict[\"observedPhenotype\"]),\n",
    "            true_enrichment = lambda x: x['aa_substitutions'].apply(phenotype_fxn_dict[\"observedEnrichment\"]),\n",
    "        )\n",
    "        for homolog, phenotype_fxn_dict in zip([\"h1\", \"h2\"], [phenotype_fxn_dict_h1, phenotype_fxn_dict_h2])\n",
    "    ]\n",
    ")\n",
    "\n",
    "variants_df[\"measurement_type\"] = pd.Categorical(\n",
    "    variants_df[\"measurement_type\"],\n",
    "    categories=[\"observed_phenotype\", \"loose_bottle\", \"tight_bottle\"],\n",
    "    ordered=True\n",
    ")\n",
    "\n",
    "# As a sanity check let's make sure the true phenotypes match the \n",
    "# \"measured phenotypes\" (i.e. fitting targets) for the variants that were trained on ground truth targets\n",
    "assert np.allclose(\n",
    "    variants_df.query(\"measurement_type == 'observed_phenotype'\")['measured_phenotype'],\n",
    "    variants_df.query(\"measurement_type == 'observed_phenotype'\")['true_observed_phenotype'],\n",
    ")\n"
   ]
  },
  {
   "cell_type": "markdown",
   "id": "c868aa25",
   "metadata": {},
   "source": [
    "For clarity, let's define and arrange the columns we now have:"
   ]
  },
  {
   "cell_type": "code",
   "execution_count": null,
   "id": "dd3f2191",
   "metadata": {},
   "outputs": [],
   "source": [
    "cols = [\n",
    "    # unique combinations of these make up the model collection that we've fit\n",
    "    \"library\", # replicate library,\n",
    "    \"measurement_type\", # type of functional score\n",
    "    \"coef_lasso_shift\", # lasso coefficient of model\n",
    "\n",
    "    # variant defining columns\n",
    "    \"aa_substitutions\", # variant substitutions\n",
    "    \"var_wrt_ref\", # variant substitutions relative to reference wildtype\n",
    "    \"condition\", # homolog\n",
    "\n",
    "    \"measured_phenotype\", # the actual target functional score for training, in multidms, this is \"func_score\"\n",
    "    \"measured_enrichment\", # 2 ** measured_func_score\n",
    "\n",
    "    \"predicted_latent_phenotype\", # predicted latent phenotype\n",
    "    \"predicted_phenotype\", # predicted observed phenotype - or in jesse's case, the \"observed phenotype\"\n",
    "    \"predicted_enrichment\", # predicted enrichment\n",
    "\n",
    "    \"true_latent_phenotype\", # true latent phenotype\n",
    "    \"true_observed_phenotype\", # true observed phenotype\n",
    "    \"true_enrichment\", # true enrichment\n",
    "]\n",
    "# variants_df[cols].round(2).head()\n"
   ]
  },
  {
   "cell_type": "markdown",
   "id": "0c066aa1",
   "metadata": {},
   "source": [
    "Add correlation of ground truth targets / predicted phenotypes to the fit collection dataframe and plot them:"
   ]
  },
  {
   "cell_type": "code",
   "execution_count": null,
   "id": "fad2f16d",
   "metadata": {},
   "outputs": [],
   "source": [
    "for idx, model_variants_df in variants_df.groupby(\"fit_idx\"):\n",
    "    for metric_fxn, metric_name in zip([series_corr, series_mae], [\"corr\", \"mae\"]):\n",
    "        fit_collection_df.loc[idx, f\"variant_phenotype_{metric_name}\"] = metric_fxn(\n",
    "            model_variants_df[\"measured_phenotype\"],\n",
    "            model_variants_df[\"predicted_phenotype\"]\n",
    "        )\n",
    "\n",
    "fit_collection_df[[\"coef_lasso_shift\", \"dataset_name\", \"variant_phenotype_corr\", \"variant_phenotype_mae\"]].head()\n"
   ]
  },
  {
   "cell_type": "code",
   "execution_count": null,
   "id": "29b9faff",
   "metadata": {},
   "outputs": [],
   "source": [
    "# for metric in [\"corr\", \"mae\"]:\n",
    "data = fit_collection_df[[\"library\", \"measurement_type\", \"coef_lasso_shift\", \"dataset_name\", \"variant_phenotype_corr\", \"variant_phenotype_mae\"]]\n",
    "metric = \"corr\"\n",
    "p = (\n",
    "    ggplot(\n",
    "        data\n",
    "        .assign(\n",
    "            measurement_library = lambda x: x[\"library\"] + \"_\" + x[\"measurement_type\"].astype(str)\n",
    "        )\n",
    "    )\n",
    "    + geom_line(\n",
    "        aes(\n",
    "            x=\"coef_lasso_shift\",\n",
    "            y=f\"variant_phenotype_{metric}\",\n",
    "            group=\"measurement_library\",\n",
    "        ),\n",
    "    )\n",
    "    + geom_point(\n",
    "        aes(\n",
    "            x=\"coef_lasso_shift\",\n",
    "            y=f\"variant_phenotype_{metric}\",\n",
    "            shape=\"library\"\n",
    "        ),\n",
    "        size=4\n",
    "    )\n",
    "    + facet_wrap(\"measurement_type\", scales=\"free_y\")\n",
    "    + theme_classic()\n",
    "    + theme(\n",
    "        figure_size=(6.5, 3.3),\n",
    "        axis_text_x=element_text(angle=90),\n",
    "        panel_grid_major_x=element_blank(),  # no vertical grid lines\n",
    "    )\n",
    "    + labs(\n",
    "        title=f\"Predicted Vs. True Variant Phenotype\",\n",
    "        x=\"lasso penalty coefficient ($\\lambda_{L1}$)\",\n",
    "        y=\"pearsonr\" if metric == \"corr\" else \"mean absolute error\"\n",
    "    )\n",
    ")\n",
    "_ = p.draw(show=True)"
   ]
  },
  {
   "cell_type": "markdown",
   "id": "eba4daaf",
   "metadata": {},
   "source": [
    "As expected, the lasso constraint has a negative effect on the models' ability to predict the true latent and observed phenotypes. This is because a model with more freedom to choose parameters is likely to overfit to the training data. \n"
   ]
  },
  {
   "cell_type": "code",
   "execution_count": null,
   "id": "28637817",
   "metadata": {},
   "outputs": [],
   "source": [
    "data.to_csv(f\"{csv_output_dir}/model_vs_truth_variant_phenotype.csv\", index=False)\n",
    "data.round(2).head()"
   ]
  },
  {
   "cell_type": "markdown",
   "id": "bfb4289a",
   "metadata": {},
   "source": [
    "### Cross validation\n"
   ]
  },
  {
   "cell_type": "markdown",
   "id": "f91a5611",
   "metadata": {},
   "source": [
    "Above, we saw evidence that the lasso negatively impacts the model performance on the training data. To test for overfitting, we can perform cross validation to test that the model is actually more accurate on unseen data."
   ]
  },
  {
   "cell_type": "code",
   "execution_count": null,
   "id": "bf5868db",
   "metadata": {},
   "outputs": [],
   "source": [
    "train, test = [], {}\n",
    "for (library, measurement), fs_df in func_scores.rename(columns={\"homolog\":\"condition\"}).groupby([\"library\", \"func_score_type\"]):\n",
    "    \n",
    "    if \"enrichment\" in measurement:\n",
    "        continue\n",
    "\n",
    "    dataset = fs_df.sample(frac=1, random_state=seed)\n",
    "    train_split, test_split = dataset.iloc[:int(len(dataset) * train_frac)], dataset.iloc[int(len(dataset) * train_frac):]\n",
    "    name = f\"{library}_{measurement}\"\n",
    "    \n",
    "    train.append(\n",
    "        multidms.Data(\n",
    "            train_split, \n",
    "            reference=\"h1\", \n",
    "            alphabet = multidms.AAS_WITHSTOP_WITHGAP, \n",
    "            verbose=False,\n",
    "            name = name\n",
    "        )\n",
    "    )\n",
    "\n",
    "    test[name] = test_split"
   ]
  },
  {
   "cell_type": "code",
   "execution_count": null,
   "id": "3bf0974a",
   "metadata": {},
   "outputs": [],
   "source": [
    "fitting_params[\"dataset\"] = train \n",
    "_, _, fit_collection_cv = multidms.model_collection.fit_models(fitting_params)"
   ]
  },
  {
   "cell_type": "markdown",
   "id": "34667c06",
   "metadata": {},
   "source": [
    "The `multidms.ModelCollection.add_validation_loss` method takes in unseen data, computes model loss on that data, and appends it to the `ModelCollection.fit_models` dataframe."
   ]
  },
  {
   "cell_type": "code",
   "execution_count": null,
   "id": "3d073862",
   "metadata": {},
   "outputs": [],
   "source": [
    "mc = multidms.model_collection.ModelCollection(fit_collection_cv)\n",
    "mc.add_validation_loss(test, overwrite=True)"
   ]
  },
  {
   "cell_type": "code",
   "execution_count": null,
   "id": "5e1509d3",
   "metadata": {},
   "outputs": [],
   "source": [
    "mc.fit_models[[c for c in mc.fit_models.columns if \"loss\" in c]].head()"
   ]
  },
  {
   "cell_type": "code",
   "execution_count": null,
   "id": "75525d3d",
   "metadata": {},
   "outputs": [],
   "source": [
    "data = mc.fit_models\n",
    "\n",
    "data[\"library\"] = data[\"dataset_name\"].str.split(\"_\").str[0:2].str.join(\"_\")\n",
    "data[\"measurement_type\"] = data[\"dataset_name\"].str.split(\"_\").str[2:4].str.join(\"_\")\n",
    "data[\"measurement_type\"] = pd.Categorical(\n",
    "    data[\"measurement_type\"],\n",
    "    categories=[\"observed_phenotype\", \"loose_bottle\", \"tight_bottle\"],\n",
    "    ordered=True\n",
    ")\n",
    "\n",
    "data = (\n",
    "    data\n",
    "    .melt(\n",
    "        id_vars=[\"coef_lasso_shift\", \"library\", \"measurement_type\"],\n",
    "        value_vars=[\"total_loss_training\", \"total_loss_validation\"],\n",
    "        var_name=\"dataset\",\n",
    "        value_name=\"loss\",\n",
    "    )\n",
    "    .assign(\n",
    "        dataset = lambda x: x[\"dataset\"].str.replace(\"_loss\", \"\")\n",
    "    )\n",
    "    .assign(\n",
    "        lib_dataset = lambda x: x[\"library\"] + \" \" + x[\"dataset\"]\n",
    "    )\n",
    ")\n",
    "p = (\n",
    "    ggplot(data)\n",
    "    + geom_line(\n",
    "        aes(\n",
    "            x=\"coef_lasso_shift\",\n",
    "            y=f\"loss\",\n",
    "            group=\"lib_dataset\",\n",
    "        )\n",
    "    )\n",
    "    + geom_point(\n",
    "        aes(\n",
    "            x=\"coef_lasso_shift\",\n",
    "            y=f\"loss\",\n",
    "            fill=\"dataset\",\n",
    "            shape=\"library\"\n",
    "        ),\n",
    "        size=4\n",
    "    )\n",
    "    + facet_wrap(\"measurement_type\", scales=\"free_y\")\n",
    "    + theme_classic()\n",
    "    + theme(\n",
    "        figure_size=(6.5, 3.3),\n",
    "        axis_text_x=element_text(angle=90),\n",
    "        panel_grid_major_x=element_blank(),  # no vertical grid lines\n",
    "    )\n",
    "    + labs(\n",
    "        x=\"lasso penalty coefficient (λ)\",\n",
    "        y=\"Huber loss w/o penalty\"\n",
    "    )\n",
    ")\n",
    "_ = p.draw(show=True)"
   ]
  },
  {
   "cell_type": "markdown",
   "id": "d56d5111",
   "metadata": {},
   "source": [
    "Above we can see that indeed for both the loose and tight bottleneck datasets, the lasso constraint provides a more robust model to unseen data. We don't however see this effect for the models trained on ground truth observed phenotypes, as there is no noise for the models to overfit to."
   ]
  },
  {
   "cell_type": "code",
   "execution_count": null,
   "id": "ba808bc3",
   "metadata": {},
   "outputs": [],
   "source": [
    "data.to_csv(f\"{csv_output_dir}/cross_validation_loss.csv\", index=False)\n",
    "data.round(2).head()"
   ]
  },
  {
   "cell_type": "markdown",
   "id": "64bb8eb4",
   "metadata": {},
   "source": [
    "### Final Selection"
   ]
  },
  {
   "cell_type": "markdown",
   "id": "96592bfc",
   "metadata": {},
   "source": [
    "This analysis above provides a number of clues to inform our choice of model. With empricial data we obviously won't have comparisons to the ground truth values, and thus the choice of a lasso penalty will laregely depend on the shift parameter sparsity, correlation of inferred mutational effects between replicate libraries, and cross validation performance. Focusing on the _loose bottleneck_ training dataset (a fairly realistic level of noise that we often observe in real experiments), it seems that a lasso penalty of $1e-4$ provides a false positive rate of nearly zero (i.e. the stop codon sparsity $\\approx 100\\%$), a good correlation of inferred mutational effects between replicate libraries (>0.95 pearsonr), and a relatively low loss on validation when compared to the other models.  "
   ]
  },
  {
   "cell_type": "markdown",
   "id": "787a5e9b",
   "metadata": {},
   "source": [
    "To validate the ability to correctly infer the shape of epistasis, we'll plot the inferred global epistasis function for each of the models, and compare it to the true global epistasis function."
   ]
  },
  {
   "cell_type": "code",
   "execution_count": null,
   "id": "a6f9e348",
   "metadata": {},
   "outputs": [],
   "source": [
    "data = variants_df.query(f\"coef_lasso_shift == {lasso_choice}\")\n",
    "for x, y in itertools.combinations(\n",
    "    [\"predicted_latent_phenotype\", \"predicted_phenotype\", \"measured_phenotype\"], 2\n",
    "):\n",
    "    p = (\n",
    "        ggplot(data.sample(frac=1.0))\n",
    "        + geom_point(\n",
    "            aes(\n",
    "                x=x,\n",
    "                y=y    \n",
    "            ),\n",
    "            alpha=0.05,\n",
    "            color=\"grey\"\n",
    "        )\n",
    "        + ylab(y)\n",
    "        + xlab(x)\n",
    "        + facet_grid(\"~measurement_type\")\n",
    "        + theme_classic()\n",
    "        + theme(\n",
    "            figure_size=(6.5, 3.5),\n",
    "            axis_text_x=element_text(angle=90),\n",
    "        )\n",
    "    )\n",
    "\n",
    "    if x == \"predicted_latent_phenotype\":\n",
    "        p+= geom_point(\n",
    "            aes(\n",
    "                x=\"true_latent_phenotype\",\n",
    "                y=\"true_observed_phenotype\"\n",
    "            ),\n",
    "            size=0.5,\n",
    "        )\n",
    "    else:\n",
    "        p += geom_abline(\n",
    "            slope=1,\n",
    "            intercept=0, \n",
    "        )\n",
    "        \n",
    "    _ = p.draw(show=True)"
   ]
  },
  {
   "cell_type": "markdown",
   "id": "e29a25c1",
   "metadata": {},
   "source": [
    "Plot model vs. measured (functional score) vs. ground truth enrichments."
   ]
  },
  {
   "cell_type": "code",
   "execution_count": null,
   "id": "a7b2ddc3",
   "metadata": {},
   "outputs": [],
   "source": [
    "p = (\n",
    "    ggplot(\n",
    "        data.melt(\n",
    "            # id_vars=[\"measurement_type\", \"library\", \"condition\", \"true_enrichment\"],\n",
    "            id_vars=[\"measurement_type\", \"library\", \"true_enrichment\"],\n",
    "            value_vars=[\"predicted_enrichment\", \"measured_enrichment\"],\n",
    "            var_name=\"enrichment_type\",\n",
    "            value_name=\"enrichment\",\n",
    "        ),\n",
    "        # variants_df,\n",
    "        aes(\"true_enrichment\", \"enrichment\"),\n",
    "    )\n",
    "    + geom_abline(\n",
    "        slope=1,\n",
    "        intercept=0, \n",
    "        # alpha=0.5,\n",
    "        # size=0.5,\n",
    "    )\n",
    "    + geom_point(alpha=0.05, size=0.5)\n",
    "    + facet_grid(\"enrichment_type~measurement_type\", scales=\"free_y\")\n",
    "    + theme_classic()\n",
    "    + theme(\n",
    "        figure_size=(6.5, 5),\n",
    "    )\n",
    ")\n",
    "\n",
    "_ = p.draw(show=True)"
   ]
  },
  {
   "cell_type": "markdown",
   "id": "a84b60d4",
   "metadata": {},
   "source": [
    "Amazingly, the model does better at predicting true enrichments than even the counts based functional scores!"
   ]
  },
  {
   "cell_type": "markdown",
   "id": "5bb61ac8",
   "metadata": {},
   "source": [
    "Finally, let's plot the relationship between the model's inferred shifts, and the ground truth shifts. "
   ]
  },
  {
   "cell_type": "code",
   "execution_count": null,
   "id": "c9438f7c",
   "metadata": {},
   "outputs": [],
   "source": [
    "# plot correlations of true and predicted shifts\n",
    "collection_muts_df[\"measurement_type\"] = pd.Categorical(    \n",
    "    collection_muts_df[\"measurement_type\"],\n",
    "    categories=[\"observed_phenotype\", \"loose_bottle\", \"tight_bottle\"],\n",
    "    ordered=True\n",
    ")\n",
    "\n",
    "for (x, y) in itertools.combinations(\n",
    "    [\"true_shift\", \"predicted_shift_h2\"], 2\n",
    "):\n",
    "    p = (\n",
    "        ggplot(collection_muts_df.query(f\"coef_lasso_shift == {lasso_choice}\"))\n",
    "        + geom_point(\n",
    "            aes(\n",
    "                x=x,\n",
    "                y=y    \n",
    "            ),\n",
    "            alpha=0.5,\n",
    "        )\n",
    "        + geom_abline(\n",
    "            slope=1,\n",
    "            intercept=0, \n",
    "        )\n",
    "        + ylab(y)\n",
    "        + xlab(x)\n",
    "        + facet_grid(\"library~measurement_type\")\n",
    "        + theme_classic()\n",
    "        + theme(\n",
    "            figure_size=(6.5, 5),\n",
    "            axis_text_x=element_text(angle=90),\n",
    "        )\n",
    "    )\n",
    "    _ = p.draw(show=True)"
   ]
  }
 ],
 "metadata": {
  "kernelspec": {
   "display_name": "Python 3",
   "language": "python",
   "name": "python3"
  },
  "language_info": {
   "codemirror_mode": {
    "name": "ipython",
    "version": 3
   },
   "file_extension": ".py",
   "mimetype": "text/x-python",
   "name": "python",
   "nbconvert_exporter": "python",
   "pygments_lexer": "ipython3",
   "version": "3.13.5"
  }
 },
 "nbformat": 4,
 "nbformat_minor": 5
}
