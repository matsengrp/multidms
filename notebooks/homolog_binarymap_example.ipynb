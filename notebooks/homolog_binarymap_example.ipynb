{
 "cells": [
  {
   "cell_type": "markdown",
   "id": "1f7f0224-78d0-4cfc-ac06-48c1d1b4dfe2",
   "metadata": {},
   "source": [
    "# Homolog BinaryMap Encoding"
   ]
  },
  {
   "cell_type": "markdown",
   "id": "809b2cd8",
   "metadata": {},
   "source": [
    "## Import `Python` modules"
   ]
  },
  {
   "cell_type": "code",
   "execution_count": 1,
   "id": "e3816f0e",
   "metadata": {},
   "outputs": [],
   "source": [
    "import pandas as pd\n",
    "import re\n",
    "import json\n",
    "import binarymap as bmap\n",
    "import matplotlib.pyplot as plt\n",
    "import seaborn as sns\n",
    "import jax\n",
    "jax.config.update(\"jax_enable_x64\", True)\n",
    "import jax.numpy as jnp\n",
    "from jax.experimental import sparse\n",
    "from jaxopt import ProximalGradient\n",
    "import jaxopt\n",
    "import numpy as onp\n",
    "from scipy.stats import pearsonr\n",
    "\n",
    "from timeit import default_timer as timer\n",
    "%matplotlib inline"
   ]
  },
  {
   "cell_type": "code",
   "execution_count": 2,
   "id": "edfc0022",
   "metadata": {},
   "outputs": [],
   "source": [
    "import sys\n",
    "sys.path.append(\"..\")\n",
    "from multidms.utils import create_homolog_modeling_data"
   ]
  },
  {
   "cell_type": "markdown",
   "id": "3b14e961",
   "metadata": {},
   "source": [
    "## Strategy for converting mutations to be relative to the reference homolog"
   ]
  },
  {
   "cell_type": "markdown",
   "id": "0dd2195a",
   "metadata": {},
   "source": [
    "As described above, our strategy involves converting all mutations in all homologs to be relative to the amino-acid sequence of the reference homolog. The below function performs this step.\n",
    "\n",
    "Note 1: we will probably need some special-purpose code to handle gaps. This isn't done yet."
   ]
  },
  {
   "cell_type": "markdown",
   "id": "7222d340",
   "metadata": {},
   "source": [
    "Next, we will test the above function with a small test case. Below, we define variants from two imaginary homologs: \"reference\" and \"2\"."
   ]
  },
  {
   "cell_type": "code",
   "execution_count": 3,
   "id": "1dd9def7",
   "metadata": {},
   "outputs": [],
   "source": [
    "homologs = {\n",
    "    \"reference\" : \"MG\",\n",
    "    \"2\" : \"MP\"\n",
    "}"
   ]
  },
  {
   "cell_type": "code",
   "execution_count": 4,
   "id": "380d116f",
   "metadata": {},
   "outputs": [
    {
     "data": {
      "text/html": [
       "<div>\n",
       "<style scoped>\n",
       "    .dataframe tbody tr th:only-of-type {\n",
       "        vertical-align: middle;\n",
       "    }\n",
       "\n",
       "    .dataframe tbody tr th {\n",
       "        vertical-align: top;\n",
       "    }\n",
       "\n",
       "    .dataframe thead th {\n",
       "        text-align: right;\n",
       "    }\n",
       "</style>\n",
       "<table border=\"1\" class=\"dataframe\">\n",
       "  <thead>\n",
       "    <tr style=\"text-align: right;\">\n",
       "      <th></th>\n",
       "      <th>homolog</th>\n",
       "      <th>variant</th>\n",
       "      <th>log2E</th>\n",
       "    </tr>\n",
       "  </thead>\n",
       "  <tbody>\n",
       "    <tr>\n",
       "      <th>0</th>\n",
       "      <td>reference</td>\n",
       "      <td>M1E</td>\n",
       "      <td>2.0</td>\n",
       "    </tr>\n",
       "    <tr>\n",
       "      <th>1</th>\n",
       "      <td>reference</td>\n",
       "      <td>G2R</td>\n",
       "      <td>-7.0</td>\n",
       "    </tr>\n",
       "    <tr>\n",
       "      <th>2</th>\n",
       "      <td>reference</td>\n",
       "      <td>G2P</td>\n",
       "      <td>-0.5</td>\n",
       "    </tr>\n",
       "    <tr>\n",
       "      <th>3</th>\n",
       "      <td>2</td>\n",
       "      <td>M1E</td>\n",
       "      <td>2.3</td>\n",
       "    </tr>\n",
       "    <tr>\n",
       "      <th>4</th>\n",
       "      <td>2</td>\n",
       "      <td>P2R</td>\n",
       "      <td>-5.0</td>\n",
       "    </tr>\n",
       "    <tr>\n",
       "      <th>5</th>\n",
       "      <td>2</td>\n",
       "      <td>P2G</td>\n",
       "      <td>0.4</td>\n",
       "    </tr>\n",
       "    <tr>\n",
       "      <th>6</th>\n",
       "      <td>2</td>\n",
       "      <td>M1E P2G</td>\n",
       "      <td>2.7</td>\n",
       "    </tr>\n",
       "    <tr>\n",
       "      <th>7</th>\n",
       "      <td>2</td>\n",
       "      <td>M1E P2R</td>\n",
       "      <td>-2.7</td>\n",
       "    </tr>\n",
       "  </tbody>\n",
       "</table>\n",
       "</div>"
      ],
      "text/plain": [
       "     homolog  variant  log2E\n",
       "0  reference      M1E    2.0\n",
       "1  reference      G2R   -7.0\n",
       "2  reference      G2P   -0.5\n",
       "3          2      M1E    2.3\n",
       "4          2      P2R   -5.0\n",
       "5          2      P2G    0.4\n",
       "6          2  M1E P2G    2.7\n",
       "7          2  M1E P2R   -2.7"
      ]
     },
     "execution_count": 4,
     "metadata": {},
     "output_type": "execute_result"
    }
   ],
   "source": [
    "test_dict = {\n",
    "    'homolog' : [\"reference\",\"reference\",\"reference\",\"2\",\"2\",\"2\",\"2\",\"2\"],\n",
    "    'variant' : ['M1E', 'G2R', 'G2P', 'M1E', 'P2R', 'P2G', 'M1E P2G', 'M1E P2R'],\n",
    "    'log2E' : [2, -7, -0.5, 2.3, -5, 0.4, 2.7, -2.7],\n",
    "}\n",
    "test_df = pd.DataFrame(test_dict)\n",
    "test_df"
   ]
  },
  {
   "cell_type": "code",
   "execution_count": 5,
   "id": "14c72cf2",
   "metadata": {},
   "outputs": [
    {
     "data": {
      "text/html": [
       "<div>\n",
       "<style scoped>\n",
       "    .dataframe tbody tr th:only-of-type {\n",
       "        vertical-align: middle;\n",
       "    }\n",
       "\n",
       "    .dataframe tbody tr th {\n",
       "        vertical-align: top;\n",
       "    }\n",
       "\n",
       "    .dataframe thead th {\n",
       "        text-align: right;\n",
       "    }\n",
       "</style>\n",
       "<table border=\"1\" class=\"dataframe\">\n",
       "  <thead>\n",
       "    <tr style=\"text-align: right;\">\n",
       "      <th></th>\n",
       "      <th>homolog</th>\n",
       "      <th>variant</th>\n",
       "      <th>log2E</th>\n",
       "      <th>var_wrt_ref</th>\n",
       "    </tr>\n",
       "  </thead>\n",
       "  <tbody>\n",
       "    <tr>\n",
       "      <th>0</th>\n",
       "      <td>reference</td>\n",
       "      <td>M1E</td>\n",
       "      <td>2.0</td>\n",
       "      <td>M1E</td>\n",
       "    </tr>\n",
       "    <tr>\n",
       "      <th>1</th>\n",
       "      <td>reference</td>\n",
       "      <td>G2R</td>\n",
       "      <td>-7.0</td>\n",
       "      <td>G2R</td>\n",
       "    </tr>\n",
       "    <tr>\n",
       "      <th>2</th>\n",
       "      <td>reference</td>\n",
       "      <td>G2P</td>\n",
       "      <td>-0.5</td>\n",
       "      <td>G2P</td>\n",
       "    </tr>\n",
       "    <tr>\n",
       "      <th>3</th>\n",
       "      <td>2</td>\n",
       "      <td>M1E</td>\n",
       "      <td>2.3</td>\n",
       "      <td>M1E G2P</td>\n",
       "    </tr>\n",
       "    <tr>\n",
       "      <th>4</th>\n",
       "      <td>2</td>\n",
       "      <td>P2R</td>\n",
       "      <td>-5.0</td>\n",
       "      <td>G2R</td>\n",
       "    </tr>\n",
       "    <tr>\n",
       "      <th>5</th>\n",
       "      <td>2</td>\n",
       "      <td>P2G</td>\n",
       "      <td>0.4</td>\n",
       "      <td></td>\n",
       "    </tr>\n",
       "    <tr>\n",
       "      <th>6</th>\n",
       "      <td>2</td>\n",
       "      <td>M1E P2G</td>\n",
       "      <td>2.7</td>\n",
       "      <td>M1E</td>\n",
       "    </tr>\n",
       "    <tr>\n",
       "      <th>7</th>\n",
       "      <td>2</td>\n",
       "      <td>M1E P2R</td>\n",
       "      <td>-2.7</td>\n",
       "      <td>M1E G2R</td>\n",
       "    </tr>\n",
       "  </tbody>\n",
       "</table>\n",
       "</div>"
      ],
      "text/plain": [
       "     homolog  variant  log2E var_wrt_ref\n",
       "0  reference      M1E    2.0         M1E\n",
       "1  reference      G2R   -7.0         G2R\n",
       "2  reference      G2P   -0.5         G2P\n",
       "3          2      M1E    2.3     M1E G2P\n",
       "4          2      P2R   -5.0         G2R\n",
       "5          2      P2G    0.4            \n",
       "6          2  M1E P2G    2.7         M1E\n",
       "7          2  M1E P2R   -2.7     M1E G2R"
      ]
     },
     "execution_count": 5,
     "metadata": {},
     "output_type": "execute_result"
    }
   ],
   "source": [
    "(X, y), updated_func_score_df, all_subs = create_homolog_modeling_data(test_df, homologs, \"homolog\", \"variant\", \"log2E\")\n",
    "updated_func_score_df"
   ]
  }
 ],
 "metadata": {
  "kernelspec": {
   "display_name": "Python 3 (ipykernel)",
   "language": "python",
   "name": "python3"
  },
  "language_info": {
   "codemirror_mode": {
    "name": "ipython",
    "version": 3
   },
   "file_extension": ".py",
   "mimetype": "text/x-python",
   "name": "python",
   "nbconvert_exporter": "python",
   "pygments_lexer": "ipython3",
   "version": "3.10.4"
  }
 },
 "nbformat": 4,
 "nbformat_minor": 5
}
