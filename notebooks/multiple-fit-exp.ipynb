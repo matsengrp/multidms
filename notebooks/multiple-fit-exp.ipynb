{
 "cells": [
  {
   "cell_type": "code",
   "execution_count": 1,
   "id": "f0006adb",
   "metadata": {},
   "outputs": [],
   "source": [
    "import os\n",
    "import pickle\n",
    "from itertools import combinations\n",
    "import math\n",
    "import pandas as pd\n",
    "import re\n",
    "import json\n",
    "import binarymap as bmap\n",
    "import matplotlib.pyplot as plt\n",
    "import seaborn as sns\n",
    "import plotnine\n",
    "import jax\n",
    "import jax.numpy as jnp\n",
    "from jax.experimental import sparse\n",
    "from jaxopt import ProximalGradient\n",
    "import jaxopt\n",
    "import numpy as onp\n",
    "from scipy.stats import pearsonr\n",
    "from tqdm.notebook import tqdm\n",
    "\n",
    "import sys\n",
    "sys.path.append(\"..\")\n",
    "from multidms.utils import *\n",
    "from timeit import default_timer as timer\n",
    "from multidms.model import ϕ, g, prox, cost_smooth"
   ]
  },
  {
   "cell_type": "markdown",
   "id": "3484460c",
   "metadata": {},
   "source": [
    "### Globals"
   ]
  },
  {
   "cell_type": "code",
   "execution_count": 2,
   "id": "d68b3a1d",
   "metadata": {},
   "outputs": [],
   "source": [
    "func_score_data = pd.DataFrame()\n",
    "sites = {}\n",
    "wt_seqs = {}\n",
    "\n",
    "for homolog in [\"Delta\", \"Omicron_BA.1\"]:\n",
    "    \n",
    "    # functional scores\n",
    "    func_sel = pd.read_csv(f\"../results/{homolog}/functional_selections.csv\")\n",
    "    func_sel = func_sel.assign(\n",
    "        filename = f\"../results/{homolog}/\" + \n",
    "        func_sel.library + \"_\" + \n",
    "        func_sel.preselection_sample + \n",
    "        \"_vs_\" + func_sel.postselection_sample + \n",
    "        \"_func_scores.csv\"\n",
    "    )\n",
    "    func_sel = func_sel.assign(\n",
    "        func_sel_scores_df = func_sel.filename.apply(lambda f: pd.read_csv(f))\n",
    "    )\n",
    "    func_sel = func_sel.assign(\n",
    "        len_func_sel_scores_df = func_sel.func_sel_scores_df.apply(lambda x: len(x))\n",
    "    )\n",
    "    fun_sel = func_sel.assign(homolog = homolog)\n",
    "    func_score_data = pd.concat([func_score_data, fun_sel]).reset_index(drop=True)\n",
    "    \n",
    "    # WT Protein sequence\n",
    "    with open(f\"../results/{homolog}/protein.fasta\", \"r\") as seq_file:\n",
    "        header = seq_file.readline()\n",
    "        wt_seqs[homolog] = seq_file.readline().strip()\n",
    "\n",
    "    # Sites\n",
    "    sites[homolog] = (\n",
    "        pd.read_csv(f\"../results/{homolog}/site_numbering_map.csv\")\n",
    "        .rename({\"sequential_site\":f\"{homolog}_site\", \"sequential_wt\":f\"{homolog}_wt\"})\n",
    "        .set_index([\"reference_site\"])\n",
    "    )\n",
    "\n",
    "# Add a column that gives a unique ID to each homolog/DMS experiment\n",
    "func_score_data['homolog_exp'] = func_score_data.apply(\n",
    "    lambda row: f\"{row['homolog']}-{row['library']}-{row['replicate']}\".replace('-Lib',''),\n",
    "    axis=1\n",
    ")"
   ]
  },
  {
   "cell_type": "code",
   "execution_count": 9,
   "id": "948d7d77",
   "metadata": {},
   "outputs": [],
   "source": [
    "fit_params = {\n",
    "    \"fs_scaling_group_column\" : \"homolog_exp\",\n",
    "    \"min_pre_counts\" : 100,\n",
    "    \"pseudocount\" : 0.1,\n",
    "    \"agg_variants\" : True,\n",
    "    \"sample\" : None,\n",
    "    \"min_pre_counts\" : 100,\n",
    "    \"clip_target\" : None,\n",
    "    \"func_score_target\" : 'log2e',\n",
    "    \"experiment_ref\" :'Delta-3-1',\n",
    "    \"experiment_2\" : 'Omicron_BA.1-3-1',\n",
    "    \"shift_func_score_target_nonref\" : -1,\n",
    "    \"warmup_to_ref\" : False,\n",
    "    \"maxiter\" : 5,\n",
    "    \"λ_lasso\" : 5e-5,\n",
    "    \"λ_ridge\" : 0\n",
    "}"
   ]
  },
  {
   "cell_type": "code",
   "execution_count": 10,
   "id": "502afeee",
   "metadata": {},
   "outputs": [],
   "source": [
    "! rm results.pkl"
   ]
  },
  {
   "cell_type": "code",
   "execution_count": null,
   "id": "dca65be2",
   "metadata": {},
   "outputs": [
    {
     "name": "stdout",
     "output_type": "stream",
     "text": [
      "running Delta-1-1 Vs. Omicron_BA.1-1-1\n"
     ]
    },
    {
     "data": {
      "application/json": {
       "ascii": false,
       "bar_format": null,
       "colour": null,
       "elapsed": 0.024245500564575195,
       "initial": 0,
       "n": 0,
       "ncols": null,
       "nrows": 9,
       "postfix": null,
       "prefix": "",
       "rate": null,
       "total": 2,
       "unit": "it",
       "unit_divisor": 1000,
       "unit_scale": false
      },
      "application/vnd.jupyter.widget-view+json": {
       "model_id": "3ce3967078564d6c85aaf7f48be2ce92",
       "version_major": 2,
       "version_minor": 0
      },
      "text/plain": [
       "  0%|          | 0/2 [00:00<?, ?it/s]"
      ]
     },
     "metadata": {},
     "output_type": "display_data"
    },
    {
     "data": {
      "application/json": {
       "ascii": false,
       "bar_format": null,
       "colour": null,
       "elapsed": 0.01714491844177246,
       "initial": 0,
       "n": 0,
       "ncols": null,
       "nrows": 9,
       "postfix": null,
       "prefix": "",
       "rate": null,
       "total": 139478,
       "unit": "it",
       "unit_divisor": 1000,
       "unit_scale": false
      },
      "application/vnd.jupyter.widget-view+json": {
       "model_id": "e930cec88b0646809855e889aca2cb0f",
       "version_major": 2,
       "version_minor": 0
      },
      "text/plain": [
       "  0%|          | 0/139478 [00:00<?, ?it/s]"
      ]
     },
     "metadata": {},
     "output_type": "display_data"
    },
    {
     "data": {
      "application/json": {
       "ascii": false,
       "bar_format": null,
       "colour": null,
       "elapsed": 0.01750922203063965,
       "initial": 0,
       "n": 0,
       "ncols": null,
       "nrows": 9,
       "postfix": null,
       "prefix": "",
       "rate": null,
       "total": 139478,
       "unit": "it",
       "unit_divisor": 1000,
       "unit_scale": false
      },
      "application/vnd.jupyter.widget-view+json": {
       "model_id": "f276c5a88a34410eab67fdd47a03d34e",
       "version_major": 2,
       "version_minor": 0
      },
      "text/plain": [
       "  0%|          | 0/139478 [00:00<?, ?it/s]"
      ]
     },
     "metadata": {},
     "output_type": "display_data"
    },
    {
     "name": "stdout",
     "output_type": "stream",
     "text": [
      "Delta-1-1 15433309 0.01 100000.0\n",
      "Omicron_BA.1-1-1 7340049 0.01 100000.0\n",
      "Found 11 site(s) lacking data in at least one homolog.\n",
      "5801 of the 90855 variants were removed because they had mutations at the above sites, leaving 85054 variants.\n"
     ]
    },
    {
     "data": {
      "application/json": {
       "ascii": false,
       "bar_format": null,
       "colour": null,
       "elapsed": 0.01939678192138672,
       "initial": 0,
       "n": 0,
       "ncols": null,
       "nrows": 9,
       "postfix": null,
       "prefix": "",
       "rate": null,
       "total": 51278,
       "unit": "it",
       "unit_divisor": 1000,
       "unit_scale": false
      },
      "application/vnd.jupyter.widget-view+json": {
       "model_id": "864d14d3576c46929a32439e21a265fb",
       "version_major": 2,
       "version_minor": 0
      },
      "text/plain": [
       "  0%|          | 0/51278 [00:00<?, ?it/s]"
      ]
     },
     "metadata": {},
     "output_type": "display_data"
    }
   ],
   "source": [
    "if not os.path.exists(\"results.pkl\"):\n",
    "    cols = list(fit_params.keys()) + [\"tuned_model_params\", \"all_subs\", \"dataset_preds\"]\n",
    "    results = pd.DataFrame(columns = cols)\n",
    "else:\n",
    "    results = pickle.load(open(\"results.pkl\", \"rb\"))\n",
    "\n",
    "\n",
    "delta_exps = [exp_row.homolog_exp for exp, exp_row in func_score_data.iterrows() if \"Delta\" in exp_row.homolog_exp]\n",
    "omicron_exps = [exp_row.homolog_exp for exp, exp_row in func_score_data.iterrows() if \"Omicron\" in exp_row.homolog_exp]\n",
    "\n",
    "for delta_exp in delta_exps:\n",
    "    for omicron_exp in omicron_exps:\n",
    "        print(f\"running {delta_exp} Vs. {omicron_exp}\")\n",
    "        fit_param_i = fit_params.copy()\n",
    "        fit_param_i[\"experiment_ref\"] = delta_exp\n",
    "        fit_param_i[\"experiment_2\"] = omicron_exp\n",
    "        row = run_fit(func_score_data.copy(), fit_params = fit_param_i)\n",
    "        results.loc[len(results)] = row\n",
    "        break\n",
    "    break\n",
    "\n",
    "pickle.dump(results, open(\"results.pkl\", \"wb\"))"
   ]
  },
  {
   "cell_type": "code",
   "execution_count": 8,
   "id": "4846d46b",
   "metadata": {},
   "outputs": [
    {
     "data": {
      "text/html": [
       "<div>\n",
       "<style scoped>\n",
       "    .dataframe tbody tr th:only-of-type {\n",
       "        vertical-align: middle;\n",
       "    }\n",
       "\n",
       "    .dataframe tbody tr th {\n",
       "        vertical-align: top;\n",
       "    }\n",
       "\n",
       "    .dataframe thead th {\n",
       "        text-align: right;\n",
       "    }\n",
       "</style>\n",
       "<table border=\"1\" class=\"dataframe\">\n",
       "  <thead>\n",
       "    <tr style=\"text-align: right;\">\n",
       "      <th></th>\n",
       "      <th>fs_scaling_group_column</th>\n",
       "      <th>min_pre_counts</th>\n",
       "      <th>pseudocount</th>\n",
       "      <th>agg_variants</th>\n",
       "      <th>sample</th>\n",
       "      <th>clip_target</th>\n",
       "      <th>func_score_target</th>\n",
       "      <th>experiment_ref</th>\n",
       "      <th>experiment_2</th>\n",
       "      <th>shift_func_score_target_nonref</th>\n",
       "      <th>warmup_to_ref</th>\n",
       "      <th>maxiter</th>\n",
       "      <th>λ_lasso</th>\n",
       "      <th>λ_ridge</th>\n",
       "      <th>tuned_model_params</th>\n",
       "      <th>all_subs</th>\n",
       "      <th>dataset_preds</th>\n",
       "    </tr>\n",
       "  </thead>\n",
       "  <tbody>\n",
       "    <tr>\n",
       "      <th>0</th>\n",
       "      <td>homolog_exp</td>\n",
       "      <td>100</td>\n",
       "      <td>0.1</td>\n",
       "      <td>True</td>\n",
       "      <td>1000</td>\n",
       "      <td>None</td>\n",
       "      <td>log2e</td>\n",
       "      <td>Delta-1-1</td>\n",
       "      <td>Omicron_BA.1-1-1</td>\n",
       "      <td>-1</td>\n",
       "      <td>False</td>\n",
       "      <td>5</td>\n",
       "      <td>0.00005</td>\n",
       "      <td>0</td>\n",
       "      <td>NaN</td>\n",
       "      <td>NaN</td>\n",
       "      <td>NaN</td>\n",
       "    </tr>\n",
       "    <tr>\n",
       "      <th>1</th>\n",
       "      <td>homolog_exp</td>\n",
       "      <td>100</td>\n",
       "      <td>0.1</td>\n",
       "      <td>True</td>\n",
       "      <td>1000</td>\n",
       "      <td>None</td>\n",
       "      <td>log2e</td>\n",
       "      <td>Delta-1-1</td>\n",
       "      <td>Omicron_BA.1-1-2</td>\n",
       "      <td>-1</td>\n",
       "      <td>False</td>\n",
       "      <td>5</td>\n",
       "      <td>0.00005</td>\n",
       "      <td>0</td>\n",
       "      <td>NaN</td>\n",
       "      <td>NaN</td>\n",
       "      <td>NaN</td>\n",
       "    </tr>\n",
       "    <tr>\n",
       "      <th>2</th>\n",
       "      <td>homolog_exp</td>\n",
       "      <td>100</td>\n",
       "      <td>0.1</td>\n",
       "      <td>True</td>\n",
       "      <td>1000</td>\n",
       "      <td>None</td>\n",
       "      <td>log2e</td>\n",
       "      <td>Delta-1-1</td>\n",
       "      <td>Omicron_BA.1-2-1</td>\n",
       "      <td>-1</td>\n",
       "      <td>False</td>\n",
       "      <td>5</td>\n",
       "      <td>0.00005</td>\n",
       "      <td>0</td>\n",
       "      <td>NaN</td>\n",
       "      <td>NaN</td>\n",
       "      <td>NaN</td>\n",
       "    </tr>\n",
       "    <tr>\n",
       "      <th>3</th>\n",
       "      <td>homolog_exp</td>\n",
       "      <td>100</td>\n",
       "      <td>0.1</td>\n",
       "      <td>True</td>\n",
       "      <td>1000</td>\n",
       "      <td>None</td>\n",
       "      <td>log2e</td>\n",
       "      <td>Delta-1-1</td>\n",
       "      <td>Omicron_BA.1-3-1</td>\n",
       "      <td>-1</td>\n",
       "      <td>False</td>\n",
       "      <td>5</td>\n",
       "      <td>0.00005</td>\n",
       "      <td>0</td>\n",
       "      <td>NaN</td>\n",
       "      <td>NaN</td>\n",
       "      <td>NaN</td>\n",
       "    </tr>\n",
       "  </tbody>\n",
       "</table>\n",
       "</div>"
      ],
      "text/plain": [
       "  fs_scaling_group_column min_pre_counts pseudocount agg_variants sample  \\\n",
       "0             homolog_exp            100         0.1         True   1000   \n",
       "1             homolog_exp            100         0.1         True   1000   \n",
       "2             homolog_exp            100         0.1         True   1000   \n",
       "3             homolog_exp            100         0.1         True   1000   \n",
       "\n",
       "  clip_target func_score_target experiment_ref      experiment_2  \\\n",
       "0        None             log2e      Delta-1-1  Omicron_BA.1-1-1   \n",
       "1        None             log2e      Delta-1-1  Omicron_BA.1-1-2   \n",
       "2        None             log2e      Delta-1-1  Omicron_BA.1-2-1   \n",
       "3        None             log2e      Delta-1-1  Omicron_BA.1-3-1   \n",
       "\n",
       "  shift_func_score_target_nonref warmup_to_ref maxiter  λ_lasso λ_ridge  \\\n",
       "0                             -1         False       5  0.00005       0   \n",
       "1                             -1         False       5  0.00005       0   \n",
       "2                             -1         False       5  0.00005       0   \n",
       "3                             -1         False       5  0.00005       0   \n",
       "\n",
       "  tuned_model_params all_subs dataset_preds  \n",
       "0                NaN      NaN           NaN  \n",
       "1                NaN      NaN           NaN  \n",
       "2                NaN      NaN           NaN  \n",
       "3                NaN      NaN           NaN  "
      ]
     },
     "execution_count": 8,
     "metadata": {},
     "output_type": "execute_result"
    }
   ],
   "source": [
    "results"
   ]
  },
  {
   "cell_type": "code",
   "execution_count": null,
   "id": "23f4d86f",
   "metadata": {},
   "outputs": [],
   "source": []
  }
 ],
 "metadata": {
  "kernelspec": {
   "display_name": "Python 3 (ipykernel)",
   "language": "python",
   "name": "python3"
  },
  "language_info": {
   "codemirror_mode": {
    "name": "ipython",
    "version": 3
   },
   "file_extension": ".py",
   "mimetype": "text/x-python",
   "name": "python",
   "nbconvert_exporter": "python",
   "pygments_lexer": "ipython3",
   "version": "3.9.12"
  }
 },
 "nbformat": 4,
 "nbformat_minor": 5
}
