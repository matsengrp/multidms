{
 "cells": [
  {
   "cell_type": "markdown",
   "id": "1f7f0224-78d0-4cfc-ac06-48c1d1b4dfe2",
   "metadata": {},
   "source": [
    "# multidms"
   ]
  },
  {
   "cell_type": "markdown",
   "id": "bdc224f4-d5ca-49a6-ae17-d3f8c7fac997",
   "metadata": {},
   "source": [
    "## Overview of model\n",
    "\n",
    "The `multidms` model applies to a case where you have DMS datasets for two or more homologs and are interested in identifying shifts in mutational effects between homologs.\n",
    "To do so, the model defines one homolog as a reference homolog.\n",
    "For each mutation, the model fits one parameter that quantifies the effect of the mutation in the reference homolog.\n",
    "For each non-reference homolog, it also fits a shift parameter that quantifies the shift in the mutation's effect in the non-reference homolog relative to the reference.\n",
    "Shift parameters can be regularized, encouraging most of them to be close to zero.\n",
    "This regularization step is a useful way to eliminate the effects of experimental noise, and is most useful in cases where you expect most mutations to have the same effects between homologs, such as for homologs that are close relatives.\n",
    "\n",
    "The model uses a global-epistasis function to disentangle the effects of multiple mutations on the same variant.\n",
    "To do so, it assumes that mutational effects additively influence a latent biophysical property the protein (e.g., $\\Delta G$ of folding).\n",
    "The mutational-effect parameters described above operate at this latent level.\n",
    "The global-epistasis function then assumes a sigmoidal relationship between a protein's latent property and its functional score measured in the experiment (e.g., log enrichment score).\n",
    "Ultimately, mutational parameters, as well as ones controlling the shape of the sigmoid, are all jointly fit to maximize agreement between predicted and observed functional scores acorss all variants of all homologs."
   ]
  },
  {
   "cell_type": "markdown",
   "id": "8bd6382d-47a3-49d1-ac4f-a909f7ebf8a8",
   "metadata": {},
   "source": [
    "## Detailed description of the model\n",
    "\n",
    "For each variant $v$ from homolog $h$, we use a global-epistasis function $g$ to convert a latent phenotype $\\phi$ to a functional score $f$:\n",
    "\n",
    "$$f(v,h) = g_{\\alpha}(\\phi(v,h))$$\n",
    "\n",
    "where $g$ is a sigmoid and $\\alpha$ is a set of parameters encoding the sigmoid.\n",
    "\n",
    "The latent phenotype is computed in the following way:\n",
    "\n",
    "$$\\phi(v,h) = c + \\sum_{m \\in v} (x_m + s_{m,h})$$\n",
    "\n",
    "where:\n",
    "* $c$ is the wildtype latent phenotype for the reference homolog\n",
    "* $x_m$ is the latent phenotypic effect of mutation $m$. See details below.\n",
    "* $s_{m,h}$ is the shift of the effect of mutation $m$ in homolog $h$. These parameters are fixed to zero for the reference homolog. For non-reference homologs, they are defined in the same way as $x_m$ parameters.\n",
    "* $v$ is the set of all mutations relative to the reference wildtype sequence (including all mutations that separate homolog $h$ from the reference homolog).\n",
    "\n",
    "The $x_m$ variable is defined such that mutations are always relative to the reference homolog.\n",
    "For example, if there reference at site 30 is an A, and the wildtype in homolog 2 is a G, then we encode the\n",
    "homolog sequence as including a A30G mutation.\n",
    "This way, each homolog informs the exact same parameters, even at sites that differ in wildtype amino acid.\n",
    "These are encoded in a `BinaryMap` object, where all sites that are non-identical to the reference are 1's.\n",
    "\n",
    "Ultimately, we fit parameters using a loss function with one term that scores differences between predicted and observed values and another that uses L1 regularization to penalize non-zero $s_{m,h}$ values:\n",
    "\n",
    "$$ L_{\\text{total}} = \\sum_{h} \\left[\\sum_{v} L_{\\text{fit}}(y_{v,h}, f(v,h)) + \\lambda \\sum_{m} |s_{m,h}|\\right]$$\n",
    "\n",
    "where:\n",
    "* $L_{\\text{total}}$ is the total loss function\n",
    "* $L_{\\text{fit}}$ is a loss function that penalizes differences in predicted vs. observed functional scores\n",
    "* $y_{v,h}$ is the experimentally measured functional score of variant $v$ from homolog $h$"
   ]
  },
  {
   "cell_type": "markdown",
   "id": "e943741e-4fd1-47d8-b330-ec1713f76a42",
   "metadata": {},
   "source": [
    "## Model using matrix algebra\n",
    "\n",
    "We compute a vector or predicted latent phenotypes $P_{h}$ as:\n",
    "\n",
    "$$P_{h} = c + (X_h \\cdot (β + S_h))$$\n",
    "\n",
    "where:\n",
    "* $β$ is a vector of all $β_m$ values\n",
    "* $S_h$ is a matriβ of all $s_{m,h}$ values\n",
    "* $X_h$ is a sparse matrix, where rows are variants, columns are mutations (all defined relative to the reference homolog), and values are weights of 0's and 1's. These weights are used to compute the phenotype of each variant given the mutations present.\n",
    "* $c$ is the same as above.\n",
    "\n",
    "In the matrix algebra, the sum of $β_m$ and $S_{m,h}$ gives a vector of mutational effects, with one entry per mutation.\n",
    "Multiplying the matrix $X_h$ by this vector gives a new vector with one entry per variant, where values are the sum of mutational effects, weighted by the variant-specific weights in $X_h$.\n",
    "Adding the $c$ value to this vector will give a vector of predicted latent phenotypes for each variant.\n",
    "\n",
    "Next, the global-epistasis function can be used to convert a vector of predicted latent phenotypes to a vector of predicted functional scores.\n",
    "\n",
    "$$F_{h,pred} = g_{\\alpha}(P_h)$$\n",
    "\n",
    "Finally, this vector could be fed into a loss function and compared with a vector of observed functional scores."
   ]
  },
  {
   "cell_type": "markdown",
   "id": "3b14e961",
   "metadata": {},
   "source": [
    "## Binarymap augmentation"
   ]
  },
  {
   "cell_type": "markdown",
   "id": "0dd2195a",
   "metadata": {},
   "source": [
    "Rather than re-invent a binary encoding for aa sequence data, we can simply augment the `BinaryClass`\n",
    "Object after converting the mutations to be with respect to the reference sequence as stated above.\n",
    "\n",
    "Note 1: we will probably need some special-purpose code to handle gaps. This isn't done yet."
   ]
  },
  {
   "cell_type": "code",
   "execution_count": 245,
   "id": "6fba9914",
   "metadata": {},
   "outputs": [],
   "source": [
    "import pandas as pd\n",
    "import numpy as np\n",
    "import re\n",
    "import binarymap as bmap\n",
    "\n",
    "def variant_mutations_wrt_ref(\n",
    "    func_score_df:pd.DataFrame, \n",
    "    homologs:dict,\n",
    "    reference,\n",
    "    homolog_name_col\n",
    "):\n",
    "    \"\"\"Convert a list of given variants for a non reference homolog\n",
    "    to be with respect to the reference sequence\n",
    "    \n",
    "    Parameters\n",
    "    ----------\n",
    "\n",
    "    func_score_df : pandas.DataFrame\n",
    "        This should be in the same format as described in BinaryMap\n",
    "        The aa substitution converstions are handled here so \n",
    "        substitution_col should be with respect the the \n",
    "        non-reference homolog\n",
    "        \n",
    "    homologs : dict\n",
    "        A dictionary containing all possible target homolog \n",
    "        names (keys) and sequences (values).\n",
    "        \n",
    "    homolog_name_col : str\n",
    "        The name of the column in func_score_df that identifies the target\n",
    "        homolog for any given variant.\n",
    "        \n",
    "    reference_homolog_name :\n",
    "        The factor level of homolog_name_col that is the reference.\n",
    "    \n",
    "    Returns\n",
    "    -------\n",
    "        \n",
    "    pd.DataFrame :\n",
    "        A dataframe with a new column 'var_wrt_wt' that contains\n",
    "        all variant mutations with respect to the wildtype.\n",
    "    \n",
    "    \"\"\"\n",
    "    \n",
    "    def mutations_wrt_ref(mutations, hom_wtseq):\n",
    "        \n",
    "        mutated_homolog = list(hom_wtseq)\n",
    "        for mutation in mutations.split():\n",
    "\n",
    "            pattern = r'(?P<aawt>\\w)(?P<site>\\d+)(?P<aamut>\\w)'\n",
    "            match = re.search(pattern, mutation)\n",
    "            assert match != None, mutation\n",
    "            aawt = match.group('aawt')\n",
    "            site = match.group('site')\n",
    "            aamut = match.group('aamut')\n",
    "            mutated_homolog[int(site)-1] = aamut\n",
    "            \n",
    "        hom_var_seq = ''.join(mutated_homolog)\n",
    "        ref_muts = [\n",
    "            f\"{aaref}{i+1}{aavar}\" \n",
    "            for i, (aaref, aavar) in enumerate(zip(homologs[reference], hom_var_seq))\n",
    "            if aaref != aavar\n",
    "        ]\n",
    "        \n",
    "        return \" \".join(ref_muts)\n",
    "    \n",
    "    func_score_df = func_score_df.assign(var_wrt_ref = func_score_df.variant.values)\n",
    "    for hom_name, hom_seq in homologs.items():\n",
    "        if hom_name == reference: continue\n",
    "        print(f\"{homolog_name_col} == '{hom_name}'\")\n",
    "        hom_df = func_score_df.query(f\"{homolog_name_col} == '{hom_name}'\")\n",
    "        hom_var_wrt_ref = [\n",
    "            mutations_wrt_ref(muts, homologs[hom_name]) \n",
    "            for muts in hom_df.variant\n",
    "        ]\n",
    "        func_score_df.loc[hom_df.index.values, \"var_wrt_ref\"] = hom_var_wrt_ref\n",
    "        \n",
    "    return func_score_df"
   ]
  },
  {
   "cell_type": "markdown",
   "id": "bc207477",
   "metadata": {},
   "source": [
    "## Test Case"
   ]
  },
  {
   "cell_type": "markdown",
   "id": "7222d340",
   "metadata": {},
   "source": [
    "With some imaginary variants from two imaginary homologs, (`ref` and `hom`), we'll test the code above for a sanity check."
   ]
  },
  {
   "cell_type": "code",
   "execution_count": 246,
   "id": "1dd9def7",
   "metadata": {},
   "outputs": [],
   "source": [
    "homologs = {\n",
    "    \"reference\" : \"MG\",\n",
    "    \"2\" : \"MP\"\n",
    "}"
   ]
  },
  {
   "cell_type": "code",
   "execution_count": 247,
   "id": "380d116f",
   "metadata": {},
   "outputs": [
    {
     "data": {
      "text/html": [
       "<div>\n",
       "<style scoped>\n",
       "    .dataframe tbody tr th:only-of-type {\n",
       "        vertical-align: middle;\n",
       "    }\n",
       "\n",
       "    .dataframe tbody tr th {\n",
       "        vertical-align: top;\n",
       "    }\n",
       "\n",
       "    .dataframe thead th {\n",
       "        text-align: right;\n",
       "    }\n",
       "</style>\n",
       "<table border=\"1\" class=\"dataframe\">\n",
       "  <thead>\n",
       "    <tr style=\"text-align: right;\">\n",
       "      <th></th>\n",
       "      <th>homolog</th>\n",
       "      <th>variant</th>\n",
       "      <th>log2E</th>\n",
       "    </tr>\n",
       "  </thead>\n",
       "  <tbody>\n",
       "    <tr>\n",
       "      <th>0</th>\n",
       "      <td>reference</td>\n",
       "      <td>M1E</td>\n",
       "      <td>2.0</td>\n",
       "    </tr>\n",
       "    <tr>\n",
       "      <th>1</th>\n",
       "      <td>reference</td>\n",
       "      <td>G2R</td>\n",
       "      <td>-7.0</td>\n",
       "    </tr>\n",
       "    <tr>\n",
       "      <th>2</th>\n",
       "      <td>reference</td>\n",
       "      <td>G2P</td>\n",
       "      <td>-0.5</td>\n",
       "    </tr>\n",
       "    <tr>\n",
       "      <th>3</th>\n",
       "      <td>2</td>\n",
       "      <td>M1E</td>\n",
       "      <td>2.3</td>\n",
       "    </tr>\n",
       "    <tr>\n",
       "      <th>4</th>\n",
       "      <td>2</td>\n",
       "      <td>P2R</td>\n",
       "      <td>-5.0</td>\n",
       "    </tr>\n",
       "    <tr>\n",
       "      <th>5</th>\n",
       "      <td>2</td>\n",
       "      <td>P2G</td>\n",
       "      <td>0.4</td>\n",
       "    </tr>\n",
       "    <tr>\n",
       "      <th>6</th>\n",
       "      <td>2</td>\n",
       "      <td>M1E P2G</td>\n",
       "      <td>2.7</td>\n",
       "    </tr>\n",
       "    <tr>\n",
       "      <th>7</th>\n",
       "      <td>2</td>\n",
       "      <td>M1E P2R</td>\n",
       "      <td>0.5</td>\n",
       "    </tr>\n",
       "  </tbody>\n",
       "</table>\n",
       "</div>"
      ],
      "text/plain": [
       "     homolog  variant  log2E\n",
       "0  reference      M1E    2.0\n",
       "1  reference      G2R   -7.0\n",
       "2  reference      G2P   -0.5\n",
       "3          2      M1E    2.3\n",
       "4          2      P2R   -5.0\n",
       "5          2      P2G    0.4\n",
       "6          2  M1E P2G    2.7\n",
       "7          2  M1E P2R    0.5"
      ]
     },
     "execution_count": 247,
     "metadata": {},
     "output_type": "execute_result"
    }
   ],
   "source": [
    "test_dict = {\n",
    "    'homolog' : [\"reference\",\"reference\",\"reference\",\"2\",\"2\",\"2\",\"2\",\"2\"],\n",
    "    'variant' : ['M1E', 'G2R', 'G2P', 'M1E', 'P2R', 'P2G', 'M1E P2G', 'M1E P2R'],\n",
    "    'log2E' : [2, -7, -0.5, 2.3, -5, 0.4, 2.7, 0.5],\n",
    "}\n",
    "test_df = pd.DataFrame(test_dict)\n",
    "test_df"
   ]
  },
  {
   "cell_type": "code",
   "execution_count": 248,
   "id": "20f03c52",
   "metadata": {},
   "outputs": [
    {
     "name": "stdout",
     "output_type": "stream",
     "text": [
      "<class 'pandas.core.frame.DataFrame'>\n",
      "RangeIndex: 8 entries, 0 to 7\n",
      "Data columns (total 3 columns):\n",
      " #   Column   Non-Null Count  Dtype  \n",
      "---  ------   --------------  -----  \n",
      " 0   homolog  8 non-null      object \n",
      " 1   variant  8 non-null      object \n",
      " 2   log2E    8 non-null      float64\n",
      "dtypes: float64(1), object(2)\n",
      "memory usage: 320.0+ bytes\n"
     ]
    }
   ],
   "source": [
    "test_df.info()"
   ]
  },
  {
   "cell_type": "code",
   "execution_count": 227,
   "id": "14c72cf2",
   "metadata": {},
   "outputs": [
    {
     "name": "stdout",
     "output_type": "stream",
     "text": [
      "homolog == '2'\n"
     ]
    },
    {
     "data": {
      "text/html": [
       "<div>\n",
       "<style scoped>\n",
       "    .dataframe tbody tr th:only-of-type {\n",
       "        vertical-align: middle;\n",
       "    }\n",
       "\n",
       "    .dataframe tbody tr th {\n",
       "        vertical-align: top;\n",
       "    }\n",
       "\n",
       "    .dataframe thead th {\n",
       "        text-align: right;\n",
       "    }\n",
       "</style>\n",
       "<table border=\"1\" class=\"dataframe\">\n",
       "  <thead>\n",
       "    <tr style=\"text-align: right;\">\n",
       "      <th></th>\n",
       "      <th>homolog</th>\n",
       "      <th>variant</th>\n",
       "      <th>log2E</th>\n",
       "      <th>var_wrt_ref</th>\n",
       "    </tr>\n",
       "  </thead>\n",
       "  <tbody>\n",
       "    <tr>\n",
       "      <th>0</th>\n",
       "      <td>reference</td>\n",
       "      <td>M1E</td>\n",
       "      <td>2.0</td>\n",
       "      <td>M1E</td>\n",
       "    </tr>\n",
       "    <tr>\n",
       "      <th>1</th>\n",
       "      <td>reference</td>\n",
       "      <td>G2R</td>\n",
       "      <td>-7.0</td>\n",
       "      <td>G2R</td>\n",
       "    </tr>\n",
       "    <tr>\n",
       "      <th>2</th>\n",
       "      <td>reference</td>\n",
       "      <td>G2P</td>\n",
       "      <td>-0.5</td>\n",
       "      <td>G2P</td>\n",
       "    </tr>\n",
       "    <tr>\n",
       "      <th>3</th>\n",
       "      <td>2</td>\n",
       "      <td>M1E</td>\n",
       "      <td>2.3</td>\n",
       "      <td>M1E G2P</td>\n",
       "    </tr>\n",
       "    <tr>\n",
       "      <th>4</th>\n",
       "      <td>2</td>\n",
       "      <td>P2R</td>\n",
       "      <td>-5.0</td>\n",
       "      <td>G2R</td>\n",
       "    </tr>\n",
       "    <tr>\n",
       "      <th>5</th>\n",
       "      <td>2</td>\n",
       "      <td>P2G</td>\n",
       "      <td>0.4</td>\n",
       "      <td></td>\n",
       "    </tr>\n",
       "    <tr>\n",
       "      <th>6</th>\n",
       "      <td>2</td>\n",
       "      <td>M1E P2G</td>\n",
       "      <td>2.7</td>\n",
       "      <td>M1E</td>\n",
       "    </tr>\n",
       "    <tr>\n",
       "      <th>7</th>\n",
       "      <td>2</td>\n",
       "      <td>M1E P2R</td>\n",
       "      <td>0.5</td>\n",
       "      <td>M1E G2R</td>\n",
       "    </tr>\n",
       "  </tbody>\n",
       "</table>\n",
       "</div>"
      ],
      "text/plain": [
       "     homolog  variant  log2E var_wrt_ref\n",
       "0  reference      M1E    2.0         M1E\n",
       "1  reference      G2R   -7.0         G2R\n",
       "2  reference      G2P   -0.5         G2P\n",
       "3          2      M1E    2.3     M1E G2P\n",
       "4          2      P2R   -5.0         G2R\n",
       "5          2      P2G    0.4            \n",
       "6          2  M1E P2G    2.7         M1E\n",
       "7          2  M1E P2R    0.5     M1E G2R"
      ]
     },
     "execution_count": 227,
     "metadata": {},
     "output_type": "execute_result"
    }
   ],
   "source": [
    "func_score_df = variant_mutations_wrt_ref(test_df, homologs, \"reference\", \"homolog\")\n",
    "func_score_df"
   ]
  },
  {
   "cell_type": "markdown",
   "id": "60bdac10",
   "metadata": {},
   "source": [
    "Let's test it out on the df created earlier."
   ]
  },
  {
   "cell_type": "markdown",
   "id": "5da7b5cd",
   "metadata": {},
   "source": [
    "Each of the homologs will get their own binary encoding, but they need to all include the same possible substitutions. This way they will have the same shape when informing the $X$ parameters in out model. So, we extract all the allowed subs from all homologs that will be included in the model."
   ]
  },
  {
   "cell_type": "code",
   "execution_count": 228,
   "id": "623e8503",
   "metadata": {},
   "outputs": [
    {
     "data": {
      "text/plain": [
       "{'G2P', 'G2R', 'M1E'}"
      ]
     },
     "execution_count": 228,
     "metadata": {},
     "output_type": "execute_result"
    }
   ],
   "source": [
    "allowed_subs = {\n",
    "    s for subs in func_score_df.var_wrt_ref\n",
    "    for s in subs.split()\n",
    "}\n",
    "allowed_subs"
   ]
  },
  {
   "cell_type": "markdown",
   "id": "07e9939d",
   "metadata": {},
   "source": [
    "create binary maps"
   ]
  },
  {
   "cell_type": "code",
   "execution_count": 229,
   "id": "15af8eb8",
   "metadata": {},
   "outputs": [
    {
     "name": "stdout",
     "output_type": "stream",
     "text": [
      "2\n",
      "[[1 1 0]\n",
      " [0 0 1]\n",
      " [0 0 0]\n",
      " [1 0 0]\n",
      " [1 0 1]]\n",
      "{'M1E': 0, 'G2P': 1, 'G2R': 2}\n",
      "reference\n",
      "[[1 0 0]\n",
      " [0 0 1]\n",
      " [0 1 0]]\n",
      "{'M1E': 0, 'G2P': 1, 'G2R': 2}\n"
     ]
    }
   ],
   "source": [
    "X = {}\n",
    "for homolog, homolog_func_score_df in func_score_df.groupby(\"homolog\"):\n",
    "    ref_bmap = bmap.BinaryMap(\n",
    "        homolog_func_score_df,\n",
    "        substitutions_col=\"var_wrt_ref\",\n",
    "        allowed_subs=allowed_subs\n",
    "    )\n",
    "    # TODO use sparse arrays\n",
    "    X[homolog] = jnp.array(ref_bmap.binary_variants.toarray())\n",
    "    \n",
    "    print(homolog)\n",
    "    print(ref_bmap.binary_variants.toarray())\n",
    "    print({mut:ref_bmap.sub_to_i(mut) for mut in allowed_subs})"
   ]
  },
  {
   "cell_type": "markdown",
   "id": "8b70bfb4",
   "metadata": {},
   "source": [
    "## JAX Model"
   ]
  },
  {
   "cell_type": "markdown",
   "id": "bcce084f",
   "metadata": {},
   "source": [
    "Here, we'll build a global epistasis model for homologs"
   ]
  },
  {
   "cell_type": "code",
   "execution_count": 230,
   "id": "85878c5b",
   "metadata": {},
   "outputs": [],
   "source": [
    "import pandas as pd\n",
    "import matplotlib.pyplot as plt\n",
    "import seaborn as sns\n",
    "import jax\n",
    "jax.config.update(\"jax_enable_x64\", True)\n",
    "import jax.numpy as jnp\n",
    "from jax.experimental import sparse\n",
    "import jaxopt\n",
    "import numpy as onp\n",
    "from scipy.stats import pearsonr"
   ]
  },
  {
   "cell_type": "code",
   "execution_count": 254,
   "id": "48068db5",
   "metadata": {},
   "outputs": [],
   "source": [
    "@jax.jit\n",
    "def ϕ(params:dict, X_h:jnp.array, is_wt:bool):\n",
    "    \"\"\"Phi function for predicting latent phenotype.\"\"\"\n",
    "    if homolog == reference:\n",
    "        return (X_h @ params[\"β\"]) + params[\"C_ref\"]\n",
    "\n",
    "    return (X_h @ (params[\"β\"] + params[f\"S_{homolog}\"])) + params[\"C_ref\"]\n",
    "\n",
    "@jax.jit\n",
    "def g(α:dict, z_h:jnp.array):\n",
    "    \"\"\"Global epistasis function as flexible sigmoid.\"\"\"\n",
    "    activations = jax.nn.sigmoid(α[\"rate\"] * z_h[:, None] + α[\"intercept\"])\n",
    "    return (α[\"a\"] * activations) + α[\"bias\"] "
   ]
  },
  {
   "cell_type": "code",
   "execution_count": 255,
   "id": "a2fed097",
   "metadata": {},
   "outputs": [],
   "source": [
    "# The number of input parameters is the substitutions we saw across all variants\n",
    "all_mutations = list(allowed_subs)"
   ]
  },
  {
   "cell_type": "code",
   "execution_count": 256,
   "id": "eef82a37",
   "metadata": {},
   "outputs": [
    {
     "data": {
      "text/plain": [
       "{'β': DeviceArray([ 0.18784401, -1.28334229,  0.6494182 ], dtype=float64),\n",
       " 'S_2': DeviceArray([0., 0., 0.], dtype=float64),\n",
       " 'C_ref': DeviceArray([0.], dtype=float64),\n",
       " 'α': {'rate': DeviceArray([0.55893636], dtype=float64),\n",
       "  'intercept': DeviceArray([1.70016778], dtype=float64),\n",
       "  'bias': DeviceArray([1.31402346], dtype=float64),\n",
       "  'a': DeviceArray([-0.45297973], dtype=float64)}}"
      ]
     },
     "execution_count": 256,
     "metadata": {},
     "output_type": "execute_result"
    }
   ],
   "source": [
    "# initialize some parameters\n",
    "seed = 0\n",
    "key = jax.random.PRNGKey(seed)\n",
    "\n",
    "# all model params to be tuned will be stored ina dictionary\n",
    "params = {}\n",
    "\n",
    "# initialize beta parameters from normal distribution.\n",
    "params[\"β\"] = jax.random.normal(shape=(len(all_mutations),), key=key)\n",
    "\n",
    "# initialize Shift parameters\n",
    "key, *subkeys = jax.random.split(key, len(homologs)+1)\n",
    "for homolog, subkey in zip(homologs, subkeys):\n",
    "    # Do not create shift parameters for the reference\n",
    "    if homolog == \"reference\": continue\n",
    "    # we expect most shift parameters to be close to zero\n",
    "    params[f\"S_{homolog}\"] = jnp.zeros(shape=(len(all_mutations),))\n",
    "params[\"C_ref\"] = jnp.zeros(shape=(1, ))\n",
    "\n",
    "# Number of free parameters for a linear transformation on the latent phenotype\n",
    "# that results in the shape of the sigmoid.\n",
    "n_units = 1\n",
    "\n",
    "# TODO: Are we parameterizing out GE function correctly?\n",
    "key, *subkeys = jax.random.split(key, num=5)\n",
    "params[\"α\"]=dict(rate=jax.random.normal(shape=(n_units,), key=subkeys[0]), # 'stretch' in x direction\n",
    "                 intercept=jax.random.normal(shape=(1,), key=subkeys[1]),  # 'shift' in the x direction\n",
    "                 bias=jax.random.normal(shape=(1,), key=subkeys[2]),       # 'shift' in the y directions\n",
    "                 a=jax.random.normal(shape=(1,), key=subkeys[3])           # 'stretch' in the y direction\n",
    ")\n",
    "params"
   ]
  },
  {
   "cell_type": "markdown",
   "id": "79ba71d2",
   "metadata": {},
   "source": [
    "Format the data to be fed into the model"
   ]
  },
  {
   "cell_type": "code",
   "execution_count": 257,
   "id": "01d9624a",
   "metadata": {},
   "outputs": [
    {
     "data": {
      "text/plain": [
       "({'2': DeviceArray([[1, 1, 0],\n",
       "               [0, 0, 1],\n",
       "               [0, 0, 0],\n",
       "               [1, 0, 0],\n",
       "               [1, 0, 1]], dtype=int8),\n",
       "  'reference': DeviceArray([[1, 0, 0],\n",
       "               [0, 0, 1],\n",
       "               [0, 1, 0]], dtype=int8)},\n",
       " {'2': DeviceArray([ 2.3, -5. ,  0.4,  2.7,  0.5], dtype=float64),\n",
       "  'reference': DeviceArray([ 2. , -7. , -0.5], dtype=float64)})"
      ]
     },
     "execution_count": 257,
     "metadata": {},
     "output_type": "execute_result"
    }
   ],
   "source": [
    "y = {h:jnp.array(hfdf.log2E.values) for h, hfdf in func_score_df.groupby(\"homolog\")}\n",
    "data = (X, y)\n",
    "data"
   ]
  },
  {
   "cell_type": "markdown",
   "id": "d0752db6",
   "metadata": {},
   "source": [
    "Define an objective function to optimize"
   ]
  },
  {
   "cell_type": "code",
   "execution_count": 258,
   "id": "0405cbeb",
   "metadata": {},
   "outputs": [],
   "source": [
    "@jax.jit\n",
    "def cost_smooth(params, data, δ=1):\n",
    "    \"\"\"Cost function as a sum of huber loss across all homologs\"\"\"\n",
    "\n",
    "    X, y = data\n",
    "    loss = 0\n",
    "    for homolog, X_h in X.items():\n",
    "        z_h = ϕ(params, X_h, homolog == \"reference\")\n",
    "        y_h_predicted = g(params[\"α\"], z_h)\n",
    "        \n",
    "        loss += jaxopt.loss.huber_loss(y[homolog], y_h_predicted, δ).mean()\n",
    "\n",
    "    return loss"
   ]
  },
  {
   "cell_type": "markdown",
   "id": "ab2444a6",
   "metadata": {},
   "source": [
    "Calculate initial loss with random parameters"
   ]
  },
  {
   "cell_type": "code",
   "execution_count": 259,
   "id": "48d9f474",
   "metadata": {},
   "outputs": [
    {
     "data": {
      "text/plain": [
       "DeviceArray(4.54086378, dtype=float64)"
      ]
     },
     "execution_count": 259,
     "metadata": {},
     "output_type": "execute_result"
    }
   ],
   "source": [
    "cost_smooth(params, data)"
   ]
  },
  {
   "cell_type": "markdown",
   "id": "702956c8",
   "metadata": {},
   "source": [
    "Optimize the entire model at once with gradient decent"
   ]
  },
  {
   "cell_type": "code",
   "execution_count": 260,
   "id": "8b717b6f",
   "metadata": {},
   "outputs": [],
   "source": [
    "solver = jaxopt.GradientDescent(cost_smooth, tol=tol, maxiter=maxiter)"
   ]
  },
  {
   "cell_type": "code",
   "execution_count": 261,
   "id": "8ec41022",
   "metadata": {},
   "outputs": [],
   "source": [
    "tol = 1e-6\n",
    "maxiter = 1000\n",
    "params, state = solver.run(params, data=data)"
   ]
  },
  {
   "cell_type": "markdown",
   "id": "5d3fe3ad",
   "metadata": {},
   "source": [
    "Peek at tuned parameters"
   ]
  },
  {
   "cell_type": "code",
   "execution_count": 262,
   "id": "82aca890",
   "metadata": {},
   "outputs": [
    {
     "data": {
      "text/plain": [
       "{'C_ref': DeviceArray([-6.2433282], dtype=float64),\n",
       " 'S_2': DeviceArray([2.41776344, 2.56887215, 1.6024919 ], dtype=float64),\n",
       " 'α': {'a': DeviceArray([-1.82519045], dtype=float64),\n",
       "  'bias': DeviceArray([1.93216794], dtype=float64),\n",
       "  'intercept': DeviceArray([11.02186844], dtype=float64),\n",
       "  'rate': DeviceArray([-4.12576386], dtype=float64)},\n",
       " 'β': DeviceArray([2.60560745, 1.28552985, 2.2519101 ], dtype=float64)}"
      ]
     },
     "execution_count": 262,
     "metadata": {},
     "output_type": "execute_result"
    }
   ],
   "source": [
    "params"
   ]
  },
  {
   "cell_type": "markdown",
   "id": "95b48012",
   "metadata": {},
   "source": [
    "## Simulation Fit (TODO)"
   ]
  },
  {
   "cell_type": "markdown",
   "id": "98cee907",
   "metadata": {},
   "source": [
    "## Empirical Data (TODO)"
   ]
  }
 ],
 "metadata": {
  "kernelspec": {
   "display_name": "Python 3 (ipykernel)",
   "language": "python",
   "name": "python3"
  },
  "language_info": {
   "codemirror_mode": {
    "name": "ipython",
    "version": 3
   },
   "file_extension": ".py",
   "mimetype": "text/x-python",
   "name": "python",
   "nbconvert_exporter": "python",
   "pygments_lexer": "ipython3",
   "version": "3.9.12"
  }
 },
 "nbformat": 4,
 "nbformat_minor": 5
}
