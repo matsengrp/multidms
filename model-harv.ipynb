{
 "cells": [
  {
   "cell_type": "markdown",
   "id": "1f7f0224-78d0-4cfc-ac06-48c1d1b4dfe2",
   "metadata": {},
   "source": [
    "# multidms"
   ]
  },
  {
   "cell_type": "markdown",
   "id": "bdc224f4-d5ca-49a6-ae17-d3f8c7fac997",
   "metadata": {},
   "source": [
    "## Overview of model\n",
    "\n",
    "The `multidms` model applies to a case where you have DMS datasets for two or more homologs and are interested in identifying shifts in mutational effects between homologs.\n",
    "To do so, the model defines one homolog as a reference homolog.\n",
    "For each mutation, the model fits one parameter that quantifies the effect of the mutation in the reference homolog.\n",
    "For each non-reference homolog, it also fits a shift parameter that quantifies the shift in the mutation's effect in the non-reference homolog relative to the reference.\n",
    "Shift parameters can be regularized, encouraging most of them to be close to zero.\n",
    "This regularization step is a useful way to eliminate the effects of experimental noise, and is most useful in cases where you expect most mutations to have the same effects between homologs, such as for homologs that are close relatives.\n",
    "\n",
    "The model uses a global-epistasis function to disentangle the effects of multiple mutations on the same variant.\n",
    "To do so, it assumes that mutational effects additively influence a latent biophysical property the protein (e.g., $\\Delta G$ of folding).\n",
    "The mutational-effect parameters described above operate at this latent level.\n",
    "The global-epistasis function then assumes a sigmoidal relationship between a protein's latent property and its functional score measured in the experiment (e.g., log enrichment score).\n",
    "Ultimately, mutational parameters, as well as ones controlling the shape of the sigmoid, are all jointly fit to maximize agreement between predicted and observed functional scores acorss all variants of all homologs."
   ]
  },
  {
   "cell_type": "markdown",
   "id": "8bd6382d-47a3-49d1-ac4f-a909f7ebf8a8",
   "metadata": {},
   "source": [
    "## Detailed description of the model\n",
    "\n",
    "For each variant $v$ from homolog $h$, we use a global-epistasis function $g$ to convert a latent phenotype $\\phi$ to a functional score $f$:\n",
    "\n",
    "$$f(v,h) = g_{\\alpha}(\\phi(v,h))$$\n",
    "\n",
    "where $g$ is a sigmoid and $\\alpha$ is a set of parameters encoding the sigmoid.\n",
    "\n",
    "The latent phenotype is computed in the following way:\n",
    "\n",
    "$$\\phi(v,h) = c + \\sum_{m \\in v} (x_m + s_{m,h})$$\n",
    "\n",
    "where:\n",
    "* $c$ is the wildtype latent phenotype for the reference homolog.\n",
    "* $x_m$ is the latent phenotypic effect of mutation $m$. See details below.\n",
    "* $s_{m,h}$ is the shift of the effect of mutation $m$ in homolog $h$. These parameters are fixed to zero for the reference homolog. For non-reference homologs, they are defined in the same way as $x_m$ parameters.\n",
    "* $v$ is the set of all mutations relative to the reference wildtype sequence (including all mutations that separate homolog $h$ from the reference homolog).\n",
    "\n",
    "The $x_m$ variable is defined such that mutations are always relative to the reference homolog.\n",
    "For example, if the wildtype amino acid at site 30 is an A in the reference homolog, and a G in a non-reference homolog, then a Y30G mutation in the non-reference homolog is recorded as an A30G mutation relative to the reference.\n",
    "This way, each homolog informs the exact same parameters, even at sites that differ in wildtype amino acid.\n",
    "These are encoded in a `BinaryMap` object, where all sites that are non-identical to the reference are 1's.\n",
    "\n",
    "Ultimately, we fit parameters using a loss function with one term that scores differences between predicted and observed values and another that uses L1 regularization to penalize non-zero $s_{m,h}$ values:\n",
    "\n",
    "$$ L_{\\text{total}} = \\sum_{h} \\left[\\sum_{v} L_{\\text{fit}}(y_{v,h}, f(v,h)) + \\lambda \\sum_{m} |s_{m,h}|\\right]$$\n",
    "\n",
    "where:\n",
    "* $L_{\\text{total}}$ is the total loss function.\n",
    "* $L_{\\text{fit}}$ is a loss function that penalizes differences in predicted vs. observed functional scores.\n",
    "* $y_{v,h}$ is the experimentally measured functional score of variant $v$ from homolog $h$."
   ]
  },
  {
   "cell_type": "markdown",
   "id": "e943741e-4fd1-47d8-b330-ec1713f76a42",
   "metadata": {},
   "source": [
    "## Model using matrix algebra\n",
    "\n",
    "We compute a vector or predicted latent phenotypes $P_{h}$ as:\n",
    "\n",
    "$$P_{h} = c + (X_h \\cdot (β + S_h))$$\n",
    "\n",
    "where:\n",
    "* $β$ is a vector of all $β_m$ values.\n",
    "* $S_h$ is a matrix of all $s_{m,h}$ values.\n",
    "* $X_h$ is a sparse matrix, where rows are variants, columns are mutations (all defined relative to the reference homolog), and values are weights of 0's and 1's. These weights are used to compute the phenotype of each variant given the mutations present.\n",
    "* $c$ is the same as above.\n",
    "\n",
    "In the matrix algebra, the sum of $β_m$ and $S_{m,h}$ gives a vector of mutational effects, with one entry per mutation.\n",
    "Multiplying the matrix $X_h$ by this vector gives a new vector with one entry per variant, where values are the sum of mutational effects, weighted by the variant-specific weights in $X_h$.\n",
    "Adding the $c$ value to this vector will give a vector of predicted latent phenotypes for each variant.\n",
    "\n",
    "Next, the global-epistasis function can be used to convert a vector of predicted latent phenotypes to a vector of predicted functional scores.\n",
    "\n",
    "$$F_{h,pred} = g_{\\alpha}(P_h)$$\n",
    "\n",
    "Finally, this vector could be fed into a loss function and compared with a vector of observed functional scores."
   ]
  },
  {
   "cell_type": "markdown",
   "id": "809b2cd8",
   "metadata": {},
   "source": [
    "## Import `Python` modules"
   ]
  },
  {
   "cell_type": "code",
   "execution_count": 1,
   "id": "e3816f0e",
   "metadata": {},
   "outputs": [],
   "source": [
    "import pandas as pd\n",
    "import numpy as np\n",
    "import re\n",
    "import binarymap as bmap\n",
    "\n",
    "import matplotlib.pyplot as plt\n",
    "import seaborn as sns\n",
    "import jax\n",
    "jax.config.update(\"jax_enable_x64\", True)\n",
    "import jax.numpy as jnp\n",
    "from jax.experimental import sparse\n",
    "import jaxopt\n",
    "import numpy as onp\n",
    "from scipy.stats import pearsonr"
   ]
  },
  {
   "cell_type": "markdown",
   "id": "3b14e961",
   "metadata": {},
   "source": [
    "## Strategy for converting mutations to be relative to the reference homolog"
   ]
  },
  {
   "cell_type": "markdown",
   "id": "0dd2195a",
   "metadata": {},
   "source": [
    "As described above, our strategy involves converting all mutations in all homologs to be relative to the amino-acid sequence of the reference homolog. The below function performs this step.\n",
    "\n",
    "Note 1: we will probably need some special-purpose code to handle gaps. This isn't done yet."
   ]
  },
  {
   "cell_type": "code",
   "execution_count": 2,
   "id": "6fba9914",
   "metadata": {},
   "outputs": [],
   "source": [
    "def variant_mutations_wrt_ref(\n",
    "    func_score_df:pd.DataFrame, \n",
    "    homologs:dict,\n",
    "    homolog_name_col,\n",
    "    substitution_col\n",
    "):\n",
    "    \"\"\"\n",
    "    Takes a dataframe for making a `BinaryMap` object, and adds\n",
    "    a column where each entry is a list of mutations in a variant\n",
    "    relative to the amino-acid sequence of the reference homolog.\n",
    "    \n",
    "    Parameters\n",
    "    ----------\n",
    "\n",
    "    func_score_df : pandas.DataFrame\n",
    "        This should be in the same format as described in BinaryMap.\n",
    "        \n",
    "    homologs : dict\n",
    "        A dictionary containing all possible target homolog \n",
    "        names (keys) and sequences (values).\n",
    "    \n",
    "    homolog_name_col : str\n",
    "        The name of the column in func_score_df that identifies the\n",
    "        homolog for a given variant.\n",
    "    \n",
    "    substitution_col: The name of the column in func_score_df that\n",
    "        lists mutations in each variant relative to the wildtype\n",
    "        amino-acid sequence of the homolog in which they occur.\n",
    "    \n",
    "    Returns\n",
    "    -------\n",
    "        \n",
    "    pd.DataFrame :\n",
    "        A dataframe with a new column 'var_wrt_ref' that contains\n",
    "        all variant mutations with respect to the wildtype.\n",
    "    \n",
    "    \"\"\"\n",
    "    \n",
    "    def mutations_wrt_ref(mutations, hom_wtseq):\n",
    "        \"\"\"\n",
    "        Takes a list of mutations for a given variant relative\n",
    "        to its background homolog and returns a list of all\n",
    "        mutations that separate the variant from the reference\n",
    "        homolog.\n",
    "        \"\"\"\n",
    "        \n",
    "        # Compute the full amino-acid sequence of the\n",
    "        # given variant\n",
    "        mutated_homolog = list(hom_wtseq)\n",
    "        for mutation in mutations.split():\n",
    "\n",
    "            # TODO: Do we need to change the regex to allow\n",
    "            # for gap '-' and stop '*' characters?\n",
    "            pattern = r'(?P<aawt>\\w)(?P<site>\\d+)(?P<aamut>[\\w\\*])'\n",
    "            match = re.search(pattern, mutation)\n",
    "            assert match != None, mutation\n",
    "            aawt = match.group('aawt')\n",
    "            site = match.group('site')\n",
    "            aamut = match.group('aamut')\n",
    "            mutated_homolog[int(site)-1] = aamut\n",
    "            \n",
    "        hom_var_seq = ''.join(mutated_homolog)\n",
    "        \n",
    "        # Make a list of all mutations that separate the variant\n",
    "        # from the reference homolog\n",
    "        ref_muts = [\n",
    "            f\"{aaref}{i+1}{aavar}\" \n",
    "            for i, (aaref, aavar) in enumerate(zip(homologs[\"reference\"], hom_var_seq))\n",
    "            if aaref != aavar\n",
    "        ]\n",
    "        \n",
    "        return \" \".join(ref_muts)\n",
    "\n",
    "    # Duplicate the substitutions_col, then loop over homologs\n",
    "    # and modify entries as needed\n",
    "    func_score_df = func_score_df.assign(var_wrt_ref = func_score_df[substitution_col].values)\n",
    "    for hom_name, hom_seq in homologs.items():\n",
    "        if hom_name == \"reference\": continue\n",
    "        hom_df = func_score_df.query(f\"{homolog_name_col} == '{hom_name}'\")\n",
    "        hom_var_wrt_ref = [\n",
    "            mutations_wrt_ref(muts, homologs[hom_name]) \n",
    "            for muts in hom_df[substitution_col]\n",
    "        ]\n",
    "        func_score_df.loc[hom_df.index.values, \"var_wrt_ref\"] = hom_var_wrt_ref\n",
    "        \n",
    "    return func_score_df"
   ]
  },
  {
   "cell_type": "markdown",
   "id": "7222d340",
   "metadata": {},
   "source": [
    "Next, we will test the above function with a small test case. Below, we define variants from two imaginary homologs: \"reference\" and \"2\"."
   ]
  },
  {
   "cell_type": "code",
   "execution_count": 3,
   "id": "1dd9def7",
   "metadata": {},
   "outputs": [],
   "source": [
    "# TODO: right now, the code requires that one of the homologs\n",
    "# is called \"reference\". We need to add code to somehow make\n",
    "# this work with arbitrary input.\n",
    "homologs = {\n",
    "    \"reference\" : \"MG\",\n",
    "    \"2\" : \"MP\"\n",
    "}"
   ]
  },
  {
   "cell_type": "code",
   "execution_count": 4,
   "id": "380d116f",
   "metadata": {},
   "outputs": [
    {
     "data": {
      "text/html": [
       "<div>\n",
       "<style scoped>\n",
       "    .dataframe tbody tr th:only-of-type {\n",
       "        vertical-align: middle;\n",
       "    }\n",
       "\n",
       "    .dataframe tbody tr th {\n",
       "        vertical-align: top;\n",
       "    }\n",
       "\n",
       "    .dataframe thead th {\n",
       "        text-align: right;\n",
       "    }\n",
       "</style>\n",
       "<table border=\"1\" class=\"dataframe\">\n",
       "  <thead>\n",
       "    <tr style=\"text-align: right;\">\n",
       "      <th></th>\n",
       "      <th>homolog</th>\n",
       "      <th>variant</th>\n",
       "      <th>log2E</th>\n",
       "    </tr>\n",
       "  </thead>\n",
       "  <tbody>\n",
       "    <tr>\n",
       "      <th>0</th>\n",
       "      <td>reference</td>\n",
       "      <td>M1E</td>\n",
       "      <td>2.0</td>\n",
       "    </tr>\n",
       "    <tr>\n",
       "      <th>1</th>\n",
       "      <td>reference</td>\n",
       "      <td>G2R</td>\n",
       "      <td>-7.0</td>\n",
       "    </tr>\n",
       "    <tr>\n",
       "      <th>2</th>\n",
       "      <td>reference</td>\n",
       "      <td>G2P</td>\n",
       "      <td>-0.5</td>\n",
       "    </tr>\n",
       "    <tr>\n",
       "      <th>3</th>\n",
       "      <td>2</td>\n",
       "      <td>M1E</td>\n",
       "      <td>2.3</td>\n",
       "    </tr>\n",
       "    <tr>\n",
       "      <th>4</th>\n",
       "      <td>2</td>\n",
       "      <td>P2R</td>\n",
       "      <td>-5.0</td>\n",
       "    </tr>\n",
       "    <tr>\n",
       "      <th>5</th>\n",
       "      <td>2</td>\n",
       "      <td>P2G</td>\n",
       "      <td>0.4</td>\n",
       "    </tr>\n",
       "    <tr>\n",
       "      <th>6</th>\n",
       "      <td>2</td>\n",
       "      <td>M1E P2G</td>\n",
       "      <td>2.7</td>\n",
       "    </tr>\n",
       "    <tr>\n",
       "      <th>7</th>\n",
       "      <td>2</td>\n",
       "      <td>M1E P2R</td>\n",
       "      <td>-2.7</td>\n",
       "    </tr>\n",
       "  </tbody>\n",
       "</table>\n",
       "</div>"
      ],
      "text/plain": [
       "     homolog  variant  log2E\n",
       "0  reference      M1E    2.0\n",
       "1  reference      G2R   -7.0\n",
       "2  reference      G2P   -0.5\n",
       "3          2      M1E    2.3\n",
       "4          2      P2R   -5.0\n",
       "5          2      P2G    0.4\n",
       "6          2  M1E P2G    2.7\n",
       "7          2  M1E P2R   -2.7"
      ]
     },
     "execution_count": 4,
     "metadata": {},
     "output_type": "execute_result"
    }
   ],
   "source": [
    "test_dict = {\n",
    "    'homolog' : [\"reference\",\"reference\",\"reference\",\"2\",\"2\",\"2\",\"2\",\"2\"],\n",
    "    'variant' : ['M1E', 'G2R', 'G2P', 'M1E', 'P2R', 'P2G', 'M1E P2G', 'M1E P2R'],\n",
    "    'log2E' : [2, -7, -0.5, 2.3, -5, 0.4, 2.7, -2.7],\n",
    "}\n",
    "test_df = pd.DataFrame(test_dict)\n",
    "test_df"
   ]
  },
  {
   "cell_type": "code",
   "execution_count": 5,
   "id": "20f03c52",
   "metadata": {},
   "outputs": [
    {
     "name": "stdout",
     "output_type": "stream",
     "text": [
      "<class 'pandas.core.frame.DataFrame'>\n",
      "RangeIndex: 8 entries, 0 to 7\n",
      "Data columns (total 3 columns):\n",
      " #   Column   Non-Null Count  Dtype  \n",
      "---  ------   --------------  -----  \n",
      " 0   homolog  8 non-null      object \n",
      " 1   variant  8 non-null      object \n",
      " 2   log2E    8 non-null      float64\n",
      "dtypes: float64(1), object(2)\n",
      "memory usage: 320.0+ bytes\n"
     ]
    }
   ],
   "source": [
    "test_df.info()"
   ]
  },
  {
   "cell_type": "code",
   "execution_count": 6,
   "id": "14c72cf2",
   "metadata": {},
   "outputs": [
    {
     "data": {
      "text/html": [
       "<div>\n",
       "<style scoped>\n",
       "    .dataframe tbody tr th:only-of-type {\n",
       "        vertical-align: middle;\n",
       "    }\n",
       "\n",
       "    .dataframe tbody tr th {\n",
       "        vertical-align: top;\n",
       "    }\n",
       "\n",
       "    .dataframe thead th {\n",
       "        text-align: right;\n",
       "    }\n",
       "</style>\n",
       "<table border=\"1\" class=\"dataframe\">\n",
       "  <thead>\n",
       "    <tr style=\"text-align: right;\">\n",
       "      <th></th>\n",
       "      <th>homolog</th>\n",
       "      <th>variant</th>\n",
       "      <th>log2E</th>\n",
       "      <th>var_wrt_ref</th>\n",
       "    </tr>\n",
       "  </thead>\n",
       "  <tbody>\n",
       "    <tr>\n",
       "      <th>0</th>\n",
       "      <td>reference</td>\n",
       "      <td>M1E</td>\n",
       "      <td>2.0</td>\n",
       "      <td>M1E</td>\n",
       "    </tr>\n",
       "    <tr>\n",
       "      <th>1</th>\n",
       "      <td>reference</td>\n",
       "      <td>G2R</td>\n",
       "      <td>-7.0</td>\n",
       "      <td>G2R</td>\n",
       "    </tr>\n",
       "    <tr>\n",
       "      <th>2</th>\n",
       "      <td>reference</td>\n",
       "      <td>G2P</td>\n",
       "      <td>-0.5</td>\n",
       "      <td>G2P</td>\n",
       "    </tr>\n",
       "    <tr>\n",
       "      <th>3</th>\n",
       "      <td>2</td>\n",
       "      <td>M1E</td>\n",
       "      <td>2.3</td>\n",
       "      <td>M1E G2P</td>\n",
       "    </tr>\n",
       "    <tr>\n",
       "      <th>4</th>\n",
       "      <td>2</td>\n",
       "      <td>P2R</td>\n",
       "      <td>-5.0</td>\n",
       "      <td>G2R</td>\n",
       "    </tr>\n",
       "    <tr>\n",
       "      <th>5</th>\n",
       "      <td>2</td>\n",
       "      <td>P2G</td>\n",
       "      <td>0.4</td>\n",
       "      <td></td>\n",
       "    </tr>\n",
       "    <tr>\n",
       "      <th>6</th>\n",
       "      <td>2</td>\n",
       "      <td>M1E P2G</td>\n",
       "      <td>2.7</td>\n",
       "      <td>M1E</td>\n",
       "    </tr>\n",
       "    <tr>\n",
       "      <th>7</th>\n",
       "      <td>2</td>\n",
       "      <td>M1E P2R</td>\n",
       "      <td>-2.7</td>\n",
       "      <td>M1E G2R</td>\n",
       "    </tr>\n",
       "  </tbody>\n",
       "</table>\n",
       "</div>"
      ],
      "text/plain": [
       "     homolog  variant  log2E var_wrt_ref\n",
       "0  reference      M1E    2.0         M1E\n",
       "1  reference      G2R   -7.0         G2R\n",
       "2  reference      G2P   -0.5         G2P\n",
       "3          2      M1E    2.3     M1E G2P\n",
       "4          2      P2R   -5.0         G2R\n",
       "5          2      P2G    0.4            \n",
       "6          2  M1E P2G    2.7         M1E\n",
       "7          2  M1E P2R   -2.7     M1E G2R"
      ]
     },
     "execution_count": 6,
     "metadata": {},
     "output_type": "execute_result"
    }
   ],
   "source": [
    "func_score_df = variant_mutations_wrt_ref(test_df, homologs, \"homolog\", \"variant\")\n",
    "func_score_df"
   ]
  },
  {
   "cell_type": "markdown",
   "id": "5da7b5cd",
   "metadata": {},
   "source": [
    "Next, we will use the modified dataframe to create a `BinaryMap` object for each homolog. Each object needs to have the exact same columns in the same order. To achieve this, we will first make a list of all unique mutations observed in the above dataframe."
   ]
  },
  {
   "cell_type": "code",
   "execution_count": 7,
   "id": "623e8503",
   "metadata": {},
   "outputs": [
    {
     "data": {
      "text/plain": [
       "{'G2P', 'G2R', 'M1E'}"
      ]
     },
     "execution_count": 7,
     "metadata": {},
     "output_type": "execute_result"
    }
   ],
   "source": [
    "allowed_subs = {\n",
    "    s for subs in func_score_df.var_wrt_ref\n",
    "    for s in subs.split()\n",
    "}\n",
    "allowed_subs"
   ]
  },
  {
   "cell_type": "markdown",
   "id": "07e9939d",
   "metadata": {},
   "source": [
    "Then, we will make a `BinaryMap` for each homolog, feeding the above list to the function that makes the maps, which ensures the maps will have identical columns."
   ]
  },
  {
   "cell_type": "code",
   "execution_count": 8,
   "id": "15af8eb8",
   "metadata": {},
   "outputs": [
    {
     "name": "stderr",
     "output_type": "stream",
     "text": [
      "WARNING:absl:No GPU/TPU found, falling back to CPU. (Set TF_CPP_MIN_LOG_LEVEL=0 and rerun for more info.)\n"
     ]
    },
    {
     "name": "stdout",
     "output_type": "stream",
     "text": [
      "2\n",
      "[[1 1 0]\n",
      " [0 0 1]\n",
      " [0 0 0]\n",
      " [1 0 0]\n",
      " [1 0 1]]\n",
      "{'G2P': 1, 'G2R': 2, 'M1E': 0}\n",
      "reference\n",
      "[[1 0 0]\n",
      " [0 0 1]\n",
      " [0 1 0]]\n",
      "{'G2P': 1, 'G2R': 2, 'M1E': 0}\n"
     ]
    }
   ],
   "source": [
    "X = {}\n",
    "for homolog, homolog_func_score_df in func_score_df.groupby(\"homolog\"):\n",
    "    ref_bmap = bmap.BinaryMap(\n",
    "        homolog_func_score_df,\n",
    "        substitutions_col=\"var_wrt_ref\",\n",
    "        allowed_subs=allowed_subs\n",
    "    )\n",
    "    \n",
    "    # TODO use sparse arrays\n",
    "#     X[homolog] = jnp.array(ref_bmap.binary_variants.toarray())\n",
    "    X[homolog] = sparse.BCOO.fromdense(ref_bmap.binary_variants.toarray())\n",
    "    \n",
    "    print(homolog)\n",
    "    print(ref_bmap.binary_variants.toarray())\n",
    "    print({mut:ref_bmap.sub_to_i(mut) for mut in allowed_subs})"
   ]
  },
  {
   "cell_type": "markdown",
   "id": "8b70bfb4",
   "metadata": {},
   "source": [
    "## Implementing the full model with JAX"
   ]
  },
  {
   "cell_type": "markdown",
   "id": "bcce084f",
   "metadata": {},
   "source": [
    "Below, we implement the $\\phi$ and $g$ functions from above."
   ]
  },
  {
   "cell_type": "markdown",
   "id": "f62a6fa1",
   "metadata": {},
   "source": [
    "Next, we initialize values of free parameters for downstream optimization by JAX."
   ]
  },
  {
   "cell_type": "code",
   "execution_count": 9,
   "id": "eef82a37",
   "metadata": {},
   "outputs": [
    {
     "data": {
      "text/plain": [
       "{'β': DeviceArray([ 0.18784401, -1.28334229,  0.6494182 ], dtype=float64),\n",
       " 'S_reference': DeviceArray([0., 0., 0.], dtype=float64),\n",
       " 'S_2': DeviceArray([0., 0., 0.], dtype=float64),\n",
       " 'C_ref': DeviceArray([0.], dtype=float64),\n",
       " 'α': {'sig_stretch_x': DeviceArray([0.55893636], dtype=float64),\n",
       "  'sig_shift_x': DeviceArray([1.70016778], dtype=float64),\n",
       "  'sig_stretch_y': DeviceArray([1.31402346], dtype=float64),\n",
       "  'sig_shift_y': DeviceArray([-0.45297973], dtype=float64)}}"
      ]
     },
     "execution_count": 9,
     "metadata": {},
     "output_type": "execute_result"
    }
   ],
   "source": [
    "# all model params to be tuned will be stored in a dictionary\n",
    "params = {}\n",
    "seed = 0\n",
    "key = jax.random.PRNGKey(seed)\n",
    "\n",
    "# initialize beta parameters from normal distribution.\n",
    "all_mutations = list(allowed_subs)\n",
    "params[\"β\"] = jax.random.normal(shape=(len(all_mutations),), key=key)\n",
    "\n",
    "# initialize shift parameters\n",
    "# TODO no need for subkeys\n",
    "key, *subkeys = jax.random.split(key, len(homologs)+1)\n",
    "for homolog, subkey in zip(homologs, subkeys):\n",
    "    \n",
    "    # Do not create shift parameters for the reference\n",
    "#     if homolog == \"reference\": continue\n",
    "    \n",
    "    # We expect most shift parameters to be close to zero\n",
    "    params[f\"S_{homolog}\"] = jnp.zeros(shape=(len(all_mutations),))\n",
    "\n",
    "params[\"C_ref\"] = jnp.zeros(shape=(1, ))\n",
    "\n",
    "# Number of free parameters for a linear transformation on the latent phenotype\n",
    "# that results in the shape of the sigmoid.\n",
    "n_units = 1\n",
    "\n",
    "# TODO ??: Are we parameterizing out GE function correctly?\n",
    "key, *subkeys = jax.random.split(key, num=5)\n",
    "params[\"α\"]=dict(sig_stretch_x = jax.random.normal(shape=(n_units,), key=subkeys[0]), # 'stretch' in x direction\n",
    "                 sig_shift_x = jax.random.normal(shape=(1,), key=subkeys[1]),         # 'shift' in the x direction\n",
    "                 sig_stretch_y = jax.random.normal(shape=(n_units,), key=subkeys[2]),       # 'stretch' in the y direction\n",
    "                 sig_shift_y = jax.random.normal(shape=(1,), key=subkeys[3]),         # 'shift' in the y directions\n",
    ")\n",
    "\n",
    "params"
   ]
  },
  {
   "cell_type": "markdown",
   "id": "54aed4d4",
   "metadata": {},
   "source": [
    "Format the data to be fed into the model"
   ]
  },
  {
   "cell_type": "code",
   "execution_count": 10,
   "id": "01d9624a",
   "metadata": {},
   "outputs": [
    {
     "data": {
      "text/plain": [
       "({'2': BCOO(int8[5, 3], nse=6), 'reference': BCOO(int8[3, 3], nse=3)},\n",
       " {'2': DeviceArray([ 2.3, -5. ,  0.4,  2.7, -2.7], dtype=float64),\n",
       "  'reference': DeviceArray([ 2. , -7. , -0.5], dtype=float64)})"
      ]
     },
     "execution_count": 10,
     "metadata": {},
     "output_type": "execute_result"
    }
   ],
   "source": [
    "y = {h:jnp.array(hfdf.log2E.values) for h, hfdf in func_score_df.groupby(\"homolog\")}\n",
    "data = (X, y)\n",
    "data"
   ]
  },
  {
   "cell_type": "markdown",
   "id": "78ba62df",
   "metadata": {},
   "source": [
    "Define an objective function to optimize"
   ]
  },
  {
   "cell_type": "code",
   "execution_count": 11,
   "id": "0405cbeb",
   "metadata": {},
   "outputs": [],
   "source": [
    "# TODO centering wildtype -\n",
    "# TODO static args for reference -\n",
    "# TODO regularization -\n",
    "\n",
    "@jax.jit\n",
    "def ϕ(params:dict, X_h:jnp.array):\n",
    "    \"\"\"Model for predicting latent space\"\"\"\n",
    "    \n",
    "    return (X_h @ (params[\"β\"] + params[f\"S\"])) + params[\"C_ref\"]\n",
    "\n",
    "\n",
    "@jax.jit\n",
    "def g(α:dict, z_h:jnp.array):\n",
    "    \"\"\"Model for global epistasis as 'flexible' sigmoid.\"\"\"\n",
    "     \n",
    "    activations = jax.nn.sigmoid(α[\"sig_stretch_x\"] * z_h[:, None] + α[\"sig_shift_x\"])\n",
    "#     wt_activations = jax.nn.sigmoid(α[\"sig_stretch_x\"] * α[\"C_ref\"] + α[\"sig_shift_x\"])\n",
    "#     activations -= wt_activations\n",
    "    return (α[\"sig_stretch_y\"] * activations) + α[\"sig_shift_y\"] # sig shift y needs to be 0 for the reference\n",
    "\n",
    "\n",
    "@jax.jit\n",
    "def cost_smooth(params, data, δ=1):\n",
    "    \"\"\"Cost (Objective) function as a sum of huber loss across all homologs\"\"\"\n",
    "\n",
    "    \n",
    "#     print(\"Calling Cost Function\", flush=True)\n",
    "    X, y = data\n",
    "    loss = 0\n",
    "    \n",
    "    \n",
    "    # Sum the huber loss across all homologs\n",
    "    for homolog, X_h in X.items():\n",
    "        \n",
    "        # Fix the shift parameters for reference to 0\n",
    "        # Static arguments for reference params?\n",
    "        S_h = jnp.where(\n",
    "            homolog==\"reference\", \n",
    "            jnp.zeros(len(params['β'])), \n",
    "            params[f\"S_{homolog}\"]\n",
    "        )\n",
    "        \n",
    "        # Subset the params being passed into latent prediction, ϕ\n",
    "        h_params = {\"β\":params[\"β\"], \"S\":S_h, \"C_ref\":params[\"C_ref\"]}\n",
    "        \n",
    "#         print(f\"Calling Phi Function {homolog}\", flush=True)\n",
    "        z_h = ϕ(h_params, X_h)\n",
    "        \n",
    "        # Pass the latent predictions through GE model prediction\n",
    "        # all GE specific parameters are stored in α\n",
    "#         print(f\"Calling G Function {homolog}\", flush=True)\n",
    "        y_h_predicted = g(params[\"α\"], z_h)\n",
    "        \n",
    "        # compute loss at current parameter state.\n",
    "        loss += jaxopt.loss.huber_loss(y[homolog], y_h_predicted, δ).mean()\n",
    "\n",
    "#     print(f\"{loss}\", flush=True)\n",
    "    return loss"
   ]
  },
  {
   "cell_type": "markdown",
   "id": "585f4dae",
   "metadata": {},
   "source": [
    "Calculate initial loss with random parameters"
   ]
  },
  {
   "cell_type": "code",
   "execution_count": 12,
   "id": "48d9f474",
   "metadata": {},
   "outputs": [
    {
     "data": {
      "text/plain": [
       "DeviceArray(5.02411651, dtype=float64)"
      ]
     },
     "execution_count": 12,
     "metadata": {},
     "output_type": "execute_result"
    }
   ],
   "source": [
    "cost_smooth(params, data)"
   ]
  },
  {
   "cell_type": "code",
   "execution_count": 13,
   "id": "8b717b6f",
   "metadata": {},
   "outputs": [],
   "source": [
    "tol = 1e-6\n",
    "maxiter = 1000\n",
    "solver = jaxopt.GradientDescent(cost_smooth, tol=tol, maxiter=maxiter)"
   ]
  },
  {
   "cell_type": "code",
   "execution_count": 14,
   "id": "8ec41022",
   "metadata": {},
   "outputs": [],
   "source": [
    "params, state = solver.run(params, data=data)"
   ]
  },
  {
   "cell_type": "markdown",
   "id": "16c38e7a",
   "metadata": {},
   "source": [
    "Optimize the entire model at once with gradient decent"
   ]
  },
  {
   "cell_type": "markdown",
   "id": "ac83f1dc",
   "metadata": {},
   "source": [
    "Peek at tuned parameters"
   ]
  },
  {
   "cell_type": "code",
   "execution_count": 15,
   "id": "82aca890",
   "metadata": {},
   "outputs": [
    {
     "data": {
      "text/plain": [
       "{'C_ref': DeviceArray([-0.72320785], dtype=float64),\n",
       " 'S_2': DeviceArray([2.63420862, 2.63523184, 2.59795679], dtype=float64),\n",
       " 'S_reference': DeviceArray([0., 0., 0.], dtype=float64),\n",
       " 'α': {'sig_shift_x': DeviceArray([0.69421427], dtype=float64),\n",
       "  'sig_shift_y': DeviceArray([-0.5059075], dtype=float64),\n",
       "  'sig_stretch_x': DeviceArray([2.06062493], dtype=float64),\n",
       "  'sig_stretch_y': DeviceArray([2.91412947], dtype=float64)},\n",
       " 'β': DeviceArray([-2.63421577, -2.63523528, -2.59796787], dtype=float64)}"
      ]
     },
     "execution_count": 15,
     "metadata": {},
     "output_type": "execute_result"
    }
   ],
   "source": [
    "params"
   ]
  },
  {
   "cell_type": "markdown",
   "id": "95b48012",
   "metadata": {},
   "source": [
    "## Simulation Fit (TODO)"
   ]
  },
  {
   "cell_type": "code",
   "execution_count": 16,
   "id": "55dcfe61",
   "metadata": {},
   "outputs": [],
   "source": [
    "simulated_dataset = pd.read_csv(\"results/simulated_dataset_v1.csv\")"
   ]
  },
  {
   "cell_type": "code",
   "execution_count": 17,
   "id": "bdc8ee0d",
   "metadata": {},
   "outputs": [],
   "source": [
    "import json\n",
    "homologs = json.load(open(\"results/homolog_aa_seqs.json\", \"r\"))"
   ]
  },
  {
   "cell_type": "code",
   "execution_count": 18,
   "id": "4e07e6d7",
   "metadata": {},
   "outputs": [
    {
     "data": {
      "text/plain": [
       "{'reference': 'RSVILRAYTNSRVKRVILCNNDLPIRNIRLMMILHNSDASFSTPVGLRSG',\n",
       " 'H2': 'RVVILRAYTNSRVKRIKLCNNDRPIRNIRTMMIEHNSDAKFHTPYGLDSG'}"
      ]
     },
     "execution_count": 18,
     "metadata": {},
     "output_type": "execute_result"
    }
   ],
   "source": [
    "homologs[\"reference\"] = homologs['1']\n",
    "homologs[\"H2\"] = homologs['2']\n",
    "del homologs['1']\n",
    "del homologs['2']\n",
    "homologs"
   ]
  },
  {
   "cell_type": "code",
   "execution_count": 19,
   "id": "d7c495f9",
   "metadata": {},
   "outputs": [
    {
     "data": {
      "text/html": [
       "<div>\n",
       "<style scoped>\n",
       "    .dataframe tbody tr th:only-of-type {\n",
       "        vertical-align: middle;\n",
       "    }\n",
       "\n",
       "    .dataframe tbody tr th {\n",
       "        vertical-align: top;\n",
       "    }\n",
       "\n",
       "    .dataframe thead th {\n",
       "        text-align: right;\n",
       "    }\n",
       "</style>\n",
       "<table border=\"1\" class=\"dataframe\">\n",
       "  <thead>\n",
       "    <tr style=\"text-align: right;\">\n",
       "      <th></th>\n",
       "      <th>library</th>\n",
       "      <th>barcode</th>\n",
       "      <th>variant_call_support</th>\n",
       "      <th>codon_substitutions</th>\n",
       "      <th>aa_substitutions</th>\n",
       "      <th>n_codon_substitutions</th>\n",
       "      <th>n_aa_substitutions</th>\n",
       "      <th>latent_phenotype</th>\n",
       "      <th>observed_phenotype</th>\n",
       "      <th>observed_enrichment</th>\n",
       "      <th>homolog</th>\n",
       "    </tr>\n",
       "  </thead>\n",
       "  <tbody>\n",
       "    <tr>\n",
       "      <th>0</th>\n",
       "      <td>lib_1</td>\n",
       "      <td>AAAAAAATTTACGCGA</td>\n",
       "      <td>1</td>\n",
       "      <td>TTA18GTC TTA23TCA TTT41AAC</td>\n",
       "      <td>L18V L23S F41N</td>\n",
       "      <td>3</td>\n",
       "      <td>3</td>\n",
       "      <td>-15.608947</td>\n",
       "      <td>-9.965543</td>\n",
       "      <td>0.001000</td>\n",
       "      <td>reference</td>\n",
       "    </tr>\n",
       "    <tr>\n",
       "      <th>1</th>\n",
       "      <td>lib_1</td>\n",
       "      <td>AAAAAACATAGGAGTA</td>\n",
       "      <td>3</td>\n",
       "      <td>TGC19AAG CGG29TCC</td>\n",
       "      <td>C19K R29S</td>\n",
       "      <td>2</td>\n",
       "      <td>2</td>\n",
       "      <td>2.516825</td>\n",
       "      <td>-0.102192</td>\n",
       "      <td>0.931616</td>\n",
       "      <td>reference</td>\n",
       "    </tr>\n",
       "    <tr>\n",
       "      <th>2</th>\n",
       "      <td>lib_1</td>\n",
       "      <td>AAAAAAGAGGTTAAAC</td>\n",
       "      <td>1</td>\n",
       "      <td>ATG32TTC</td>\n",
       "      <td>M32F</td>\n",
       "      <td>1</td>\n",
       "      <td>1</td>\n",
       "      <td>3.980341</td>\n",
       "      <td>-0.016995</td>\n",
       "      <td>0.988289</td>\n",
       "      <td>reference</td>\n",
       "    </tr>\n",
       "    <tr>\n",
       "      <th>3</th>\n",
       "      <td>lib_1</td>\n",
       "      <td>AAAAAAGGCTTATACT</td>\n",
       "      <td>1</td>\n",
       "      <td>TCA11TCG CGG12GGT GGT46AAA</td>\n",
       "      <td>R12G G46K</td>\n",
       "      <td>3</td>\n",
       "      <td>2</td>\n",
       "      <td>-21.146126</td>\n",
       "      <td>-9.965783</td>\n",
       "      <td>0.001000</td>\n",
       "      <td>reference</td>\n",
       "    </tr>\n",
       "    <tr>\n",
       "      <th>4</th>\n",
       "      <td>lib_1</td>\n",
       "      <td>AAAAAATCACTAATAT</td>\n",
       "      <td>3</td>\n",
       "      <td>AGA1ACA CGT15CCG TCC37GCT AGT40TAA TCG42AGC</td>\n",
       "      <td>R1T R15P S37A S40*</td>\n",
       "      <td>5</td>\n",
       "      <td>4</td>\n",
       "      <td>-21.623836</td>\n",
       "      <td>-9.965784</td>\n",
       "      <td>0.001000</td>\n",
       "      <td>reference</td>\n",
       "    </tr>\n",
       "    <tr>\n",
       "      <th>...</th>\n",
       "      <td>...</td>\n",
       "      <td>...</td>\n",
       "      <td>...</td>\n",
       "      <td>...</td>\n",
       "      <td>...</td>\n",
       "      <td>...</td>\n",
       "      <td>...</td>\n",
       "      <td>...</td>\n",
       "      <td>...</td>\n",
       "      <td>...</td>\n",
       "      <td>...</td>\n",
       "    </tr>\n",
       "    <tr>\n",
       "      <th>74995</th>\n",
       "      <td>lib_1</td>\n",
       "      <td>TTTTTGTAAGGCCTCT</td>\n",
       "      <td>1</td>\n",
       "      <td>AGA1CTT CTG5TCT ATC25GAT GGA50ACA</td>\n",
       "      <td>R1L L5S I25D G50T</td>\n",
       "      <td>4</td>\n",
       "      <td>4</td>\n",
       "      <td>-17.215931</td>\n",
       "      <td>-9.965736</td>\n",
       "      <td>0.001000</td>\n",
       "      <td>H2</td>\n",
       "    </tr>\n",
       "    <tr>\n",
       "      <th>74996</th>\n",
       "      <td>lib_1</td>\n",
       "      <td>TTTTTTAATCAGTTAG</td>\n",
       "      <td>3</td>\n",
       "      <td>CCA44ACC</td>\n",
       "      <td>P44T</td>\n",
       "      <td>1</td>\n",
       "      <td>1</td>\n",
       "      <td>0.242479</td>\n",
       "      <td>-0.829286</td>\n",
       "      <td>0.562808</td>\n",
       "      <td>H2</td>\n",
       "    </tr>\n",
       "    <tr>\n",
       "      <th>74997</th>\n",
       "      <td>lib_1</td>\n",
       "      <td>TTTTTTCCTAGGAGAT</td>\n",
       "      <td>2</td>\n",
       "      <td>AAC10ACA ATC28TTC</td>\n",
       "      <td>N10T I28F</td>\n",
       "      <td>2</td>\n",
       "      <td>2</td>\n",
       "      <td>-6.999078</td>\n",
       "      <td>-9.028964</td>\n",
       "      <td>0.001914</td>\n",
       "      <td>H2</td>\n",
       "    </tr>\n",
       "    <tr>\n",
       "      <th>74998</th>\n",
       "      <td>lib_1</td>\n",
       "      <td>TTTTTTCTACAGAGGT</td>\n",
       "      <td>2</td>\n",
       "      <td>CGC23GGT</td>\n",
       "      <td>R23G</td>\n",
       "      <td>1</td>\n",
       "      <td>1</td>\n",
       "      <td>-0.720320</td>\n",
       "      <td>-1.603013</td>\n",
       "      <td>0.329189</td>\n",
       "      <td>H2</td>\n",
       "    </tr>\n",
       "    <tr>\n",
       "      <th>74999</th>\n",
       "      <td>lib_1</td>\n",
       "      <td>TTTTTTTCGTGGTAAC</td>\n",
       "      <td>1</td>\n",
       "      <td>NaN</td>\n",
       "      <td></td>\n",
       "      <td>0</td>\n",
       "      <td>0</td>\n",
       "      <td>5.612939</td>\n",
       "      <td>0.000000</td>\n",
       "      <td>1.000000</td>\n",
       "      <td>H2</td>\n",
       "    </tr>\n",
       "  </tbody>\n",
       "</table>\n",
       "<p>50000 rows × 11 columns</p>\n",
       "</div>"
      ],
      "text/plain": [
       "      library           barcode  variant_call_support  \\\n",
       "0       lib_1  AAAAAAATTTACGCGA                     1   \n",
       "1       lib_1  AAAAAACATAGGAGTA                     3   \n",
       "2       lib_1  AAAAAAGAGGTTAAAC                     1   \n",
       "3       lib_1  AAAAAAGGCTTATACT                     1   \n",
       "4       lib_1  AAAAAATCACTAATAT                     3   \n",
       "...       ...               ...                   ...   \n",
       "74995   lib_1  TTTTTGTAAGGCCTCT                     1   \n",
       "74996   lib_1  TTTTTTAATCAGTTAG                     3   \n",
       "74997   lib_1  TTTTTTCCTAGGAGAT                     2   \n",
       "74998   lib_1  TTTTTTCTACAGAGGT                     2   \n",
       "74999   lib_1  TTTTTTTCGTGGTAAC                     1   \n",
       "\n",
       "                               codon_substitutions    aa_substitutions  \\\n",
       "0                       TTA18GTC TTA23TCA TTT41AAC      L18V L23S F41N   \n",
       "1                                TGC19AAG CGG29TCC           C19K R29S   \n",
       "2                                         ATG32TTC                M32F   \n",
       "3                       TCA11TCG CGG12GGT GGT46AAA           R12G G46K   \n",
       "4      AGA1ACA CGT15CCG TCC37GCT AGT40TAA TCG42AGC  R1T R15P S37A S40*   \n",
       "...                                            ...                 ...   \n",
       "74995            AGA1CTT CTG5TCT ATC25GAT GGA50ACA   R1L L5S I25D G50T   \n",
       "74996                                     CCA44ACC                P44T   \n",
       "74997                            AAC10ACA ATC28TTC           N10T I28F   \n",
       "74998                                     CGC23GGT                R23G   \n",
       "74999                                          NaN                       \n",
       "\n",
       "       n_codon_substitutions  n_aa_substitutions  latent_phenotype  \\\n",
       "0                          3                   3        -15.608947   \n",
       "1                          2                   2          2.516825   \n",
       "2                          1                   1          3.980341   \n",
       "3                          3                   2        -21.146126   \n",
       "4                          5                   4        -21.623836   \n",
       "...                      ...                 ...               ...   \n",
       "74995                      4                   4        -17.215931   \n",
       "74996                      1                   1          0.242479   \n",
       "74997                      2                   2         -6.999078   \n",
       "74998                      1                   1         -0.720320   \n",
       "74999                      0                   0          5.612939   \n",
       "\n",
       "       observed_phenotype  observed_enrichment    homolog  \n",
       "0               -9.965543             0.001000  reference  \n",
       "1               -0.102192             0.931616  reference  \n",
       "2               -0.016995             0.988289  reference  \n",
       "3               -9.965783             0.001000  reference  \n",
       "4               -9.965784             0.001000  reference  \n",
       "...                   ...                  ...        ...  \n",
       "74995           -9.965736             0.001000         H2  \n",
       "74996           -0.829286             0.562808         H2  \n",
       "74997           -9.028964             0.001914         H2  \n",
       "74998           -1.603013             0.329189         H2  \n",
       "74999            0.000000             1.000000         H2  \n",
       "\n",
       "[50000 rows x 11 columns]"
      ]
     },
     "execution_count": 19,
     "metadata": {},
     "output_type": "execute_result"
    }
   ],
   "source": [
    "simulated_dataset_lib1 = simulated_dataset.query(\"library == 'lib_1'\").copy()\n",
    "simulated_dataset_lib1.aa_substitutions.fillna(\"\", inplace=True)\n",
    "simulated_dataset_lib1"
   ]
  },
  {
   "cell_type": "code",
   "execution_count": 20,
   "id": "603caa8e",
   "metadata": {},
   "outputs": [
    {
     "data": {
      "text/html": [
       "<div>\n",
       "<style scoped>\n",
       "    .dataframe tbody tr th:only-of-type {\n",
       "        vertical-align: middle;\n",
       "    }\n",
       "\n",
       "    .dataframe tbody tr th {\n",
       "        vertical-align: top;\n",
       "    }\n",
       "\n",
       "    .dataframe thead th {\n",
       "        text-align: right;\n",
       "    }\n",
       "</style>\n",
       "<table border=\"1\" class=\"dataframe\">\n",
       "  <thead>\n",
       "    <tr style=\"text-align: right;\">\n",
       "      <th></th>\n",
       "      <th>library</th>\n",
       "      <th>barcode</th>\n",
       "      <th>variant_call_support</th>\n",
       "      <th>codon_substitutions</th>\n",
       "      <th>aa_substitutions</th>\n",
       "      <th>n_codon_substitutions</th>\n",
       "      <th>n_aa_substitutions</th>\n",
       "      <th>latent_phenotype</th>\n",
       "      <th>observed_phenotype</th>\n",
       "      <th>observed_enrichment</th>\n",
       "      <th>homolog</th>\n",
       "      <th>var_wrt_ref</th>\n",
       "    </tr>\n",
       "  </thead>\n",
       "  <tbody>\n",
       "    <tr>\n",
       "      <th>0</th>\n",
       "      <td>lib_1</td>\n",
       "      <td>AAAAAAATTTACGCGA</td>\n",
       "      <td>1</td>\n",
       "      <td>TTA18GTC TTA23TCA TTT41AAC</td>\n",
       "      <td>L18V L23S F41N</td>\n",
       "      <td>3</td>\n",
       "      <td>3</td>\n",
       "      <td>-15.608947</td>\n",
       "      <td>-9.965543</td>\n",
       "      <td>0.001000</td>\n",
       "      <td>reference</td>\n",
       "      <td>L18V L23S F41N</td>\n",
       "    </tr>\n",
       "    <tr>\n",
       "      <th>1</th>\n",
       "      <td>lib_1</td>\n",
       "      <td>AAAAAACATAGGAGTA</td>\n",
       "      <td>3</td>\n",
       "      <td>TGC19AAG CGG29TCC</td>\n",
       "      <td>C19K R29S</td>\n",
       "      <td>2</td>\n",
       "      <td>2</td>\n",
       "      <td>2.516825</td>\n",
       "      <td>-0.102192</td>\n",
       "      <td>0.931616</td>\n",
       "      <td>reference</td>\n",
       "      <td>C19K R29S</td>\n",
       "    </tr>\n",
       "    <tr>\n",
       "      <th>2</th>\n",
       "      <td>lib_1</td>\n",
       "      <td>AAAAAAGAGGTTAAAC</td>\n",
       "      <td>1</td>\n",
       "      <td>ATG32TTC</td>\n",
       "      <td>M32F</td>\n",
       "      <td>1</td>\n",
       "      <td>1</td>\n",
       "      <td>3.980341</td>\n",
       "      <td>-0.016995</td>\n",
       "      <td>0.988289</td>\n",
       "      <td>reference</td>\n",
       "      <td>M32F</td>\n",
       "    </tr>\n",
       "    <tr>\n",
       "      <th>3</th>\n",
       "      <td>lib_1</td>\n",
       "      <td>AAAAAAGGCTTATACT</td>\n",
       "      <td>1</td>\n",
       "      <td>TCA11TCG CGG12GGT GGT46AAA</td>\n",
       "      <td>R12G G46K</td>\n",
       "      <td>3</td>\n",
       "      <td>2</td>\n",
       "      <td>-21.146126</td>\n",
       "      <td>-9.965783</td>\n",
       "      <td>0.001000</td>\n",
       "      <td>reference</td>\n",
       "      <td>R12G G46K</td>\n",
       "    </tr>\n",
       "    <tr>\n",
       "      <th>4</th>\n",
       "      <td>lib_1</td>\n",
       "      <td>AAAAAATCACTAATAT</td>\n",
       "      <td>3</td>\n",
       "      <td>AGA1ACA CGT15CCG TCC37GCT AGT40TAA TCG42AGC</td>\n",
       "      <td>R1T R15P S37A S40*</td>\n",
       "      <td>5</td>\n",
       "      <td>4</td>\n",
       "      <td>-21.623836</td>\n",
       "      <td>-9.965784</td>\n",
       "      <td>0.001000</td>\n",
       "      <td>reference</td>\n",
       "      <td>R1T R15P S37A S40*</td>\n",
       "    </tr>\n",
       "    <tr>\n",
       "      <th>...</th>\n",
       "      <td>...</td>\n",
       "      <td>...</td>\n",
       "      <td>...</td>\n",
       "      <td>...</td>\n",
       "      <td>...</td>\n",
       "      <td>...</td>\n",
       "      <td>...</td>\n",
       "      <td>...</td>\n",
       "      <td>...</td>\n",
       "      <td>...</td>\n",
       "      <td>...</td>\n",
       "      <td>...</td>\n",
       "    </tr>\n",
       "    <tr>\n",
       "      <th>74995</th>\n",
       "      <td>lib_1</td>\n",
       "      <td>TTTTTGTAAGGCCTCT</td>\n",
       "      <td>1</td>\n",
       "      <td>AGA1CTT CTG5TCT ATC25GAT GGA50ACA</td>\n",
       "      <td>R1L L5S I25D G50T</td>\n",
       "      <td>4</td>\n",
       "      <td>4</td>\n",
       "      <td>-17.215931</td>\n",
       "      <td>-9.965736</td>\n",
       "      <td>0.001000</td>\n",
       "      <td>H2</td>\n",
       "      <td>R1L S2V L5S V16I I17K L23R I25D L30T L34E S40K...</td>\n",
       "    </tr>\n",
       "    <tr>\n",
       "      <th>74996</th>\n",
       "      <td>lib_1</td>\n",
       "      <td>TTTTTTAATCAGTTAG</td>\n",
       "      <td>3</td>\n",
       "      <td>CCA44ACC</td>\n",
       "      <td>P44T</td>\n",
       "      <td>1</td>\n",
       "      <td>1</td>\n",
       "      <td>0.242479</td>\n",
       "      <td>-0.829286</td>\n",
       "      <td>0.562808</td>\n",
       "      <td>H2</td>\n",
       "      <td>S2V V16I I17K L23R L30T L34E S40K S42H P44T V4...</td>\n",
       "    </tr>\n",
       "    <tr>\n",
       "      <th>74997</th>\n",
       "      <td>lib_1</td>\n",
       "      <td>TTTTTTCCTAGGAGAT</td>\n",
       "      <td>2</td>\n",
       "      <td>AAC10ACA ATC28TTC</td>\n",
       "      <td>N10T I28F</td>\n",
       "      <td>2</td>\n",
       "      <td>2</td>\n",
       "      <td>-6.999078</td>\n",
       "      <td>-9.028964</td>\n",
       "      <td>0.001914</td>\n",
       "      <td>H2</td>\n",
       "      <td>S2V N10T V16I I17K L23R I28F L30T L34E S40K S4...</td>\n",
       "    </tr>\n",
       "    <tr>\n",
       "      <th>74998</th>\n",
       "      <td>lib_1</td>\n",
       "      <td>TTTTTTCTACAGAGGT</td>\n",
       "      <td>2</td>\n",
       "      <td>CGC23GGT</td>\n",
       "      <td>R23G</td>\n",
       "      <td>1</td>\n",
       "      <td>1</td>\n",
       "      <td>-0.720320</td>\n",
       "      <td>-1.603013</td>\n",
       "      <td>0.329189</td>\n",
       "      <td>H2</td>\n",
       "      <td>S2V V16I I17K L23G L30T L34E S40K S42H V45Y R48D</td>\n",
       "    </tr>\n",
       "    <tr>\n",
       "      <th>74999</th>\n",
       "      <td>lib_1</td>\n",
       "      <td>TTTTTTTCGTGGTAAC</td>\n",
       "      <td>1</td>\n",
       "      <td>NaN</td>\n",
       "      <td></td>\n",
       "      <td>0</td>\n",
       "      <td>0</td>\n",
       "      <td>5.612939</td>\n",
       "      <td>0.000000</td>\n",
       "      <td>1.000000</td>\n",
       "      <td>H2</td>\n",
       "      <td>S2V V16I I17K L23R L30T L34E S40K S42H V45Y R48D</td>\n",
       "    </tr>\n",
       "  </tbody>\n",
       "</table>\n",
       "<p>50000 rows × 12 columns</p>\n",
       "</div>"
      ],
      "text/plain": [
       "      library           barcode  variant_call_support  \\\n",
       "0       lib_1  AAAAAAATTTACGCGA                     1   \n",
       "1       lib_1  AAAAAACATAGGAGTA                     3   \n",
       "2       lib_1  AAAAAAGAGGTTAAAC                     1   \n",
       "3       lib_1  AAAAAAGGCTTATACT                     1   \n",
       "4       lib_1  AAAAAATCACTAATAT                     3   \n",
       "...       ...               ...                   ...   \n",
       "74995   lib_1  TTTTTGTAAGGCCTCT                     1   \n",
       "74996   lib_1  TTTTTTAATCAGTTAG                     3   \n",
       "74997   lib_1  TTTTTTCCTAGGAGAT                     2   \n",
       "74998   lib_1  TTTTTTCTACAGAGGT                     2   \n",
       "74999   lib_1  TTTTTTTCGTGGTAAC                     1   \n",
       "\n",
       "                               codon_substitutions    aa_substitutions  \\\n",
       "0                       TTA18GTC TTA23TCA TTT41AAC      L18V L23S F41N   \n",
       "1                                TGC19AAG CGG29TCC           C19K R29S   \n",
       "2                                         ATG32TTC                M32F   \n",
       "3                       TCA11TCG CGG12GGT GGT46AAA           R12G G46K   \n",
       "4      AGA1ACA CGT15CCG TCC37GCT AGT40TAA TCG42AGC  R1T R15P S37A S40*   \n",
       "...                                            ...                 ...   \n",
       "74995            AGA1CTT CTG5TCT ATC25GAT GGA50ACA   R1L L5S I25D G50T   \n",
       "74996                                     CCA44ACC                P44T   \n",
       "74997                            AAC10ACA ATC28TTC           N10T I28F   \n",
       "74998                                     CGC23GGT                R23G   \n",
       "74999                                          NaN                       \n",
       "\n",
       "       n_codon_substitutions  n_aa_substitutions  latent_phenotype  \\\n",
       "0                          3                   3        -15.608947   \n",
       "1                          2                   2          2.516825   \n",
       "2                          1                   1          3.980341   \n",
       "3                          3                   2        -21.146126   \n",
       "4                          5                   4        -21.623836   \n",
       "...                      ...                 ...               ...   \n",
       "74995                      4                   4        -17.215931   \n",
       "74996                      1                   1          0.242479   \n",
       "74997                      2                   2         -6.999078   \n",
       "74998                      1                   1         -0.720320   \n",
       "74999                      0                   0          5.612939   \n",
       "\n",
       "       observed_phenotype  observed_enrichment    homolog  \\\n",
       "0               -9.965543             0.001000  reference   \n",
       "1               -0.102192             0.931616  reference   \n",
       "2               -0.016995             0.988289  reference   \n",
       "3               -9.965783             0.001000  reference   \n",
       "4               -9.965784             0.001000  reference   \n",
       "...                   ...                  ...        ...   \n",
       "74995           -9.965736             0.001000         H2   \n",
       "74996           -0.829286             0.562808         H2   \n",
       "74997           -9.028964             0.001914         H2   \n",
       "74998           -1.603013             0.329189         H2   \n",
       "74999            0.000000             1.000000         H2   \n",
       "\n",
       "                                             var_wrt_ref  \n",
       "0                                         L18V L23S F41N  \n",
       "1                                              C19K R29S  \n",
       "2                                                   M32F  \n",
       "3                                              R12G G46K  \n",
       "4                                     R1T R15P S37A S40*  \n",
       "...                                                  ...  \n",
       "74995  R1L S2V L5S V16I I17K L23R I25D L30T L34E S40K...  \n",
       "74996  S2V V16I I17K L23R L30T L34E S40K S42H P44T V4...  \n",
       "74997  S2V N10T V16I I17K L23R I28F L30T L34E S40K S4...  \n",
       "74998   S2V V16I I17K L23G L30T L34E S40K S42H V45Y R48D  \n",
       "74999   S2V V16I I17K L23R L30T L34E S40K S42H V45Y R48D  \n",
       "\n",
       "[50000 rows x 12 columns]"
      ]
     },
     "execution_count": 20,
     "metadata": {},
     "output_type": "execute_result"
    }
   ],
   "source": [
    "func_score_df = variant_mutations_wrt_ref(simulated_dataset_lib1, homologs, \"homolog\", \"aa_substitutions\")\n",
    "func_score_df"
   ]
  },
  {
   "cell_type": "markdown",
   "id": "52d8c67a",
   "metadata": {},
   "source": [
    "Next, we will use the modified dataframe to create a `BinaryMap` object for each homolog. Each object needs to have the exact same columns in the same order. To achieve this, we will first make a list of all unique mutations observed in the above dataframe."
   ]
  },
  {
   "cell_type": "code",
   "execution_count": 21,
   "id": "d551f0b5",
   "metadata": {},
   "outputs": [],
   "source": [
    "allowed_subs = {\n",
    "    s for subs in func_score_df.var_wrt_ref\n",
    "    for s in subs.split()\n",
    "}\n",
    "# allowed_subs"
   ]
  },
  {
   "cell_type": "markdown",
   "id": "d187d6c0",
   "metadata": {},
   "source": [
    "Then, we will make a `BinaryMap` for each homolog, feeding the above list to the function that makes the maps, which ensures the maps will have identical columns."
   ]
  },
  {
   "cell_type": "code",
   "execution_count": 22,
   "id": "a8063320",
   "metadata": {},
   "outputs": [
    {
     "name": "stdout",
     "output_type": "stream",
     "text": [
      "H2\n",
      "[[0 0 0 ... 0 0 0]\n",
      " [0 0 0 ... 0 0 0]\n",
      " [0 0 0 ... 0 0 0]\n",
      " ...\n",
      " [0 0 0 ... 0 0 0]\n",
      " [0 0 0 ... 0 0 0]\n",
      " [0 0 0 ... 0 0 0]]\n",
      "reference\n",
      "[[0 0 0 ... 0 0 0]\n",
      " [0 0 0 ... 0 0 0]\n",
      " [0 0 0 ... 0 0 0]\n",
      " ...\n",
      " [0 0 0 ... 0 0 0]\n",
      " [0 0 0 ... 0 0 0]\n",
      " [0 0 0 ... 0 0 0]]\n"
     ]
    }
   ],
   "source": [
    "X = {}\n",
    "for homolog, homolog_func_score_df in func_score_df.groupby(\"homolog\"):\n",
    "    ref_bmap = bmap.BinaryMap(\n",
    "        homolog_func_score_df,\n",
    "        substitutions_col=\"var_wrt_ref\",\n",
    "        allowed_subs=allowed_subs\n",
    "    )\n",
    "    \n",
    "    # TODO use sparse arrays\n",
    "#     X[homolog] = jnp.array(ref_bmap.binary_variants.toarray())\n",
    "    X[homolog] = sparse.BCOO.fromdense(ref_bmap.binary_variants.toarray())\n",
    "    \n",
    "    \n",
    "    print(homolog)\n",
    "    print(ref_bmap.binary_variants.toarray())\n",
    "#     print({mut:ref_bmap.sub_to_i(mut) for mut in allowed_subs})"
   ]
  },
  {
   "cell_type": "code",
   "execution_count": 23,
   "id": "6159fd01",
   "metadata": {},
   "outputs": [
    {
     "data": {
      "text/plain": [
       "({'H2': BCOO(int8[25000, 1000], nse=287350),\n",
       "  'reference': BCOO(int8[25000, 1000], nse=47572)},\n",
       " {'H2': DeviceArray([0.00100008, 0.64589581, 0.99360193, ..., 0.0019143 ,\n",
       "               0.32918888, 1.        ], dtype=float64),\n",
       "  'reference': DeviceArray([0.00100017, 0.93161612, 0.98828937, ..., 0.00149706,\n",
       "               0.50507318, 1.        ], dtype=float64)})"
      ]
     },
     "execution_count": 23,
     "metadata": {},
     "output_type": "execute_result"
    }
   ],
   "source": [
    "y = {h:jnp.array(hfdf.observed_enrichment.values) for h, hfdf in func_score_df.groupby(\"homolog\")}\n",
    "data = (X, y)\n",
    "data"
   ]
  },
  {
   "cell_type": "code",
   "execution_count": 24,
   "id": "cdb020e4",
   "metadata": {},
   "outputs": [
    {
     "data": {
      "text/plain": [
       "dict_keys(['β', 'S_reference', 'S_H2', 'C_ref', 'α'])"
      ]
     },
     "execution_count": 24,
     "metadata": {},
     "output_type": "execute_result"
    }
   ],
   "source": [
    "# all model params to be tuned will be stored in a dictionary\n",
    "params = {}\n",
    "seed = 0\n",
    "key = jax.random.PRNGKey(seed)\n",
    "\n",
    "# initialize beta parameters from normal distribution.\n",
    "all_mutations = list(allowed_subs)\n",
    "params[\"β\"] = jax.random.normal(shape=(len(all_mutations),), key=key)\n",
    "\n",
    "# initialize shift parameters\n",
    "# TODO no need for subkeys\n",
    "key, *subkeys = jax.random.split(key, len(homologs)+1)\n",
    "for homolog, subkey in zip(homologs, subkeys):\n",
    "    \n",
    "    # Do not create shift parameters for the reference\n",
    "#     if homolog == \"reference\": continue\n",
    "    \n",
    "    # We expect most shift parameters to be close to zero\n",
    "    params[f\"S_{homolog}\"] = jnp.zeros(shape=(len(all_mutations),))\n",
    "\n",
    "params[\"C_ref\"] = jnp.zeros(shape=(1, ))\n",
    "\n",
    "# Number of free parameters for a linear transformation on the latent phenotype\n",
    "# that results in the shape of the sigmoid.\n",
    "n_units = 1\n",
    "\n",
    "# TODO ??: Are we parameterizing out GE function correctly?\n",
    "key, *subkeys = jax.random.split(key, num=5)\n",
    "params[\"α\"]=dict(sig_stretch_x = jax.random.normal(shape=(n_units,), key=subkeys[0]), # 'stretch' in x direction\n",
    "                 sig_shift_x = jax.random.normal(shape=(1,), key=subkeys[1]),         # 'shift' in the x direction\n",
    "                 sig_stretch_y = jax.random.normal(shape=(n_units,), key=subkeys[2]),       # 'stretch' in the y direction\n",
    "                 sig_shift_y = jax.random.normal(shape=(1,), key=subkeys[3]),         # 'shift' in the y directions\n",
    ")\n",
    "\n",
    "params.keys()"
   ]
  },
  {
   "cell_type": "code",
   "execution_count": 25,
   "id": "7d437914",
   "metadata": {},
   "outputs": [
    {
     "data": {
      "text/plain": [
       "(1000,)"
      ]
     },
     "execution_count": 25,
     "metadata": {},
     "output_type": "execute_result"
    }
   ],
   "source": [
    "params['β'].shape"
   ]
  },
  {
   "cell_type": "code",
   "execution_count": 26,
   "id": "757dfebc",
   "metadata": {},
   "outputs": [
    {
     "data": {
      "text/plain": [
       "DeviceArray(0.28719346, dtype=float64)"
      ]
     },
     "execution_count": 26,
     "metadata": {},
     "output_type": "execute_result"
    }
   ],
   "source": [
    "cost_smooth(params, data)"
   ]
  },
  {
   "cell_type": "code",
   "execution_count": null,
   "id": "217ec4e3",
   "metadata": {},
   "outputs": [],
   "source": [
    "jax.grad(cost_smooth)(params, data)"
   ]
  },
  {
   "cell_type": "code",
   "execution_count": 28,
   "id": "1ccad21d",
   "metadata": {},
   "outputs": [],
   "source": [
    "tol = 1e-3\n",
    "maxiter = 1\n",
    "solver = jaxopt.GradientDescent(cost_smooth, tol=tol, maxiter=maxiter)"
   ]
  },
  {
   "cell_type": "code",
   "execution_count": null,
   "id": "ddfa8152",
   "metadata": {},
   "outputs": [],
   "source": [
    "params, state = solver.run(params, data=data)"
   ]
  },
  {
   "cell_type": "markdown",
   "id": "1140adca",
   "metadata": {},
   "source": [
    "Optimize the entire model at once with gradient decent"
   ]
  },
  {
   "cell_type": "markdown",
   "id": "412d029b",
   "metadata": {},
   "source": [
    "Peek at tuned parameters"
   ]
  },
  {
   "cell_type": "code",
   "execution_count": 63,
   "id": "45e03b92",
   "metadata": {},
   "outputs": [
    {
     "data": {
      "text/plain": [
       "{'C_ref': DeviceArray([-0.72320785], dtype=float64),\n",
       " 'S_2': DeviceArray([2.63420862, 2.63523184, 2.59795679], dtype=float64),\n",
       " 'S_reference': DeviceArray([0., 0., 0.], dtype=float64),\n",
       " 'α': {'sig_shift_x': DeviceArray([0.69421427], dtype=float64),\n",
       "  'sig_shift_y': DeviceArray([-0.5059075], dtype=float64),\n",
       "  'sig_stretch_x': DeviceArray([2.06062493], dtype=float64),\n",
       "  'sig_stretch_y': DeviceArray([2.91412947], dtype=float64)},\n",
       " 'β': DeviceArray([-2.63421577, -2.63523528, -2.59796787], dtype=float64)}"
      ]
     },
     "execution_count": 63,
     "metadata": {},
     "output_type": "execute_result"
    }
   ],
   "source": [
    "params"
   ]
  },
  {
   "cell_type": "code",
   "execution_count": null,
   "id": "739b6119",
   "metadata": {},
   "outputs": [],
   "source": []
  },
  {
   "cell_type": "markdown",
   "id": "98cee907",
   "metadata": {},
   "source": [
    "## Empirical Data (TODO)"
   ]
  },
  {
   "cell_type": "markdown",
   "id": "9e648a50",
   "metadata": {},
   "source": [
    "## Old code Attic"
   ]
  },
  {
   "cell_type": "code",
   "execution_count": null,
   "id": "48068db5",
   "metadata": {},
   "outputs": [],
   "source": [
    "# @jax.jit\n",
    "# def ϕ(params:dict, X_tuple:tuple): #X_h:jnp.array): #, homolog:str):#is_ref:bool):\n",
    "#     \"\"\"Phi function for predicting latent phenotype.\"\"\"\n",
    "    \n",
    "    \n",
    "    \n",
    "# #     if is_ref:\n",
    "#     homolog = X_tuple[0]\n",
    "#     X_h = X_tuple[1]\n",
    "#     if homolog == \"reference\":\n",
    "        \n",
    "#         return (X_h @ params[\"β\"]) + params[\"C_ref\"]\n",
    "\n",
    "#     return (X_h @ (params[\"β\"] + params[f\"S_{homolog}\"])) + params[\"C_ref\"]\n",
    "\n",
    "# @jax.jit\n",
    "# def ϕ(params:dict, X_h:jnp.array):\n",
    "#     return (X_h @ (params[\"β\"] + params[f\"S\"])) + params[\"C_ref\"]\n",
    "\n",
    "# @jax.jit\n",
    "# def g(α:dict, z_h:jnp.array):\n",
    "#     \"\"\"Global epistasis function as flexible sigmoid.\"\"\"\n",
    "#     activations = jax.nn.sigmoid(α[\"rate\"] * z_h[:, None] + α[\"intercept\"])\n",
    "#     return (α[\"a\"] * activations) + α[\"bias\"] "
   ]
  }
 ],
 "metadata": {
  "kernelspec": {
   "display_name": "Python 3 (ipykernel)",
   "language": "python",
   "name": "python3"
  },
  "language_info": {
   "codemirror_mode": {
    "name": "ipython",
    "version": 3
   },
   "file_extension": ".py",
   "mimetype": "text/x-python",
   "name": "python",
   "nbconvert_exporter": "python",
   "pygments_lexer": "ipython3",
   "version": "3.9.12"
  }
 },
 "nbformat": 4,
 "nbformat_minor": 5
}
