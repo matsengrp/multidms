{
 "cells": [
  {
   "cell_type": "markdown",
   "id": "1f7f0224-78d0-4cfc-ac06-48c1d1b4dfe2",
   "metadata": {},
   "source": [
    "# multidms"
   ]
  },
  {
   "cell_type": "markdown",
   "id": "bdc224f4-d5ca-49a6-ae17-d3f8c7fac997",
   "metadata": {},
   "source": [
    "## Overview of model\n",
    "\n",
    "The `multidms` model applies to a case where you have DMS datasets for two or more homologs and are interested in identifying shifts in mutational effects between homologs.\n",
    "To do so, the model defines one homolog as a reference homolog.\n",
    "For each mutation, the model fits one parameter that quantifies the effect of the mutation in the reference homolog.\n",
    "For each non-reference homolog, it also fits a shift parameter that quantifies the shift in the mutation's effect in the non-reference homolog relative to the reference.\n",
    "Shift parameters can be regularized, encouraging most of them to be close to zero.\n",
    "This regularization step is a useful way to eliminate the effects of experimental noise, and is most useful in cases where you expect most mutations to have the same effects between homologs, such as for homologs that are close relatives.\n",
    "\n",
    "The model uses a global-epistasis function to disentangle the effects of multiple mutations on the same variant.\n",
    "To do so, it assumes that mutational effects additively influence a latent biophysical property the protein (e.g., $\\Delta G$ of folding).\n",
    "The mutational-effect parameters described above operate at this latent level.\n",
    "The global-epistasis function then assumes a sigmoidal relationship between a protein's latent property and its functional score measured in the experiment (e.g., log enrichment score).\n",
    "Ultimately, mutational parameters, as well as ones controlling the shape of the sigmoid, are all jointly fit to maximize agreement between predicted and observed functional scores acorss all variants of all homologs."
   ]
  },
  {
   "cell_type": "markdown",
   "id": "8bd6382d-47a3-49d1-ac4f-a909f7ebf8a8",
   "metadata": {},
   "source": [
    "## Detailed description of the model\n",
    "\n",
    "For each variant $v$ from homolog $h$, we use a global-epistasis function $g$ to convert a latent phenotype $\\phi$ to a functional score $f$:\n",
    "\n",
    "$$f(v,h) = g_{\\alpha}(\\phi(v,h))$$\n",
    "\n",
    "where $g$ is a sigmoid and $\\alpha$ is a set of parameters encoding the sigmoid.\n",
    "\n",
    "The latent phenotype is computed in the following way:\n",
    "\n",
    "$$\\phi(v,h) = c + \\sum_{m \\in v} (x_m + s_{m,h})$$\n",
    "\n",
    "where:\n",
    "* $c$ is the wildtype latent phenotype for the reference homolog\n",
    "* $x_m$ is the latent phenotypic effect of mutation $m$. See details below.\n",
    "* $s_{m,h}$ is the shift of the effect of mutation $m$ in homolog $h$. These parameters are fixed to zero for the reference homolog. For non-reference homologs, they are defined in the same way as $x_m$ parameters.\n",
    "* $v$ is the set of all mutations relative to the reference wildtype sequence (including all mutations that separate homolog $h$ from the reference homolog).\n",
    "\n",
    "The $x_m$ variable is defined such that mutations are always relative to the reference homolog.\n",
    "For example, if there reference at site 30 is an A, and the wildtype in homolog 2 is a G, then we encode the\n",
    "homolog sequence as including a A30G mutation.\n",
    "This way, each homolog informs the exact same parameters, even at sites that differ in wildtype amino acid.\n",
    "These are encoded in a `BinaryMap` object, where all sites that are non-identical to the reference are 1's.\n",
    "\n",
    "Ultimately, we fit parameters using a loss function with one term that scores differences between predicted and observed values and another that uses L1 regularization to penalize non-zero $s_{m,h}$ values:\n",
    "\n",
    "$$ L_{\\text{total}} = \\sum_{h} \\left[\\sum_{v} L_{\\text{fit}}(y_{v,h}, f(v,h)) + \\lambda \\sum_{m} |s_{m,h}|\\right]$$\n",
    "\n",
    "where:\n",
    "* $L_{\\text{total}}$ is the total loss function\n",
    "* $L_{\\text{fit}}$ is a loss function that penalizes differences in predicted vs. observed functional scores\n",
    "* $y_{v,h}$ is the experimentally measured functional score of variant $v$ from homolog $h$"
   ]
  },
  {
   "cell_type": "markdown",
   "id": "e943741e-4fd1-47d8-b330-ec1713f76a42",
   "metadata": {},
   "source": [
    "## Model using matriβ algebra\n",
    "\n",
    "We compute a vector or predicted latent phenotypes $P_{h}$ as:\n",
    "\n",
    "$$P_{h} = c + (W_h \\cdot (β + S_h))$$\n",
    "\n",
    "where:\n",
    "* $β$ is a vector of all $β_m$ values\n",
    "* $S_h$ is a matriβ of all $s_{m,h}$ values\n",
    "* $W_h$ is a sparse matrix, where rows are variants, columns are mutations (all defined relative to the reference homolog), and values are weights of 0's and 1's. These weights are used to compute the phenotype of each variant given the mutations present.\n",
    "* $c$ is the same as above.\n",
    "\n",
    "In the matrix algebra, the sum of $β_m$ and $S_{m,h}$ gives a vector of mutational effects, with one entry per mutation.\n",
    "Multiplying the matrix $W_h$ by this vector gives a new vector with one entry per variant, where values are the sum of mutational effects, weighted by the variant-specific weights in $W_h$.\n",
    "Adding the $c$ value to this vector will give a vector of predicted latent phenotypes for each variant.\n",
    "\n",
    "Next, the global-epistasis function can be used to convert a vector of predicted latent phenotypes to a vector of predicted functional scores.\n",
    "\n",
    "$$F_{h,pred} = g_{\\alpha}(P_h)$$\n",
    "\n",
    "Finally, this vector could be fed into a loss function and compared with a vector of observed functional scores."
   ]
  },
  {
   "cell_type": "markdown",
   "id": "3b14e961",
   "metadata": {},
   "source": [
    "## Binarymap augmentation"
   ]
  },
  {
   "cell_type": "markdown",
   "id": "0dd2195a",
   "metadata": {},
   "source": [
    "Rather than re-invent a binary encoding for aa sequence data, we can simply augment the `BinaryClass`\n",
    "Object after converting the mutations to be with respect to the reference sequence as stated above.\n",
    "\n",
    "Note 1: we will probably need some special-purpose code to handle gaps. This isn't done yet."
   ]
  },
  {
   "cell_type": "code",
   "execution_count": 7,
   "id": "c3a529bd",
   "metadata": {},
   "outputs": [],
   "source": [
    "import pandas as pd \n",
    "\n",
    "test_dict = {\n",
    "    'homolog' : [1,1,1,2,2,2,2,2],\n",
    "    'variant' : ['M1E', 'G2R', 'G2P', 'M1E', 'P2R', 'P2G', 'M1E P2G', 'M1E P2R'],\n",
    "    'log2E' : [2, -7, -0.5, 2.3, -5, 0.4, 2.7, 0.5],\n",
    "}\n",
    "test_df = pd.DataFrame(test_dict)"
   ]
  },
  {
   "cell_type": "code",
   "execution_count": 8,
   "id": "6fba9914",
   "metadata": {},
   "outputs": [],
   "source": [
    "import pandas as pd\n",
    "import numpy as np\n",
    "import re\n",
    "import binarymap as bmap\n",
    "\n",
    "def variant_mutations_wrt_ref(\n",
    "    func_score_df:pd.DataFrame, \n",
    "    homologs:dict,\n",
    "    reference,\n",
    "    homolog_name_col\n",
    "):\n",
    "    \"\"\"Convert a list of given variants for a non reference homolog\n",
    "    to be with respect to the reference sequence\n",
    "    \n",
    "    Parameters\n",
    "    ----------\n",
    "\n",
    "    func_score_df : pandas.DataFrame\n",
    "        This should be in the same format as described in BinaryMap\n",
    "        The aa substitution converstions are handled here so \n",
    "        substitution_col should be with respect the the \n",
    "        non-reference homolog\n",
    "        \n",
    "    homologs : dict\n",
    "        A dictionary containing all possible target homolog \n",
    "        names (keys) and sequences (values).\n",
    "        \n",
    "    homolog_name_col : str\n",
    "        The name of the column in func_score_df that identifies the target\n",
    "        homolog for any given variant.\n",
    "        \n",
    "    reference_homolog_name :\n",
    "        The factor level of homolog_name_col that is the reference.\n",
    "    \n",
    "    Returns\n",
    "    -------\n",
    "        \n",
    "    pd.DataFrame :\n",
    "        A dataframe with a new column 'var_wrt_wt' that contains\n",
    "        all variant mutations with respect to the wildtype.\n",
    "    \n",
    "    \"\"\"\n",
    "    \n",
    "    def mutations_wrt_ref(mutations, hom_wtseq):\n",
    "        \n",
    "        mutated_homolog = list(hom_wtseq)\n",
    "        for mutation in mutations.split():\n",
    "\n",
    "            pattern = r'(?P<aawt>\\w)(?P<site>\\d+)(?P<aamut>\\w)'\n",
    "            match = re.search(pattern, mutation)\n",
    "            assert match != None, mutation\n",
    "            aawt = match.group('aawt')\n",
    "            site = match.group('site')\n",
    "            aamut = match.group('aamut')\n",
    "            mutated_homolog[int(site)-1] = aamut\n",
    "            \n",
    "        hom_var_seq = ''.join(mutated_homolog)\n",
    "        ref_muts = [\n",
    "            f\"{aaref}{i+1}{aavar}\" \n",
    "            for i, (aaref, aavar) in enumerate(zip(homologs[reference], hom_var_seq))\n",
    "            if aaref != aavar\n",
    "        ]\n",
    "        \n",
    "        return \" \".join(ref_muts)\n",
    "    \n",
    "    func_score_df = func_score_df.assign(var_wrt_ref = func_score_df.variant.values)\n",
    "    for hom_name, hom_seq in homologs.items():\n",
    "        if hom_name == reference: continue\n",
    "        print(f\"{homolog_name_col} == '{hom_name}'\")\n",
    "        hom_df = func_score_df.query(f\"{homolog_name_col} == '{hom_name}'\")\n",
    "        hom_var_wrt_ref = [\n",
    "            mutations_wrt_ref(muts, homologs[hom_name]) \n",
    "            for muts in hom_df.variant\n",
    "        ]\n",
    "        func_score_df.loc[hom_df.index.values, \"var_wrt_ref\"] = hom_var_wrt_ref\n",
    "        \n",
    "    return func_score_df"
   ]
  },
  {
   "cell_type": "markdown",
   "id": "bc207477",
   "metadata": {},
   "source": [
    "## Test Case"
   ]
  },
  {
   "cell_type": "markdown",
   "id": "7222d340",
   "metadata": {},
   "source": [
    "With some imaginary variants from two imaginary homologs, (`ref` and `hom`), we'll test the code above for a sanity check."
   ]
  },
  {
   "cell_type": "code",
   "execution_count": 9,
   "id": "1dd9def7",
   "metadata": {},
   "outputs": [],
   "source": [
    "homologs = {\n",
    "    \"1\" : \"MG\",\n",
    "    \"2\" : \"MP\"\n",
    "}"
   ]
  },
  {
   "cell_type": "code",
   "execution_count": 10,
   "id": "380d116f",
   "metadata": {},
   "outputs": [
    {
     "data": {
      "text/html": [
       "<div>\n",
       "<style scoped>\n",
       "    .dataframe tbody tr th:only-of-type {\n",
       "        vertical-align: middle;\n",
       "    }\n",
       "\n",
       "    .dataframe tbody tr th {\n",
       "        vertical-align: top;\n",
       "    }\n",
       "\n",
       "    .dataframe thead th {\n",
       "        text-align: right;\n",
       "    }\n",
       "</style>\n",
       "<table border=\"1\" class=\"dataframe\">\n",
       "  <thead>\n",
       "    <tr style=\"text-align: right;\">\n",
       "      <th></th>\n",
       "      <th>homolog</th>\n",
       "      <th>variant</th>\n",
       "      <th>log2E</th>\n",
       "    </tr>\n",
       "  </thead>\n",
       "  <tbody>\n",
       "    <tr>\n",
       "      <th>0</th>\n",
       "      <td>1</td>\n",
       "      <td>M1E</td>\n",
       "      <td>2.0</td>\n",
       "    </tr>\n",
       "    <tr>\n",
       "      <th>1</th>\n",
       "      <td>1</td>\n",
       "      <td>G2R</td>\n",
       "      <td>-7.0</td>\n",
       "    </tr>\n",
       "    <tr>\n",
       "      <th>2</th>\n",
       "      <td>1</td>\n",
       "      <td>G2P</td>\n",
       "      <td>-0.5</td>\n",
       "    </tr>\n",
       "    <tr>\n",
       "      <th>3</th>\n",
       "      <td>2</td>\n",
       "      <td>M1E</td>\n",
       "      <td>2.3</td>\n",
       "    </tr>\n",
       "    <tr>\n",
       "      <th>4</th>\n",
       "      <td>2</td>\n",
       "      <td>P2R</td>\n",
       "      <td>-5.0</td>\n",
       "    </tr>\n",
       "    <tr>\n",
       "      <th>5</th>\n",
       "      <td>2</td>\n",
       "      <td>P2G</td>\n",
       "      <td>0.4</td>\n",
       "    </tr>\n",
       "    <tr>\n",
       "      <th>6</th>\n",
       "      <td>2</td>\n",
       "      <td>M1E P2G</td>\n",
       "      <td>2.7</td>\n",
       "    </tr>\n",
       "    <tr>\n",
       "      <th>7</th>\n",
       "      <td>2</td>\n",
       "      <td>M1E P2R</td>\n",
       "      <td>0.5</td>\n",
       "    </tr>\n",
       "  </tbody>\n",
       "</table>\n",
       "</div>"
      ],
      "text/plain": [
       "  homolog  variant  log2E\n",
       "0       1      M1E    2.0\n",
       "1       1      G2R   -7.0\n",
       "2       1      G2P   -0.5\n",
       "3       2      M1E    2.3\n",
       "4       2      P2R   -5.0\n",
       "5       2      P2G    0.4\n",
       "6       2  M1E P2G    2.7\n",
       "7       2  M1E P2R    0.5"
      ]
     },
     "execution_count": 10,
     "metadata": {},
     "output_type": "execute_result"
    }
   ],
   "source": [
    "test_dict = {\n",
    "    'homolog' : [\"1\",\"1\",\"1\",\"2\",\"2\",\"2\",\"2\",\"2\"],\n",
    "    'variant' : ['M1E', 'G2R', 'G2P', 'M1E', 'P2R', 'P2G', 'M1E P2G', 'M1E P2R'],\n",
    "    'log2E' : [2, -7, -0.5, 2.3, -5, 0.4, 2.7, 0.5],\n",
    "}\n",
    "test_df = pd.DataFrame(test_dict)\n",
    "test_df"
   ]
  },
  {
   "cell_type": "code",
   "execution_count": 11,
   "id": "20f03c52",
   "metadata": {},
   "outputs": [
    {
     "name": "stdout",
     "output_type": "stream",
     "text": [
      "<class 'pandas.core.frame.DataFrame'>\n",
      "RangeIndex: 8 entries, 0 to 7\n",
      "Data columns (total 3 columns):\n",
      " #   Column   Non-Null Count  Dtype  \n",
      "---  ------   --------------  -----  \n",
      " 0   homolog  8 non-null      object \n",
      " 1   variant  8 non-null      object \n",
      " 2   log2E    8 non-null      float64\n",
      "dtypes: float64(1), object(2)\n",
      "memory usage: 320.0+ bytes\n"
     ]
    }
   ],
   "source": [
    "test_df.info()"
   ]
  },
  {
   "cell_type": "code",
   "execution_count": 12,
   "id": "14c72cf2",
   "metadata": {},
   "outputs": [
    {
     "name": "stdout",
     "output_type": "stream",
     "text": [
      "homolog == '2'\n"
     ]
    },
    {
     "data": {
      "text/html": [
       "<div>\n",
       "<style scoped>\n",
       "    .dataframe tbody tr th:only-of-type {\n",
       "        vertical-align: middle;\n",
       "    }\n",
       "\n",
       "    .dataframe tbody tr th {\n",
       "        vertical-align: top;\n",
       "    }\n",
       "\n",
       "    .dataframe thead th {\n",
       "        text-align: right;\n",
       "    }\n",
       "</style>\n",
       "<table border=\"1\" class=\"dataframe\">\n",
       "  <thead>\n",
       "    <tr style=\"text-align: right;\">\n",
       "      <th></th>\n",
       "      <th>homolog</th>\n",
       "      <th>variant</th>\n",
       "      <th>log2E</th>\n",
       "      <th>var_wrt_ref</th>\n",
       "    </tr>\n",
       "  </thead>\n",
       "  <tbody>\n",
       "    <tr>\n",
       "      <th>0</th>\n",
       "      <td>1</td>\n",
       "      <td>M1E</td>\n",
       "      <td>2.0</td>\n",
       "      <td>M1E</td>\n",
       "    </tr>\n",
       "    <tr>\n",
       "      <th>1</th>\n",
       "      <td>1</td>\n",
       "      <td>G2R</td>\n",
       "      <td>-7.0</td>\n",
       "      <td>G2R</td>\n",
       "    </tr>\n",
       "    <tr>\n",
       "      <th>2</th>\n",
       "      <td>1</td>\n",
       "      <td>G2P</td>\n",
       "      <td>-0.5</td>\n",
       "      <td>G2P</td>\n",
       "    </tr>\n",
       "    <tr>\n",
       "      <th>3</th>\n",
       "      <td>2</td>\n",
       "      <td>M1E</td>\n",
       "      <td>2.3</td>\n",
       "      <td>M1E G2P</td>\n",
       "    </tr>\n",
       "    <tr>\n",
       "      <th>4</th>\n",
       "      <td>2</td>\n",
       "      <td>P2R</td>\n",
       "      <td>-5.0</td>\n",
       "      <td>G2R</td>\n",
       "    </tr>\n",
       "    <tr>\n",
       "      <th>5</th>\n",
       "      <td>2</td>\n",
       "      <td>P2G</td>\n",
       "      <td>0.4</td>\n",
       "      <td></td>\n",
       "    </tr>\n",
       "    <tr>\n",
       "      <th>6</th>\n",
       "      <td>2</td>\n",
       "      <td>M1E P2G</td>\n",
       "      <td>2.7</td>\n",
       "      <td>M1E</td>\n",
       "    </tr>\n",
       "    <tr>\n",
       "      <th>7</th>\n",
       "      <td>2</td>\n",
       "      <td>M1E P2R</td>\n",
       "      <td>0.5</td>\n",
       "      <td>M1E G2R</td>\n",
       "    </tr>\n",
       "  </tbody>\n",
       "</table>\n",
       "</div>"
      ],
      "text/plain": [
       "  homolog  variant  log2E var_wrt_ref\n",
       "0       1      M1E    2.0         M1E\n",
       "1       1      G2R   -7.0         G2R\n",
       "2       1      G2P   -0.5         G2P\n",
       "3       2      M1E    2.3     M1E G2P\n",
       "4       2      P2R   -5.0         G2R\n",
       "5       2      P2G    0.4            \n",
       "6       2  M1E P2G    2.7         M1E\n",
       "7       2  M1E P2R    0.5     M1E G2R"
      ]
     },
     "execution_count": 12,
     "metadata": {},
     "output_type": "execute_result"
    }
   ],
   "source": [
    "func_score_df = variant_mutations_wrt_ref(test_df, homologs, \"1\", \"homolog\")\n",
    "func_score_df"
   ]
  },
  {
   "cell_type": "markdown",
   "id": "60bdac10",
   "metadata": {},
   "source": [
    "Let's test it out on the df created earlier."
   ]
  },
  {
   "cell_type": "markdown",
   "id": "5da7b5cd",
   "metadata": {},
   "source": [
    "Each of the homologs will get their own binary encoding, but they need to all include the same possible substitutions. This way they will have the same shape when informing the $X$ parameters in out model. So, we extract all the allowed subs from all homologs that will be included in the model."
   ]
  },
  {
   "cell_type": "code",
   "execution_count": 13,
   "id": "623e8503",
   "metadata": {},
   "outputs": [
    {
     "data": {
      "text/plain": [
       "{'G2P', 'G2R', 'M1E'}"
      ]
     },
     "execution_count": 13,
     "metadata": {},
     "output_type": "execute_result"
    }
   ],
   "source": [
    "allowed_subs = {\n",
    "    s for subs in func_score_df.var_wrt_ref\n",
    "    for s in subs.split()\n",
    "}\n",
    "allowed_subs"
   ]
  },
  {
   "cell_type": "markdown",
   "id": "07e9939d",
   "metadata": {},
   "source": [
    "create binary maps"
   ]
  },
  {
   "cell_type": "code",
   "execution_count": 14,
   "id": "15af8eb8",
   "metadata": {},
   "outputs": [
    {
     "name": "stdout",
     "output_type": "stream",
     "text": [
      "1\n",
      "[[1 0 0]\n",
      " [0 0 1]\n",
      " [0 1 0]]\n",
      "{'M1E': 0, 'G2P': 1, 'G2R': 2}\n",
      "2\n",
      "[[1 1 0]\n",
      " [0 0 1]\n",
      " [0 0 0]\n",
      " [1 0 0]\n",
      " [1 0 1]]\n",
      "{'M1E': 0, 'G2P': 1, 'G2R': 2}\n"
     ]
    }
   ],
   "source": [
    "for homolog, homolog_func_score_df in func_score_df.groupby(\"homolog\"):\n",
    "    ref_bmap = bmap.BinaryMap(\n",
    "        homolog_func_score_df,\n",
    "        substitutions_col=\"var_wrt_ref\",\n",
    "        allowed_subs=allowed_subs\n",
    "    )\n",
    "    print(homolog)\n",
    "    print(ref_bmap.binary_variants.toarray())\n",
    "    print({mut:ref_bmap.sub_to_i(mut) for mut in allowed_subs})"
   ]
  },
  {
   "cell_type": "markdown",
   "id": "8b70bfb4",
   "metadata": {},
   "source": [
    "## JAX Model"
   ]
  },
  {
   "cell_type": "markdown",
   "id": "bcce084f",
   "metadata": {},
   "source": [
    "Here, we'll build a global epistasis model for homologs"
   ]
  },
  {
   "cell_type": "code",
   "execution_count": 19,
   "id": "7164606c",
   "metadata": {},
   "outputs": [],
   "source": [
    "import pandas as pd\n",
    "import matplotlib.pyplot as plt\n",
    "import seaborn as sns\n",
    "import jax\n",
    "jax.config.update(\"jax_enable_x64\", True)\n",
    "import jax.numpy as jnp\n",
    "from jax.experimental import sparse\n",
    "import jaxopt\n",
    "import numpy as onp\n",
    "from scipy.stats import pearsonr"
   ]
  },
  {
   "cell_type": "code",
   "execution_count": 20,
   "id": "5f62e0f7",
   "metadata": {},
   "outputs": [],
   "source": [
    "@jax.jit\n",
    "def ϕ(X, β, S):\n",
    "    return  X @ (β + S) \n",
    "\n",
    "@jax.jit\n",
    "def g(z, α):\n",
    "    activations = jax.nn.sigmoid(α[\"weights\"] * z[:, None] + α[\"biases\"])\n",
    "    wt_activations = jax.nn.sigmoid(α[\"biases\"])\n",
    "    return α[\"a\"] @ (activations - wt_activations).T\n",
    "\n",
    "@jax.jit\n",
    "def f(X, α, β):\n",
    "    return g(ϕ(X, β), α)"
   ]
  },
  {
   "cell_type": "code",
   "execution_count": 21,
   "id": "5b6447d2",
   "metadata": {},
   "outputs": [],
   "source": [
    "tol = 1e-6\n",
    "maxiter = 1000"
   ]
  },
  {
   "cell_type": "code",
   "execution_count": 22,
   "id": "07414d37",
   "metadata": {},
   "outputs": [],
   "source": [
    "all_mutations = list(allowed_subs)"
   ]
  },
  {
   "cell_type": "code",
   "execution_count": 43,
   "id": "1d3a51f0",
   "metadata": {},
   "outputs": [
    {
     "name": "stdout",
     "output_type": "stream",
     "text": [
      "[DeviceArray([3186719485, 3840466878], dtype=uint32), DeviceArray([2562233961, 1946702221], dtype=uint32)]\n",
      "{'1': DeviceArray([-0.64391523,  0.07092413,  0.3602591 ], dtype=float64), '2': DeviceArray([ 1.55754172,  1.57821833, -0.63811247], dtype=float64)}\n"
     ]
    }
   ],
   "source": [
    "seed = 0\n",
    "key = jax.random.PRNGKey(seed)\n",
    "β0 = jax.random.normal(shape=(len(all_mutations),), key=key)\n",
    "\n",
    "key, *subkeys = jax.random.split(key, len(homologs)+1)\n",
    "# print(subkeys)\n",
    "S_h = {}\n",
    "for homolog, subkey in zip(homologs, subkeys):\n",
    "    # np.zeros\n",
    "    S_h[homolog] = jax.random.normal(subkey, shape=(len(all_mutations),))\n",
    "# print(S_h)\n",
    "    \n",
    "β0 = jaxopt.linear_solve.solve_normal_cg(lambda β: ϕ(X, β), y, init=β0, tol=tol, maxiter=maxiter)"
   ]
  },
  {
   "cell_type": "code",
   "execution_count": null,
   "id": "c1fac131",
   "metadata": {},
   "outputs": [],
   "source": [
    "@jax.jit\n",
    "def cost_smooth(params, data, λ_ridge=0.0, λ_spline=0.0, δ=1):\n",
    "    α = params[\"α\"]\n",
    "    β = params[\"β\"]\n",
    "    S = params[\"S\"]\n",
    "\n",
    "    X, y, sample_weights = data\n",
    "    z = ϕ(X, β)\n",
    "    y_predicted = g(z, α)\n",
    "\n",
    "    loss = jaxopt.loss.huber_loss(y, y_predicted, δ).mean()\n",
    "\n",
    "    ridge_penalty = λ_ridge * ((β ** 2).sum() + (α[\"weights\"] ** 2).sum())\n",
    "\n",
    "    a = -10\n",
    "    b = 10\n",
    "    # assert(a < z.min() and b > z.max())\n",
    "\n",
    "    z_grid, dz = jnp.linspace(a, b, num=100, retstep=True)\n",
    "    spline_penalty = λ_spline * (dz * jnp.diff(g(z_grid, α), n=2) ** 2).sum()\n",
    "\n",
    "    return loss + ridge_penalty + spline_penalty\n",
    "\n",
    "@jax.jit\n",
    "def cost_nonsmooth(params, data, λ_lasso=0.0):\n",
    "    return λ_lasso * jnp.linalg.norm(params[\"β\"], 1)\n",
    "\n",
    "@jax.jit\n",
    "def cost(params, data, λ_ridge=0.0, λ_lasso=0.0, λ_spline=0.0, δ=1):\n",
    "    return cost_smooth(params, data, λ_ridge=λ_ridge, λ_spline=λ_spline, δ=δ) + cost_nonsmooth(params, data, λ_lasso=λ_lasso)"
   ]
  },
  {
   "cell_type": "markdown",
   "id": "95b48012",
   "metadata": {},
   "source": [
    "## Simulation Fit"
   ]
  },
  {
   "cell_type": "markdown",
   "id": "98cee907",
   "metadata": {},
   "source": [
    "## Empirical Data"
   ]
  }
 ],
 "metadata": {
  "kernelspec": {
   "display_name": "Python 3 (ipykernel)",
   "language": "python",
   "name": "python3"
  },
  "language_info": {
   "codemirror_mode": {
    "name": "ipython",
    "version": 3
   },
   "file_extension": ".py",
   "mimetype": "text/x-python",
   "name": "python",
   "nbconvert_exporter": "python",
   "pygments_lexer": "ipython3",
   "version": "3.9.12"
  }
 },
 "nbformat": 4,
 "nbformat_minor": 5
}
